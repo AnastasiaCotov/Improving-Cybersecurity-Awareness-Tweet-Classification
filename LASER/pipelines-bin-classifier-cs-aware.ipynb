{
 "cells": [
  {
   "cell_type": "markdown",
   "id": "648e06d8",
   "metadata": {
    "papermill": {
     "duration": 0.02852,
     "end_time": "2023-06-03T10:21:05.064226",
     "exception": false,
     "start_time": "2023-06-03T10:21:05.035706",
     "status": "completed"
    },
    "tags": []
   },
   "source": [
    "> this notebook has 2 major steps:\n",
    "1. the model is built and trained on data then it is tested on unseen data\n",
    "    a. run the training of the classifier few times and consider as metrics avg loss and accuracy\n",
    "2. the model is tuned and a new one is build with the best parameters, the later is trained and tested again\n",
    "3. the 3rd model is the iteration of 2nd that takes nr of epochs to train to be the nr of best epoch +1 of tuned model\n",
    "at the end the results are comapared"
   ]
  },
  {
   "cell_type": "code",
   "execution_count": 1,
   "id": "549f869c",
   "metadata": {
    "_cell_guid": "b1076dfc-b9ad-4769-8c92-a6c4dae69d19",
    "_uuid": "8f2839f25d086af736a60e9eeb907d3b93b6e0e5",
    "execution": {
     "iopub.execute_input": "2023-06-03T10:21:05.121528Z",
     "iopub.status.busy": "2023-06-03T10:21:05.120369Z",
     "iopub.status.idle": "2023-06-03T10:21:05.185139Z",
     "shell.execute_reply": "2023-06-03T10:21:05.184106Z"
    },
    "papermill": {
     "duration": 0.096305,
     "end_time": "2023-06-03T10:21:05.188196",
     "exception": false,
     "start_time": "2023-06-03T10:21:05.091891",
     "status": "completed"
    },
    "tags": []
   },
   "outputs": [
    {
     "name": "stdout",
     "output_type": "stream",
     "text": [
      "/kaggle/input/feb13-10/feb13-10.csv\n",
      "/kaggle/input/labeled-data/labeled_data.xlsx\n",
      "/kaggle/input/laser3h5/laser3.h5\n",
      "/kaggle/input/data-labeled/data_labeled.csv\n",
      "/kaggle/input/test-nr-1/test1.xlsx\n",
      "/kaggle/input/test6-unlabeled/feb28.xlsx\n",
      "/kaggle/input/test5-labeled/test5_all.xlsx\n",
      "/kaggle/input/test-nr-2/feb13-5.csv\n",
      "/kaggle/input/test-nr-3/test2.xlsx\n",
      "/kaggle/input/random-data-stream-final/Random_data_stream_final.csv\n",
      "/kaggle/input/nistdata/nist-data.csv\n",
      "/kaggle/input/stream-data/stream_data.xlsx\n",
      "/kaggle/input/stream-data-predictions/stream_data_predictions.xlsx\n"
     ]
    }
   ],
   "source": [
    "# This Python 3 environment comes with many helpful analytics libraries installed\n",
    "# It is defined by the kaggle/python Docker image: https://github.com/kaggle/docker-python\n",
    "# For example, here's several helpful packages to load\n",
    "\n",
    "import numpy as np # linear algebra\n",
    "import pandas as pd # data processing, CSV file I/O (e.g. pd.read_csv)\n",
    "\n",
    "# Input data files are available in the read-only \"../input/\" directory\n",
    "# For example, running this (by clicking run or pressing Shift+Enter) will list all files under the input directory\n",
    "\n",
    "import os\n",
    "for dirname, _, filenames in os.walk('/kaggle/input'):\n",
    "    for filename in filenames:\n",
    "        print(os.path.join(dirname, filename))\n",
    "\n",
    "# You can write up to 20GB to the current directory (/kaggle/working/) that gets preserved as output when you create a version using \"Save & Run All\" \n",
    "# You can also write temporary files to /kaggle/temp/, but they won't be saved outside of the current session"
   ]
  },
  {
   "cell_type": "markdown",
   "id": "648529d2",
   "metadata": {
    "papermill": {
     "duration": 0.025549,
     "end_time": "2023-06-03T10:21:05.239993",
     "exception": false,
     "start_time": "2023-06-03T10:21:05.214444",
     "status": "completed"
    },
    "tags": []
   },
   "source": [
    "> Import Datasets here"
   ]
  },
  {
   "cell_type": "code",
   "execution_count": 2,
   "id": "410089cc",
   "metadata": {
    "execution": {
     "iopub.execute_input": "2023-06-03T10:21:05.293418Z",
     "iopub.status.busy": "2023-06-03T10:21:05.292747Z",
     "iopub.status.idle": "2023-06-03T10:21:17.805648Z",
     "shell.execute_reply": "2023-06-03T10:21:17.803825Z"
    },
    "papermill": {
     "duration": 12.542068,
     "end_time": "2023-06-03T10:21:17.808169",
     "exception": false,
     "start_time": "2023-06-03T10:21:05.266101",
     "status": "completed"
    },
    "tags": []
   },
   "outputs": [
    {
     "name": "stdout",
     "output_type": "stream",
     "text": [
      "the vulnerabily description from 2022 report: \n",
      "(16359, 5)\n",
      "the vulnerabily description from 2022 report: \n",
      "(8081, 6)\n",
      "labeled tweets from keyword filtered stream: \n",
      "(13919, 43)\n",
      "labeled test set also from keyword filtered stream: \n",
      "(223, 18)\n"
     ]
    }
   ],
   "source": [
    "NIST = pd.read_csv('../input/nistdata/nist-data.csv')\n",
    "print('the vulnerabily description from 2022 report: ')\n",
    "print(NIST.shape)\n",
    "\n",
    "NIST = NIST.drop_duplicates(subset=['full_text'])\n",
    "drop_indices = np.random.choice(NIST.index, 10000, replace=True)\n",
    "NIST = NIST.drop(drop_indices)\n",
    "NIST.reset_index(inplace=True, drop=True)\n",
    "NIST['label'] = 1\n",
    "print('the vulnerabily description from 2022 report: ')\n",
    "print(NIST.shape)\n",
    "#drop_indices = np.random.choice(NIST.index, 9000, replace=True)\n",
    "#NIST = NIST.drop(drop_indices)\n",
    "data_labeled = pd.read_excel('/kaggle/input/labeled-data/labeled_data.xlsx')\n",
    "print('labeled tweets from keyword filtered stream: ')\n",
    "print(data_labeled.shape)\n",
    "test5 = pd.read_excel('/kaggle/input/test5-labeled/test5_all.xlsx')\n",
    "print('labeled test set also from keyword filtered stream: ')\n",
    "print(test5.shape)"
   ]
  },
  {
   "cell_type": "code",
   "execution_count": 3,
   "id": "9cea7ca2",
   "metadata": {
    "execution": {
     "iopub.execute_input": "2023-06-03T10:21:17.866361Z",
     "iopub.status.busy": "2023-06-03T10:21:17.865231Z",
     "iopub.status.idle": "2023-06-03T10:21:17.905309Z",
     "shell.execute_reply": "2023-06-03T10:21:17.903910Z"
    },
    "papermill": {
     "duration": 0.072938,
     "end_time": "2023-06-03T10:21:17.909178",
     "exception": false,
     "start_time": "2023-06-03T10:21:17.836240",
     "status": "completed"
    },
    "tags": []
   },
   "outputs": [
    {
     "data": {
      "text/html": [
       "<div>\n",
       "<style scoped>\n",
       "    .dataframe tbody tr th:only-of-type {\n",
       "        vertical-align: middle;\n",
       "    }\n",
       "\n",
       "    .dataframe tbody tr th {\n",
       "        vertical-align: top;\n",
       "    }\n",
       "\n",
       "    .dataframe thead th {\n",
       "        text-align: right;\n",
       "    }\n",
       "</style>\n",
       "<table border=\"1\" class=\"dataframe\">\n",
       "  <thead>\n",
       "    <tr style=\"text-align: right;\">\n",
       "      <th></th>\n",
       "      <th>Unnamed: 0</th>\n",
       "      <th>Unnamed: 0.1</th>\n",
       "      <th>Unnamed: 0.1.1</th>\n",
       "      <th>tweetid</th>\n",
       "      <th>author_id</th>\n",
       "      <th>full_text</th>\n",
       "      <th>label</th>\n",
       "      <th>lang</th>\n",
       "      <th>created_at</th>\n",
       "      <th>geo</th>\n",
       "      <th>retweets</th>\n",
       "      <th>replies</th>\n",
       "      <th>likes</th>\n",
       "      <th>quotes</th>\n",
       "      <th>location</th>\n",
       "      <th>full_text_clean</th>\n",
       "      <th>predictions</th>\n",
       "      <th>Unnamed: 5</th>\n",
       "    </tr>\n",
       "  </thead>\n",
       "  <tbody>\n",
       "    <tr>\n",
       "      <th>0</th>\n",
       "      <td>0</td>\n",
       "      <td>0</td>\n",
       "      <td>2729</td>\n",
       "      <td>1.628442e+18</td>\n",
       "      <td>39302152</td>\n",
       "      <td>CVEnew: CVE-2021-4326 A vulnerability in Imper...</td>\n",
       "      <td>1</td>\n",
       "      <td>en</td>\n",
       "      <td>2023-02-22T17:11:57.000Z</td>\n",
       "      <td>{}</td>\n",
       "      <td>0</td>\n",
       "      <td>0</td>\n",
       "      <td>0</td>\n",
       "      <td>0</td>\n",
       "      <td>CL</td>\n",
       "      <td>cvenew cve vulnerability imperative framework ...</td>\n",
       "      <td>0.997695</td>\n",
       "      <td>NaN</td>\n",
       "    </tr>\n",
       "    <tr>\n",
       "      <th>1</th>\n",
       "      <td>1</td>\n",
       "      <td>1</td>\n",
       "      <td>4960</td>\n",
       "      <td>1.628444e+18</td>\n",
       "      <td>958005194398289920</td>\n",
       "      <td>New post from https://t.co/9KYxtdZjkl (CVE-201...</td>\n",
       "      <td>1</td>\n",
       "      <td>en</td>\n",
       "      <td>2023-02-22T17:16:26.000Z</td>\n",
       "      <td>{}</td>\n",
       "      <td>0</td>\n",
       "      <td>0</td>\n",
       "      <td>0</td>\n",
       "      <td>0</td>\n",
       "      <td>NaN</td>\n",
       "      <td>cve librarian function php url server request ...</td>\n",
       "      <td>0.997263</td>\n",
       "      <td>NaN</td>\n",
       "    </tr>\n",
       "    <tr>\n",
       "      <th>2</th>\n",
       "      <td>2</td>\n",
       "      <td>2</td>\n",
       "      <td>4954</td>\n",
       "      <td>1.628444e+18</td>\n",
       "      <td>955014888446939136</td>\n",
       "      <td>New post from https://t.co/uXvPWJy6tj (CVE-201...</td>\n",
       "      <td>1</td>\n",
       "      <td>en</td>\n",
       "      <td>2023-02-22T17:16:25.000Z</td>\n",
       "      <td>{}</td>\n",
       "      <td>0</td>\n",
       "      <td>0</td>\n",
       "      <td>0</td>\n",
       "      <td>0</td>\n",
       "      <td>/dev/null</td>\n",
       "      <td>cve librarian function php url server request ...</td>\n",
       "      <td>0.997263</td>\n",
       "      <td>NaN</td>\n",
       "    </tr>\n",
       "    <tr>\n",
       "      <th>3</th>\n",
       "      <td>3</td>\n",
       "      <td>3</td>\n",
       "      <td>3281</td>\n",
       "      <td>1.628443e+18</td>\n",
       "      <td>429580982</td>\n",
       "      <td>#Cisco NX-OS Software CLI Command Injection #v...</td>\n",
       "      <td>1</td>\n",
       "      <td>en</td>\n",
       "      <td>2023-02-22T17:13:05.000Z</td>\n",
       "      <td>{}</td>\n",
       "      <td>0</td>\n",
       "      <td>0</td>\n",
       "      <td>0</td>\n",
       "      <td>0</td>\n",
       "      <td>255.255.255.255</td>\n",
       "      <td>cisco nx software cli command injection vulner...</td>\n",
       "      <td>0.995187</td>\n",
       "      <td>NaN</td>\n",
       "    </tr>\n",
       "    <tr>\n",
       "      <th>4</th>\n",
       "      <td>4</td>\n",
       "      <td>4</td>\n",
       "      <td>1637</td>\n",
       "      <td>1.628442e+18</td>\n",
       "      <td>1322315722287099904</td>\n",
       "      <td>CVE-2023-21839 #Vulnerability for @Oracle #Web...</td>\n",
       "      <td>1</td>\n",
       "      <td>en</td>\n",
       "      <td>2023-02-22T17:09:26.000Z</td>\n",
       "      <td>{}</td>\n",
       "      <td>0</td>\n",
       "      <td>0</td>\n",
       "      <td>0</td>\n",
       "      <td>0</td>\n",
       "      <td>United States</td>\n",
       "      <td>cve vulnerability oracle weblogic affect funct...</td>\n",
       "      <td>0.994816</td>\n",
       "      <td>NaN</td>\n",
       "    </tr>\n",
       "    <tr>\n",
       "      <th>...</th>\n",
       "      <td>...</td>\n",
       "      <td>...</td>\n",
       "      <td>...</td>\n",
       "      <td>...</td>\n",
       "      <td>...</td>\n",
       "      <td>...</td>\n",
       "      <td>...</td>\n",
       "      <td>...</td>\n",
       "      <td>...</td>\n",
       "      <td>...</td>\n",
       "      <td>...</td>\n",
       "      <td>...</td>\n",
       "      <td>...</td>\n",
       "      <td>...</td>\n",
       "      <td>...</td>\n",
       "      <td>...</td>\n",
       "      <td>...</td>\n",
       "      <td>...</td>\n",
       "    </tr>\n",
       "    <tr>\n",
       "      <th>218</th>\n",
       "      <td>11788</td>\n",
       "      <td>109</td>\n",
       "      <td>595</td>\n",
       "      <td>1.627998e+18</td>\n",
       "      <td>1126497628479315968</td>\n",
       "      <td>#malware #Formbook #xloader \"NEW ORDER\"\\n\\n⚙️r...</td>\n",
       "      <td>1</td>\n",
       "      <td>en</td>\n",
       "      <td>2023-02-21T11:45:06.000Z</td>\n",
       "      <td>{}</td>\n",
       "      <td>0</td>\n",
       "      <td>0</td>\n",
       "      <td>0</td>\n",
       "      <td>0</td>\n",
       "      <td>NaN</td>\n",
       "      <td>malware formbook xloader real kenymart online ...</td>\n",
       "      <td>0.782271</td>\n",
       "      <td>NaN</td>\n",
       "    </tr>\n",
       "    <tr>\n",
       "      <th>219</th>\n",
       "      <td>11790</td>\n",
       "      <td>111</td>\n",
       "      <td>4525</td>\n",
       "      <td>1.628001e+18</td>\n",
       "      <td>1498420410597223936</td>\n",
       "      <td>@Eliteaviator2 @Zammy_bg @Tendar I can see no ...</td>\n",
       "      <td>0</td>\n",
       "      <td>en</td>\n",
       "      <td>2023-02-21T11:57:38.000Z</td>\n",
       "      <td>{}</td>\n",
       "      <td>0</td>\n",
       "      <td>0</td>\n",
       "      <td>0</td>\n",
       "      <td>0</td>\n",
       "      <td>Czech Republic</td>\n",
       "      <td>eliteaviator zammy tendar danger russia stateh...</td>\n",
       "      <td>0.780000</td>\n",
       "      <td>NaN</td>\n",
       "    </tr>\n",
       "    <tr>\n",
       "      <th>220</th>\n",
       "      <td>11791</td>\n",
       "      <td>112</td>\n",
       "      <td>2551</td>\n",
       "      <td>1.627999e+18</td>\n",
       "      <td>85741735</td>\n",
       "      <td>@taparware For security reasons, we don't have...</td>\n",
       "      <td>0</td>\n",
       "      <td>en</td>\n",
       "      <td>2023-02-21T11:51:08.000Z</td>\n",
       "      <td>{}</td>\n",
       "      <td>0</td>\n",
       "      <td>0</td>\n",
       "      <td>0</td>\n",
       "      <td>0</td>\n",
       "      <td>NaN</td>\n",
       "      <td>taparware security reason access account twitt...</td>\n",
       "      <td>0.776551</td>\n",
       "      <td>NaN</td>\n",
       "    </tr>\n",
       "    <tr>\n",
       "      <th>221</th>\n",
       "      <td>11792</td>\n",
       "      <td>113</td>\n",
       "      <td>146</td>\n",
       "      <td>1.627997e+18</td>\n",
       "      <td>1106808919219798016</td>\n",
       "      <td>RT @bambifam76: Kai vlog and bbl update\\nKyung...</td>\n",
       "      <td>1</td>\n",
       "      <td>en</td>\n",
       "      <td>2023-02-21T11:43:35.000Z</td>\n",
       "      <td>{}</td>\n",
       "      <td>18</td>\n",
       "      <td>0</td>\n",
       "      <td>0</td>\n",
       "      <td>0</td>\n",
       "      <td>NaN</td>\n",
       "      <td>rt bambifam vlog bbl update kyungsoo update nm...</td>\n",
       "      <td>0.775203</td>\n",
       "      <td>NaN</td>\n",
       "    </tr>\n",
       "    <tr>\n",
       "      <th>222</th>\n",
       "      <td>11795</td>\n",
       "      <td>116</td>\n",
       "      <td>2069</td>\n",
       "      <td>1.627999e+18</td>\n",
       "      <td>1309084857222524928</td>\n",
       "      <td>CVE-2022-22963 does not return to some servers...</td>\n",
       "      <td>1</td>\n",
       "      <td>en</td>\n",
       "      <td>2023-02-21T11:49:40.000Z</td>\n",
       "      <td>{}</td>\n",
       "      <td>0</td>\n",
       "      <td>0</td>\n",
       "      <td>0</td>\n",
       "      <td>0</td>\n",
       "      <td>Taipei City, Taiwan</td>\n",
       "      <td>cve return server pdiscoveryio pdnuclei igorlr...</td>\n",
       "      <td>0.762378</td>\n",
       "      <td>NaN</td>\n",
       "    </tr>\n",
       "  </tbody>\n",
       "</table>\n",
       "<p>223 rows × 18 columns</p>\n",
       "</div>"
      ],
      "text/plain": [
       "     Unnamed: 0  Unnamed: 0.1  Unnamed: 0.1.1       tweetid  \\\n",
       "0             0             0            2729  1.628442e+18   \n",
       "1             1             1            4960  1.628444e+18   \n",
       "2             2             2            4954  1.628444e+18   \n",
       "3             3             3            3281  1.628443e+18   \n",
       "4             4             4            1637  1.628442e+18   \n",
       "..          ...           ...             ...           ...   \n",
       "218       11788           109             595  1.627998e+18   \n",
       "219       11790           111            4525  1.628001e+18   \n",
       "220       11791           112            2551  1.627999e+18   \n",
       "221       11792           113             146  1.627997e+18   \n",
       "222       11795           116            2069  1.627999e+18   \n",
       "\n",
       "               author_id                                          full_text  \\\n",
       "0               39302152  CVEnew: CVE-2021-4326 A vulnerability in Imper...   \n",
       "1     958005194398289920  New post from https://t.co/9KYxtdZjkl (CVE-201...   \n",
       "2     955014888446939136  New post from https://t.co/uXvPWJy6tj (CVE-201...   \n",
       "3              429580982  #Cisco NX-OS Software CLI Command Injection #v...   \n",
       "4    1322315722287099904  CVE-2023-21839 #Vulnerability for @Oracle #Web...   \n",
       "..                   ...                                                ...   \n",
       "218  1126497628479315968  #malware #Formbook #xloader \"NEW ORDER\"\\n\\n⚙️r...   \n",
       "219  1498420410597223936  @Eliteaviator2 @Zammy_bg @Tendar I can see no ...   \n",
       "220             85741735  @taparware For security reasons, we don't have...   \n",
       "221  1106808919219798016  RT @bambifam76: Kai vlog and bbl update\\nKyung...   \n",
       "222  1309084857222524928  CVE-2022-22963 does not return to some servers...   \n",
       "\n",
       "     label lang                created_at geo  retweets  replies  likes  \\\n",
       "0        1   en  2023-02-22T17:11:57.000Z  {}         0        0      0   \n",
       "1        1   en  2023-02-22T17:16:26.000Z  {}         0        0      0   \n",
       "2        1   en  2023-02-22T17:16:25.000Z  {}         0        0      0   \n",
       "3        1   en  2023-02-22T17:13:05.000Z  {}         0        0      0   \n",
       "4        1   en  2023-02-22T17:09:26.000Z  {}         0        0      0   \n",
       "..     ...  ...                       ...  ..       ...      ...    ...   \n",
       "218      1   en  2023-02-21T11:45:06.000Z  {}         0        0      0   \n",
       "219      0   en  2023-02-21T11:57:38.000Z  {}         0        0      0   \n",
       "220      0   en  2023-02-21T11:51:08.000Z  {}         0        0      0   \n",
       "221      1   en  2023-02-21T11:43:35.000Z  {}        18        0      0   \n",
       "222      1   en  2023-02-21T11:49:40.000Z  {}         0        0      0   \n",
       "\n",
       "     quotes             location  \\\n",
       "0         0                   CL   \n",
       "1         0                  NaN   \n",
       "2         0            /dev/null   \n",
       "3         0      255.255.255.255   \n",
       "4         0        United States   \n",
       "..      ...                  ...   \n",
       "218       0                  NaN   \n",
       "219       0       Czech Republic   \n",
       "220       0                  NaN   \n",
       "221       0                  NaN   \n",
       "222       0  Taipei City, Taiwan   \n",
       "\n",
       "                                       full_text_clean  predictions  \\\n",
       "0    cvenew cve vulnerability imperative framework ...     0.997695   \n",
       "1    cve librarian function php url server request ...     0.997263   \n",
       "2    cve librarian function php url server request ...     0.997263   \n",
       "3    cisco nx software cli command injection vulner...     0.995187   \n",
       "4    cve vulnerability oracle weblogic affect funct...     0.994816   \n",
       "..                                                 ...          ...   \n",
       "218  malware formbook xloader real kenymart online ...     0.782271   \n",
       "219  eliteaviator zammy tendar danger russia stateh...     0.780000   \n",
       "220  taparware security reason access account twitt...     0.776551   \n",
       "221  rt bambifam vlog bbl update kyungsoo update nm...     0.775203   \n",
       "222  cve return server pdiscoveryio pdnuclei igorlr...     0.762378   \n",
       "\n",
       "     Unnamed: 5  \n",
       "0           NaN  \n",
       "1           NaN  \n",
       "2           NaN  \n",
       "3           NaN  \n",
       "4           NaN  \n",
       "..          ...  \n",
       "218         NaN  \n",
       "219         NaN  \n",
       "220         NaN  \n",
       "221         NaN  \n",
       "222         NaN  \n",
       "\n",
       "[223 rows x 18 columns]"
      ]
     },
     "execution_count": 3,
     "metadata": {},
     "output_type": "execute_result"
    }
   ],
   "source": [
    "test5"
   ]
  },
  {
   "cell_type": "code",
   "execution_count": 4,
   "id": "8e4bb31b",
   "metadata": {
    "execution": {
     "iopub.execute_input": "2023-06-03T10:21:17.972019Z",
     "iopub.status.busy": "2023-06-03T10:21:17.971692Z",
     "iopub.status.idle": "2023-06-03T10:21:58.199571Z",
     "shell.execute_reply": "2023-06-03T10:21:58.198388Z"
    },
    "papermill": {
     "duration": 40.262732,
     "end_time": "2023-06-03T10:21:58.202287",
     "exception": false,
     "start_time": "2023-06-03T10:21:17.939555",
     "status": "completed"
    },
    "tags": []
   },
   "outputs": [
    {
     "name": "stdout",
     "output_type": "stream",
     "text": [
      "Collecting sweetviz\r\n",
      "  Downloading sweetviz-2.1.4-py3-none-any.whl (15.1 MB)\r\n",
      "\u001b[2K     \u001b[90m━━━━━━━━━━━━━━━━━━━━━━━━━━━━━━━━━━━━━━━━\u001b[0m \u001b[32m15.1/15.1 MB\u001b[0m \u001b[31m62.2 MB/s\u001b[0m eta \u001b[36m0:00:00\u001b[0m\r\n",
      "\u001b[?25hRequirement already satisfied: scipy>=1.3.2 in /opt/conda/lib/python3.7/site-packages (from sweetviz) (1.7.3)\r\n",
      "Requirement already satisfied: tqdm>=4.43.0 in /opt/conda/lib/python3.7/site-packages (from sweetviz) (4.64.0)\r\n",
      "Requirement already satisfied: matplotlib>=3.1.3 in /opt/conda/lib/python3.7/site-packages (from sweetviz) (3.5.3)\r\n",
      "Requirement already satisfied: pandas!=1.0.0,!=1.0.1,!=1.0.2,>=0.25.3 in /opt/conda/lib/python3.7/site-packages (from sweetviz) (1.3.5)\r\n",
      "Requirement already satisfied: numpy>=1.16.0 in /opt/conda/lib/python3.7/site-packages (from sweetviz) (1.21.6)\r\n",
      "Requirement already satisfied: importlib-resources>=1.2.0 in /opt/conda/lib/python3.7/site-packages (from sweetviz) (5.8.0)\r\n",
      "Requirement already satisfied: jinja2>=2.11.1 in /opt/conda/lib/python3.7/site-packages (from sweetviz) (3.1.2)\r\n",
      "Requirement already satisfied: zipp>=3.1.0 in /opt/conda/lib/python3.7/site-packages (from importlib-resources>=1.2.0->sweetviz) (3.8.0)\r\n",
      "Requirement already satisfied: MarkupSafe>=2.0 in /opt/conda/lib/python3.7/site-packages (from jinja2>=2.11.1->sweetviz) (2.1.1)\r\n",
      "Requirement already satisfied: pillow>=6.2.0 in /opt/conda/lib/python3.7/site-packages (from matplotlib>=3.1.3->sweetviz) (9.1.1)\r\n",
      "Requirement already satisfied: kiwisolver>=1.0.1 in /opt/conda/lib/python3.7/site-packages (from matplotlib>=3.1.3->sweetviz) (1.4.3)\r\n",
      "Requirement already satisfied: pyparsing>=2.2.1 in /opt/conda/lib/python3.7/site-packages (from matplotlib>=3.1.3->sweetviz) (3.0.9)\r\n",
      "Requirement already satisfied: python-dateutil>=2.7 in /opt/conda/lib/python3.7/site-packages (from matplotlib>=3.1.3->sweetviz) (2.8.2)\r\n",
      "Requirement already satisfied: packaging>=20.0 in /opt/conda/lib/python3.7/site-packages (from matplotlib>=3.1.3->sweetviz) (21.3)\r\n",
      "Requirement already satisfied: cycler>=0.10 in /opt/conda/lib/python3.7/site-packages (from matplotlib>=3.1.3->sweetviz) (0.11.0)\r\n",
      "Requirement already satisfied: fonttools>=4.22.0 in /opt/conda/lib/python3.7/site-packages (from matplotlib>=3.1.3->sweetviz) (4.33.3)\r\n",
      "Requirement already satisfied: pytz>=2017.3 in /opt/conda/lib/python3.7/site-packages (from pandas!=1.0.0,!=1.0.1,!=1.0.2,>=0.25.3->sweetviz) (2022.1)\r\n",
      "Requirement already satisfied: typing-extensions in /opt/conda/lib/python3.7/site-packages (from kiwisolver>=1.0.1->matplotlib>=3.1.3->sweetviz) (4.1.1)\r\n",
      "Requirement already satisfied: six>=1.5 in /opt/conda/lib/python3.7/site-packages (from python-dateutil>=2.7->matplotlib>=3.1.3->sweetviz) (1.15.0)\r\n",
      "Installing collected packages: sweetviz\r\n",
      "Successfully installed sweetviz-2.1.4\r\n",
      "\u001b[33mWARNING: Running pip as the 'root' user can result in broken permissions and conflicting behaviour with the system package manager. It is recommended to use a virtual environment instead: https://pip.pypa.io/warnings/venv\u001b[0m\u001b[33m\r\n",
      "\u001b[0mCollecting contractions\r\n",
      "  Downloading contractions-0.1.73-py2.py3-none-any.whl (8.7 kB)\r\n",
      "Collecting textsearch>=0.0.21\r\n",
      "  Downloading textsearch-0.0.24-py2.py3-none-any.whl (7.6 kB)\r\n",
      "Collecting anyascii\r\n",
      "  Downloading anyascii-0.3.2-py3-none-any.whl (289 kB)\r\n",
      "\u001b[2K     \u001b[90m━━━━━━━━━━━━━━━━━━━━━━━━━━━━━━━━━━━━━━━\u001b[0m \u001b[32m289.9/289.9 kB\u001b[0m \u001b[31m7.1 MB/s\u001b[0m eta \u001b[36m0:00:00\u001b[0m\r\n",
      "\u001b[?25hCollecting pyahocorasick\r\n",
      "  Downloading pyahocorasick-2.0.0-cp37-cp37m-manylinux_2_5_x86_64.manylinux1_x86_64.whl (101 kB)\r\n",
      "\u001b[2K     \u001b[90m━━━━━━━━━━━━━━━━━━━━━━━━━━━━━━━━━━━━━━\u001b[0m \u001b[32m101.8/101.8 kB\u001b[0m \u001b[31m12.2 MB/s\u001b[0m eta \u001b[36m0:00:00\u001b[0m\r\n",
      "\u001b[?25hInstalling collected packages: pyahocorasick, anyascii, textsearch, contractions\r\n",
      "Successfully installed anyascii-0.3.2 contractions-0.1.73 pyahocorasick-2.0.0 textsearch-0.0.24\r\n",
      "\u001b[33mWARNING: Running pip as the 'root' user can result in broken permissions and conflicting behaviour with the system package manager. It is recommended to use a virtual environment instead: https://pip.pypa.io/warnings/venv\u001b[0m\u001b[33m\r\n",
      "\u001b[0m"
     ]
    },
    {
     "name": "stderr",
     "output_type": "stream",
     "text": [
      "[nltk_data] Downloading package omw-1.4 to /usr/share/nltk_data...\n",
      "/opt/conda/lib/python3.7/site-packages/geopandas/_compat.py:115: UserWarning: The Shapely GEOS version (3.9.1-CAPI-1.14.2) is incompatible with the GEOS version PyGEOS was compiled with (3.10.3-CAPI-1.16.1). Conversions between both will be slow.\n",
      "  shapely_geos_version, geos_capi_version_string\n"
     ]
    }
   ],
   "source": [
    "# This Python 3 environment comes with many helpful analytics libraries installed\n",
    "# It is defined by the kaggle/python Docker image: https://github.com/kaggle/docker-python\n",
    "# For example, here's several helpful packages to load\n",
    "!pip install sweetviz\n",
    "!pip install contractions\n",
    "import numpy as np # linear algebra\n",
    "import pandas as pd # data processing, CSV file I/O (e.g. pd.read_csv)\n",
    "\n",
    "import contractions\n",
    "import sweetviz as sv\n",
    "import nltk\n",
    "nltk.download('omw-1.4')\n",
    "#importing the Lemming function from nltk library\n",
    "from nltk.stem import WordNetLemmatizer\n",
    "import re  \n",
    "import collections\n",
    "# Counting the number of words\n",
    "from collections import Counter\n",
    "import time\n",
    "\n",
    "#importing the Lemming function from nltk library\n",
    "from nltk.stem import WordNetLemmatizer\n",
    "import re  \n",
    "import matplotlib.pyplot as plt\n",
    "import numpy as np # linear algebra\n",
    "import pandas as pd # data processing, CSV file I/O (e.g. pd.read_csv)\n",
    "\n",
    "# Input data files are available in the read-only \"../input/\" directory\n",
    "# For example, running this (by clicking run or pressing Shift+Enter) will list all files under the input directory\n",
    "import json\n",
    "from tqdm import tqdm\n",
    "from sklearn.model_selection import train_test_split\n",
    "from sklearn import preprocessing\n",
    "\n",
    "import tensorflow as tf\n",
    "tfk = tf.keras\n",
    "tfkl = tf.keras.layers\n",
    "from tensorflow.keras.preprocessing.text import Tokenizer\n",
    "from tensorflow.keras.preprocessing.sequence import pad_sequences\n",
    "#from tensorflow.keras.utils import np_utils\n",
    "from tensorflow.keras.preprocessing import sequence, text\n",
    "from tensorflow.keras.callbacks import EarlyStopping\n",
    "from sklearn import metrics\n",
    "from tensorflow.keras.initializers import Constant\n",
    "from tensorflow.keras.layers import *\n",
    "from tensorflow.keras.models import *\n",
    "from tensorflow.keras import backend as K\n",
    "from sklearn import preprocessing\n",
    "\n",
    "import nltk # NLP  \n",
    "from nltk.corpus import stopwords  \n",
    "from nltk.stem import WordNetLemmatizer \n",
    "from nltk.stem import PorterStemmer \n",
    "import re  \n",
    "\n",
    "# visualization \n",
    "import matplotlib.pyplot as plt\n",
    "import seaborn as sns\n",
    "from wordcloud import WordCloud\n",
    "%matplotlib inline\n",
    "from plotly import graph_objs as go\n",
    "import plotly.express as px\n",
    "import plotly.figure_factory as ff\n",
    "\n",
    "#Tuner\n",
    "from keras_tuner.tuners import RandomSearch\n",
    "\n",
    "\n",
    "import tabulate\n",
    "from tabulate import tabulate\n",
    "import sweetviz as sv\n",
    "\n",
    "#confusion matrix\n",
    "from sklearn.metrics import classification_report\n",
    "from sklearn.metrics import accuracy_score\n",
    "from sklearn.metrics import confusion_matrix\n",
    "# cross validation and metrics\n",
    "from sklearn.model_selection import KFold, StratifiedKFold, cross_val_score\n",
    "from sklearn.metrics import f1_score\n",
    "from torch.optim.optimizer import Optimizer\n",
    "from unidecode import unidecode"
   ]
  },
  {
   "cell_type": "markdown",
   "id": "1d7050a1",
   "metadata": {
    "papermill": {
     "duration": 0.027509,
     "end_time": "2023-06-03T10:21:58.258675",
     "exception": false,
     "start_time": "2023-06-03T10:21:58.231166",
     "status": "completed"
    },
    "tags": []
   },
   "source": [
    "> text cleanning"
   ]
  },
  {
   "cell_type": "code",
   "execution_count": 5,
   "id": "e16879f8",
   "metadata": {
    "execution": {
     "iopub.execute_input": "2023-06-03T10:21:58.316117Z",
     "iopub.status.busy": "2023-06-03T10:21:58.315754Z",
     "iopub.status.idle": "2023-06-03T10:21:58.323424Z",
     "shell.execute_reply": "2023-06-03T10:21:58.322536Z"
    },
    "papermill": {
     "duration": 0.039585,
     "end_time": "2023-06-03T10:21:58.325799",
     "exception": false,
     "start_time": "2023-06-03T10:21:58.286214",
     "status": "completed"
    },
    "tags": []
   },
   "outputs": [],
   "source": [
    "# !pip install stopwordsiso\n",
    "# import stopwordsiso\n",
    "# from stopwordsiso import stopwords\n",
    "# stopwords = stopwords(['af', 'ar', 'hy', 'eu', 'bn', 'br', 'bg', 'ca', 'zh', 'hr', 'cs', 'da', 'nl', 'en', 'eo', 'et', 'fi', 'fr', 'gl', 'de', 'el', 'gu', 'ha', 'he', 'hi', 'hu', 'id', 'ga', 'it', 'ja', 'ko', 'ku', 'la', 'lt', 'lv', 'ms', 'mr', 'no', 'fa', 'pl', 'pt', 'ro', 'ru', 'sk', 'sl', 'so', 'st', 'es', 'sw', 'sv', 'th', 'tl', 'tr', 'uk', 'ur', 'vi', 'yo', 'zu'])  # German, Indonesian, and Chinese stopwords\n",
    "# # Removing stop words\n",
    "# def remove_stop_words(text):\n",
    "#     return ' '.join([word for word in text.split() if word not in stopwords])\n",
    "\n",
    "# def remove_hashtag(text):\n",
    "#     return re.sub(r'#\\w+', '', text)\n",
    "\n",
    "# def remove_dog(text):\n",
    "#     return re.sub(r'@\\w+', '', text)\n",
    "\n",
    "# def remove_punctuations(text):\n",
    "#     return re.sub('\\[[^]]*\\]!?.,:;', '', text)\n",
    "\n",
    "# def remove_characters(text):\n",
    "#     return re.sub('!$%^&*()_+=-></', ' ', text)\n",
    "\n",
    "# def remove_url(text):\n",
    "#     return re.sub(r'http\\S+', '', text)\n",
    "\n",
    "# def remove_urls(text):\n",
    "#     return re.sub(r'https:\\S+', '', text)\n",
    "\n",
    "# def remove_contractions(text):\n",
    "#     return ' '.join([contractions.fix(word) for word in text.split()])\n",
    "\n",
    "# #defining the object for Lemmatization\n",
    "# lemmatizer = WordNetLemmatizer()\n",
    "# #defining a function for lemming\n",
    "# def lemmatize_words(text):\n",
    "#     return ' '.join(lemmatizer.lemmatize(word) for word in text.split())\n",
    "\n",
    "# def remove_emojis(text):\n",
    "#     emoj = re.compile(\"[\"\n",
    "#         u\"\\U0001F600-\\U0001F64F\"  # emoticons\n",
    "# #         u\"\\U0001F300-\\U0001F5FF\"  # symbols & pictographs\n",
    "#         u\"\\U0001F680-\\U0001F6FF\"  # transport & map symbols\n",
    "#         u\"\\U0001F1E0-\\U0001F1FF\"  # flags (iOS)\n",
    "# #         u\"\\U00002500-\\U00002BEF\"  # chinese char\n",
    "#         u\"\\U00002702-\\U000027B0\"\n",
    "# #         u\"\\U000024C2-\\U0001F251\" this removes japanesse chr\n",
    "#         u\"\\U0001f926-\\U0001f937\"\n",
    "#         u\"\\U00010000-\\U0010ffff\"\n",
    "#         u\"\\u2640-\\u2642\" \n",
    "#         u\"\\u2600-\\u2B55\"\n",
    "#         u\"\\u200d\"\n",
    "#         u\"\\u23cf\"\n",
    "#         u\"\\u23e9\"\n",
    "#         u\"\\u231a\"\n",
    "#         u\"\\ufe0f\"  # dingbats\n",
    "#         u\"\\u3030\"\n",
    "#                       \"]+\", re.UNICODE)\n",
    "#     return re.sub(emoj, '', text)\n",
    "\n",
    "# def clean_text(text):\n",
    "#     text = remove_url(text)\n",
    "#     text = remove_urls(text)\n",
    "#     text = remove_contractions(text)\n",
    "#     text = text.lower()\n",
    "#     text = remove_punctuations(text)\n",
    "#     text = remove_hashtag(text)\n",
    "#     text = remove_dog(text)\n",
    "#     text = remove_characters(text)# - this is good only for latin alphabets\n",
    "#     #text = stemming_words(text)\n",
    "#     text = lemmatize_words(text)\n",
    "#     text = remove_emojis(text)\n",
    "#     return text"
   ]
  },
  {
   "cell_type": "code",
   "execution_count": 6,
   "id": "963a11d0",
   "metadata": {
    "execution": {
     "iopub.execute_input": "2023-06-03T10:21:58.383049Z",
     "iopub.status.busy": "2023-06-03T10:21:58.382768Z",
     "iopub.status.idle": "2023-06-03T10:21:58.414846Z",
     "shell.execute_reply": "2023-06-03T10:21:58.413874Z"
    },
    "papermill": {
     "duration": 0.063123,
     "end_time": "2023-06-03T10:21:58.417037",
     "exception": false,
     "start_time": "2023-06-03T10:21:58.353914",
     "status": "completed"
    },
    "tags": []
   },
   "outputs": [],
   "source": [
    "#data = pd.concat([labeled_data_v3, NIST], ignore_index=True)\n",
    "data = pd.concat([data_labeled, NIST], ignore_index=True)\n",
    "# data['full_text_clean'] = data['full_text']\n",
    "# data['full_text_clean'] = data['full_text_clean'].apply(clean_text)\n",
    "# data['full_text_clean'] = data['full_text_clean'].apply(remove_stop_words)\n",
    "# data['full_text_clean']\n",
    "# data = data.drop_duplicates(subset=['full_text'])\n",
    "# data.reset_index(inplace=True, drop=True)\n"
   ]
  },
  {
   "cell_type": "code",
   "execution_count": 7,
   "id": "a27a0c79",
   "metadata": {
    "execution": {
     "iopub.execute_input": "2023-06-03T10:21:58.474034Z",
     "iopub.status.busy": "2023-06-03T10:21:58.473753Z",
     "iopub.status.idle": "2023-06-03T10:21:58.477948Z",
     "shell.execute_reply": "2023-06-03T10:21:58.476894Z"
    },
    "papermill": {
     "duration": 0.035122,
     "end_time": "2023-06-03T10:21:58.480215",
     "exception": false,
     "start_time": "2023-06-03T10:21:58.445093",
     "status": "completed"
    },
    "tags": []
   },
   "outputs": [],
   "source": [
    "# data['full_text'][2562]"
   ]
  },
  {
   "cell_type": "code",
   "execution_count": 8,
   "id": "e5750497",
   "metadata": {
    "execution": {
     "iopub.execute_input": "2023-06-03T10:21:58.536569Z",
     "iopub.status.busy": "2023-06-03T10:21:58.536273Z",
     "iopub.status.idle": "2023-06-03T10:21:58.540390Z",
     "shell.execute_reply": "2023-06-03T10:21:58.539395Z"
    },
    "papermill": {
     "duration": 0.034266,
     "end_time": "2023-06-03T10:21:58.542572",
     "exception": false,
     "start_time": "2023-06-03T10:21:58.508306",
     "status": "completed"
    },
    "tags": []
   },
   "outputs": [],
   "source": [
    "# data['full_text_clean'][2562]"
   ]
  },
  {
   "cell_type": "code",
   "execution_count": 9,
   "id": "de212e0b",
   "metadata": {
    "execution": {
     "iopub.execute_input": "2023-06-03T10:21:58.598792Z",
     "iopub.status.busy": "2023-06-03T10:21:58.598476Z",
     "iopub.status.idle": "2023-06-03T10:21:58.714354Z",
     "shell.execute_reply": "2023-06-03T10:21:58.713435Z"
    },
    "papermill": {
     "duration": 0.146603,
     "end_time": "2023-06-03T10:21:58.716698",
     "exception": false,
     "start_time": "2023-06-03T10:21:58.570095",
     "status": "completed"
    },
    "tags": []
   },
   "outputs": [
    {
     "data": {
      "text/html": [
       "        <script type=\"text/javascript\">\n",
       "        window.PlotlyConfig = {MathJaxConfig: 'local'};\n",
       "        if (window.MathJax && window.MathJax.Hub && window.MathJax.Hub.Config) {window.MathJax.Hub.Config({SVG: {font: \"STIX-Web\"}});}\n",
       "        if (typeof require !== 'undefined') {\n",
       "        require.undef(\"plotly\");\n",
       "        requirejs.config({\n",
       "            paths: {\n",
       "                'plotly': ['https://cdn.plot.ly/plotly-2.14.0.min']\n",
       "            }\n",
       "        });\n",
       "        require(['plotly'], function(Plotly) {\n",
       "            window._Plotly = Plotly;\n",
       "        });\n",
       "        }\n",
       "        </script>\n",
       "        "
      ]
     },
     "metadata": {},
     "output_type": "display_data"
    },
    {
     "data": {
      "text/html": [
       "<div>                            <div id=\"12611d6a-5ffb-4019-8372-59a8e1d57097\" class=\"plotly-graph-div\" style=\"height:600px; width:600px;\"></div>            <script type=\"text/javascript\">                require([\"plotly\"], function(Plotly) {                    window.PLOTLYENV=window.PLOTLYENV || {};                                    if (document.getElementById(\"12611d6a-5ffb-4019-8372-59a8e1d57097\")) {                    Plotly.newPlot(                        \"12611d6a-5ffb-4019-8372-59a8e1d57097\",                        [{\"hole\":0.6,\"labels\":[0,1],\"marker\":{\"colors\":[\"#2B4A9D\",\"#008B8B\",\"#CD5C5C\"]},\"textfont\":{\"size\":20},\"values\":[11865,10135],\"type\":\"pie\"}],                        {\"template\":{\"data\":{\"histogram2dcontour\":[{\"type\":\"histogram2dcontour\",\"colorbar\":{\"outlinewidth\":0,\"ticks\":\"\"},\"colorscale\":[[0.0,\"#0d0887\"],[0.1111111111111111,\"#46039f\"],[0.2222222222222222,\"#7201a8\"],[0.3333333333333333,\"#9c179e\"],[0.4444444444444444,\"#bd3786\"],[0.5555555555555556,\"#d8576b\"],[0.6666666666666666,\"#ed7953\"],[0.7777777777777778,\"#fb9f3a\"],[0.8888888888888888,\"#fdca26\"],[1.0,\"#f0f921\"]]}],\"choropleth\":[{\"type\":\"choropleth\",\"colorbar\":{\"outlinewidth\":0,\"ticks\":\"\"}}],\"histogram2d\":[{\"type\":\"histogram2d\",\"colorbar\":{\"outlinewidth\":0,\"ticks\":\"\"},\"colorscale\":[[0.0,\"#0d0887\"],[0.1111111111111111,\"#46039f\"],[0.2222222222222222,\"#7201a8\"],[0.3333333333333333,\"#9c179e\"],[0.4444444444444444,\"#bd3786\"],[0.5555555555555556,\"#d8576b\"],[0.6666666666666666,\"#ed7953\"],[0.7777777777777778,\"#fb9f3a\"],[0.8888888888888888,\"#fdca26\"],[1.0,\"#f0f921\"]]}],\"heatmap\":[{\"type\":\"heatmap\",\"colorbar\":{\"outlinewidth\":0,\"ticks\":\"\"},\"colorscale\":[[0.0,\"#0d0887\"],[0.1111111111111111,\"#46039f\"],[0.2222222222222222,\"#7201a8\"],[0.3333333333333333,\"#9c179e\"],[0.4444444444444444,\"#bd3786\"],[0.5555555555555556,\"#d8576b\"],[0.6666666666666666,\"#ed7953\"],[0.7777777777777778,\"#fb9f3a\"],[0.8888888888888888,\"#fdca26\"],[1.0,\"#f0f921\"]]}],\"heatmapgl\":[{\"type\":\"heatmapgl\",\"colorbar\":{\"outlinewidth\":0,\"ticks\":\"\"},\"colorscale\":[[0.0,\"#0d0887\"],[0.1111111111111111,\"#46039f\"],[0.2222222222222222,\"#7201a8\"],[0.3333333333333333,\"#9c179e\"],[0.4444444444444444,\"#bd3786\"],[0.5555555555555556,\"#d8576b\"],[0.6666666666666666,\"#ed7953\"],[0.7777777777777778,\"#fb9f3a\"],[0.8888888888888888,\"#fdca26\"],[1.0,\"#f0f921\"]]}],\"contourcarpet\":[{\"type\":\"contourcarpet\",\"colorbar\":{\"outlinewidth\":0,\"ticks\":\"\"}}],\"contour\":[{\"type\":\"contour\",\"colorbar\":{\"outlinewidth\":0,\"ticks\":\"\"},\"colorscale\":[[0.0,\"#0d0887\"],[0.1111111111111111,\"#46039f\"],[0.2222222222222222,\"#7201a8\"],[0.3333333333333333,\"#9c179e\"],[0.4444444444444444,\"#bd3786\"],[0.5555555555555556,\"#d8576b\"],[0.6666666666666666,\"#ed7953\"],[0.7777777777777778,\"#fb9f3a\"],[0.8888888888888888,\"#fdca26\"],[1.0,\"#f0f921\"]]}],\"surface\":[{\"type\":\"surface\",\"colorbar\":{\"outlinewidth\":0,\"ticks\":\"\"},\"colorscale\":[[0.0,\"#0d0887\"],[0.1111111111111111,\"#46039f\"],[0.2222222222222222,\"#7201a8\"],[0.3333333333333333,\"#9c179e\"],[0.4444444444444444,\"#bd3786\"],[0.5555555555555556,\"#d8576b\"],[0.6666666666666666,\"#ed7953\"],[0.7777777777777778,\"#fb9f3a\"],[0.8888888888888888,\"#fdca26\"],[1.0,\"#f0f921\"]]}],\"mesh3d\":[{\"type\":\"mesh3d\",\"colorbar\":{\"outlinewidth\":0,\"ticks\":\"\"}}],\"scatter\":[{\"fillpattern\":{\"fillmode\":\"overlay\",\"size\":10,\"solidity\":0.2},\"type\":\"scatter\"}],\"parcoords\":[{\"type\":\"parcoords\",\"line\":{\"colorbar\":{\"outlinewidth\":0,\"ticks\":\"\"}}}],\"scatterpolargl\":[{\"type\":\"scatterpolargl\",\"marker\":{\"colorbar\":{\"outlinewidth\":0,\"ticks\":\"\"}}}],\"bar\":[{\"error_x\":{\"color\":\"#2a3f5f\"},\"error_y\":{\"color\":\"#2a3f5f\"},\"marker\":{\"line\":{\"color\":\"#E5ECF6\",\"width\":0.5},\"pattern\":{\"fillmode\":\"overlay\",\"size\":10,\"solidity\":0.2}},\"type\":\"bar\"}],\"scattergeo\":[{\"type\":\"scattergeo\",\"marker\":{\"colorbar\":{\"outlinewidth\":0,\"ticks\":\"\"}}}],\"scatterpolar\":[{\"type\":\"scatterpolar\",\"marker\":{\"colorbar\":{\"outlinewidth\":0,\"ticks\":\"\"}}}],\"histogram\":[{\"marker\":{\"pattern\":{\"fillmode\":\"overlay\",\"size\":10,\"solidity\":0.2}},\"type\":\"histogram\"}],\"scattergl\":[{\"type\":\"scattergl\",\"marker\":{\"colorbar\":{\"outlinewidth\":0,\"ticks\":\"\"}}}],\"scatter3d\":[{\"type\":\"scatter3d\",\"line\":{\"colorbar\":{\"outlinewidth\":0,\"ticks\":\"\"}},\"marker\":{\"colorbar\":{\"outlinewidth\":0,\"ticks\":\"\"}}}],\"scattermapbox\":[{\"type\":\"scattermapbox\",\"marker\":{\"colorbar\":{\"outlinewidth\":0,\"ticks\":\"\"}}}],\"scatterternary\":[{\"type\":\"scatterternary\",\"marker\":{\"colorbar\":{\"outlinewidth\":0,\"ticks\":\"\"}}}],\"scattercarpet\":[{\"type\":\"scattercarpet\",\"marker\":{\"colorbar\":{\"outlinewidth\":0,\"ticks\":\"\"}}}],\"carpet\":[{\"aaxis\":{\"endlinecolor\":\"#2a3f5f\",\"gridcolor\":\"white\",\"linecolor\":\"white\",\"minorgridcolor\":\"white\",\"startlinecolor\":\"#2a3f5f\"},\"baxis\":{\"endlinecolor\":\"#2a3f5f\",\"gridcolor\":\"white\",\"linecolor\":\"white\",\"minorgridcolor\":\"white\",\"startlinecolor\":\"#2a3f5f\"},\"type\":\"carpet\"}],\"table\":[{\"cells\":{\"fill\":{\"color\":\"#EBF0F8\"},\"line\":{\"color\":\"white\"}},\"header\":{\"fill\":{\"color\":\"#C8D4E3\"},\"line\":{\"color\":\"white\"}},\"type\":\"table\"}],\"barpolar\":[{\"marker\":{\"line\":{\"color\":\"#E5ECF6\",\"width\":0.5},\"pattern\":{\"fillmode\":\"overlay\",\"size\":10,\"solidity\":0.2}},\"type\":\"barpolar\"}],\"pie\":[{\"automargin\":true,\"type\":\"pie\"}]},\"layout\":{\"autotypenumbers\":\"strict\",\"colorway\":[\"#636efa\",\"#EF553B\",\"#00cc96\",\"#ab63fa\",\"#FFA15A\",\"#19d3f3\",\"#FF6692\",\"#B6E880\",\"#FF97FF\",\"#FECB52\"],\"font\":{\"color\":\"#2a3f5f\"},\"hovermode\":\"closest\",\"hoverlabel\":{\"align\":\"left\"},\"paper_bgcolor\":\"white\",\"plot_bgcolor\":\"#E5ECF6\",\"polar\":{\"bgcolor\":\"#E5ECF6\",\"angularaxis\":{\"gridcolor\":\"white\",\"linecolor\":\"white\",\"ticks\":\"\"},\"radialaxis\":{\"gridcolor\":\"white\",\"linecolor\":\"white\",\"ticks\":\"\"}},\"ternary\":{\"bgcolor\":\"#E5ECF6\",\"aaxis\":{\"gridcolor\":\"white\",\"linecolor\":\"white\",\"ticks\":\"\"},\"baxis\":{\"gridcolor\":\"white\",\"linecolor\":\"white\",\"ticks\":\"\"},\"caxis\":{\"gridcolor\":\"white\",\"linecolor\":\"white\",\"ticks\":\"\"}},\"coloraxis\":{\"colorbar\":{\"outlinewidth\":0,\"ticks\":\"\"}},\"colorscale\":{\"sequential\":[[0.0,\"#0d0887\"],[0.1111111111111111,\"#46039f\"],[0.2222222222222222,\"#7201a8\"],[0.3333333333333333,\"#9c179e\"],[0.4444444444444444,\"#bd3786\"],[0.5555555555555556,\"#d8576b\"],[0.6666666666666666,\"#ed7953\"],[0.7777777777777778,\"#fb9f3a\"],[0.8888888888888888,\"#fdca26\"],[1.0,\"#f0f921\"]],\"sequentialminus\":[[0.0,\"#0d0887\"],[0.1111111111111111,\"#46039f\"],[0.2222222222222222,\"#7201a8\"],[0.3333333333333333,\"#9c179e\"],[0.4444444444444444,\"#bd3786\"],[0.5555555555555556,\"#d8576b\"],[0.6666666666666666,\"#ed7953\"],[0.7777777777777778,\"#fb9f3a\"],[0.8888888888888888,\"#fdca26\"],[1.0,\"#f0f921\"]],\"diverging\":[[0,\"#8e0152\"],[0.1,\"#c51b7d\"],[0.2,\"#de77ae\"],[0.3,\"#f1b6da\"],[0.4,\"#fde0ef\"],[0.5,\"#f7f7f7\"],[0.6,\"#e6f5d0\"],[0.7,\"#b8e186\"],[0.8,\"#7fbc41\"],[0.9,\"#4d9221\"],[1,\"#276419\"]]},\"xaxis\":{\"gridcolor\":\"white\",\"linecolor\":\"white\",\"ticks\":\"\",\"title\":{\"standoff\":15},\"zerolinecolor\":\"white\",\"automargin\":true,\"zerolinewidth\":2},\"yaxis\":{\"gridcolor\":\"white\",\"linecolor\":\"white\",\"ticks\":\"\",\"title\":{\"standoff\":15},\"zerolinecolor\":\"white\",\"automargin\":true,\"zerolinewidth\":2},\"scene\":{\"xaxis\":{\"backgroundcolor\":\"#E5ECF6\",\"gridcolor\":\"white\",\"linecolor\":\"white\",\"showbackground\":true,\"ticks\":\"\",\"zerolinecolor\":\"white\",\"gridwidth\":2},\"yaxis\":{\"backgroundcolor\":\"#E5ECF6\",\"gridcolor\":\"white\",\"linecolor\":\"white\",\"showbackground\":true,\"ticks\":\"\",\"zerolinecolor\":\"white\",\"gridwidth\":2},\"zaxis\":{\"backgroundcolor\":\"#E5ECF6\",\"gridcolor\":\"white\",\"linecolor\":\"white\",\"showbackground\":true,\"ticks\":\"\",\"zerolinecolor\":\"white\",\"gridwidth\":2}},\"shapedefaults\":{\"line\":{\"color\":\"#2a3f5f\"}},\"annotationdefaults\":{\"arrowcolor\":\"#2a3f5f\",\"arrowhead\":0,\"arrowwidth\":1},\"geo\":{\"bgcolor\":\"white\",\"landcolor\":\"#E5ECF6\",\"subunitcolor\":\"white\",\"showland\":true,\"showlakes\":true,\"lakecolor\":\"white\"},\"title\":{\"x\":0.05},\"mapbox\":{\"style\":\"light\"}}},\"font\":{\"size\":16},\"margin\":{\"l\":50,\"r\":50,\"t\":50,\"b\":50},\"title\":{\"text\":\"Label Distribution in Training Data\"},\"plot_bgcolor\":\"white\",\"paper_bgcolor\":\"white\",\"width\":600,\"height\":600},                        {\"responsive\": true}                    ).then(function(){\n",
       "                            \n",
       "var gd = document.getElementById('12611d6a-5ffb-4019-8372-59a8e1d57097');\n",
       "var x = new MutationObserver(function (mutations, observer) {{\n",
       "        var display = window.getComputedStyle(gd).display;\n",
       "        if (!display || display === 'none') {{\n",
       "            console.log([gd, 'removed!']);\n",
       "            Plotly.purge(gd);\n",
       "            observer.disconnect();\n",
       "        }}\n",
       "}});\n",
       "\n",
       "// Listen for the removal of the full notebook cells\n",
       "var notebookContainer = gd.closest('#notebook-container');\n",
       "if (notebookContainer) {{\n",
       "    x.observe(notebookContainer, {childList: true});\n",
       "}}\n",
       "\n",
       "// Listen for the clearing of the current output cell\n",
       "var outputEl = gd.closest('.output');\n",
       "if (outputEl) {{\n",
       "    x.observe(outputEl, {childList: true});\n",
       "}}\n",
       "\n",
       "                        })                };                });            </script>        </div>"
      ]
     },
     "metadata": {},
     "output_type": "display_data"
    }
   ],
   "source": [
    "import plotly.graph_objs as go\n",
    "\n",
    "# Compute value counts for the label column\n",
    "counts = data['label'].value_counts()\n",
    "\n",
    "# Create a pie chart using plotly\n",
    "fig = go.Figure(data=[go.Pie(labels=counts.index, values=counts.values,\n",
    "                             hole=0.6,  # set the size of the center hole\n",
    "                             marker=dict(colors=['#2B4A9D','#008B8B',  '#CD5C5C']),  # set the color of the slices\n",
    "                             textfont=dict(size=20))])  # set the size of the slice labels\n",
    "\n",
    "# Customize the layout\n",
    "fig.update_layout(title='Label Distribution in Training Data', \n",
    "                  font=dict(size=16),\n",
    "                  margin=dict(l=50, r=50, t=50, b=50),\n",
    "                  plot_bgcolor='white',\n",
    "                  paper_bgcolor='white',\n",
    "                  width=600,\n",
    "                  height=600)\n",
    "\n",
    "# Show the plot\n",
    "fig.show()"
   ]
  },
  {
   "cell_type": "code",
   "execution_count": 10,
   "id": "549d04dc",
   "metadata": {
    "execution": {
     "iopub.execute_input": "2023-06-03T10:21:58.775401Z",
     "iopub.status.busy": "2023-06-03T10:21:58.774608Z",
     "iopub.status.idle": "2023-06-03T10:21:58.793924Z",
     "shell.execute_reply": "2023-06-03T10:21:58.792930Z"
    },
    "papermill": {
     "duration": 0.050673,
     "end_time": "2023-06-03T10:21:58.796163",
     "exception": false,
     "start_time": "2023-06-03T10:21:58.745490",
     "status": "completed"
    },
    "tags": []
   },
   "outputs": [
    {
     "data": {
      "text/html": [
       "<div>                            <div id=\"ace42f48-0abb-4a09-92fb-64f770ab6e85\" class=\"plotly-graph-div\" style=\"height:600px; width:600px;\"></div>            <script type=\"text/javascript\">                require([\"plotly\"], function(Plotly) {                    window.PLOTLYENV=window.PLOTLYENV || {};                                    if (document.getElementById(\"ace42f48-0abb-4a09-92fb-64f770ab6e85\")) {                    Plotly.newPlot(                        \"ace42f48-0abb-4a09-92fb-64f770ab6e85\",                        [{\"hole\":0.6,\"labels\":[0,1],\"marker\":{\"colors\":[\"#2B4A9D\",\"#008B8B\",\"#CD5C5C\"]},\"textfont\":{\"size\":20},\"values\":[132,91],\"type\":\"pie\"}],                        {\"template\":{\"data\":{\"histogram2dcontour\":[{\"type\":\"histogram2dcontour\",\"colorbar\":{\"outlinewidth\":0,\"ticks\":\"\"},\"colorscale\":[[0.0,\"#0d0887\"],[0.1111111111111111,\"#46039f\"],[0.2222222222222222,\"#7201a8\"],[0.3333333333333333,\"#9c179e\"],[0.4444444444444444,\"#bd3786\"],[0.5555555555555556,\"#d8576b\"],[0.6666666666666666,\"#ed7953\"],[0.7777777777777778,\"#fb9f3a\"],[0.8888888888888888,\"#fdca26\"],[1.0,\"#f0f921\"]]}],\"choropleth\":[{\"type\":\"choropleth\",\"colorbar\":{\"outlinewidth\":0,\"ticks\":\"\"}}],\"histogram2d\":[{\"type\":\"histogram2d\",\"colorbar\":{\"outlinewidth\":0,\"ticks\":\"\"},\"colorscale\":[[0.0,\"#0d0887\"],[0.1111111111111111,\"#46039f\"],[0.2222222222222222,\"#7201a8\"],[0.3333333333333333,\"#9c179e\"],[0.4444444444444444,\"#bd3786\"],[0.5555555555555556,\"#d8576b\"],[0.6666666666666666,\"#ed7953\"],[0.7777777777777778,\"#fb9f3a\"],[0.8888888888888888,\"#fdca26\"],[1.0,\"#f0f921\"]]}],\"heatmap\":[{\"type\":\"heatmap\",\"colorbar\":{\"outlinewidth\":0,\"ticks\":\"\"},\"colorscale\":[[0.0,\"#0d0887\"],[0.1111111111111111,\"#46039f\"],[0.2222222222222222,\"#7201a8\"],[0.3333333333333333,\"#9c179e\"],[0.4444444444444444,\"#bd3786\"],[0.5555555555555556,\"#d8576b\"],[0.6666666666666666,\"#ed7953\"],[0.7777777777777778,\"#fb9f3a\"],[0.8888888888888888,\"#fdca26\"],[1.0,\"#f0f921\"]]}],\"heatmapgl\":[{\"type\":\"heatmapgl\",\"colorbar\":{\"outlinewidth\":0,\"ticks\":\"\"},\"colorscale\":[[0.0,\"#0d0887\"],[0.1111111111111111,\"#46039f\"],[0.2222222222222222,\"#7201a8\"],[0.3333333333333333,\"#9c179e\"],[0.4444444444444444,\"#bd3786\"],[0.5555555555555556,\"#d8576b\"],[0.6666666666666666,\"#ed7953\"],[0.7777777777777778,\"#fb9f3a\"],[0.8888888888888888,\"#fdca26\"],[1.0,\"#f0f921\"]]}],\"contourcarpet\":[{\"type\":\"contourcarpet\",\"colorbar\":{\"outlinewidth\":0,\"ticks\":\"\"}}],\"contour\":[{\"type\":\"contour\",\"colorbar\":{\"outlinewidth\":0,\"ticks\":\"\"},\"colorscale\":[[0.0,\"#0d0887\"],[0.1111111111111111,\"#46039f\"],[0.2222222222222222,\"#7201a8\"],[0.3333333333333333,\"#9c179e\"],[0.4444444444444444,\"#bd3786\"],[0.5555555555555556,\"#d8576b\"],[0.6666666666666666,\"#ed7953\"],[0.7777777777777778,\"#fb9f3a\"],[0.8888888888888888,\"#fdca26\"],[1.0,\"#f0f921\"]]}],\"surface\":[{\"type\":\"surface\",\"colorbar\":{\"outlinewidth\":0,\"ticks\":\"\"},\"colorscale\":[[0.0,\"#0d0887\"],[0.1111111111111111,\"#46039f\"],[0.2222222222222222,\"#7201a8\"],[0.3333333333333333,\"#9c179e\"],[0.4444444444444444,\"#bd3786\"],[0.5555555555555556,\"#d8576b\"],[0.6666666666666666,\"#ed7953\"],[0.7777777777777778,\"#fb9f3a\"],[0.8888888888888888,\"#fdca26\"],[1.0,\"#f0f921\"]]}],\"mesh3d\":[{\"type\":\"mesh3d\",\"colorbar\":{\"outlinewidth\":0,\"ticks\":\"\"}}],\"scatter\":[{\"fillpattern\":{\"fillmode\":\"overlay\",\"size\":10,\"solidity\":0.2},\"type\":\"scatter\"}],\"parcoords\":[{\"type\":\"parcoords\",\"line\":{\"colorbar\":{\"outlinewidth\":0,\"ticks\":\"\"}}}],\"scatterpolargl\":[{\"type\":\"scatterpolargl\",\"marker\":{\"colorbar\":{\"outlinewidth\":0,\"ticks\":\"\"}}}],\"bar\":[{\"error_x\":{\"color\":\"#2a3f5f\"},\"error_y\":{\"color\":\"#2a3f5f\"},\"marker\":{\"line\":{\"color\":\"#E5ECF6\",\"width\":0.5},\"pattern\":{\"fillmode\":\"overlay\",\"size\":10,\"solidity\":0.2}},\"type\":\"bar\"}],\"scattergeo\":[{\"type\":\"scattergeo\",\"marker\":{\"colorbar\":{\"outlinewidth\":0,\"ticks\":\"\"}}}],\"scatterpolar\":[{\"type\":\"scatterpolar\",\"marker\":{\"colorbar\":{\"outlinewidth\":0,\"ticks\":\"\"}}}],\"histogram\":[{\"marker\":{\"pattern\":{\"fillmode\":\"overlay\",\"size\":10,\"solidity\":0.2}},\"type\":\"histogram\"}],\"scattergl\":[{\"type\":\"scattergl\",\"marker\":{\"colorbar\":{\"outlinewidth\":0,\"ticks\":\"\"}}}],\"scatter3d\":[{\"type\":\"scatter3d\",\"line\":{\"colorbar\":{\"outlinewidth\":0,\"ticks\":\"\"}},\"marker\":{\"colorbar\":{\"outlinewidth\":0,\"ticks\":\"\"}}}],\"scattermapbox\":[{\"type\":\"scattermapbox\",\"marker\":{\"colorbar\":{\"outlinewidth\":0,\"ticks\":\"\"}}}],\"scatterternary\":[{\"type\":\"scatterternary\",\"marker\":{\"colorbar\":{\"outlinewidth\":0,\"ticks\":\"\"}}}],\"scattercarpet\":[{\"type\":\"scattercarpet\",\"marker\":{\"colorbar\":{\"outlinewidth\":0,\"ticks\":\"\"}}}],\"carpet\":[{\"aaxis\":{\"endlinecolor\":\"#2a3f5f\",\"gridcolor\":\"white\",\"linecolor\":\"white\",\"minorgridcolor\":\"white\",\"startlinecolor\":\"#2a3f5f\"},\"baxis\":{\"endlinecolor\":\"#2a3f5f\",\"gridcolor\":\"white\",\"linecolor\":\"white\",\"minorgridcolor\":\"white\",\"startlinecolor\":\"#2a3f5f\"},\"type\":\"carpet\"}],\"table\":[{\"cells\":{\"fill\":{\"color\":\"#EBF0F8\"},\"line\":{\"color\":\"white\"}},\"header\":{\"fill\":{\"color\":\"#C8D4E3\"},\"line\":{\"color\":\"white\"}},\"type\":\"table\"}],\"barpolar\":[{\"marker\":{\"line\":{\"color\":\"#E5ECF6\",\"width\":0.5},\"pattern\":{\"fillmode\":\"overlay\",\"size\":10,\"solidity\":0.2}},\"type\":\"barpolar\"}],\"pie\":[{\"automargin\":true,\"type\":\"pie\"}]},\"layout\":{\"autotypenumbers\":\"strict\",\"colorway\":[\"#636efa\",\"#EF553B\",\"#00cc96\",\"#ab63fa\",\"#FFA15A\",\"#19d3f3\",\"#FF6692\",\"#B6E880\",\"#FF97FF\",\"#FECB52\"],\"font\":{\"color\":\"#2a3f5f\"},\"hovermode\":\"closest\",\"hoverlabel\":{\"align\":\"left\"},\"paper_bgcolor\":\"white\",\"plot_bgcolor\":\"#E5ECF6\",\"polar\":{\"bgcolor\":\"#E5ECF6\",\"angularaxis\":{\"gridcolor\":\"white\",\"linecolor\":\"white\",\"ticks\":\"\"},\"radialaxis\":{\"gridcolor\":\"white\",\"linecolor\":\"white\",\"ticks\":\"\"}},\"ternary\":{\"bgcolor\":\"#E5ECF6\",\"aaxis\":{\"gridcolor\":\"white\",\"linecolor\":\"white\",\"ticks\":\"\"},\"baxis\":{\"gridcolor\":\"white\",\"linecolor\":\"white\",\"ticks\":\"\"},\"caxis\":{\"gridcolor\":\"white\",\"linecolor\":\"white\",\"ticks\":\"\"}},\"coloraxis\":{\"colorbar\":{\"outlinewidth\":0,\"ticks\":\"\"}},\"colorscale\":{\"sequential\":[[0.0,\"#0d0887\"],[0.1111111111111111,\"#46039f\"],[0.2222222222222222,\"#7201a8\"],[0.3333333333333333,\"#9c179e\"],[0.4444444444444444,\"#bd3786\"],[0.5555555555555556,\"#d8576b\"],[0.6666666666666666,\"#ed7953\"],[0.7777777777777778,\"#fb9f3a\"],[0.8888888888888888,\"#fdca26\"],[1.0,\"#f0f921\"]],\"sequentialminus\":[[0.0,\"#0d0887\"],[0.1111111111111111,\"#46039f\"],[0.2222222222222222,\"#7201a8\"],[0.3333333333333333,\"#9c179e\"],[0.4444444444444444,\"#bd3786\"],[0.5555555555555556,\"#d8576b\"],[0.6666666666666666,\"#ed7953\"],[0.7777777777777778,\"#fb9f3a\"],[0.8888888888888888,\"#fdca26\"],[1.0,\"#f0f921\"]],\"diverging\":[[0,\"#8e0152\"],[0.1,\"#c51b7d\"],[0.2,\"#de77ae\"],[0.3,\"#f1b6da\"],[0.4,\"#fde0ef\"],[0.5,\"#f7f7f7\"],[0.6,\"#e6f5d0\"],[0.7,\"#b8e186\"],[0.8,\"#7fbc41\"],[0.9,\"#4d9221\"],[1,\"#276419\"]]},\"xaxis\":{\"gridcolor\":\"white\",\"linecolor\":\"white\",\"ticks\":\"\",\"title\":{\"standoff\":15},\"zerolinecolor\":\"white\",\"automargin\":true,\"zerolinewidth\":2},\"yaxis\":{\"gridcolor\":\"white\",\"linecolor\":\"white\",\"ticks\":\"\",\"title\":{\"standoff\":15},\"zerolinecolor\":\"white\",\"automargin\":true,\"zerolinewidth\":2},\"scene\":{\"xaxis\":{\"backgroundcolor\":\"#E5ECF6\",\"gridcolor\":\"white\",\"linecolor\":\"white\",\"showbackground\":true,\"ticks\":\"\",\"zerolinecolor\":\"white\",\"gridwidth\":2},\"yaxis\":{\"backgroundcolor\":\"#E5ECF6\",\"gridcolor\":\"white\",\"linecolor\":\"white\",\"showbackground\":true,\"ticks\":\"\",\"zerolinecolor\":\"white\",\"gridwidth\":2},\"zaxis\":{\"backgroundcolor\":\"#E5ECF6\",\"gridcolor\":\"white\",\"linecolor\":\"white\",\"showbackground\":true,\"ticks\":\"\",\"zerolinecolor\":\"white\",\"gridwidth\":2}},\"shapedefaults\":{\"line\":{\"color\":\"#2a3f5f\"}},\"annotationdefaults\":{\"arrowcolor\":\"#2a3f5f\",\"arrowhead\":0,\"arrowwidth\":1},\"geo\":{\"bgcolor\":\"white\",\"landcolor\":\"#E5ECF6\",\"subunitcolor\":\"white\",\"showland\":true,\"showlakes\":true,\"lakecolor\":\"white\"},\"title\":{\"x\":0.05},\"mapbox\":{\"style\":\"light\"}}},\"font\":{\"size\":16},\"margin\":{\"l\":50,\"r\":50,\"t\":50,\"b\":50},\"title\":{\"text\":\"Label Distribution in Test Data\"},\"plot_bgcolor\":\"white\",\"paper_bgcolor\":\"white\",\"width\":600,\"height\":600},                        {\"responsive\": true}                    ).then(function(){\n",
       "                            \n",
       "var gd = document.getElementById('ace42f48-0abb-4a09-92fb-64f770ab6e85');\n",
       "var x = new MutationObserver(function (mutations, observer) {{\n",
       "        var display = window.getComputedStyle(gd).display;\n",
       "        if (!display || display === 'none') {{\n",
       "            console.log([gd, 'removed!']);\n",
       "            Plotly.purge(gd);\n",
       "            observer.disconnect();\n",
       "        }}\n",
       "}});\n",
       "\n",
       "// Listen for the removal of the full notebook cells\n",
       "var notebookContainer = gd.closest('#notebook-container');\n",
       "if (notebookContainer) {{\n",
       "    x.observe(notebookContainer, {childList: true});\n",
       "}}\n",
       "\n",
       "// Listen for the clearing of the current output cell\n",
       "var outputEl = gd.closest('.output');\n",
       "if (outputEl) {{\n",
       "    x.observe(outputEl, {childList: true});\n",
       "}}\n",
       "\n",
       "                        })                };                });            </script>        </div>"
      ]
     },
     "metadata": {},
     "output_type": "display_data"
    }
   ],
   "source": [
    "import plotly.graph_objs as go\n",
    "\n",
    "# Compute value counts for the label column\n",
    "counts = test5['label'].value_counts()\n",
    "\n",
    "# Create a pie chart using plotly\n",
    "fig = go.Figure(data=[go.Pie(labels=counts.index, values=counts.values,\n",
    "                             hole=0.6,  # set the size of the center hole\n",
    "                             marker=dict(colors=['#2B4A9D','#008B8B',  '#CD5C5C']),  # set the color of the slices\n",
    "                             textfont=dict(size=20))])  # set the size of the slice labels\n",
    "\n",
    "# Customize the layout\n",
    "fig.update_layout(title='Label Distribution in Test Data', \n",
    "                  font=dict(size=16),\n",
    "                  margin=dict(l=50, r=50, t=50, b=50),\n",
    "                  plot_bgcolor='white',\n",
    "                  paper_bgcolor='white',\n",
    "                  width=600,  # Update width\n",
    "                  height=600)  # Update height))\n",
    "\n",
    "# Show the plot\n",
    "fig.show()"
   ]
  },
  {
   "cell_type": "code",
   "execution_count": 11,
   "id": "1b55101f",
   "metadata": {
    "execution": {
     "iopub.execute_input": "2023-06-03T10:21:58.853628Z",
     "iopub.status.busy": "2023-06-03T10:21:58.853326Z",
     "iopub.status.idle": "2023-06-03T10:21:58.880781Z",
     "shell.execute_reply": "2023-06-03T10:21:58.879539Z"
    },
    "papermill": {
     "duration": 0.058887,
     "end_time": "2023-06-03T10:21:58.883314",
     "exception": false,
     "start_time": "2023-06-03T10:21:58.824427",
     "status": "completed"
    },
    "tags": []
   },
   "outputs": [
    {
     "name": "stdout",
     "output_type": "stream",
     "text": [
      "Number of languages in 'others': 4\n"
     ]
    },
    {
     "data": {
      "text/html": [
       "<div>                            <div id=\"0ea14e20-8724-47dd-abdd-78f0e097728f\" class=\"plotly-graph-div\" style=\"height:600px; width:600px;\"></div>            <script type=\"text/javascript\">                require([\"plotly\"], function(Plotly) {                    window.PLOTLYENV=window.PLOTLYENV || {};                                    if (document.getElementById(\"0ea14e20-8724-47dd-abdd-78f0e097728f\")) {                    Plotly.newPlot(                        \"0ea14e20-8724-47dd-abdd-78f0e097728f\",                        [{\"hole\":0.6,\"labels\":[\"en\",\"it\",\"ru\",\"und\",\"others\"],\"marker\":{\"colors\":[\"#2B4A9D\",\"#008B8B\",\"#CD5C5C\",\"#CCCCCC\"]},\"textfont\":{\"size\":20},\"values\":[17803,1692,411,306,1788],\"type\":\"pie\"}],                        {\"template\":{\"data\":{\"histogram2dcontour\":[{\"type\":\"histogram2dcontour\",\"colorbar\":{\"outlinewidth\":0,\"ticks\":\"\"},\"colorscale\":[[0.0,\"#0d0887\"],[0.1111111111111111,\"#46039f\"],[0.2222222222222222,\"#7201a8\"],[0.3333333333333333,\"#9c179e\"],[0.4444444444444444,\"#bd3786\"],[0.5555555555555556,\"#d8576b\"],[0.6666666666666666,\"#ed7953\"],[0.7777777777777778,\"#fb9f3a\"],[0.8888888888888888,\"#fdca26\"],[1.0,\"#f0f921\"]]}],\"choropleth\":[{\"type\":\"choropleth\",\"colorbar\":{\"outlinewidth\":0,\"ticks\":\"\"}}],\"histogram2d\":[{\"type\":\"histogram2d\",\"colorbar\":{\"outlinewidth\":0,\"ticks\":\"\"},\"colorscale\":[[0.0,\"#0d0887\"],[0.1111111111111111,\"#46039f\"],[0.2222222222222222,\"#7201a8\"],[0.3333333333333333,\"#9c179e\"],[0.4444444444444444,\"#bd3786\"],[0.5555555555555556,\"#d8576b\"],[0.6666666666666666,\"#ed7953\"],[0.7777777777777778,\"#fb9f3a\"],[0.8888888888888888,\"#fdca26\"],[1.0,\"#f0f921\"]]}],\"heatmap\":[{\"type\":\"heatmap\",\"colorbar\":{\"outlinewidth\":0,\"ticks\":\"\"},\"colorscale\":[[0.0,\"#0d0887\"],[0.1111111111111111,\"#46039f\"],[0.2222222222222222,\"#7201a8\"],[0.3333333333333333,\"#9c179e\"],[0.4444444444444444,\"#bd3786\"],[0.5555555555555556,\"#d8576b\"],[0.6666666666666666,\"#ed7953\"],[0.7777777777777778,\"#fb9f3a\"],[0.8888888888888888,\"#fdca26\"],[1.0,\"#f0f921\"]]}],\"heatmapgl\":[{\"type\":\"heatmapgl\",\"colorbar\":{\"outlinewidth\":0,\"ticks\":\"\"},\"colorscale\":[[0.0,\"#0d0887\"],[0.1111111111111111,\"#46039f\"],[0.2222222222222222,\"#7201a8\"],[0.3333333333333333,\"#9c179e\"],[0.4444444444444444,\"#bd3786\"],[0.5555555555555556,\"#d8576b\"],[0.6666666666666666,\"#ed7953\"],[0.7777777777777778,\"#fb9f3a\"],[0.8888888888888888,\"#fdca26\"],[1.0,\"#f0f921\"]]}],\"contourcarpet\":[{\"type\":\"contourcarpet\",\"colorbar\":{\"outlinewidth\":0,\"ticks\":\"\"}}],\"contour\":[{\"type\":\"contour\",\"colorbar\":{\"outlinewidth\":0,\"ticks\":\"\"},\"colorscale\":[[0.0,\"#0d0887\"],[0.1111111111111111,\"#46039f\"],[0.2222222222222222,\"#7201a8\"],[0.3333333333333333,\"#9c179e\"],[0.4444444444444444,\"#bd3786\"],[0.5555555555555556,\"#d8576b\"],[0.6666666666666666,\"#ed7953\"],[0.7777777777777778,\"#fb9f3a\"],[0.8888888888888888,\"#fdca26\"],[1.0,\"#f0f921\"]]}],\"surface\":[{\"type\":\"surface\",\"colorbar\":{\"outlinewidth\":0,\"ticks\":\"\"},\"colorscale\":[[0.0,\"#0d0887\"],[0.1111111111111111,\"#46039f\"],[0.2222222222222222,\"#7201a8\"],[0.3333333333333333,\"#9c179e\"],[0.4444444444444444,\"#bd3786\"],[0.5555555555555556,\"#d8576b\"],[0.6666666666666666,\"#ed7953\"],[0.7777777777777778,\"#fb9f3a\"],[0.8888888888888888,\"#fdca26\"],[1.0,\"#f0f921\"]]}],\"mesh3d\":[{\"type\":\"mesh3d\",\"colorbar\":{\"outlinewidth\":0,\"ticks\":\"\"}}],\"scatter\":[{\"fillpattern\":{\"fillmode\":\"overlay\",\"size\":10,\"solidity\":0.2},\"type\":\"scatter\"}],\"parcoords\":[{\"type\":\"parcoords\",\"line\":{\"colorbar\":{\"outlinewidth\":0,\"ticks\":\"\"}}}],\"scatterpolargl\":[{\"type\":\"scatterpolargl\",\"marker\":{\"colorbar\":{\"outlinewidth\":0,\"ticks\":\"\"}}}],\"bar\":[{\"error_x\":{\"color\":\"#2a3f5f\"},\"error_y\":{\"color\":\"#2a3f5f\"},\"marker\":{\"line\":{\"color\":\"#E5ECF6\",\"width\":0.5},\"pattern\":{\"fillmode\":\"overlay\",\"size\":10,\"solidity\":0.2}},\"type\":\"bar\"}],\"scattergeo\":[{\"type\":\"scattergeo\",\"marker\":{\"colorbar\":{\"outlinewidth\":0,\"ticks\":\"\"}}}],\"scatterpolar\":[{\"type\":\"scatterpolar\",\"marker\":{\"colorbar\":{\"outlinewidth\":0,\"ticks\":\"\"}}}],\"histogram\":[{\"marker\":{\"pattern\":{\"fillmode\":\"overlay\",\"size\":10,\"solidity\":0.2}},\"type\":\"histogram\"}],\"scattergl\":[{\"type\":\"scattergl\",\"marker\":{\"colorbar\":{\"outlinewidth\":0,\"ticks\":\"\"}}}],\"scatter3d\":[{\"type\":\"scatter3d\",\"line\":{\"colorbar\":{\"outlinewidth\":0,\"ticks\":\"\"}},\"marker\":{\"colorbar\":{\"outlinewidth\":0,\"ticks\":\"\"}}}],\"scattermapbox\":[{\"type\":\"scattermapbox\",\"marker\":{\"colorbar\":{\"outlinewidth\":0,\"ticks\":\"\"}}}],\"scatterternary\":[{\"type\":\"scatterternary\",\"marker\":{\"colorbar\":{\"outlinewidth\":0,\"ticks\":\"\"}}}],\"scattercarpet\":[{\"type\":\"scattercarpet\",\"marker\":{\"colorbar\":{\"outlinewidth\":0,\"ticks\":\"\"}}}],\"carpet\":[{\"aaxis\":{\"endlinecolor\":\"#2a3f5f\",\"gridcolor\":\"white\",\"linecolor\":\"white\",\"minorgridcolor\":\"white\",\"startlinecolor\":\"#2a3f5f\"},\"baxis\":{\"endlinecolor\":\"#2a3f5f\",\"gridcolor\":\"white\",\"linecolor\":\"white\",\"minorgridcolor\":\"white\",\"startlinecolor\":\"#2a3f5f\"},\"type\":\"carpet\"}],\"table\":[{\"cells\":{\"fill\":{\"color\":\"#EBF0F8\"},\"line\":{\"color\":\"white\"}},\"header\":{\"fill\":{\"color\":\"#C8D4E3\"},\"line\":{\"color\":\"white\"}},\"type\":\"table\"}],\"barpolar\":[{\"marker\":{\"line\":{\"color\":\"#E5ECF6\",\"width\":0.5},\"pattern\":{\"fillmode\":\"overlay\",\"size\":10,\"solidity\":0.2}},\"type\":\"barpolar\"}],\"pie\":[{\"automargin\":true,\"type\":\"pie\"}]},\"layout\":{\"autotypenumbers\":\"strict\",\"colorway\":[\"#636efa\",\"#EF553B\",\"#00cc96\",\"#ab63fa\",\"#FFA15A\",\"#19d3f3\",\"#FF6692\",\"#B6E880\",\"#FF97FF\",\"#FECB52\"],\"font\":{\"color\":\"#2a3f5f\"},\"hovermode\":\"closest\",\"hoverlabel\":{\"align\":\"left\"},\"paper_bgcolor\":\"white\",\"plot_bgcolor\":\"#E5ECF6\",\"polar\":{\"bgcolor\":\"#E5ECF6\",\"angularaxis\":{\"gridcolor\":\"white\",\"linecolor\":\"white\",\"ticks\":\"\"},\"radialaxis\":{\"gridcolor\":\"white\",\"linecolor\":\"white\",\"ticks\":\"\"}},\"ternary\":{\"bgcolor\":\"#E5ECF6\",\"aaxis\":{\"gridcolor\":\"white\",\"linecolor\":\"white\",\"ticks\":\"\"},\"baxis\":{\"gridcolor\":\"white\",\"linecolor\":\"white\",\"ticks\":\"\"},\"caxis\":{\"gridcolor\":\"white\",\"linecolor\":\"white\",\"ticks\":\"\"}},\"coloraxis\":{\"colorbar\":{\"outlinewidth\":0,\"ticks\":\"\"}},\"colorscale\":{\"sequential\":[[0.0,\"#0d0887\"],[0.1111111111111111,\"#46039f\"],[0.2222222222222222,\"#7201a8\"],[0.3333333333333333,\"#9c179e\"],[0.4444444444444444,\"#bd3786\"],[0.5555555555555556,\"#d8576b\"],[0.6666666666666666,\"#ed7953\"],[0.7777777777777778,\"#fb9f3a\"],[0.8888888888888888,\"#fdca26\"],[1.0,\"#f0f921\"]],\"sequentialminus\":[[0.0,\"#0d0887\"],[0.1111111111111111,\"#46039f\"],[0.2222222222222222,\"#7201a8\"],[0.3333333333333333,\"#9c179e\"],[0.4444444444444444,\"#bd3786\"],[0.5555555555555556,\"#d8576b\"],[0.6666666666666666,\"#ed7953\"],[0.7777777777777778,\"#fb9f3a\"],[0.8888888888888888,\"#fdca26\"],[1.0,\"#f0f921\"]],\"diverging\":[[0,\"#8e0152\"],[0.1,\"#c51b7d\"],[0.2,\"#de77ae\"],[0.3,\"#f1b6da\"],[0.4,\"#fde0ef\"],[0.5,\"#f7f7f7\"],[0.6,\"#e6f5d0\"],[0.7,\"#b8e186\"],[0.8,\"#7fbc41\"],[0.9,\"#4d9221\"],[1,\"#276419\"]]},\"xaxis\":{\"gridcolor\":\"white\",\"linecolor\":\"white\",\"ticks\":\"\",\"title\":{\"standoff\":15},\"zerolinecolor\":\"white\",\"automargin\":true,\"zerolinewidth\":2},\"yaxis\":{\"gridcolor\":\"white\",\"linecolor\":\"white\",\"ticks\":\"\",\"title\":{\"standoff\":15},\"zerolinecolor\":\"white\",\"automargin\":true,\"zerolinewidth\":2},\"scene\":{\"xaxis\":{\"backgroundcolor\":\"#E5ECF6\",\"gridcolor\":\"white\",\"linecolor\":\"white\",\"showbackground\":true,\"ticks\":\"\",\"zerolinecolor\":\"white\",\"gridwidth\":2},\"yaxis\":{\"backgroundcolor\":\"#E5ECF6\",\"gridcolor\":\"white\",\"linecolor\":\"white\",\"showbackground\":true,\"ticks\":\"\",\"zerolinecolor\":\"white\",\"gridwidth\":2},\"zaxis\":{\"backgroundcolor\":\"#E5ECF6\",\"gridcolor\":\"white\",\"linecolor\":\"white\",\"showbackground\":true,\"ticks\":\"\",\"zerolinecolor\":\"white\",\"gridwidth\":2}},\"shapedefaults\":{\"line\":{\"color\":\"#2a3f5f\"}},\"annotationdefaults\":{\"arrowcolor\":\"#2a3f5f\",\"arrowhead\":0,\"arrowwidth\":1},\"geo\":{\"bgcolor\":\"white\",\"landcolor\":\"#E5ECF6\",\"subunitcolor\":\"white\",\"showland\":true,\"showlakes\":true,\"lakecolor\":\"white\"},\"title\":{\"x\":0.05},\"mapbox\":{\"style\":\"light\"}}},\"margin\":{\"l\":50,\"r\":50,\"t\":50,\"b\":50},\"title\":{\"text\":\"Language Distribution in Training Data\"},\"plot_bgcolor\":\"white\",\"paper_bgcolor\":\"white\",\"width\":600,\"height\":600},                        {\"responsive\": true}                    ).then(function(){\n",
       "                            \n",
       "var gd = document.getElementById('0ea14e20-8724-47dd-abdd-78f0e097728f');\n",
       "var x = new MutationObserver(function (mutations, observer) {{\n",
       "        var display = window.getComputedStyle(gd).display;\n",
       "        if (!display || display === 'none') {{\n",
       "            console.log([gd, 'removed!']);\n",
       "            Plotly.purge(gd);\n",
       "            observer.disconnect();\n",
       "        }}\n",
       "}});\n",
       "\n",
       "// Listen for the removal of the full notebook cells\n",
       "var notebookContainer = gd.closest('#notebook-container');\n",
       "if (notebookContainer) {{\n",
       "    x.observe(notebookContainer, {childList: true});\n",
       "}}\n",
       "\n",
       "// Listen for the clearing of the current output cell\n",
       "var outputEl = gd.closest('.output');\n",
       "if (outputEl) {{\n",
       "    x.observe(outputEl, {childList: true});\n",
       "}}\n",
       "\n",
       "                        })                };                });            </script>        </div>"
      ]
     },
     "metadata": {},
     "output_type": "display_data"
    }
   ],
   "source": [
    "import plotly.graph_objs as go\n",
    "from collections import Counter\n",
    "\n",
    "# Compute value counts for the label column\n",
    "counts = data['lang'].value_counts()\n",
    "\n",
    "# Calculate the total count of languages\n",
    "total_count = counts.sum()\n",
    "\n",
    "# Filter out languages with percentage less than 1%\n",
    "filtered_counts = counts[counts/total_count >= 0.0106]\n",
    "\n",
    "# Calculate the count and percentage of the \"others\" category\n",
    "others_count = total_count - filtered_counts.sum()\n",
    "others_percentage = others_count / total_count\n",
    "\n",
    "# Add \"others\" to the filtered counts\n",
    "filtered_counts['others'] = others_count\n",
    "# Print the number of languages in the \"others\" category\n",
    "num_others_languages = len(filtered_counts) - 1\n",
    "print(f\"Number of languages in 'others': {num_others_languages}\")\n",
    "\n",
    "# Create a pie chart using plotly\n",
    "fig = go.Figure(data=[go.Pie(labels=filtered_counts.index, values=filtered_counts.values,\n",
    "                             hole=0.6,\n",
    "                             marker=dict(colors=['#2B4A9D','#008B8B', '#CD5C5C', '#CCCCCC']), \n",
    "                             textfont=dict(size=20))])\n",
    "\n",
    "# Customize the layout\n",
    "fig.update_layout(title='Language Distribution in Training Data',\n",
    "                  margin=dict(l=50, r=50, t=50, b=50),\n",
    "                  plot_bgcolor='white',\n",
    "                  paper_bgcolor='white',\n",
    "                  width=600,  # Update width\n",
    "                  height=600  # Update height\n",
    "                 )\n",
    "\n",
    "# Show the plot\n",
    "fig.show()\n"
   ]
  },
  {
   "cell_type": "code",
   "execution_count": 12,
   "id": "28920571",
   "metadata": {
    "execution": {
     "iopub.execute_input": "2023-06-03T10:21:58.949060Z",
     "iopub.status.busy": "2023-06-03T10:21:58.947935Z",
     "iopub.status.idle": "2023-06-03T10:21:58.976693Z",
     "shell.execute_reply": "2023-06-03T10:21:58.975548Z"
    },
    "papermill": {
     "duration": 0.064506,
     "end_time": "2023-06-03T10:21:58.979145",
     "exception": false,
     "start_time": "2023-06-03T10:21:58.914639",
     "status": "completed"
    },
    "tags": []
   },
   "outputs": [
    {
     "name": "stdout",
     "output_type": "stream",
     "text": [
      "Number of languages in 'others': 44\n"
     ]
    },
    {
     "data": {
      "text/html": [
       "<div>                            <div id=\"d97216f8-5bcb-4417-8fb1-278afa2c30f6\" class=\"plotly-graph-div\" style=\"height:600px; width:600px;\"></div>            <script type=\"text/javascript\">                require([\"plotly\"], function(Plotly) {                    window.PLOTLYENV=window.PLOTLYENV || {};                                    if (document.getElementById(\"d97216f8-5bcb-4417-8fb1-278afa2c30f6\")) {                    Plotly.newPlot(                        \"d97216f8-5bcb-4417-8fb1-278afa2c30f6\",                        [{\"hole\":0.6,\"labels\":[\"en\",\"it\",\"ru\",\"und\",\"others\"],\"marker\":{\"colors\":[\"#2B4A9D\",\"#008B8B\",\"#CD5C5C\",\"#CCCCCC\"]},\"textfont\":{\"size\":20},\"values\":[17803,1692,411,306,1788],\"type\":\"pie\"}],                        {\"template\":{\"data\":{\"histogram2dcontour\":[{\"type\":\"histogram2dcontour\",\"colorbar\":{\"outlinewidth\":0,\"ticks\":\"\"},\"colorscale\":[[0.0,\"#0d0887\"],[0.1111111111111111,\"#46039f\"],[0.2222222222222222,\"#7201a8\"],[0.3333333333333333,\"#9c179e\"],[0.4444444444444444,\"#bd3786\"],[0.5555555555555556,\"#d8576b\"],[0.6666666666666666,\"#ed7953\"],[0.7777777777777778,\"#fb9f3a\"],[0.8888888888888888,\"#fdca26\"],[1.0,\"#f0f921\"]]}],\"choropleth\":[{\"type\":\"choropleth\",\"colorbar\":{\"outlinewidth\":0,\"ticks\":\"\"}}],\"histogram2d\":[{\"type\":\"histogram2d\",\"colorbar\":{\"outlinewidth\":0,\"ticks\":\"\"},\"colorscale\":[[0.0,\"#0d0887\"],[0.1111111111111111,\"#46039f\"],[0.2222222222222222,\"#7201a8\"],[0.3333333333333333,\"#9c179e\"],[0.4444444444444444,\"#bd3786\"],[0.5555555555555556,\"#d8576b\"],[0.6666666666666666,\"#ed7953\"],[0.7777777777777778,\"#fb9f3a\"],[0.8888888888888888,\"#fdca26\"],[1.0,\"#f0f921\"]]}],\"heatmap\":[{\"type\":\"heatmap\",\"colorbar\":{\"outlinewidth\":0,\"ticks\":\"\"},\"colorscale\":[[0.0,\"#0d0887\"],[0.1111111111111111,\"#46039f\"],[0.2222222222222222,\"#7201a8\"],[0.3333333333333333,\"#9c179e\"],[0.4444444444444444,\"#bd3786\"],[0.5555555555555556,\"#d8576b\"],[0.6666666666666666,\"#ed7953\"],[0.7777777777777778,\"#fb9f3a\"],[0.8888888888888888,\"#fdca26\"],[1.0,\"#f0f921\"]]}],\"heatmapgl\":[{\"type\":\"heatmapgl\",\"colorbar\":{\"outlinewidth\":0,\"ticks\":\"\"},\"colorscale\":[[0.0,\"#0d0887\"],[0.1111111111111111,\"#46039f\"],[0.2222222222222222,\"#7201a8\"],[0.3333333333333333,\"#9c179e\"],[0.4444444444444444,\"#bd3786\"],[0.5555555555555556,\"#d8576b\"],[0.6666666666666666,\"#ed7953\"],[0.7777777777777778,\"#fb9f3a\"],[0.8888888888888888,\"#fdca26\"],[1.0,\"#f0f921\"]]}],\"contourcarpet\":[{\"type\":\"contourcarpet\",\"colorbar\":{\"outlinewidth\":0,\"ticks\":\"\"}}],\"contour\":[{\"type\":\"contour\",\"colorbar\":{\"outlinewidth\":0,\"ticks\":\"\"},\"colorscale\":[[0.0,\"#0d0887\"],[0.1111111111111111,\"#46039f\"],[0.2222222222222222,\"#7201a8\"],[0.3333333333333333,\"#9c179e\"],[0.4444444444444444,\"#bd3786\"],[0.5555555555555556,\"#d8576b\"],[0.6666666666666666,\"#ed7953\"],[0.7777777777777778,\"#fb9f3a\"],[0.8888888888888888,\"#fdca26\"],[1.0,\"#f0f921\"]]}],\"surface\":[{\"type\":\"surface\",\"colorbar\":{\"outlinewidth\":0,\"ticks\":\"\"},\"colorscale\":[[0.0,\"#0d0887\"],[0.1111111111111111,\"#46039f\"],[0.2222222222222222,\"#7201a8\"],[0.3333333333333333,\"#9c179e\"],[0.4444444444444444,\"#bd3786\"],[0.5555555555555556,\"#d8576b\"],[0.6666666666666666,\"#ed7953\"],[0.7777777777777778,\"#fb9f3a\"],[0.8888888888888888,\"#fdca26\"],[1.0,\"#f0f921\"]]}],\"mesh3d\":[{\"type\":\"mesh3d\",\"colorbar\":{\"outlinewidth\":0,\"ticks\":\"\"}}],\"scatter\":[{\"fillpattern\":{\"fillmode\":\"overlay\",\"size\":10,\"solidity\":0.2},\"type\":\"scatter\"}],\"parcoords\":[{\"type\":\"parcoords\",\"line\":{\"colorbar\":{\"outlinewidth\":0,\"ticks\":\"\"}}}],\"scatterpolargl\":[{\"type\":\"scatterpolargl\",\"marker\":{\"colorbar\":{\"outlinewidth\":0,\"ticks\":\"\"}}}],\"bar\":[{\"error_x\":{\"color\":\"#2a3f5f\"},\"error_y\":{\"color\":\"#2a3f5f\"},\"marker\":{\"line\":{\"color\":\"#E5ECF6\",\"width\":0.5},\"pattern\":{\"fillmode\":\"overlay\",\"size\":10,\"solidity\":0.2}},\"type\":\"bar\"}],\"scattergeo\":[{\"type\":\"scattergeo\",\"marker\":{\"colorbar\":{\"outlinewidth\":0,\"ticks\":\"\"}}}],\"scatterpolar\":[{\"type\":\"scatterpolar\",\"marker\":{\"colorbar\":{\"outlinewidth\":0,\"ticks\":\"\"}}}],\"histogram\":[{\"marker\":{\"pattern\":{\"fillmode\":\"overlay\",\"size\":10,\"solidity\":0.2}},\"type\":\"histogram\"}],\"scattergl\":[{\"type\":\"scattergl\",\"marker\":{\"colorbar\":{\"outlinewidth\":0,\"ticks\":\"\"}}}],\"scatter3d\":[{\"type\":\"scatter3d\",\"line\":{\"colorbar\":{\"outlinewidth\":0,\"ticks\":\"\"}},\"marker\":{\"colorbar\":{\"outlinewidth\":0,\"ticks\":\"\"}}}],\"scattermapbox\":[{\"type\":\"scattermapbox\",\"marker\":{\"colorbar\":{\"outlinewidth\":0,\"ticks\":\"\"}}}],\"scatterternary\":[{\"type\":\"scatterternary\",\"marker\":{\"colorbar\":{\"outlinewidth\":0,\"ticks\":\"\"}}}],\"scattercarpet\":[{\"type\":\"scattercarpet\",\"marker\":{\"colorbar\":{\"outlinewidth\":0,\"ticks\":\"\"}}}],\"carpet\":[{\"aaxis\":{\"endlinecolor\":\"#2a3f5f\",\"gridcolor\":\"white\",\"linecolor\":\"white\",\"minorgridcolor\":\"white\",\"startlinecolor\":\"#2a3f5f\"},\"baxis\":{\"endlinecolor\":\"#2a3f5f\",\"gridcolor\":\"white\",\"linecolor\":\"white\",\"minorgridcolor\":\"white\",\"startlinecolor\":\"#2a3f5f\"},\"type\":\"carpet\"}],\"table\":[{\"cells\":{\"fill\":{\"color\":\"#EBF0F8\"},\"line\":{\"color\":\"white\"}},\"header\":{\"fill\":{\"color\":\"#C8D4E3\"},\"line\":{\"color\":\"white\"}},\"type\":\"table\"}],\"barpolar\":[{\"marker\":{\"line\":{\"color\":\"#E5ECF6\",\"width\":0.5},\"pattern\":{\"fillmode\":\"overlay\",\"size\":10,\"solidity\":0.2}},\"type\":\"barpolar\"}],\"pie\":[{\"automargin\":true,\"type\":\"pie\"}]},\"layout\":{\"autotypenumbers\":\"strict\",\"colorway\":[\"#636efa\",\"#EF553B\",\"#00cc96\",\"#ab63fa\",\"#FFA15A\",\"#19d3f3\",\"#FF6692\",\"#B6E880\",\"#FF97FF\",\"#FECB52\"],\"font\":{\"color\":\"#2a3f5f\"},\"hovermode\":\"closest\",\"hoverlabel\":{\"align\":\"left\"},\"paper_bgcolor\":\"white\",\"plot_bgcolor\":\"#E5ECF6\",\"polar\":{\"bgcolor\":\"#E5ECF6\",\"angularaxis\":{\"gridcolor\":\"white\",\"linecolor\":\"white\",\"ticks\":\"\"},\"radialaxis\":{\"gridcolor\":\"white\",\"linecolor\":\"white\",\"ticks\":\"\"}},\"ternary\":{\"bgcolor\":\"#E5ECF6\",\"aaxis\":{\"gridcolor\":\"white\",\"linecolor\":\"white\",\"ticks\":\"\"},\"baxis\":{\"gridcolor\":\"white\",\"linecolor\":\"white\",\"ticks\":\"\"},\"caxis\":{\"gridcolor\":\"white\",\"linecolor\":\"white\",\"ticks\":\"\"}},\"coloraxis\":{\"colorbar\":{\"outlinewidth\":0,\"ticks\":\"\"}},\"colorscale\":{\"sequential\":[[0.0,\"#0d0887\"],[0.1111111111111111,\"#46039f\"],[0.2222222222222222,\"#7201a8\"],[0.3333333333333333,\"#9c179e\"],[0.4444444444444444,\"#bd3786\"],[0.5555555555555556,\"#d8576b\"],[0.6666666666666666,\"#ed7953\"],[0.7777777777777778,\"#fb9f3a\"],[0.8888888888888888,\"#fdca26\"],[1.0,\"#f0f921\"]],\"sequentialminus\":[[0.0,\"#0d0887\"],[0.1111111111111111,\"#46039f\"],[0.2222222222222222,\"#7201a8\"],[0.3333333333333333,\"#9c179e\"],[0.4444444444444444,\"#bd3786\"],[0.5555555555555556,\"#d8576b\"],[0.6666666666666666,\"#ed7953\"],[0.7777777777777778,\"#fb9f3a\"],[0.8888888888888888,\"#fdca26\"],[1.0,\"#f0f921\"]],\"diverging\":[[0,\"#8e0152\"],[0.1,\"#c51b7d\"],[0.2,\"#de77ae\"],[0.3,\"#f1b6da\"],[0.4,\"#fde0ef\"],[0.5,\"#f7f7f7\"],[0.6,\"#e6f5d0\"],[0.7,\"#b8e186\"],[0.8,\"#7fbc41\"],[0.9,\"#4d9221\"],[1,\"#276419\"]]},\"xaxis\":{\"gridcolor\":\"white\",\"linecolor\":\"white\",\"ticks\":\"\",\"title\":{\"standoff\":15},\"zerolinecolor\":\"white\",\"automargin\":true,\"zerolinewidth\":2},\"yaxis\":{\"gridcolor\":\"white\",\"linecolor\":\"white\",\"ticks\":\"\",\"title\":{\"standoff\":15},\"zerolinecolor\":\"white\",\"automargin\":true,\"zerolinewidth\":2},\"scene\":{\"xaxis\":{\"backgroundcolor\":\"#E5ECF6\",\"gridcolor\":\"white\",\"linecolor\":\"white\",\"showbackground\":true,\"ticks\":\"\",\"zerolinecolor\":\"white\",\"gridwidth\":2},\"yaxis\":{\"backgroundcolor\":\"#E5ECF6\",\"gridcolor\":\"white\",\"linecolor\":\"white\",\"showbackground\":true,\"ticks\":\"\",\"zerolinecolor\":\"white\",\"gridwidth\":2},\"zaxis\":{\"backgroundcolor\":\"#E5ECF6\",\"gridcolor\":\"white\",\"linecolor\":\"white\",\"showbackground\":true,\"ticks\":\"\",\"zerolinecolor\":\"white\",\"gridwidth\":2}},\"shapedefaults\":{\"line\":{\"color\":\"#2a3f5f\"}},\"annotationdefaults\":{\"arrowcolor\":\"#2a3f5f\",\"arrowhead\":0,\"arrowwidth\":1},\"geo\":{\"bgcolor\":\"white\",\"landcolor\":\"#E5ECF6\",\"subunitcolor\":\"white\",\"showland\":true,\"showlakes\":true,\"lakecolor\":\"white\"},\"title\":{\"x\":0.05},\"mapbox\":{\"style\":\"light\"}}},\"margin\":{\"l\":50,\"r\":50,\"t\":50,\"b\":50},\"title\":{\"text\":\"Language Distribution in Training Data\"},\"plot_bgcolor\":\"white\",\"paper_bgcolor\":\"white\",\"width\":600,\"height\":600},                        {\"responsive\": true}                    ).then(function(){\n",
       "                            \n",
       "var gd = document.getElementById('d97216f8-5bcb-4417-8fb1-278afa2c30f6');\n",
       "var x = new MutationObserver(function (mutations, observer) {{\n",
       "        var display = window.getComputedStyle(gd).display;\n",
       "        if (!display || display === 'none') {{\n",
       "            console.log([gd, 'removed!']);\n",
       "            Plotly.purge(gd);\n",
       "            observer.disconnect();\n",
       "        }}\n",
       "}});\n",
       "\n",
       "// Listen for the removal of the full notebook cells\n",
       "var notebookContainer = gd.closest('#notebook-container');\n",
       "if (notebookContainer) {{\n",
       "    x.observe(notebookContainer, {childList: true});\n",
       "}}\n",
       "\n",
       "// Listen for the clearing of the current output cell\n",
       "var outputEl = gd.closest('.output');\n",
       "if (outputEl) {{\n",
       "    x.observe(outputEl, {childList: true});\n",
       "}}\n",
       "\n",
       "                        })                };                });            </script>        </div>"
      ]
     },
     "metadata": {},
     "output_type": "display_data"
    }
   ],
   "source": [
    "import plotly.graph_objs as go\n",
    "from collections import Counter\n",
    "\n",
    "# Compute value counts for the label column\n",
    "counts = data['lang'].value_counts()\n",
    "\n",
    "# Calculate the total count of languages\n",
    "total_count = counts.sum()\n",
    "\n",
    "# Filter out languages with percentage less than 4%\n",
    "filtered_counts = counts[counts/total_count >= 0.011]\n",
    "\n",
    "# Calculate the count and percentage of the \"others\" category\n",
    "others_count = total_count - filtered_counts.sum()\n",
    "others_percentage = others_count / total_count\n",
    "\n",
    "# Add \"others\" to the filtered counts\n",
    "filtered_counts['others'] = others_count\n",
    "\n",
    "# Print the number of languages in the \"others\" category\n",
    "num_others_languages = len(counts) - len(filtered_counts)\n",
    "print(f\"Number of languages in 'others': {num_others_languages}\")\n",
    "\n",
    "# Create a pie chart using plotly\n",
    "fig = go.Figure(data=[go.Pie(labels=filtered_counts.index, values=filtered_counts.values,\n",
    "                             hole=0.6,\n",
    "                             marker=dict(colors=['#2B4A9D','#008B8B', '#CD5C5C', '#CCCCCC']),\n",
    "                             textfont=dict(size=20))])\n",
    "\n",
    "# Customize the layout\n",
    "fig.update_layout(title='Language Distribution in Training Data',\n",
    "                  margin=dict(l=50, r=50, t=50, b=50),\n",
    "                  plot_bgcolor='white',\n",
    "                  paper_bgcolor='white',\n",
    "                  width=600,  # Update width\n",
    "                  height=600)  # Update height)\n",
    "\n",
    "# Show the plot\n",
    "fig.show()\n"
   ]
  },
  {
   "cell_type": "code",
   "execution_count": 13,
   "id": "7ce21239",
   "metadata": {
    "execution": {
     "iopub.execute_input": "2023-06-03T10:21:59.047570Z",
     "iopub.status.busy": "2023-06-03T10:21:59.045747Z",
     "iopub.status.idle": "2023-06-03T10:21:59.074204Z",
     "shell.execute_reply": "2023-06-03T10:21:59.073090Z"
    },
    "papermill": {
     "duration": 0.064746,
     "end_time": "2023-06-03T10:21:59.076811",
     "exception": false,
     "start_time": "2023-06-03T10:21:59.012065",
     "status": "completed"
    },
    "tags": []
   },
   "outputs": [
    {
     "name": "stdout",
     "output_type": "stream",
     "text": [
      "Number of languages in 'others': 4\n"
     ]
    },
    {
     "data": {
      "text/html": [
       "<div>                            <div id=\"f5dc7ab5-390e-4363-a071-e7862305b290\" class=\"plotly-graph-div\" style=\"height:600px; width:600px;\"></div>            <script type=\"text/javascript\">                require([\"plotly\"], function(Plotly) {                    window.PLOTLYENV=window.PLOTLYENV || {};                                    if (document.getElementById(\"f5dc7ab5-390e-4363-a071-e7862305b290\")) {                    Plotly.newPlot(                        \"f5dc7ab5-390e-4363-a071-e7862305b290\",                        [{\"hole\":0.6,\"labels\":[\"en\",\"it\",\"fr\",\"others\"],\"marker\":{\"colors\":[\"#2B4A9D\",\"#008B8B\",\"#CD5C5C\",\"#CCCCCC\"]},\"textfont\":{\"size\":20},\"values\":[206,7,4,6],\"type\":\"pie\"}],                        {\"template\":{\"data\":{\"histogram2dcontour\":[{\"type\":\"histogram2dcontour\",\"colorbar\":{\"outlinewidth\":0,\"ticks\":\"\"},\"colorscale\":[[0.0,\"#0d0887\"],[0.1111111111111111,\"#46039f\"],[0.2222222222222222,\"#7201a8\"],[0.3333333333333333,\"#9c179e\"],[0.4444444444444444,\"#bd3786\"],[0.5555555555555556,\"#d8576b\"],[0.6666666666666666,\"#ed7953\"],[0.7777777777777778,\"#fb9f3a\"],[0.8888888888888888,\"#fdca26\"],[1.0,\"#f0f921\"]]}],\"choropleth\":[{\"type\":\"choropleth\",\"colorbar\":{\"outlinewidth\":0,\"ticks\":\"\"}}],\"histogram2d\":[{\"type\":\"histogram2d\",\"colorbar\":{\"outlinewidth\":0,\"ticks\":\"\"},\"colorscale\":[[0.0,\"#0d0887\"],[0.1111111111111111,\"#46039f\"],[0.2222222222222222,\"#7201a8\"],[0.3333333333333333,\"#9c179e\"],[0.4444444444444444,\"#bd3786\"],[0.5555555555555556,\"#d8576b\"],[0.6666666666666666,\"#ed7953\"],[0.7777777777777778,\"#fb9f3a\"],[0.8888888888888888,\"#fdca26\"],[1.0,\"#f0f921\"]]}],\"heatmap\":[{\"type\":\"heatmap\",\"colorbar\":{\"outlinewidth\":0,\"ticks\":\"\"},\"colorscale\":[[0.0,\"#0d0887\"],[0.1111111111111111,\"#46039f\"],[0.2222222222222222,\"#7201a8\"],[0.3333333333333333,\"#9c179e\"],[0.4444444444444444,\"#bd3786\"],[0.5555555555555556,\"#d8576b\"],[0.6666666666666666,\"#ed7953\"],[0.7777777777777778,\"#fb9f3a\"],[0.8888888888888888,\"#fdca26\"],[1.0,\"#f0f921\"]]}],\"heatmapgl\":[{\"type\":\"heatmapgl\",\"colorbar\":{\"outlinewidth\":0,\"ticks\":\"\"},\"colorscale\":[[0.0,\"#0d0887\"],[0.1111111111111111,\"#46039f\"],[0.2222222222222222,\"#7201a8\"],[0.3333333333333333,\"#9c179e\"],[0.4444444444444444,\"#bd3786\"],[0.5555555555555556,\"#d8576b\"],[0.6666666666666666,\"#ed7953\"],[0.7777777777777778,\"#fb9f3a\"],[0.8888888888888888,\"#fdca26\"],[1.0,\"#f0f921\"]]}],\"contourcarpet\":[{\"type\":\"contourcarpet\",\"colorbar\":{\"outlinewidth\":0,\"ticks\":\"\"}}],\"contour\":[{\"type\":\"contour\",\"colorbar\":{\"outlinewidth\":0,\"ticks\":\"\"},\"colorscale\":[[0.0,\"#0d0887\"],[0.1111111111111111,\"#46039f\"],[0.2222222222222222,\"#7201a8\"],[0.3333333333333333,\"#9c179e\"],[0.4444444444444444,\"#bd3786\"],[0.5555555555555556,\"#d8576b\"],[0.6666666666666666,\"#ed7953\"],[0.7777777777777778,\"#fb9f3a\"],[0.8888888888888888,\"#fdca26\"],[1.0,\"#f0f921\"]]}],\"surface\":[{\"type\":\"surface\",\"colorbar\":{\"outlinewidth\":0,\"ticks\":\"\"},\"colorscale\":[[0.0,\"#0d0887\"],[0.1111111111111111,\"#46039f\"],[0.2222222222222222,\"#7201a8\"],[0.3333333333333333,\"#9c179e\"],[0.4444444444444444,\"#bd3786\"],[0.5555555555555556,\"#d8576b\"],[0.6666666666666666,\"#ed7953\"],[0.7777777777777778,\"#fb9f3a\"],[0.8888888888888888,\"#fdca26\"],[1.0,\"#f0f921\"]]}],\"mesh3d\":[{\"type\":\"mesh3d\",\"colorbar\":{\"outlinewidth\":0,\"ticks\":\"\"}}],\"scatter\":[{\"fillpattern\":{\"fillmode\":\"overlay\",\"size\":10,\"solidity\":0.2},\"type\":\"scatter\"}],\"parcoords\":[{\"type\":\"parcoords\",\"line\":{\"colorbar\":{\"outlinewidth\":0,\"ticks\":\"\"}}}],\"scatterpolargl\":[{\"type\":\"scatterpolargl\",\"marker\":{\"colorbar\":{\"outlinewidth\":0,\"ticks\":\"\"}}}],\"bar\":[{\"error_x\":{\"color\":\"#2a3f5f\"},\"error_y\":{\"color\":\"#2a3f5f\"},\"marker\":{\"line\":{\"color\":\"#E5ECF6\",\"width\":0.5},\"pattern\":{\"fillmode\":\"overlay\",\"size\":10,\"solidity\":0.2}},\"type\":\"bar\"}],\"scattergeo\":[{\"type\":\"scattergeo\",\"marker\":{\"colorbar\":{\"outlinewidth\":0,\"ticks\":\"\"}}}],\"scatterpolar\":[{\"type\":\"scatterpolar\",\"marker\":{\"colorbar\":{\"outlinewidth\":0,\"ticks\":\"\"}}}],\"histogram\":[{\"marker\":{\"pattern\":{\"fillmode\":\"overlay\",\"size\":10,\"solidity\":0.2}},\"type\":\"histogram\"}],\"scattergl\":[{\"type\":\"scattergl\",\"marker\":{\"colorbar\":{\"outlinewidth\":0,\"ticks\":\"\"}}}],\"scatter3d\":[{\"type\":\"scatter3d\",\"line\":{\"colorbar\":{\"outlinewidth\":0,\"ticks\":\"\"}},\"marker\":{\"colorbar\":{\"outlinewidth\":0,\"ticks\":\"\"}}}],\"scattermapbox\":[{\"type\":\"scattermapbox\",\"marker\":{\"colorbar\":{\"outlinewidth\":0,\"ticks\":\"\"}}}],\"scatterternary\":[{\"type\":\"scatterternary\",\"marker\":{\"colorbar\":{\"outlinewidth\":0,\"ticks\":\"\"}}}],\"scattercarpet\":[{\"type\":\"scattercarpet\",\"marker\":{\"colorbar\":{\"outlinewidth\":0,\"ticks\":\"\"}}}],\"carpet\":[{\"aaxis\":{\"endlinecolor\":\"#2a3f5f\",\"gridcolor\":\"white\",\"linecolor\":\"white\",\"minorgridcolor\":\"white\",\"startlinecolor\":\"#2a3f5f\"},\"baxis\":{\"endlinecolor\":\"#2a3f5f\",\"gridcolor\":\"white\",\"linecolor\":\"white\",\"minorgridcolor\":\"white\",\"startlinecolor\":\"#2a3f5f\"},\"type\":\"carpet\"}],\"table\":[{\"cells\":{\"fill\":{\"color\":\"#EBF0F8\"},\"line\":{\"color\":\"white\"}},\"header\":{\"fill\":{\"color\":\"#C8D4E3\"},\"line\":{\"color\":\"white\"}},\"type\":\"table\"}],\"barpolar\":[{\"marker\":{\"line\":{\"color\":\"#E5ECF6\",\"width\":0.5},\"pattern\":{\"fillmode\":\"overlay\",\"size\":10,\"solidity\":0.2}},\"type\":\"barpolar\"}],\"pie\":[{\"automargin\":true,\"type\":\"pie\"}]},\"layout\":{\"autotypenumbers\":\"strict\",\"colorway\":[\"#636efa\",\"#EF553B\",\"#00cc96\",\"#ab63fa\",\"#FFA15A\",\"#19d3f3\",\"#FF6692\",\"#B6E880\",\"#FF97FF\",\"#FECB52\"],\"font\":{\"color\":\"#2a3f5f\"},\"hovermode\":\"closest\",\"hoverlabel\":{\"align\":\"left\"},\"paper_bgcolor\":\"white\",\"plot_bgcolor\":\"#E5ECF6\",\"polar\":{\"bgcolor\":\"#E5ECF6\",\"angularaxis\":{\"gridcolor\":\"white\",\"linecolor\":\"white\",\"ticks\":\"\"},\"radialaxis\":{\"gridcolor\":\"white\",\"linecolor\":\"white\",\"ticks\":\"\"}},\"ternary\":{\"bgcolor\":\"#E5ECF6\",\"aaxis\":{\"gridcolor\":\"white\",\"linecolor\":\"white\",\"ticks\":\"\"},\"baxis\":{\"gridcolor\":\"white\",\"linecolor\":\"white\",\"ticks\":\"\"},\"caxis\":{\"gridcolor\":\"white\",\"linecolor\":\"white\",\"ticks\":\"\"}},\"coloraxis\":{\"colorbar\":{\"outlinewidth\":0,\"ticks\":\"\"}},\"colorscale\":{\"sequential\":[[0.0,\"#0d0887\"],[0.1111111111111111,\"#46039f\"],[0.2222222222222222,\"#7201a8\"],[0.3333333333333333,\"#9c179e\"],[0.4444444444444444,\"#bd3786\"],[0.5555555555555556,\"#d8576b\"],[0.6666666666666666,\"#ed7953\"],[0.7777777777777778,\"#fb9f3a\"],[0.8888888888888888,\"#fdca26\"],[1.0,\"#f0f921\"]],\"sequentialminus\":[[0.0,\"#0d0887\"],[0.1111111111111111,\"#46039f\"],[0.2222222222222222,\"#7201a8\"],[0.3333333333333333,\"#9c179e\"],[0.4444444444444444,\"#bd3786\"],[0.5555555555555556,\"#d8576b\"],[0.6666666666666666,\"#ed7953\"],[0.7777777777777778,\"#fb9f3a\"],[0.8888888888888888,\"#fdca26\"],[1.0,\"#f0f921\"]],\"diverging\":[[0,\"#8e0152\"],[0.1,\"#c51b7d\"],[0.2,\"#de77ae\"],[0.3,\"#f1b6da\"],[0.4,\"#fde0ef\"],[0.5,\"#f7f7f7\"],[0.6,\"#e6f5d0\"],[0.7,\"#b8e186\"],[0.8,\"#7fbc41\"],[0.9,\"#4d9221\"],[1,\"#276419\"]]},\"xaxis\":{\"gridcolor\":\"white\",\"linecolor\":\"white\",\"ticks\":\"\",\"title\":{\"standoff\":15},\"zerolinecolor\":\"white\",\"automargin\":true,\"zerolinewidth\":2},\"yaxis\":{\"gridcolor\":\"white\",\"linecolor\":\"white\",\"ticks\":\"\",\"title\":{\"standoff\":15},\"zerolinecolor\":\"white\",\"automargin\":true,\"zerolinewidth\":2},\"scene\":{\"xaxis\":{\"backgroundcolor\":\"#E5ECF6\",\"gridcolor\":\"white\",\"linecolor\":\"white\",\"showbackground\":true,\"ticks\":\"\",\"zerolinecolor\":\"white\",\"gridwidth\":2},\"yaxis\":{\"backgroundcolor\":\"#E5ECF6\",\"gridcolor\":\"white\",\"linecolor\":\"white\",\"showbackground\":true,\"ticks\":\"\",\"zerolinecolor\":\"white\",\"gridwidth\":2},\"zaxis\":{\"backgroundcolor\":\"#E5ECF6\",\"gridcolor\":\"white\",\"linecolor\":\"white\",\"showbackground\":true,\"ticks\":\"\",\"zerolinecolor\":\"white\",\"gridwidth\":2}},\"shapedefaults\":{\"line\":{\"color\":\"#2a3f5f\"}},\"annotationdefaults\":{\"arrowcolor\":\"#2a3f5f\",\"arrowhead\":0,\"arrowwidth\":1},\"geo\":{\"bgcolor\":\"white\",\"landcolor\":\"#E5ECF6\",\"subunitcolor\":\"white\",\"showland\":true,\"showlakes\":true,\"lakecolor\":\"white\"},\"title\":{\"x\":0.05},\"mapbox\":{\"style\":\"light\"}}},\"margin\":{\"l\":50,\"r\":50,\"t\":50,\"b\":50},\"title\":{\"text\":\"Language Distribution in Test Data\"},\"plot_bgcolor\":\"white\",\"paper_bgcolor\":\"white\",\"width\":600,\"height\":600},                        {\"responsive\": true}                    ).then(function(){\n",
       "                            \n",
       "var gd = document.getElementById('f5dc7ab5-390e-4363-a071-e7862305b290');\n",
       "var x = new MutationObserver(function (mutations, observer) {{\n",
       "        var display = window.getComputedStyle(gd).display;\n",
       "        if (!display || display === 'none') {{\n",
       "            console.log([gd, 'removed!']);\n",
       "            Plotly.purge(gd);\n",
       "            observer.disconnect();\n",
       "        }}\n",
       "}});\n",
       "\n",
       "// Listen for the removal of the full notebook cells\n",
       "var notebookContainer = gd.closest('#notebook-container');\n",
       "if (notebookContainer) {{\n",
       "    x.observe(notebookContainer, {childList: true});\n",
       "}}\n",
       "\n",
       "// Listen for the clearing of the current output cell\n",
       "var outputEl = gd.closest('.output');\n",
       "if (outputEl) {{\n",
       "    x.observe(outputEl, {childList: true});\n",
       "}}\n",
       "\n",
       "                        })                };                });            </script>        </div>"
      ]
     },
     "metadata": {},
     "output_type": "display_data"
    }
   ],
   "source": [
    "import plotly.graph_objs as go\n",
    "from collections import Counter\n",
    "\n",
    "# Compute value counts for the label column\n",
    "counts = test5['lang'].value_counts()\n",
    "\n",
    "# Calculate the total count of languages\n",
    "total_count = counts.sum()\n",
    "\n",
    "# Filter out languages with percentage less than 4%\n",
    "filtered_counts = counts[counts/total_count >= 0.0099]\n",
    "\n",
    "# Calculate the count and percentage of the \"others\" category\n",
    "others_count = total_count - filtered_counts.sum()\n",
    "others_percentage = others_count / total_count\n",
    "\n",
    "# Add \"others\" to the filtered counts\n",
    "filtered_counts['others'] = others_count\n",
    "\n",
    "# Print the number of languages in the \"others\" category\n",
    "num_others_languages = len(counts) - len(filtered_counts)\n",
    "print(f\"Number of languages in 'others': {num_others_languages}\")\n",
    "\n",
    "# Create a pie chart using plotly\n",
    "fig = go.Figure(data=[go.Pie(labels=filtered_counts.index, values=filtered_counts.values,\n",
    "                             hole=0.6,\n",
    "                             marker=dict(colors=['#2B4A9D','#008B8B', '#CD5C5C', '#CCCCCC']),\n",
    "                             textfont=dict(size=20))])\n",
    "\n",
    "# Customize the layout\n",
    "fig.update_layout(title='Language Distribution in Test Data',\n",
    "                  margin=dict(l=50, r=50, t=50, b=50),\n",
    "                  plot_bgcolor='white',\n",
    "                  paper_bgcolor='white',\n",
    "                  width=600,  # Update width\n",
    "                  height=600  )\n",
    "\n",
    "# Show the plot\n",
    "fig.show()\n"
   ]
  },
  {
   "cell_type": "code",
   "execution_count": 14,
   "id": "c5706728",
   "metadata": {
    "execution": {
     "iopub.execute_input": "2023-06-03T10:21:59.139726Z",
     "iopub.status.busy": "2023-06-03T10:21:59.139096Z",
     "iopub.status.idle": "2023-06-03T10:21:59.143943Z",
     "shell.execute_reply": "2023-06-03T10:21:59.142955Z"
    },
    "papermill": {
     "duration": 0.03725,
     "end_time": "2023-06-03T10:21:59.146184",
     "exception": false,
     "start_time": "2023-06-03T10:21:59.108934",
     "status": "completed"
    },
    "tags": []
   },
   "outputs": [],
   "source": [
    "# seed initialization\n",
    "seed = 42\n",
    "np.random.seed(seed)\n",
    "tf.random.set_seed(seed)"
   ]
  },
  {
   "cell_type": "markdown",
   "id": "d64948d4",
   "metadata": {
    "papermill": {
     "duration": 0.029392,
     "end_time": "2023-06-03T10:21:59.205440",
     "exception": false,
     "start_time": "2023-06-03T10:21:59.176048",
     "status": "completed"
    },
    "tags": []
   },
   "source": [
    "> LASER"
   ]
  },
  {
   "cell_type": "code",
   "execution_count": 15,
   "id": "2ae17ec5",
   "metadata": {
    "execution": {
     "iopub.execute_input": "2023-06-03T10:21:59.267514Z",
     "iopub.status.busy": "2023-06-03T10:21:59.265995Z",
     "iopub.status.idle": "2023-06-03T10:22:32.094193Z",
     "shell.execute_reply": "2023-06-03T10:22:32.092883Z"
    },
    "papermill": {
     "duration": 32.861607,
     "end_time": "2023-06-03T10:22:32.097173",
     "exception": false,
     "start_time": "2023-06-03T10:21:59.235566",
     "status": "completed"
    },
    "tags": []
   },
   "outputs": [
    {
     "name": "stdout",
     "output_type": "stream",
     "text": [
      "\u001b[33mWARNING: Running pip as the 'root' user can result in broken permissions and conflicting behaviour with the system package manager. It is recommended to use a virtual environment instead: https://pip.pypa.io/warnings/venv\u001b[0m\u001b[33m\r\n",
      "\u001b[0m\u001b[33mWARNING: Running pip as the 'root' user can result in broken permissions and conflicting behaviour with the system package manager. It is recommended to use a virtual environment instead: https://pip.pypa.io/warnings/venv\u001b[0m\u001b[33m\r\n",
      "\u001b[0m"
     ]
    }
   ],
   "source": [
    "!pip install -q laserembeddings laserembeddings[zh] laserembeddings[ja]\n",
    "!pip install -q ftfy"
   ]
  },
  {
   "cell_type": "code",
   "execution_count": 16,
   "id": "ce04d732",
   "metadata": {
    "execution": {
     "iopub.execute_input": "2023-06-03T10:22:32.158093Z",
     "iopub.status.busy": "2023-06-03T10:22:32.157731Z",
     "iopub.status.idle": "2023-06-03T10:22:46.818604Z",
     "shell.execute_reply": "2023-06-03T10:22:46.817462Z"
    },
    "papermill": {
     "duration": 14.694088,
     "end_time": "2023-06-03T10:22:46.821360",
     "exception": false,
     "start_time": "2023-06-03T10:22:32.127272",
     "status": "completed"
    },
    "tags": []
   },
   "outputs": [
    {
     "name": "stdout",
     "output_type": "stream",
     "text": [
      "Collecting fastcache\r\n",
      "  Downloading fastcache-1.1.0.tar.gz (20 kB)\r\n",
      "  Preparing metadata (setup.py) ... \u001b[?25l-\b \bdone\r\n",
      "\u001b[?25hBuilding wheels for collected packages: fastcache\r\n",
      "  Building wheel for fastcache (setup.py) ... \u001b[?25l-\b \b\\\b \b|\b \bdone\r\n",
      "\u001b[?25h  Created wheel for fastcache: filename=fastcache-1.1.0-cp37-cp37m-linux_x86_64.whl size=46647 sha256=c2a38d72cc777839532f9b6330be1c073763ec599584e50742b5886dd7a0a4d7\r\n",
      "  Stored in directory: /root/.cache/pip/wheels/ed/3a/69/4ac4d0d090ee49ab41ce5369f57f8f219f82b541de50a80ea9\r\n",
      "Successfully built fastcache\r\n",
      "Installing collected packages: fastcache\r\n",
      "Successfully installed fastcache-1.1.0\r\n",
      "\u001b[33mWARNING: Running pip as the 'root' user can result in broken permissions and conflicting behaviour with the system package manager. It is recommended to use a virtual environment instead: https://pip.pypa.io/warnings/venv\u001b[0m\u001b[33m\r\n",
      "\u001b[0m"
     ]
    }
   ],
   "source": [
    "!pip install fastcache\n",
    "# import fasttext\n",
    "import ftfy\n",
    "import html\n",
    "import laserembeddings\n",
    "import sys\n",
    "\n",
    "from fastcache import clru_cache\n",
    "from laserembeddings import Laser\n",
    "from typing import List, Union\n",
    "from urllib.parse import unquote"
   ]
  },
  {
   "cell_type": "markdown",
   "id": "05ff1b03",
   "metadata": {
    "papermill": {
     "duration": 0.029833,
     "end_time": "2023-06-03T10:22:46.881951",
     "exception": false,
     "start_time": "2023-06-03T10:22:46.852118",
     "status": "completed"
    },
    "tags": []
   },
   "source": [
    "LASER Embeddings This encodes each of the strings as a LASER embedding (1024 dimentional vector)"
   ]
  },
  {
   "cell_type": "code",
   "execution_count": 17,
   "id": "ac3f2780",
   "metadata": {
    "execution": {
     "iopub.execute_input": "2023-06-03T10:22:46.948199Z",
     "iopub.status.busy": "2023-06-03T10:22:46.947094Z",
     "iopub.status.idle": "2023-06-03T10:22:48.889897Z",
     "shell.execute_reply": "2023-06-03T10:22:48.888291Z"
    },
    "papermill": {
     "duration": 1.979407,
     "end_time": "2023-06-03T10:22:48.893165",
     "exception": false,
     "start_time": "2023-06-03T10:22:46.913758",
     "status": "completed"
    },
    "tags": []
   },
   "outputs": [],
   "source": [
    "%%bash\n",
    "# DOCS: https://github.com/facebookresearch/LASER/blob/master/install_models.sh\n",
    "mkdir -p models/laser/\n",
    "# for FILE in bilstm.eparl21.2018-11-19.pt eparl21.fcodes eparl21.fvocab bilstm.93langs.2018-12-26.pt 93langs.fcodes 93langs.fvocab; do\n",
    "for FILE in bilstm.93langs.2018-12-26.pt 93langs.fcodes 93langs.fvocab; do\n",
    "    wget -cq https://dl.fbaipublicfiles.com/laser/models/$FILE -O models/laser/$FILE\n",
    "done"
   ]
  },
  {
   "cell_type": "code",
   "execution_count": 18,
   "id": "c53a2ca4",
   "metadata": {
    "execution": {
     "iopub.execute_input": "2023-06-03T10:22:48.963930Z",
     "iopub.status.busy": "2023-06-03T10:22:48.962866Z",
     "iopub.status.idle": "2023-06-03T10:23:00.957032Z",
     "shell.execute_reply": "2023-06-03T10:23:00.955708Z"
    },
    "papermill": {
     "duration": 12.031838,
     "end_time": "2023-06-03T10:23:00.959826",
     "exception": false,
     "start_time": "2023-06-03T10:22:48.927988",
     "status": "completed"
    },
    "tags": []
   },
   "outputs": [
    {
     "name": "stdout",
     "output_type": "stream",
     "text": [
      "Collecting config\r\n",
      "  Downloading config-0.5.1-py2.py3-none-any.whl (20 kB)\r\n",
      "Installing collected packages: config\r\n",
      "Successfully installed config-0.5.1\r\n",
      "\u001b[33mWARNING: Running pip as the 'root' user can result in broken permissions and conflicting behaviour with the system package manager. It is recommended to use a virtual environment instead: https://pip.pypa.io/warnings/venv\u001b[0m\u001b[33m\r\n",
      "\u001b[0m"
     ]
    }
   ],
   "source": [
    "!pip install config\n",
    "#from src.utils.fasttest_model import language_detect\n",
    "# from src.utils.punkt_tokenizer import punkt_tokenize_sentences\n",
    "\n",
    "config = {\n",
    "    \"laser\": {\n",
    "        \"base_dir\":  \"./models/laser\",\n",
    "        \"bpe_codes\": \"./models/laser/93langs.fcodes\",\n",
    "        \"bpe_vocab\": \"./models/laser/93langs.fvocab\",\n",
    "        \"encoder\":   \"./models/laser/bilstm.93langs.2018-12-26.pt\",\n",
    "    }\n",
    "}"
   ]
  },
  {
   "cell_type": "code",
   "execution_count": 19,
   "id": "0ef56c8c",
   "metadata": {
    "execution": {
     "iopub.execute_input": "2023-06-03T10:23:01.025417Z",
     "iopub.status.busy": "2023-06-03T10:23:01.024337Z",
     "iopub.status.idle": "2023-06-03T10:23:01.034995Z",
     "shell.execute_reply": "2023-06-03T10:23:01.034080Z"
    },
    "papermill": {
     "duration": 0.045509,
     "end_time": "2023-06-03T10:23:01.037121",
     "exception": false,
     "start_time": "2023-06-03T10:23:00.991612",
     "status": "completed"
    },
    "tags": []
   },
   "outputs": [],
   "source": [
    "# Instantiate encoder\n",
    "# BUG: CUDA GPU memory is exceeded if both laser and labse are loaded together \n",
    "# @clru_cache(None)\n",
    "def get_laser_model():\n",
    "    laser_model = Laser(\n",
    "        bpe_codes = config['laser']['bpe_codes'],\n",
    "        bpe_vocab = config['laser']['bpe_vocab'],\n",
    "        encoder   = config['laser']['encoder'],\n",
    "        tokenizer_options = None,\n",
    "        embedding_options = None\n",
    "    )\n",
    "    return laser_model\n",
    "\n",
    "def laser_encode(text: Union[str, List[str]], lang='autodetect', normalize=True) -> np.ndarray:\n",
    "    \"\"\"\n",
    "    Encodes a corpus of text using LASER\n",
    "    :param text: Large block of text (will be tokenized), or list of pre-tokenized sentences\n",
    "    :param lang: 2 digit language code (optional autodetect)\n",
    "    :return:     embedding matrix\n",
    "    \"\"\"\n",
    "    laser_model = get_laser_model()\n",
    "    \n",
    "    if isinstance(text, str):\n",
    "        # sentences = punkt_tokenize_sentences(text, lang=lang)\n",
    "        sentences = ['text']\n",
    "\n",
    "    else:\n",
    "        sentences = list(text)\n",
    "\n",
    "    embedding = laser_model.embed_sentences(sentences, lang=lang)\n",
    "    \n",
    "    if normalize:\n",
    "        embedding = embedding / np.sqrt(np.sum(embedding**2, axis=1)).reshape(-1,1)\n",
    "        \n",
    "    return embedding"
   ]
  },
  {
   "cell_type": "code",
   "execution_count": 20,
   "id": "ca308cd0",
   "metadata": {
    "execution": {
     "iopub.execute_input": "2023-06-03T10:23:01.105243Z",
     "iopub.status.busy": "2023-06-03T10:23:01.104388Z",
     "iopub.status.idle": "2023-06-03T10:23:01.109992Z",
     "shell.execute_reply": "2023-06-03T10:23:01.108905Z"
    },
    "papermill": {
     "duration": 0.04279,
     "end_time": "2023-06-03T10:23:01.112671",
     "exception": false,
     "start_time": "2023-06-03T10:23:01.069881",
     "status": "completed"
    },
    "tags": []
   },
   "outputs": [],
   "source": [
    "from sklearn.preprocessing import LabelBinarizer\n",
    "from sklearn.model_selection import train_test_split\n",
    "lb = LabelBinarizer()"
   ]
  },
  {
   "cell_type": "markdown",
   "id": "0b8a5fdd",
   "metadata": {
    "papermill": {
     "duration": 0.041833,
     "end_time": "2023-06-03T10:23:01.193163",
     "exception": false,
     "start_time": "2023-06-03T10:23:01.151330",
     "status": "completed"
    },
    "tags": []
   },
   "source": [
    "data split in train/val set + externat test set. obtain embeddings for the data "
   ]
  },
  {
   "cell_type": "code",
   "execution_count": 21,
   "id": "e87d94c5",
   "metadata": {
    "execution": {
     "iopub.execute_input": "2023-06-03T10:23:01.266204Z",
     "iopub.status.busy": "2023-06-03T10:23:01.265182Z",
     "iopub.status.idle": "2023-06-03T10:23:01.270470Z",
     "shell.execute_reply": "2023-06-03T10:23:01.269464Z"
    },
    "papermill": {
     "duration": 0.044549,
     "end_time": "2023-06-03T10:23:01.273190",
     "exception": false,
     "start_time": "2023-06-03T10:23:01.228641",
     "status": "completed"
    },
    "tags": []
   },
   "outputs": [],
   "source": [
    "# #our test set won't change here\n",
    "# X_test = test5['full_text_clean']\n",
    "# y_test = test5['label'] \n",
    "# print(X_test.shape)\n",
    "# X_test = laser_encode(X_test)\n",
    "# y_test = lb.fit_transform(y_test)"
   ]
  },
  {
   "cell_type": "code",
   "execution_count": 22,
   "id": "14974eff",
   "metadata": {
    "execution": {
     "iopub.execute_input": "2023-06-03T10:23:01.343323Z",
     "iopub.status.busy": "2023-06-03T10:23:01.342367Z",
     "iopub.status.idle": "2023-06-03T10:23:01.350563Z",
     "shell.execute_reply": "2023-06-03T10:23:01.349633Z"
    },
    "papermill": {
     "duration": 0.043788,
     "end_time": "2023-06-03T10:23:01.352648",
     "exception": false,
     "start_time": "2023-06-03T10:23:01.308860",
     "status": "completed"
    },
    "tags": []
   },
   "outputs": [],
   "source": [
    "max_len = 1024\n",
    "from tensorflow.keras import regularizers\n",
    "def plot_history(history):\n",
    "    plt.plot(history.history['binary_accuracy'])\n",
    "    plt.plot(history.history['val_binary_accuracy'])\n",
    "    plt.title('model accuracy')\n",
    "    plt.ylabel('binary_accuracy')\n",
    "    plt.xlabel('epoch')\n",
    "    plt.legend(['train', 'validation'], loc='upper left')\n",
    "    plt.show()\n",
    "\n",
    "    plt.plot(history.history['loss'])\n",
    "    plt.plot(history.history['val_loss'])\n",
    "    plt.title('model loss')\n",
    "    plt.ylabel('loss')\n",
    "    plt.xlabel('epoch')\n",
    "    plt.legend(['train', 'validation'], loc='upper left')\n",
    "    plt.show()"
   ]
  },
  {
   "cell_type": "markdown",
   "id": "57395ca3",
   "metadata": {
    "papermill": {
     "duration": 0.030118,
     "end_time": "2023-06-03T10:23:01.413048",
     "exception": false,
     "start_time": "2023-06-03T10:23:01.382930",
     "status": "completed"
    },
    "tags": []
   },
   "source": [
    "> Model FFNN"
   ]
  },
  {
   "cell_type": "code",
   "execution_count": 23,
   "id": "02bd72d4",
   "metadata": {
    "execution": {
     "iopub.execute_input": "2023-06-03T10:23:01.476292Z",
     "iopub.status.busy": "2023-06-03T10:23:01.475472Z",
     "iopub.status.idle": "2023-06-03T10:23:01.479711Z",
     "shell.execute_reply": "2023-06-03T10:23:01.478724Z"
    },
    "papermill": {
     "duration": 0.037895,
     "end_time": "2023-06-03T10:23:01.481863",
     "exception": false,
     "start_time": "2023-06-03T10:23:01.443968",
     "status": "completed"
    },
    "tags": []
   },
   "outputs": [],
   "source": [
    "# epochs = 50 #50 is optimal epoch number obtained after evaluating previous trainings\n",
    "# batch_size = 64\n",
    "# callback = tf.keras.callbacks.EarlyStopping(monitor='val_loss', mode='min', verbose=0, patience=10, restore_best_weights=True)"
   ]
  },
  {
   "cell_type": "markdown",
   "id": "62444d16",
   "metadata": {
    "papermill": {
     "duration": 0.030168,
     "end_time": "2023-06-03T10:23:01.542986",
     "exception": false,
     "start_time": "2023-06-03T10:23:01.512818",
     "status": "completed"
    },
    "tags": []
   },
   "source": [
    "function to define the FNN network"
   ]
  },
  {
   "cell_type": "code",
   "execution_count": 24,
   "id": "6372d1f8",
   "metadata": {
    "execution": {
     "iopub.execute_input": "2023-06-03T10:23:01.605363Z",
     "iopub.status.busy": "2023-06-03T10:23:01.604623Z",
     "iopub.status.idle": "2023-06-03T10:23:01.609849Z",
     "shell.execute_reply": "2023-06-03T10:23:01.608908Z"
    },
    "papermill": {
     "duration": 0.038714,
     "end_time": "2023-06-03T10:23:01.611920",
     "exception": false,
     "start_time": "2023-06-03T10:23:01.573206",
     "status": "completed"
    },
    "tags": []
   },
   "outputs": [],
   "source": [
    "# def build_model_0():\n",
    "#         # Build the model\n",
    "#     model = tf.keras.Sequential([\n",
    "#         tf.keras.Input(shape=(1024,)),\n",
    "#         tf.keras.layers.Dense(512, activation=tf.keras.layers.LeakyReLU(alpha=0.1), kernel_regularizer=regularizers.l2(0.01)),\n",
    "#             tf.keras.layers.BatchNormalization(),\n",
    "#             tf.keras.layers.Dropout(0.25),\n",
    "#         tf.keras.layers.Dense(128, activation=tf.keras.layers.LeakyReLU(alpha=0.1), kernel_regularizer=regularizers.l2(0.01)),\n",
    "#             tf.keras.layers.BatchNormalization(),\n",
    "#             tf.keras.layers.Dropout(0.25),\n",
    "#         tf.keras.layers.Dense(32, activation=tf.keras.layers.LeakyReLU(alpha=0.1), kernel_regularizer=regularizers.l2(0.01)),\n",
    "#             tf.keras.layers.BatchNormalization(),\n",
    "#             tf.keras.layers.Dropout(0.25),\n",
    "#         tf.keras.layers.Dense(8, activation=tf.keras.layers.LeakyReLU(alpha=0.1), kernel_regularizer=regularizers.l2(0.01)),\n",
    "#             tf.keras.layers.BatchNormalization(),\n",
    "#             tf.keras.layers.Dropout(0.25),\n",
    "#         tf.keras.layers.Dense(1, activation=tf.keras.activations.sigmoid),\n",
    "#     ])\n",
    "    \n",
    "#     model.compile(loss = tf.keras.losses.BinaryCrossentropy(), \n",
    "#                   optimizer=tf.keras.optimizers.Adam(learning_rate=1e-5),\n",
    "#                   metrics =  [ tf.keras.metrics.BinaryAccuracy() ])\n",
    "#     return model"
   ]
  },
  {
   "cell_type": "markdown",
   "id": "c1a847b3",
   "metadata": {
    "papermill": {
     "duration": 0.030127,
     "end_time": "2023-06-03T10:23:01.672965",
     "exception": false,
     "start_time": "2023-06-03T10:23:01.642838",
     "status": "completed"
    },
    "tags": []
   },
   "source": [
    "training data is translated in vectors"
   ]
  },
  {
   "cell_type": "code",
   "execution_count": 25,
   "id": "9caf87f0",
   "metadata": {
    "execution": {
     "iopub.execute_input": "2023-06-03T10:23:01.737262Z",
     "iopub.status.busy": "2023-06-03T10:23:01.736326Z",
     "iopub.status.idle": "2023-06-03T10:23:01.740833Z",
     "shell.execute_reply": "2023-06-03T10:23:01.739823Z"
    },
    "papermill": {
     "duration": 0.039352,
     "end_time": "2023-06-03T10:23:01.743062",
     "exception": false,
     "start_time": "2023-06-03T10:23:01.703710",
     "status": "completed"
    },
    "tags": []
   },
   "outputs": [],
   "source": [
    "# X  = data['full_text_clean']\n",
    "# y  = data['label']\n",
    "# X = laser_encode(X)\n",
    "# y = lb.fit_transform(y)\n"
   ]
  },
  {
   "cell_type": "code",
   "execution_count": 26,
   "id": "fd17bc3c",
   "metadata": {
    "execution": {
     "iopub.execute_input": "2023-06-03T10:23:01.808734Z",
     "iopub.status.busy": "2023-06-03T10:23:01.807805Z",
     "iopub.status.idle": "2023-06-03T10:23:01.813142Z",
     "shell.execute_reply": "2023-06-03T10:23:01.812235Z"
    },
    "papermill": {
     "duration": 0.040205,
     "end_time": "2023-06-03T10:23:01.815436",
     "exception": false,
     "start_time": "2023-06-03T10:23:01.775231",
     "status": "completed"
    },
    "tags": []
   },
   "outputs": [],
   "source": [
    "# def train_model(model_func):\n",
    "#     X_train, X_val, y_train, y_val = train_test_split(X, y, test_size=0.3, random_state=0)\n",
    "#     model = model_func()\n",
    "#     history = model.fit(X_train, y_train, \n",
    "#                         epochs=10, \n",
    "#                         batch_size=batch_size, \n",
    "#                         validation_split=0.2, \n",
    "#                         verbose=1,\n",
    "#                         validation_data=([X_val, y_val]),\n",
    "#                         callbacks=callback)\n",
    "#     print('Test Accuracy: ')\n",
    "#     loss, accuracy = model.evaluate(X_test, y_test, verbose =1)\n",
    "#     # Print the evaluation results\n",
    "#     print('Test loss:', loss)\n",
    "#     print('Test accuracy:', accuracy)\n",
    "#     s_loss.append(loss)\n",
    "#     s_accuracy.append(accuracy)\n",
    "#     return loss, accuracy, model"
   ]
  },
  {
   "cell_type": "markdown",
   "id": "52eb2498",
   "metadata": {
    "papermill": {
     "duration": 0.031397,
     "end_time": "2023-06-03T10:23:01.878001",
     "exception": false,
     "start_time": "2023-06-03T10:23:01.846604",
     "status": "completed"
    },
    "tags": []
   },
   "source": [
    "The restore_best_weights parameter is set to True, which means that the weights of the best model found during training will be restored when the training stops."
   ]
  },
  {
   "cell_type": "markdown",
   "id": "e4a995ad",
   "metadata": {
    "papermill": {
     "duration": 0.033829,
     "end_time": "2023-06-03T10:23:01.943541",
     "exception": false,
     "start_time": "2023-06-03T10:23:01.909712",
     "status": "completed"
    },
    "tags": []
   },
   "source": [
    "> run 5 times training of Model_0() and average accuracy and other metrics"
   ]
  },
  {
   "cell_type": "code",
   "execution_count": 27,
   "id": "1b852d5a",
   "metadata": {
    "execution": {
     "iopub.execute_input": "2023-06-03T10:23:02.011550Z",
     "iopub.status.busy": "2023-06-03T10:23:02.010529Z",
     "iopub.status.idle": "2023-06-03T10:23:02.017400Z",
     "shell.execute_reply": "2023-06-03T10:23:02.016450Z"
    },
    "papermill": {
     "duration": 0.043209,
     "end_time": "2023-06-03T10:23:02.019733",
     "exception": false,
     "start_time": "2023-06-03T10:23:01.976524",
     "status": "completed"
    },
    "tags": []
   },
   "outputs": [],
   "source": [
    "#lists to keep the results for the final table\n",
    "accuracy_list = []\n",
    "loss_list = []\n",
    "precision_list = []\n",
    "recall_list = []\n",
    "f1_score_list = []\n",
    "auc_roc_list = []\n",
    "mcc_list = []\n",
    "model_name = []\n",
    "training_time = []"
   ]
  },
  {
   "cell_type": "code",
   "execution_count": 28,
   "id": "70af6be3",
   "metadata": {
    "execution": {
     "iopub.execute_input": "2023-06-03T10:23:02.085477Z",
     "iopub.status.busy": "2023-06-03T10:23:02.084265Z",
     "iopub.status.idle": "2023-06-03T10:23:02.091518Z",
     "shell.execute_reply": "2023-06-03T10:23:02.090607Z"
    },
    "papermill": {
     "duration": 0.042407,
     "end_time": "2023-06-03T10:23:02.093832",
     "exception": false,
     "start_time": "2023-06-03T10:23:02.051425",
     "status": "completed"
    },
    "tags": []
   },
   "outputs": [],
   "source": [
    "import time\n",
    "class TrainingTimeCallback(tf.keras.callbacks.Callback):\n",
    "    def on_train_begin(self, logs=None):\n",
    "        self.start_time = time.time()\n",
    "\n",
    "    def on_train_end(self, logs=None):\n",
    "        end_time = time.time()\n",
    "        elapsed_time = end_time - self.start_time\n",
    "        print(\"Training time:\", elapsed_time, \"seconds\")\n",
    "        training_time.append(elapsed_time)"
   ]
  },
  {
   "cell_type": "code",
   "execution_count": 29,
   "id": "a5e02c26",
   "metadata": {
    "execution": {
     "iopub.execute_input": "2023-06-03T10:23:02.156155Z",
     "iopub.status.busy": "2023-06-03T10:23:02.155363Z",
     "iopub.status.idle": "2023-06-03T10:23:02.162243Z",
     "shell.execute_reply": "2023-06-03T10:23:02.161230Z"
    },
    "papermill": {
     "duration": 0.04015,
     "end_time": "2023-06-03T10:23:02.164355",
     "exception": false,
     "start_time": "2023-06-03T10:23:02.124205",
     "status": "completed"
    },
    "tags": []
   },
   "outputs": [],
   "source": [
    "from sklearn.metrics import confusion_matrix, precision_recall_fscore_support\n",
    "from sklearn.metrics import classification_report, roc_auc_score, matthews_corrcoef\n",
    "\n",
    "# # Compute confusion matrix\n",
    "# def confusion(predictions):\n",
    "#     cm = confusion_matrix(y_test, predictions)\n",
    "#     accuracies = cm.diagonal()/cm.sum(axis=1)\n",
    "#     print(accuracies)\n",
    "#     print()\n",
    "\n",
    "#     # Calculate the average accuracy across all classes\n",
    "#     avg_accuracy = accuracies.mean()\n",
    "#     # Print the average accuracy\n",
    "#     print(avg_accuracy)\n",
    "#     print()\n",
    "    \n",
    "#     # Print confusion matrix\n",
    "#     classes = np.unique(y_test)\n",
    "#     print(\"Confusion matrix:\")\n",
    "#     print(cm)\n",
    "#     print()\n",
    "\n",
    "#     # Print normalized confusion matrix\n",
    "#     cm_norm = cm.astype('float') / cm.sum(axis=1)[:, np.newaxis]\n",
    "#     print(\"Normalized confusion matrix:\")\n",
    "#     print(cm_norm)\n",
    "#     print()\n",
    "\n",
    "#     print(\"Classification report:\")\n",
    "#     print(classification_report(y_test, predictions, target_names=[f\"label {c}\" for c in classes]))\n",
    "    \n",
    "#     auc_roc = roc_auc_score(y_test, predictions) # y_pred_prob is the predicted probability of class 1\n",
    "#     mcc = matthews_corrcoef(y_test, predictions)\n",
    "#     print(\"AUC-ROC:\", auc_roc)\n",
    "#     print(\"MCC:\", mcc)\n",
    "    \n",
    "#     precision, recall, f1_score, _ = precision_recall_fscore_support(y_test, predictions, average='macro')\n",
    "#     print(\"precision:\", precision)\n",
    "#     print(\"recall:\", recall)\n",
    "#     print(\"f1_score:\", f1_score)\n",
    "\n",
    "#     precision_list.append(precision)\n",
    "#     recall_list.append(recall)\n",
    "#     f1_score_list.append(f1_score)\n",
    "#     auc_roc_list.append(auc_roc)\n",
    "#     mcc_list.append(mcc)\n",
    "#     model_name.append(m)\n",
    "\n",
    "# def results(model, x, y, x_t, y_t):    \n",
    "#     print('Train Accuracy: ')\n",
    "#     model.evaluate(x, y, verbose =1)\n",
    "\n",
    "#     print('Test Accuracy: ')\n",
    "#     loss, accuracy = model.evaluate(x_t , y_t , verbose =1)\n",
    "#     # Print the evaluation results\n",
    "#     print('Test loss:', loss)\n",
    "#     print('Test accuracy:', accuracy)\n",
    "#     accuracy_list.append(accuracy)\n",
    "#     loss_list.append(loss)\n",
    "    \n",
    "#     prediction = model.predict(x_t)\n",
    "#     for i in range(len(prediction)):\n",
    "#         if (prediction[i] < 0.5):\n",
    "#             prediction[i] = 0\n",
    "#         else: \n",
    "#             prediction[i] = 1\n",
    "#     confusion(prediction)\n"
   ]
  },
  {
   "cell_type": "code",
   "execution_count": 30,
   "id": "4d7456db",
   "metadata": {
    "execution": {
     "iopub.execute_input": "2023-06-03T10:23:02.226374Z",
     "iopub.status.busy": "2023-06-03T10:23:02.225726Z",
     "iopub.status.idle": "2023-06-03T10:23:02.232084Z",
     "shell.execute_reply": "2023-06-03T10:23:02.231230Z"
    },
    "papermill": {
     "duration": 0.039691,
     "end_time": "2023-06-03T10:23:02.234247",
     "exception": false,
     "start_time": "2023-06-03T10:23:02.194556",
     "status": "completed"
    },
    "tags": []
   },
   "outputs": [],
   "source": [
    "# epochs = 50\n",
    "# batch_size = 32\n",
    "# # Initialize counter for saved models\n",
    "# num_saved_models = 1\n",
    "# max_len = 1024\n",
    "        \n",
    "# callback = tfk.callbacks.EarlyStopping(monitor='val_loss', mode='min', patience=10, restore_best_weights=True)\n",
    "\n",
    "# def build_model(sh):    \n",
    "#     # Build the model\n",
    "#     model = tf.keras.Sequential([\n",
    "#         tf.keras.Input(shape=(sh,)),\n",
    "#         tf.keras.layers.Dense(256, activation=tf.keras.layers.LeakyReLU(alpha=0.1), kernel_regularizer=regularizers.l2(0.01)),\n",
    "#             tf.keras.layers.BatchNormalization(),\n",
    "#             tf.keras.layers.Dropout(0.25),\n",
    "#         tf.keras.layers.Dense(128, activation=tf.keras.layers.LeakyReLU(alpha=0.1), kernel_regularizer=regularizers.l2(0.01)),\n",
    "#             tf.keras.layers.BatchNormalization(),\n",
    "#             tf.keras.layers.Dropout(0.25),\n",
    "#         tf.keras.layers.Dense(32, activation=tf.keras.layers.LeakyReLU(alpha=0.1), kernel_regularizer=regularizers.l2(0.01)),\n",
    "#             tf.keras.layers.BatchNormalization(),\n",
    "#             tf.keras.layers.Dropout(0.25),\n",
    "#         tf.keras.layers.Dense(8, activation=tf.keras.layers.LeakyReLU(alpha=0.1), kernel_regularizer=regularizers.l2(0.01)),\n",
    "#             tf.keras.layers.BatchNormalization(),\n",
    "#             tf.keras.layers.Dropout(0.25),\n",
    "#         tf.keras.layers.Dense(1, activation=tf.keras.activations.sigmoid),\n",
    "#     ])\n",
    "#     model.compile(loss = tf.keras.losses.BinaryCrossentropy(), \n",
    "#                   optimizer=tf.keras.optimizers.Adam(learning_rate=1e-5),\n",
    "#                   metrics =  [ tf.keras.metrics.BinaryAccuracy() ])\n",
    "#     print(model.summary())\n",
    "#     return model\n",
    "\n",
    "\n",
    "# def model_fit(model,x, y, x_v, y_v):\n",
    "#     global num_saved_models, m, best_epoch\n",
    "#     callback = tf.keras.callbacks.EarlyStopping(monitor='val_loss', mode='min', verbose=0, patience=10, restore_best_weights=True)\n",
    "#     history = model.fit(x, y, \n",
    "#                         epochs=epochs, \n",
    "#                         batch_size=batch_size, \n",
    "#                         validation_split=0.2, \n",
    "#                         validation_data=([x_v,y_v]),\n",
    "#                         verbose=0,\n",
    "#                         callbacks=[callback, TrainingTimeCallback()])\n",
    "    \n",
    "#     plot_history(history)\n",
    "#     model.save(f\"model_{m}_{num_saved_models}.h5\")\n",
    "#     val_acc_per_epoch = history.history['val_binary_accuracy']\n",
    "#     best_epoch = val_acc_per_epoch.index(max(val_acc_per_epoch)) + 1\n",
    "#     print('Best epoch: %d' % (best_epoch,))   \n",
    "#     # Increment the counter for saved models\n",
    "#     num_saved_models += 1"
   ]
  },
  {
   "cell_type": "code",
   "execution_count": 31,
   "id": "81a66ba7",
   "metadata": {
    "execution": {
     "iopub.execute_input": "2023-06-03T10:23:02.299579Z",
     "iopub.status.busy": "2023-06-03T10:23:02.298826Z",
     "iopub.status.idle": "2023-06-03T10:23:02.303183Z",
     "shell.execute_reply": "2023-06-03T10:23:02.302236Z"
    },
    "papermill": {
     "duration": 0.03828,
     "end_time": "2023-06-03T10:23:02.305314",
     "exception": false,
     "start_time": "2023-06-03T10:23:02.267034",
     "status": "completed"
    },
    "tags": []
   },
   "outputs": [],
   "source": [
    "# epochs = 50\n",
    "# for i in range(0, 10):\n",
    "#     # train - validation split:\n",
    "#     X_train, X_val, y_train,y_val  = train_test_split(X, y, test_size=0.25, random_state=0)\n",
    "#     m = 'pr_1_laser_em_batchnorm_l2'\n",
    "#     model1 = build_model(1024)\n",
    "#     model_fit(model1, X_train, y_train, X_val, y_val)\n",
    "#     results(model1, X_train, y_train, X_test, y_test)\n",
    "#     i += 1"
   ]
  },
  {
   "cell_type": "markdown",
   "id": "335bfa02",
   "metadata": {
    "papermill": {
     "duration": 0.030613,
     "end_time": "2023-06-03T10:23:02.366609",
     "exception": false,
     "start_time": "2023-06-03T10:23:02.335996",
     "status": "completed"
    },
    "tags": []
   },
   "source": [
    "> HP tuning"
   ]
  },
  {
   "cell_type": "markdown",
   "id": "34a73aed",
   "metadata": {
    "papermill": {
     "duration": 0.029978,
     "end_time": "2023-06-03T10:23:02.426362",
     "exception": false,
     "start_time": "2023-06-03T10:23:02.396384",
     "status": "completed"
    },
    "tags": []
   },
   "source": [
    "let's define a function to build the model with hyper parameters to be tuned"
   ]
  },
  {
   "cell_type": "code",
   "execution_count": 32,
   "id": "1b5b67e1",
   "metadata": {
    "execution": {
     "iopub.execute_input": "2023-06-03T10:23:02.489335Z",
     "iopub.status.busy": "2023-06-03T10:23:02.488947Z",
     "iopub.status.idle": "2023-06-03T10:23:02.495268Z",
     "shell.execute_reply": "2023-06-03T10:23:02.494277Z"
    },
    "papermill": {
     "duration": 0.041147,
     "end_time": "2023-06-03T10:23:02.497835",
     "exception": false,
     "start_time": "2023-06-03T10:23:02.456688",
     "status": "completed"
    },
    "tags": []
   },
   "outputs": [],
   "source": [
    "# def show_best_hps():\n",
    "#     print(\"Best Hyperparameters:\")\n",
    "#     print(f\" units_1 : {best_hps.get('units_1')}\")\n",
    "#     print(f\" act_1 : {best_hps.get('act_1')}\")\n",
    "#     print(f\" dropout_1 : {best_hps.get('dropout_1')}\")\n",
    "#     print(f\" units_2 : {best_hps.get('units_2')}\")\n",
    "#     print(f\" act_2 : {best_hps.get('act_2')}\")\n",
    "#     print(f\" dropout_2 : {best_hps.get('dropout_2')}\")\n",
    "#     print(f\" units_3 : {best_hps.get('units_3')}\")\n",
    "#     print(f\" act_3 : {best_hps.get('act_3')}\")\n",
    "#     print(f\" dropout_3 : {best_hps.get('dropout_3')}\")\n",
    "#     print(f\" units_4 : {best_hps.get('units_4')}\")\n",
    "#     print(f\" act_4 : {best_hps.get('act_4')}\")\n",
    "#     print(f\" dropout_4 : {best_hps.get('dropout_4')}\")\n",
    "#     # print(f\"Kernel size: {best_hps.get('kernel_size')}\")\n",
    "#     print(f\"Learning rate: {best_hps.get('learning_rate')}\")"
   ]
  },
  {
   "cell_type": "code",
   "execution_count": 33,
   "id": "6fde7e42",
   "metadata": {
    "execution": {
     "iopub.execute_input": "2023-06-03T10:23:02.564371Z",
     "iopub.status.busy": "2023-06-03T10:23:02.564067Z",
     "iopub.status.idle": "2023-06-03T10:23:02.571477Z",
     "shell.execute_reply": "2023-06-03T10:23:02.570615Z"
    },
    "papermill": {
     "duration": 0.042412,
     "end_time": "2023-06-03T10:23:02.573696",
     "exception": false,
     "start_time": "2023-06-03T10:23:02.531284",
     "status": "completed"
    },
    "tags": []
   },
   "outputs": [],
   "source": [
    "# def build_model(hp):\n",
    "\n",
    "#     #hyperparameters for layer 1 - 3\n",
    "#     hp_units_1 = hp.Int('units_1', min_value=32, max_value=512, step=128)\n",
    "#     hp_act_1 = hp.Choice('act_1', ['relu', 'sigmoid'])\n",
    "#     hp_dropout_1 = hp.Float('dropout_1', 0, 0.5, step=0.1, default=0.25)\n",
    "#     #hyperparameters for layer 4 - 6\n",
    "#     hp_units_2 = hp.Int('units_2', min_value=32, max_value=256, step=64)\n",
    "#     hp_act_2 = hp.Choice('act_2' , ['relu', 'sigmoid' ])\n",
    "#     hp_dropout_2 = hp.Float('dropout_2', 0, 0.5, step=0.1, default=0.25)\n",
    "#     #hyperparameters for layer 7 - 9 \n",
    "#     hp_units_3 = hp.Int('units_3', min_value=32, max_value=128, step=32)\n",
    "#     hp_act_3 = hp.Choice('act_3' , ['relu', 'sigmoid' ])\n",
    "#     hp_dropout_3 = hp.Float('dropout_3', 0, 0.5, step=0.1, default=0.25)\n",
    "#     #hyperparameters for layer 10 - 12\n",
    "#     hp_units_4 = hp.Int('units_4', min_value=32, max_value=64, step=16)\n",
    "#     hp_act_4 = hp.Choice('act_4' , ['relu', 'sigmoid' ])\n",
    "#     hp_dropout_4 = hp.Float('dropout_4', 0, 0.5, step=0.1, default=0.25)\n",
    "#     #hyperparameters for compiling model\n",
    "#     hp_learning_rate = hp.Choice('learning_rate', values=[1e-1, 1e-4])\n",
    "    \n",
    "#     #simple layers to train laser embedded sentences\n",
    "#     seq_input  = tfkl.Input(shape=(1024,),  name = \"Sequential_Input\")\n",
    "#     #input folowed by dense layer 1\n",
    "#     layer1 = Dense(units = hp_units_1, activation=hp_act_1, \n",
    "#                    kernel_regularizer=tfk.regularizers.L2(0.001),  \n",
    "#                    name=\"layer1\")(seq_input)\n",
    "#     layer2 = tfkl.BatchNormalization()(layer1)\n",
    "#     layer3 = tfkl.Dropout(hp_dropout_1)(layer2)   \n",
    "    \n",
    "#     #Dense layer 2\n",
    "#     layer4 = Dense(units=hp_units_2, kernel_regularizer=tfk.regularizers.L2(0.001),  \n",
    "#                    activation=hp_act_2,name=\"layer4\")(layer3)\n",
    "#     layer5 = tfkl.BatchNormalization()(layer4)\n",
    "#     layer6 = tfkl.Dropout(hp_dropout_2)(layer5)\n",
    "        \n",
    "#     #Dense layer 3\n",
    "#     layer7 = Dense(units=hp_units_3, kernel_regularizer=tfk.regularizers.L2(0.001),  \n",
    "#                    activation=hp_act_3,name=\"layer7\")(layer6)\n",
    "#     layer8 = tfkl.BatchNormalization()(layer7)\n",
    "#     layer9 = tfkl.Dropout(hp_dropout_3)(layer8)\n",
    "    \n",
    "#     #Dense layer 4\n",
    "#     layer10 = Dense(units=hp_units_4, kernel_regularizer=tfk.regularizers.L2(0.001),  \n",
    "#                    activation=hp_act_4 ,name=\"layer10\")(layer9)\n",
    "#     layer11 = tfkl.BatchNormalization()(layer10)\n",
    "#     layer12 = tfkl.Dropout(hp_dropout_4)(layer11)\n",
    "    \n",
    "#     # the last layer of binary classification will have the activation function sigmoid\n",
    "#     output_layer  = tfkl.Dense(units=1, activation=tfk.activations.sigmoid, kernel_initializer=tfk.initializers.GlorotNormal(seed), name='Output')(layer12) \n",
    "        \n",
    "#     model = Model(inputs=seq_input,outputs=[output_layer], name = \"CS_AWARE_Model\")\n",
    "    \n",
    "#     model.compile(loss = tfk.losses.BinaryCrossentropy(from_logits=True), \n",
    "#                   optimizer=tfk.optimizers.Adam(learning_rate=hp_learning_rate),\n",
    "#                   metrics =  ['binary_accuracy'])\n",
    "#     return model\n"
   ]
  },
  {
   "cell_type": "code",
   "execution_count": 34,
   "id": "52c3bce6",
   "metadata": {
    "execution": {
     "iopub.execute_input": "2023-06-03T10:23:02.639041Z",
     "iopub.status.busy": "2023-06-03T10:23:02.638366Z",
     "iopub.status.idle": "2023-06-03T10:23:02.643691Z",
     "shell.execute_reply": "2023-06-03T10:23:02.642624Z"
    },
    "papermill": {
     "duration": 0.040433,
     "end_time": "2023-06-03T10:23:02.645895",
     "exception": false,
     "start_time": "2023-06-03T10:23:02.605462",
     "status": "completed"
    },
    "tags": []
   },
   "outputs": [],
   "source": [
    "callback = tf.keras.callbacks.EarlyStopping(monitor='val_loss', mode='min', verbose=0, patience=10, restore_best_weights=True)"
   ]
  },
  {
   "cell_type": "code",
   "execution_count": 35,
   "id": "bc1f21dd",
   "metadata": {
    "execution": {
     "iopub.execute_input": "2023-06-03T10:23:02.710405Z",
     "iopub.status.busy": "2023-06-03T10:23:02.709556Z",
     "iopub.status.idle": "2023-06-03T10:23:02.716176Z",
     "shell.execute_reply": "2023-06-03T10:23:02.715334Z"
    },
    "papermill": {
     "duration": 0.039838,
     "end_time": "2023-06-03T10:23:02.718432",
     "exception": false,
     "start_time": "2023-06-03T10:23:02.678594",
     "status": "completed"
    },
    "tags": []
   },
   "outputs": [],
   "source": [
    "#     global history\n",
    "#     epochs=50\n",
    "#     #Tuner\n",
    "#     tuner = RandomSearch(\n",
    "#         build_model,\n",
    "#         objective = 'val_binary_accuracy',\n",
    "#         max_trials = 20,\n",
    "#         executions_per_trial = 20,\n",
    "#         #overwrite=True,\n",
    "#     )\n",
    "#     # not necessary to see it every time\n",
    "#     #tuner.search_space_summary()\n",
    "#     tuner.search_space_summary()\n",
    "#     # train - validation split:\n",
    "#     X_train, X_val, y_train,y_val  = train_test_split(X ,y , test_size=0.25, random_state=0)\n",
    "#     tuner.search(X_train, y_train, \n",
    "#                     epochs=epochs, \n",
    "#                     batch_size=batch_size, \n",
    "#                     validation_split=0.2, \n",
    "#                     verbose=0,#not necessary to see all trainings\n",
    "#                     validation_data=([X_val, y_val]),\n",
    "#                     callbacks=[callback]\n",
    "#                 )\n",
    "    \n",
    "#     tuner.results_summary()\n",
    "    \n",
    "#     # Get the optimal hyperparameters\n",
    "#     best_hps=tuner.get_best_hyperparameters(num_trials=1)[0]\n",
    "#     print()\n",
    "#     print('best parameters that have been found: ')\n",
    "#     print()\n",
    "#     print('best parameters that have been found: ')\n",
    "#     show_best_hps()\n",
    "#     print()\n",
    "#     print()\n",
    "#     # Build the model with the optimal hyperparameters and train it on the data for 50 epochs\n",
    "#     tuned_model = tuner.hypermodel.build(best_hps)\n",
    "#     #sow only the model with best params\n",
    "#     print(tuned_model.summary())   \n",
    "#     m = 'pr_1_laser_tunned_model_l2'        \n",
    "#     history = model_fit(tuned_model, X_train, y_train, X_val, y_val)\n",
    "#     results(tuned_model, X_train, y_train, X_test, y_test)\n",
    "\n",
    "#     print('Best epoch: %d' % (best_epoch,))\n",
    "#     #now include best epoch\n",
    "#     hypermodel = tuner.hypermodel.build(best_hps)\n",
    "    \n",
    "#     # Retrain the model with best epoch\n",
    "#     print()\n",
    "#     print(\"Retrain the model with best hps and epoch: \")\n",
    "#     print('Hypermodel: ')\n",
    "#     m = 'pr_1_laser_hypermodel_l2'    \n",
    "#     model_fit(hypermodel, X_train, y_train, X_val, y_val)\n",
    "#     results(hypermodel, X_train, y_train, X_test, y_test)\n"
   ]
  },
  {
   "cell_type": "code",
   "execution_count": 36,
   "id": "7cacf268",
   "metadata": {
    "execution": {
     "iopub.execute_input": "2023-06-03T10:23:02.782025Z",
     "iopub.status.busy": "2023-06-03T10:23:02.781275Z",
     "iopub.status.idle": "2023-06-03T10:23:02.785870Z",
     "shell.execute_reply": "2023-06-03T10:23:02.784924Z"
    },
    "papermill": {
     "duration": 0.039241,
     "end_time": "2023-06-03T10:23:02.788136",
     "exception": false,
     "start_time": "2023-06-03T10:23:02.748895",
     "status": "completed"
    },
    "tags": []
   },
   "outputs": [],
   "source": [
    "# epochs=50\n",
    "# for i in range(0, 9):\n",
    "#     # train - validation split:\n",
    "#     X_train, X_val, y_train,y_val  = train_test_split(X ,y , test_size=0.25, random_state=0)\n",
    "#     m = 'pr_1_laser_hypermodel_l2'\n",
    "#     #   model1 = build_model(1024)\n",
    "#     model_fit(hypermodel, X_train, y_train, X_val, y_val)\n",
    "#     results(hypermodel, X_train, y_train, X_test, y_test)\n",
    "#     m = 'pr_1_laser_tuned_model_l2'\n",
    "#     model_fit(tuned_model, X_train, y_train, X_val, y_val)\n",
    "#     results(tuned_model, X_train, y_train, X_test, y_test)\n",
    "#     i += 1"
   ]
  },
  {
   "cell_type": "markdown",
   "id": "9aa9cf5a",
   "metadata": {
    "papermill": {
     "duration": 0.031231,
     "end_time": "2023-06-03T10:23:02.851116",
     "exception": false,
     "start_time": "2023-06-03T10:23:02.819885",
     "status": "completed"
    },
    "tags": []
   },
   "source": [
    "> now lets try tunning the parameters during every k fold training and compare the results\n",
    "k-crossvalidation is the same as training the model few times, nothing new will happen here\n",
    "\n"
   ]
  },
  {
   "cell_type": "code",
   "execution_count": 37,
   "id": "f87cbc1e",
   "metadata": {
    "execution": {
     "iopub.execute_input": "2023-06-03T10:23:02.915393Z",
     "iopub.status.busy": "2023-06-03T10:23:02.915017Z",
     "iopub.status.idle": "2023-06-03T10:23:02.921974Z",
     "shell.execute_reply": "2023-06-03T10:23:02.920932Z"
    },
    "papermill": {
     "duration": 0.042361,
     "end_time": "2023-06-03T10:23:02.924406",
     "exception": false,
     "start_time": "2023-06-03T10:23:02.882045",
     "status": "completed"
    },
    "tags": []
   },
   "outputs": [],
   "source": [
    "# k = 5\n",
    "# metrics = ['binary_accuracy']\n",
    "# metrics_t = []\n",
    "# # Initialize the k-fold cross-validation object\n",
    "# kf = KFold(n_splits=k, shuffle=True, random_state=42)\n",
    "\n",
    "# # Iterate over each fold\n",
    "# for fold, (train_index, val_index) in enumerate(kf.split(X)):\n",
    "    \n",
    "#     # Split the data and embeddings into training and validation sets\n",
    "#     X_train, y_train = X[train_index], y[train_index]\n",
    "#     X_val, y_val = X[val_index], y[val_index]\n",
    "#     global history\n",
    "#     epochs = 50\n",
    "#     #Tuner\n",
    "#     tuner = RandomSearch(\n",
    "#         build_model,\n",
    "#         objective = 'val_binary_accuracy',\n",
    "#         max_trials = 20,\n",
    "#         executions_per_trial = 20,\n",
    "#         #overwrite=True,\n",
    "#     )\n",
    "#     # not necessary to see it every time\n",
    "#     #tuner.search_space_summary()\n",
    "#     tuner.search_space_summary()\n",
    "#     # train - validation split:\n",
    "#     X_train, X_val, y_train,y_val  = train_test_split(X ,y , test_size=0.25, random_state=0)\n",
    "#     tuner.search(X_train, y_train, \n",
    "#                     epochs=epochs, \n",
    "#                     batch_size=batch_size, \n",
    "#                     validation_split=0.2, \n",
    "#                     verbose=0,#not necessary to see all trainings\n",
    "#                     validation_data=([X_val, y_val]),\n",
    "#                     callbacks=[callback]\n",
    "#                 )\n",
    "    \n",
    "#     tuner.results_summary()\n",
    "    \n",
    "#     # Get the optimal hyperparameters\n",
    "#     best_hps=tuner.get_best_hyperparameters(num_trials=1)[0]\n",
    "#     print()\n",
    "#     print('best parameters that have been found: ')\n",
    "#     print()\n",
    "#     print('best parameters that have been found: ')\n",
    "#     show_best_hps()\n",
    "#     print()\n",
    "#     print()\n",
    "#     # Build the model with the optimal hyperparameters and train it on the data for 50 epochs\n",
    "#     tuned_model = tuner.hypermodel.build(best_hps)\n",
    "#     #sow only the model with best params\n",
    "#     print(tuned_model.summary())\n",
    "#     m = 'pr_1_k_cr_val_laser_tunned_model_l2'        \n",
    "#     history = model_fit(tuned_model, X_train, y_train, X_val, y_val)\n",
    "#     results(tuned_model, X_train, y_train, X_test, y_test)\n",
    "\n",
    "#     print('Best epoch: %d' % (best_epoch,))\n",
    "#     #now include best epoch\n",
    "#     hypermodel = tuner.hypermodel.build(best_hps)\n",
    "    \n",
    "#     # Retrain the model with best epoch\n",
    "#     print()\n",
    "#     print(\"Retrain the model with best hps and epoch: \")\n",
    "#     print('Hypermodel: ')\n",
    "#     m = 'pr_1_k_cr_val_laser_hypermodel_l2'        \n",
    "#     model_fit(hypermodel, X_train, y_train, X_val, y_val)\n",
    "#     results(hypermodel, X_train, y_train, X_test, y_test)\n"
   ]
  },
  {
   "cell_type": "code",
   "execution_count": 38,
   "id": "df46cca1",
   "metadata": {
    "execution": {
     "iopub.execute_input": "2023-06-03T10:23:02.988582Z",
     "iopub.status.busy": "2023-06-03T10:23:02.987480Z",
     "iopub.status.idle": "2023-06-03T10:23:02.992731Z",
     "shell.execute_reply": "2023-06-03T10:23:02.991802Z"
    },
    "papermill": {
     "duration": 0.038967,
     "end_time": "2023-06-03T10:23:02.994916",
     "exception": false,
     "start_time": "2023-06-03T10:23:02.955949",
     "status": "completed"
    },
    "tags": []
   },
   "outputs": [],
   "source": [
    "# for i in range(0, 9):\n",
    "#     # train - validation split:\n",
    "#     X_train, X_val, y_train,y_val  = train_test_split(X ,y , test_size=0.25, random_state=0)\n",
    "#     m = 'pr_1_k_cr_val_laser_hypermodel_l2'\n",
    "#     model_fit(hypermodel, X_train, y_train, X_val, y_val)\n",
    "#     results(hypermodel, X_train, y_train, X_test, y_test)\n",
    "#     m = 'pr_1_k_cr_val_laser_tunned_model_l2'\n",
    "#     model_fit(tuned_model, X_train, y_train, X_val, y_val)\n",
    "#     results(tuned_model, X_train, y_train, X_test, y_test)\n",
    "#     i += 1"
   ]
  },
  {
   "cell_type": "markdown",
   "id": "c26ba859",
   "metadata": {
    "papermill": {
     "duration": 0.030749,
     "end_time": "2023-06-03T10:23:03.055836",
     "exception": false,
     "start_time": "2023-06-03T10:23:03.025087",
     "status": "completed"
    },
    "tags": []
   },
   "source": [
    "> LR"
   ]
  },
  {
   "cell_type": "code",
   "execution_count": 39,
   "id": "084ab3fb",
   "metadata": {
    "execution": {
     "iopub.execute_input": "2023-06-03T10:23:03.120634Z",
     "iopub.status.busy": "2023-06-03T10:23:03.120310Z",
     "iopub.status.idle": "2023-06-03T10:23:03.135281Z",
     "shell.execute_reply": "2023-06-03T10:23:03.134436Z"
    },
    "papermill": {
     "duration": 0.050135,
     "end_time": "2023-06-03T10:23:03.137739",
     "exception": false,
     "start_time": "2023-06-03T10:23:03.087604",
     "status": "completed"
    },
    "tags": []
   },
   "outputs": [],
   "source": [
    "# Compute confusion matrix\n",
    "def confusion(predictions):\n",
    "    cm = confusion_matrix(y_test, predictions)\n",
    "    accuracies = cm.diagonal()/cm.sum(axis=1)\n",
    "    print(accuracies)\n",
    "    print()\n",
    "\n",
    "    # Calculate the average accuracy across all classes\n",
    "    avg_accuracy = accuracies.mean()\n",
    "    # Print the average accuracy\n",
    "    print(avg_accuracy)\n",
    "    print()\n",
    "    \n",
    "    # Print confusion matrix\n",
    "    classes = np.unique(y_test)\n",
    "    print(\"Confusion matrix:\")\n",
    "    print(cm)\n",
    "    print()\n",
    "\n",
    "    # Print normalized confusion matrix\n",
    "    cm_norm = cm.astype('float') / cm.sum(axis=1)[:, np.newaxis]\n",
    "    print(\"Normalized confusion matrix:\")\n",
    "    print(cm_norm)\n",
    "    print()\n",
    "\n",
    "    print(\"Classification report:\")\n",
    "    print(classification_report(y_test, predictions, target_names=[f\"label {c}\" for c in classes]))\n",
    "    \n",
    "    auc_roc = roc_auc_score(y_test, predictions) # y_pred_prob is the predicted probability of class 1\n",
    "    mcc = matthews_corrcoef(y_test, predictions)\n",
    "    print(\"AUC-ROC:\", auc_roc)\n",
    "    print(\"MCC:\", mcc)\n",
    "    \n",
    "    precision, recall, f1_score, _ = precision_recall_fscore_support(y_test, predictions, average='macro')\n",
    "    accuracy = accuracy_score(y_test, predictions) \n",
    "    loss = log_loss(y_test, predictions)  \n",
    "    \n",
    "    print(\"precision:\", precision)\n",
    "    print(\"recall:\", recall)\n",
    "    print(\"f1_score:\", f1_score)\n",
    "    print('Test loss:', loss)\n",
    "    print('Test accuracy:', accuracy)\n",
    "\n",
    "                              \n",
    "    accuracy_list.append(accuracy)\n",
    "    loss_list.append(loss)\n",
    "    precision_list.append(precision)\n",
    "    recall_list.append(recall)\n",
    "    f1_score_list.append(f1_score)\n",
    "    auc_roc_list.append(auc_roc)\n",
    "    mcc_list.append(mcc)\n",
    "    model_name.append(m)\n",
    "    \n",
    "def results(model, x, y, x_t, y_t):    \n",
    "    # Print the evaluation results\n",
    "\n",
    "    prediction = model.predict(x_t)\n",
    "    for i in range(len(prediction)):\n",
    "        if (prediction[i] < 0.5):\n",
    "            prediction[i] = 0\n",
    "        else: \n",
    "            prediction[i] = 1\n",
    "    confusion(prediction)"
   ]
  },
  {
   "cell_type": "code",
   "execution_count": 40,
   "id": "daff76f1",
   "metadata": {
    "execution": {
     "iopub.execute_input": "2023-06-03T10:23:03.201215Z",
     "iopub.status.busy": "2023-06-03T10:23:03.200422Z",
     "iopub.status.idle": "2023-06-03T10:23:03.206463Z",
     "shell.execute_reply": "2023-06-03T10:23:03.205536Z"
    },
    "papermill": {
     "duration": 0.040213,
     "end_time": "2023-06-03T10:23:03.208880",
     "exception": false,
     "start_time": "2023-06-03T10:23:03.168667",
     "status": "completed"
    },
    "tags": []
   },
   "outputs": [],
   "source": [
    "from sklearn.linear_model import LogisticRegression\n",
    "from sklearn.metrics import accuracy_score, precision_score, recall_score, f1_score\n",
    "from sklearn.metrics import log_loss\n",
    "# def LR_model():       \n",
    "#     # Train a logi\n",
    "#     global m\n",
    "#     time_callback = TrainingTimeCallback()\n",
    "#     #stic regression classifier on the embeddings\n",
    "#     LR = LogisticRegression()\n",
    "#     m = 'pr_1_LR_laser'\n",
    "#     time_callback.on_train_begin()\n",
    "#     LR.fit(X_train, y_train)\n",
    "#     time_callback.on_train_end()\n",
    "#     filename = f\"LR_{m}.h5\"\n",
    "#     with open(filename, 'wb') as file:\n",
    "#         pickle.dump(LR, file)\n",
    "#     print('Best epoch: %d' % (best_epoch,))   \n",
    "#     # Increment the counter for saved models\n",
    "#     results(LR, X_train, y_train, X_test, y_test)\n",
    "# LR_model()"
   ]
  },
  {
   "cell_type": "markdown",
   "id": "c2f997db",
   "metadata": {
    "papermill": {
     "duration": 0.032306,
     "end_time": "2023-06-03T10:23:03.271619",
     "exception": false,
     "start_time": "2023-06-03T10:23:03.239313",
     "status": "completed"
    },
    "tags": []
   },
   "source": [
    "> add new type of cleaning"
   ]
  },
  {
   "cell_type": "code",
   "execution_count": 41,
   "id": "3b1a5b8e",
   "metadata": {
    "execution": {
     "iopub.execute_input": "2023-06-03T10:23:03.383076Z",
     "iopub.status.busy": "2023-06-03T10:23:03.382582Z",
     "iopub.status.idle": "2023-06-03T10:23:15.593999Z",
     "shell.execute_reply": "2023-06-03T10:23:15.592836Z"
    },
    "papermill": {
     "duration": 12.273871,
     "end_time": "2023-06-03T10:23:15.596680",
     "exception": false,
     "start_time": "2023-06-03T10:23:03.322809",
     "status": "completed"
    },
    "tags": []
   },
   "outputs": [
    {
     "name": "stdout",
     "output_type": "stream",
     "text": [
      "Collecting stopwordsiso\r\n",
      "  Downloading stopwordsiso-0.6.1-py3-none-any.whl (73 kB)\r\n",
      "\u001b[2K     \u001b[90m━━━━━━━━━━━━━━━━━━━━━━━━━━━━━━━━━━━━━━━━\u001b[0m \u001b[32m73.5/73.5 kB\u001b[0m \u001b[31m3.3 MB/s\u001b[0m eta \u001b[36m0:00:00\u001b[0m\r\n",
      "\u001b[?25hInstalling collected packages: stopwordsiso\r\n",
      "Successfully installed stopwordsiso-0.6.1\r\n",
      "\u001b[33mWARNING: Running pip as the 'root' user can result in broken permissions and conflicting behaviour with the system package manager. It is recommended to use a virtual environment instead: https://pip.pypa.io/warnings/venv\u001b[0m\u001b[33m\r\n",
      "\u001b[0m"
     ]
    }
   ],
   "source": [
    "!pip install stopwordsiso\n",
    "import stopwordsiso\n",
    "from stopwordsiso import stopwords\n",
    "stopwords = stopwords(['af', 'ar', 'hy', 'eu', 'bn', 'br', 'bg', 'ca', 'zh', 'hr', 'cs', 'da', 'nl', 'en', 'eo', 'et', 'fi', 'fr', 'gl', 'de', 'el', 'gu', 'ha', 'he', 'hi', 'hu', 'id', 'ga', 'it', 'ja', 'ko', 'ku', 'la', 'lt', 'lv', 'ms', 'mr', 'no', 'fa', 'pl', 'pt', 'ro', 'ru', 'sk', 'sl', 'so', 'st', 'es', 'sw', 'sv', 'th', 'tl', 'tr', 'uk', 'ur', 'vi', 'yo', 'zu'])  # German, Indonesian, and Chinese stopwords\n",
    "# Removing stop words\n",
    "def remove_stop_words(text):\n",
    "    return ' '.join([word for word in text.split() if word not in stopwords])\n",
    "\n",
    "# #not removing the whole word because it can signalize #vulnerability #cyberattack, etc\n",
    "# def remove_hashtag(text):\n",
    "#     return re.sub(r'#', '', text)\n",
    "def remove_hashtag(text):\n",
    "    return re.sub(r'(^|\\s)#', r'\\1', text)\n",
    "\n",
    "def remove_dog(text):\n",
    "    return re.sub(r'@\\w+', '', text)\n",
    "\n",
    "def remove_punctuations(text):\n",
    "    return re.sub('\\[[^]]*\\]!?.,:;', '', text)\n",
    "\n",
    "def remove_characters(text):\n",
    "    return re.sub(r'[^\\w\\s]', ' ', text)\n",
    "\n",
    "from unidecode import unidecode\n",
    "def remove_diacritics(text):\n",
    "#     return re.sub(r'\\W+', '', text).replace('_', '')\n",
    "    return unidecode(text)\n",
    "\n",
    "def remove_url(text):\n",
    "    return re.sub(r'http\\S+', '', text)\n",
    "\n",
    "def remove_urls(text):\n",
    "    return re.sub(r'https:\\S+', '', text)\n",
    "\n",
    "def remove_contractions(text):\n",
    "    return ' '.join([contractions.fix(word) for word in text.split()])\n",
    "\n",
    "#defining the object for Lemmatization\n",
    "lemmatizer = WordNetLemmatizer()\n",
    "#defining a function for lemming\n",
    "def lemmatize_words(text):\n",
    "    return ' '.join(lemmatizer.lemmatize(word) for word in text.split())\n",
    "\n",
    "def remove_emojis(text):\n",
    "    emoj = re.compile(\"[\"\n",
    "        u\"\\U0001F600-\\U0001F64F\"  # emoticons\n",
    "#         u\"\\U0001F300-\\U0001F5FF\"  # symbols & pictographs\n",
    "        u\"\\U0001F680-\\U0001F6FF\"  # transport & map symbols\n",
    "        u\"\\U0001F1E0-\\U0001F1FF\"  # flags (iOS)\n",
    "#         u\"\\U00002500-\\U00002BEF\"  # chinese char\n",
    "        u\"\\U00002702-\\U000027B0\"\n",
    "#         u\"\\U000024C2-\\U0001F251\" this removes japanesse chr\n",
    "        u\"\\U0001f926-\\U0001f937\"\n",
    "        u\"\\U00010000-\\U0010ffff\"\n",
    "        u\"\\u2640-\\u2642\" \n",
    "        u\"\\u2600-\\u2B55\"\n",
    "        u\"\\u200d\"\n",
    "        u\"\\u23cf\"\n",
    "        u\"\\u23e9\"\n",
    "        u\"\\u231a\"\n",
    "        u\"\\ufe0f\"  # dingbats\n",
    "        u\"\\u3030\"\n",
    "                      \"]+\", re.UNICODE)\n",
    "    return re.sub(emoj, '', text)\n",
    "\n",
    "def clean_text(text):\n",
    "    text = remove_url(text)\n",
    "    text = remove_urls(text)\n",
    "    text = remove_hashtag(text)\n",
    "    text = remove_dog(text)\n",
    "    text = remove_contractions(text)\n",
    "    text = text.lower()\n",
    "    text = remove_punctuations(text)\n",
    "    text = remove_characters(text)# - this is good only for latin alphabets\n",
    "#     #text = stemming_words(text)\n",
    "#     text = lemmatize_words(text)\n",
    "    text = remove_emojis(text)\n",
    "    text = remove_diacritics(text)\n",
    "    return text"
   ]
  },
  {
   "cell_type": "code",
   "execution_count": 42,
   "id": "6412286e",
   "metadata": {
    "execution": {
     "iopub.execute_input": "2023-06-03T10:23:15.661064Z",
     "iopub.status.busy": "2023-06-03T10:23:15.660733Z",
     "iopub.status.idle": "2023-06-03T10:23:20.468784Z",
     "shell.execute_reply": "2023-06-03T10:23:20.467704Z"
    },
    "papermill": {
     "duration": 4.844609,
     "end_time": "2023-06-03T10:23:20.472929",
     "exception": false,
     "start_time": "2023-06-03T10:23:15.628320",
     "status": "completed"
    },
    "tags": []
   },
   "outputs": [
    {
     "data": {
      "text/html": [
       "<div>\n",
       "<style scoped>\n",
       "    .dataframe tbody tr th:only-of-type {\n",
       "        vertical-align: middle;\n",
       "    }\n",
       "\n",
       "    .dataframe tbody tr th {\n",
       "        vertical-align: top;\n",
       "    }\n",
       "\n",
       "    .dataframe thead th {\n",
       "        text-align: right;\n",
       "    }\n",
       "</style>\n",
       "<table border=\"1\" class=\"dataframe\">\n",
       "  <thead>\n",
       "    <tr style=\"text-align: right;\">\n",
       "      <th></th>\n",
       "      <th>Unnamed: 0</th>\n",
       "      <th>Unnamed: 0.1</th>\n",
       "      <th>tweetid</th>\n",
       "      <th>author_id</th>\n",
       "      <th>full_text</th>\n",
       "      <th>label</th>\n",
       "      <th>lang</th>\n",
       "      <th>created_at</th>\n",
       "      <th>geo</th>\n",
       "      <th>retweets</th>\n",
       "      <th>...</th>\n",
       "      <th>username</th>\n",
       "      <th>user_creation</th>\n",
       "      <th>followers</th>\n",
       "      <th>followings</th>\n",
       "      <th>no_of_tweets</th>\n",
       "      <th>user_verified</th>\n",
       "      <th>user_protected</th>\n",
       "      <th>Unnamed: 0.1.1</th>\n",
       "      <th>ID</th>\n",
       "      <th>ASSIGNER</th>\n",
       "    </tr>\n",
       "  </thead>\n",
       "  <tbody>\n",
       "    <tr>\n",
       "      <th>0</th>\n",
       "      <td>0</td>\n",
       "      <td>0.0</td>\n",
       "      <td>1.625512e+18</td>\n",
       "      <td>1.606061e+18</td>\n",
       "      <td>@DayZ All server officiel on console has been ...</td>\n",
       "      <td>1</td>\n",
       "      <td>en</td>\n",
       "      <td>2023-02-14T15:07:39.000Z</td>\n",
       "      <td>{}</td>\n",
       "      <td>0.0</td>\n",
       "      <td>...</td>\n",
       "      <td>NaN</td>\n",
       "      <td>NaN</td>\n",
       "      <td>NaN</td>\n",
       "      <td>NaN</td>\n",
       "      <td>NaN</td>\n",
       "      <td>NaN</td>\n",
       "      <td>NaN</td>\n",
       "      <td>NaN</td>\n",
       "      <td>NaN</td>\n",
       "      <td>NaN</td>\n",
       "    </tr>\n",
       "    <tr>\n",
       "      <th>1</th>\n",
       "      <td>1</td>\n",
       "      <td>1.0</td>\n",
       "      <td>1.624729e+18</td>\n",
       "      <td>7.010525e+17</td>\n",
       "      <td>New ESXiArgs Ransomware Variant Emerges After ...</td>\n",
       "      <td>1</td>\n",
       "      <td>ca</td>\n",
       "      <td>2023-02-12T11:14:02.000Z</td>\n",
       "      <td>{}</td>\n",
       "      <td>0.0</td>\n",
       "      <td>...</td>\n",
       "      <td>NaN</td>\n",
       "      <td>NaN</td>\n",
       "      <td>NaN</td>\n",
       "      <td>NaN</td>\n",
       "      <td>NaN</td>\n",
       "      <td>NaN</td>\n",
       "      <td>NaN</td>\n",
       "      <td>NaN</td>\n",
       "      <td>NaN</td>\n",
       "      <td>NaN</td>\n",
       "    </tr>\n",
       "    <tr>\n",
       "      <th>2</th>\n",
       "      <td>2</td>\n",
       "      <td>2.0</td>\n",
       "      <td>1.625164e+18</td>\n",
       "      <td>9.413895e+17</td>\n",
       "      <td>CVE-2022-45724\\n\\nIncorrect Access Control in ...</td>\n",
       "      <td>1</td>\n",
       "      <td>en</td>\n",
       "      <td>2023-02-13T16:02:34.000Z</td>\n",
       "      <td>{}</td>\n",
       "      <td>0.0</td>\n",
       "      <td>...</td>\n",
       "      <td>NaN</td>\n",
       "      <td>NaN</td>\n",
       "      <td>NaN</td>\n",
       "      <td>NaN</td>\n",
       "      <td>NaN</td>\n",
       "      <td>NaN</td>\n",
       "      <td>NaN</td>\n",
       "      <td>NaN</td>\n",
       "      <td>NaN</td>\n",
       "      <td>NaN</td>\n",
       "    </tr>\n",
       "    <tr>\n",
       "      <th>3</th>\n",
       "      <td>3</td>\n",
       "      <td>3.0</td>\n",
       "      <td>1.624465e+18</td>\n",
       "      <td>8.218063e+17</td>\n",
       "      <td>CVE-2023-0782 A vulnerability was found in Ten...</td>\n",
       "      <td>1</td>\n",
       "      <td>en</td>\n",
       "      <td>2023-02-11T17:45:19.000Z</td>\n",
       "      <td>{}</td>\n",
       "      <td>0.0</td>\n",
       "      <td>...</td>\n",
       "      <td>NaN</td>\n",
       "      <td>NaN</td>\n",
       "      <td>NaN</td>\n",
       "      <td>NaN</td>\n",
       "      <td>NaN</td>\n",
       "      <td>NaN</td>\n",
       "      <td>NaN</td>\n",
       "      <td>NaN</td>\n",
       "      <td>NaN</td>\n",
       "      <td>NaN</td>\n",
       "    </tr>\n",
       "    <tr>\n",
       "      <th>4</th>\n",
       "      <td>4</td>\n",
       "      <td>4.0</td>\n",
       "      <td>1.624879e+18</td>\n",
       "      <td>3.367704e+09</td>\n",
       "      <td>@juergenreinhar2 @Bloodie24 @hedoe @ChangeGER ...</td>\n",
       "      <td>1</td>\n",
       "      <td>de</td>\n",
       "      <td>2023-02-12T21:13:33.000Z</td>\n",
       "      <td>{}</td>\n",
       "      <td>0.0</td>\n",
       "      <td>...</td>\n",
       "      <td>NaN</td>\n",
       "      <td>NaN</td>\n",
       "      <td>NaN</td>\n",
       "      <td>NaN</td>\n",
       "      <td>NaN</td>\n",
       "      <td>NaN</td>\n",
       "      <td>NaN</td>\n",
       "      <td>NaN</td>\n",
       "      <td>NaN</td>\n",
       "      <td>NaN</td>\n",
       "    </tr>\n",
       "    <tr>\n",
       "      <th>...</th>\n",
       "      <td>...</td>\n",
       "      <td>...</td>\n",
       "      <td>...</td>\n",
       "      <td>...</td>\n",
       "      <td>...</td>\n",
       "      <td>...</td>\n",
       "      <td>...</td>\n",
       "      <td>...</td>\n",
       "      <td>...</td>\n",
       "      <td>...</td>\n",
       "      <td>...</td>\n",
       "      <td>...</td>\n",
       "      <td>...</td>\n",
       "      <td>...</td>\n",
       "      <td>...</td>\n",
       "      <td>...</td>\n",
       "      <td>...</td>\n",
       "      <td>...</td>\n",
       "      <td>...</td>\n",
       "      <td>...</td>\n",
       "      <td>...</td>\n",
       "    </tr>\n",
       "    <tr>\n",
       "      <th>19520</th>\n",
       "      <td>16349</td>\n",
       "      <td>NaN</td>\n",
       "      <td>NaN</td>\n",
       "      <td>NaN</td>\n",
       "      <td>Auth. (admin+) Stored Cross-Site Scripting (XS...</td>\n",
       "      <td>1</td>\n",
       "      <td>en</td>\n",
       "      <td>NaN</td>\n",
       "      <td>NaN</td>\n",
       "      <td>NaN</td>\n",
       "      <td>...</td>\n",
       "      <td>NaN</td>\n",
       "      <td>NaN</td>\n",
       "      <td>NaN</td>\n",
       "      <td>NaN</td>\n",
       "      <td>NaN</td>\n",
       "      <td>NaN</td>\n",
       "      <td>NaN</td>\n",
       "      <td>NaN</td>\n",
       "      <td>CVE-2022-44576</td>\n",
       "      <td>audit@patchstack.com</td>\n",
       "    </tr>\n",
       "    <tr>\n",
       "      <th>19521</th>\n",
       "      <td>16350</td>\n",
       "      <td>NaN</td>\n",
       "      <td>NaN</td>\n",
       "      <td>NaN</td>\n",
       "      <td>Auth. (admin+) Stored Cross-Site Scripting (XS...</td>\n",
       "      <td>1</td>\n",
       "      <td>en</td>\n",
       "      <td>NaN</td>\n",
       "      <td>NaN</td>\n",
       "      <td>NaN</td>\n",
       "      <td>...</td>\n",
       "      <td>NaN</td>\n",
       "      <td>NaN</td>\n",
       "      <td>NaN</td>\n",
       "      <td>NaN</td>\n",
       "      <td>NaN</td>\n",
       "      <td>NaN</td>\n",
       "      <td>NaN</td>\n",
       "      <td>NaN</td>\n",
       "      <td>CVE-2022-44586</td>\n",
       "      <td>audit@patchstack.com</td>\n",
       "    </tr>\n",
       "    <tr>\n",
       "      <th>19522</th>\n",
       "      <td>16351</td>\n",
       "      <td>NaN</td>\n",
       "      <td>NaN</td>\n",
       "      <td>NaN</td>\n",
       "      <td>In JetBrains TeamCity version between 2021.2 a...</td>\n",
       "      <td>1</td>\n",
       "      <td>en</td>\n",
       "      <td>NaN</td>\n",
       "      <td>NaN</td>\n",
       "      <td>NaN</td>\n",
       "      <td>...</td>\n",
       "      <td>NaN</td>\n",
       "      <td>NaN</td>\n",
       "      <td>NaN</td>\n",
       "      <td>NaN</td>\n",
       "      <td>NaN</td>\n",
       "      <td>NaN</td>\n",
       "      <td>NaN</td>\n",
       "      <td>NaN</td>\n",
       "      <td>CVE-2022-44622</td>\n",
       "      <td>security@jetbrains.com</td>\n",
       "    </tr>\n",
       "    <tr>\n",
       "      <th>19523</th>\n",
       "      <td>16354</td>\n",
       "      <td>NaN</td>\n",
       "      <td>NaN</td>\n",
       "      <td>NaN</td>\n",
       "      <td>Cross-Site Request Forgery (CSRF) vulnerabilit...</td>\n",
       "      <td>1</td>\n",
       "      <td>en</td>\n",
       "      <td>NaN</td>\n",
       "      <td>NaN</td>\n",
       "      <td>NaN</td>\n",
       "      <td>...</td>\n",
       "      <td>NaN</td>\n",
       "      <td>NaN</td>\n",
       "      <td>NaN</td>\n",
       "      <td>NaN</td>\n",
       "      <td>NaN</td>\n",
       "      <td>NaN</td>\n",
       "      <td>NaN</td>\n",
       "      <td>NaN</td>\n",
       "      <td>CVE-2022-44627</td>\n",
       "      <td>audit@patchstack.com</td>\n",
       "    </tr>\n",
       "    <tr>\n",
       "      <th>19524</th>\n",
       "      <td>16355</td>\n",
       "      <td>NaN</td>\n",
       "      <td>NaN</td>\n",
       "      <td>NaN</td>\n",
       "      <td>Auth. (admin+) Stored Cross-Site Scripting (XS...</td>\n",
       "      <td>1</td>\n",
       "      <td>en</td>\n",
       "      <td>NaN</td>\n",
       "      <td>NaN</td>\n",
       "      <td>NaN</td>\n",
       "      <td>...</td>\n",
       "      <td>NaN</td>\n",
       "      <td>NaN</td>\n",
       "      <td>NaN</td>\n",
       "      <td>NaN</td>\n",
       "      <td>NaN</td>\n",
       "      <td>NaN</td>\n",
       "      <td>NaN</td>\n",
       "      <td>NaN</td>\n",
       "      <td>CVE-2022-44628</td>\n",
       "      <td>audit@patchstack.com</td>\n",
       "    </tr>\n",
       "  </tbody>\n",
       "</table>\n",
       "<p>19525 rows × 45 columns</p>\n",
       "</div>"
      ],
      "text/plain": [
       "       Unnamed: 0  Unnamed: 0.1       tweetid     author_id  \\\n",
       "0               0           0.0  1.625512e+18  1.606061e+18   \n",
       "1               1           1.0  1.624729e+18  7.010525e+17   \n",
       "2               2           2.0  1.625164e+18  9.413895e+17   \n",
       "3               3           3.0  1.624465e+18  8.218063e+17   \n",
       "4               4           4.0  1.624879e+18  3.367704e+09   \n",
       "...           ...           ...           ...           ...   \n",
       "19520       16349           NaN           NaN           NaN   \n",
       "19521       16350           NaN           NaN           NaN   \n",
       "19522       16351           NaN           NaN           NaN   \n",
       "19523       16354           NaN           NaN           NaN   \n",
       "19524       16355           NaN           NaN           NaN   \n",
       "\n",
       "                                               full_text  label lang  \\\n",
       "0      @DayZ All server officiel on console has been ...      1   en   \n",
       "1      New ESXiArgs Ransomware Variant Emerges After ...      1   ca   \n",
       "2      CVE-2022-45724\\n\\nIncorrect Access Control in ...      1   en   \n",
       "3      CVE-2023-0782 A vulnerability was found in Ten...      1   en   \n",
       "4      @juergenreinhar2 @Bloodie24 @hedoe @ChangeGER ...      1   de   \n",
       "...                                                  ...    ...  ...   \n",
       "19520  Auth. (admin+) Stored Cross-Site Scripting (XS...      1   en   \n",
       "19521  Auth. (admin+) Stored Cross-Site Scripting (XS...      1   en   \n",
       "19522  In JetBrains TeamCity version between 2021.2 a...      1   en   \n",
       "19523  Cross-Site Request Forgery (CSRF) vulnerabilit...      1   en   \n",
       "19524  Auth. (admin+) Stored Cross-Site Scripting (XS...      1   en   \n",
       "\n",
       "                     created_at  geo  retweets  ...  username  user_creation  \\\n",
       "0      2023-02-14T15:07:39.000Z   {}       0.0  ...       NaN            NaN   \n",
       "1      2023-02-12T11:14:02.000Z   {}       0.0  ...       NaN            NaN   \n",
       "2      2023-02-13T16:02:34.000Z   {}       0.0  ...       NaN            NaN   \n",
       "3      2023-02-11T17:45:19.000Z   {}       0.0  ...       NaN            NaN   \n",
       "4      2023-02-12T21:13:33.000Z   {}       0.0  ...       NaN            NaN   \n",
       "...                         ...  ...       ...  ...       ...            ...   \n",
       "19520                       NaN  NaN       NaN  ...       NaN            NaN   \n",
       "19521                       NaN  NaN       NaN  ...       NaN            NaN   \n",
       "19522                       NaN  NaN       NaN  ...       NaN            NaN   \n",
       "19523                       NaN  NaN       NaN  ...       NaN            NaN   \n",
       "19524                       NaN  NaN       NaN  ...       NaN            NaN   \n",
       "\n",
       "       followers followings no_of_tweets  user_verified  user_protected  \\\n",
       "0            NaN        NaN          NaN            NaN             NaN   \n",
       "1            NaN        NaN          NaN            NaN             NaN   \n",
       "2            NaN        NaN          NaN            NaN             NaN   \n",
       "3            NaN        NaN          NaN            NaN             NaN   \n",
       "4            NaN        NaN          NaN            NaN             NaN   \n",
       "...          ...        ...          ...            ...             ...   \n",
       "19520        NaN        NaN          NaN            NaN             NaN   \n",
       "19521        NaN        NaN          NaN            NaN             NaN   \n",
       "19522        NaN        NaN          NaN            NaN             NaN   \n",
       "19523        NaN        NaN          NaN            NaN             NaN   \n",
       "19524        NaN        NaN          NaN            NaN             NaN   \n",
       "\n",
       "       Unnamed: 0.1.1              ID                ASSIGNER  \n",
       "0                 NaN             NaN                     NaN  \n",
       "1                 NaN             NaN                     NaN  \n",
       "2                 NaN             NaN                     NaN  \n",
       "3                 NaN             NaN                     NaN  \n",
       "4                 NaN             NaN                     NaN  \n",
       "...               ...             ...                     ...  \n",
       "19520             NaN  CVE-2022-44576    audit@patchstack.com  \n",
       "19521             NaN  CVE-2022-44586    audit@patchstack.com  \n",
       "19522             NaN  CVE-2022-44622  security@jetbrains.com  \n",
       "19523             NaN  CVE-2022-44627    audit@patchstack.com  \n",
       "19524             NaN  CVE-2022-44628    audit@patchstack.com  \n",
       "\n",
       "[19525 rows x 45 columns]"
      ]
     },
     "execution_count": 42,
     "metadata": {},
     "output_type": "execute_result"
    }
   ],
   "source": [
    "#data = pd.concat([labeled_data_v3, NIST], ignore_index=True)\n",
    "data = pd.concat([data_labeled, NIST], ignore_index=True)\n",
    "data['full_text_clean'] = data['full_text']\n",
    "data['full_text_clean'] = data['full_text_clean'].apply(clean_text)\n",
    "data['full_text_clean'] = data['full_text_clean'].apply(remove_stop_words)\n",
    "data['full_text_clean']\n",
    "data = data.drop_duplicates(subset=['full_text'])\n",
    "data.reset_index(inplace=True, drop=True)\n",
    "data"
   ]
  },
  {
   "cell_type": "code",
   "execution_count": 43,
   "id": "8c1a9135",
   "metadata": {
    "execution": {
     "iopub.execute_input": "2023-06-03T10:23:20.539224Z",
     "iopub.status.busy": "2023-06-03T10:23:20.538897Z",
     "iopub.status.idle": "2023-06-03T10:23:20.547914Z",
     "shell.execute_reply": "2023-06-03T10:23:20.546732Z"
    },
    "papermill": {
     "duration": 0.044153,
     "end_time": "2023-06-03T10:23:20.550056",
     "exception": false,
     "start_time": "2023-06-03T10:23:20.505903",
     "status": "completed"
    },
    "tags": []
   },
   "outputs": [
    {
     "data": {
      "text/plain": [
       "0            server officiel console bugged duplicat items\n",
       "1        esxiargs ransomware variant emerges cisa relea...\n",
       "2        cve 2022 45724 incorrect access control comfas...\n",
       "3        cve 2023 0782 vulnerability tenda ac23 16 03 0...\n",
       "4        paste spam programmierer bot schickst eingangs...\n",
       "                               ...                        \n",
       "19520    admin stored cross scripting xss vulnerability...\n",
       "19521    admin stored cross scripting xss ayoub hili pl...\n",
       "19522    jetbrains teamcity version 2021 2022 access pe...\n",
       "19523    cross request forgery csrf vulnerability david...\n",
       "19524    admin stored cross scripting xss vulnerability...\n",
       "Name: full_text_clean, Length: 19525, dtype: object"
      ]
     },
     "execution_count": 43,
     "metadata": {},
     "output_type": "execute_result"
    }
   ],
   "source": [
    "data['full_text_clean']"
   ]
  },
  {
   "cell_type": "code",
   "execution_count": 44,
   "id": "bdf7bef2",
   "metadata": {
    "execution": {
     "iopub.execute_input": "2023-06-03T10:23:20.615607Z",
     "iopub.status.busy": "2023-06-03T10:23:20.615258Z",
     "iopub.status.idle": "2023-06-03T10:23:27.092566Z",
     "shell.execute_reply": "2023-06-03T10:23:27.091477Z"
    },
    "papermill": {
     "duration": 6.512903,
     "end_time": "2023-06-03T10:23:27.095075",
     "exception": false,
     "start_time": "2023-06-03T10:23:20.582172",
     "status": "completed"
    },
    "tags": []
   },
   "outputs": [
    {
     "name": "stderr",
     "output_type": "stream",
     "text": [
      "[nltk_data] Downloading package snowball_data to\n",
      "[nltk_data]     /usr/share/nltk_data...\n",
      "[nltk_data]   Package snowball_data is already up-to-date!\n"
     ]
    },
    {
     "data": {
      "text/plain": [
       "0                 server officiel consol bug duplicat item\n",
       "1        esxiargs ransomware variant emerges cisa relea...\n",
       "2        cve 2022 45724 incorrect access control comfas...\n",
       "3        cve 2023 0782 vulner tenda ac23 16 03 07 45 cl...\n",
       "4        past spam programmi bot schick eingangsbeotrag...\n",
       "                               ...                        \n",
       "19520    admin store cross script xss vulner agenteasi ...\n",
       "19521    admin store cross script xss ayoub hili plugin...\n",
       "19522    jetbrain teamciti version 2021 2022 access per...\n",
       "19523    cross request forgeri csrf vulner david cole s...\n",
       "19524    admin store cross script xss vulner jumpdemand...\n",
       "Name: full_text_clean, Length: 19525, dtype: object"
      ]
     },
     "execution_count": 44,
     "metadata": {},
     "output_type": "execute_result"
    }
   ],
   "source": [
    "import pandas as pd\n",
    "import nltk\n",
    "from nltk.stem import SnowballStemmer\n",
    "\n",
    "# Initialize the Snowball stemmers for all available languages\n",
    "nltk.download('snowball_data')\n",
    "languages = {\n",
    "    'ar': 'arabic',\n",
    "    'da': 'danish',\n",
    "    'nl': 'dutch',\n",
    "    'en': 'english',\n",
    "    'fi': 'finnish',\n",
    "    'fr': 'french',\n",
    "    'de': 'german',\n",
    "    'hu': 'hungarian',\n",
    "    'it': 'italian',\n",
    "    'no': 'norwegian',\n",
    "    'porter': 'porter',\n",
    "    'pt': 'portuguese',\n",
    "    'ro': 'romanian',\n",
    "    'ru': 'russian',\n",
    "    'es': 'spanish',\n",
    "    'sv': 'swedish'\n",
    "}\n",
    "\n",
    "# Example dataset\n",
    "data = pd.DataFrame(data)\n",
    "\n",
    "# Stemming function that applies stemming based on the language\n",
    "def stem_text(text, language):\n",
    "    if language in languages:\n",
    "        stemmer = SnowballStemmer(languages[language.lower()])\n",
    "        return ' '.join([stemmer.stem(word) for word in text.split()])\n",
    "    else:\n",
    "        return text\n",
    "\n",
    "# Apply stemming to the dataset\n",
    "data['full_text_clean'] = data.apply(lambda row: stem_text(row['full_text_clean'], row['lang']), axis=1)\n",
    "\n",
    "data['full_text_clean']"
   ]
  },
  {
   "cell_type": "code",
   "execution_count": 45,
   "id": "169ed6ab",
   "metadata": {
    "execution": {
     "iopub.execute_input": "2023-06-03T10:23:27.164386Z",
     "iopub.status.busy": "2023-06-03T10:23:27.162788Z",
     "iopub.status.idle": "2023-06-03T10:23:27.172045Z",
     "shell.execute_reply": "2023-06-03T10:23:27.171140Z"
    },
    "papermill": {
     "duration": 0.045804,
     "end_time": "2023-06-03T10:23:27.174349",
     "exception": false,
     "start_time": "2023-06-03T10:23:27.128545",
     "status": "completed"
    },
    "tags": []
   },
   "outputs": [
    {
     "data": {
      "text/plain": [
       "'A simple way to improve your #cybersecurity is getting creative with your account recovery questions and answers🐸🍍  https://t.co/Q079JG3yc6'"
      ]
     },
     "execution_count": 45,
     "metadata": {},
     "output_type": "execute_result"
    }
   ],
   "source": [
    "data['full_text'][2562]"
   ]
  },
  {
   "cell_type": "code",
   "execution_count": 46,
   "id": "ace07ccc",
   "metadata": {
    "execution": {
     "iopub.execute_input": "2023-06-03T10:23:27.242421Z",
     "iopub.status.busy": "2023-06-03T10:23:27.241580Z",
     "iopub.status.idle": "2023-06-03T10:23:27.248401Z",
     "shell.execute_reply": "2023-06-03T10:23:27.247474Z"
    },
    "papermill": {
     "duration": 0.042981,
     "end_time": "2023-06-03T10:23:27.250510",
     "exception": false,
     "start_time": "2023-06-03T10:23:27.207529",
     "status": "completed"
    },
    "tags": []
   },
   "outputs": [
    {
     "data": {
      "text/plain": [
       "'simpl improv cybersecur creativ account recoveri question answer'"
      ]
     },
     "execution_count": 46,
     "metadata": {},
     "output_type": "execute_result"
    }
   ],
   "source": [
    "data['full_text_clean'][2562]"
   ]
  },
  {
   "cell_type": "code",
   "execution_count": 47,
   "id": "2fc7b7a5",
   "metadata": {
    "execution": {
     "iopub.execute_input": "2023-06-03T10:23:27.317951Z",
     "iopub.status.busy": "2023-06-03T10:23:27.317137Z",
     "iopub.status.idle": "2023-06-03T10:23:27.325212Z",
     "shell.execute_reply": "2023-06-03T10:23:27.324139Z"
    },
    "papermill": {
     "duration": 0.044588,
     "end_time": "2023-06-03T10:23:27.327957",
     "exception": false,
     "start_time": "2023-06-03T10:23:27.283369",
     "status": "completed"
    },
    "tags": []
   },
   "outputs": [
    {
     "data": {
      "text/plain": [
       "0      en\n",
       "1      en\n",
       "2      en\n",
       "3      en\n",
       "4      en\n",
       "       ..\n",
       "218    en\n",
       "219    en\n",
       "220    en\n",
       "221    en\n",
       "222    en\n",
       "Name: lang, Length: 223, dtype: object"
      ]
     },
     "execution_count": 47,
     "metadata": {},
     "output_type": "execute_result"
    }
   ],
   "source": [
    "test5['lang']"
   ]
  },
  {
   "cell_type": "code",
   "execution_count": 48,
   "id": "def23468",
   "metadata": {
    "execution": {
     "iopub.execute_input": "2023-06-03T10:23:27.394539Z",
     "iopub.status.busy": "2023-06-03T10:23:27.394242Z",
     "iopub.status.idle": "2023-06-03T10:23:36.807354Z",
     "shell.execute_reply": "2023-06-03T10:23:36.806031Z"
    },
    "papermill": {
     "duration": 9.450601,
     "end_time": "2023-06-03T10:23:36.811263",
     "exception": false,
     "start_time": "2023-06-03T10:23:27.360662",
     "status": "completed"
    },
    "tags": []
   },
   "outputs": [],
   "source": [
    "#our test set won't change here\n",
    "test5['full_text_clean'] = test5['full_text'] \n",
    "test5['full_text_clean'] = test5['full_text_clean'].apply(clean_text)\n",
    "test5['full_text_clean'] = test5['full_text_clean'].apply(remove_stop_words)\n",
    "test5 = pd.DataFrame(test5)\n",
    "\n",
    "test5['full_text_clean'] = test5.apply(lambda row: stem_text(row['full_text_clean'], row['lang']), axis=1)\n",
    "\n",
    "X_test = test5['full_text_clean']\n",
    "y_test = test5['label'] \n",
    "\n",
    "X_test = laser_encode(X_test)\n",
    "y_test = lb.fit_transform(y_test)"
   ]
  },
  {
   "cell_type": "code",
   "execution_count": 49,
   "id": "f9b620b9",
   "metadata": {
    "execution": {
     "iopub.execute_input": "2023-06-03T10:23:36.922672Z",
     "iopub.status.busy": "2023-06-03T10:23:36.922083Z",
     "iopub.status.idle": "2023-06-03T10:23:36.941013Z",
     "shell.execute_reply": "2023-06-03T10:23:36.940053Z"
    },
    "papermill": {
     "duration": 0.076038,
     "end_time": "2023-06-03T10:23:36.943925",
     "exception": false,
     "start_time": "2023-06-03T10:23:36.867887",
     "status": "completed"
    },
    "tags": []
   },
   "outputs": [
    {
     "data": {
      "text/plain": [
       "0      cvenew cve 2021 4326 vulner imper framework pr...\n",
       "1      cve 2018 1000138 librarian function php url se...\n",
       "2      cve 2018 1000138 librarian function php url se...\n",
       "3             cisco nx softwar cli command inject vulner\n",
       "4      cve 2023 21839 vulner weblog function compon c...\n",
       "                             ...                        \n",
       "218    malwar formbook xloader real c2 kenymart onlin...\n",
       "219    danger russia statehood exist russia invad hel...\n",
       "220    secur reason access account twitter connect se...\n",
       "221    rt vlog bbl updat kyungsoo updat nmst yix airp...\n",
       "222               cve 2022 22963 return server bugbounti\n",
       "Name: full_text_clean, Length: 223, dtype: object"
      ]
     },
     "execution_count": 49,
     "metadata": {},
     "output_type": "execute_result"
    }
   ],
   "source": [
    "test5['full_text_clean']"
   ]
  },
  {
   "cell_type": "code",
   "execution_count": 50,
   "id": "c459b16c",
   "metadata": {
    "execution": {
     "iopub.execute_input": "2023-06-03T10:23:37.035750Z",
     "iopub.status.busy": "2023-06-03T10:23:37.035388Z",
     "iopub.status.idle": "2023-06-03T10:23:58.780412Z",
     "shell.execute_reply": "2023-06-03T10:23:58.777849Z"
    },
    "papermill": {
     "duration": 21.793613,
     "end_time": "2023-06-03T10:23:58.783023",
     "exception": false,
     "start_time": "2023-06-03T10:23:36.989410",
     "status": "completed"
    },
    "tags": []
   },
   "outputs": [
    {
     "name": "stdout",
     "output_type": "stream",
     "text": [
      "the text of a tweet:  ret ato ristrett serviz caus attacc ddos notif attacc ddos arriv tram canal comun acars\n",
      "the LASER vector:     [ 0.00164231 -0.00027909 -0.00330358 ...  0.02237508  0.03518321\n",
      "  0.03687666]  with the shape  (1024,)\n"
     ]
    }
   ],
   "source": [
    "X  = data['full_text_clean']\n",
    "y  = data['label']\n",
    "X  = laser_encode(X)\n",
    "y  = lb.fit_transform(y)\n",
    "print('the text of a tweet: ', data['full_text_clean'][6])\n",
    "print('the LASER vector:    ', X[6], ' with the shape ', X[6].shape)"
   ]
  },
  {
   "cell_type": "code",
   "execution_count": 51,
   "id": "b0b77fc5",
   "metadata": {
    "execution": {
     "iopub.execute_input": "2023-06-03T10:23:58.853317Z",
     "iopub.status.busy": "2023-06-03T10:23:58.852435Z",
     "iopub.status.idle": "2023-06-03T10:23:58.865862Z",
     "shell.execute_reply": "2023-06-03T10:23:58.864770Z"
    },
    "papermill": {
     "duration": 0.049993,
     "end_time": "2023-06-03T10:23:58.868279",
     "exception": false,
     "start_time": "2023-06-03T10:23:58.818286",
     "status": "completed"
    },
    "tags": []
   },
   "outputs": [
    {
     "data": {
      "text/plain": [
       "6        ret ato ristrett serviz caus attacc ddos notif...\n",
       "92       rt attenzion cors tentat truff mail utilizz cl...\n",
       "166      rt controll messagg veng blocc spam truff invi...\n",
       "194                           collabor potenz sicurezz ret\n",
       "195      ril nuov version utilizz campagn malspam distr...\n",
       "                               ...                        \n",
       "10686    ditel n4z1 gates soros combriccol criminal bla...\n",
       "10696    arrest nuov 24enn san giorg nogar vide sangior...\n",
       "10703    pens ps1c0p4t1c1 n4z1st1 ferm depopol global s...\n",
       "11037                           registr chiam triplic tacc\n",
       "11285                                    sdrai lev inquiet\n",
       "Name: full_text_clean, Length: 1685, dtype: object"
      ]
     },
     "execution_count": 51,
     "metadata": {},
     "output_type": "execute_result"
    }
   ],
   "source": [
    "data[data['lang']=='it']['full_text_clean']"
   ]
  },
  {
   "cell_type": "code",
   "execution_count": 52,
   "id": "8edce21f",
   "metadata": {
    "execution": {
     "iopub.execute_input": "2023-06-03T10:23:58.939697Z",
     "iopub.status.busy": "2023-06-03T10:23:58.939316Z",
     "iopub.status.idle": "2023-06-03T10:23:58.949162Z",
     "shell.execute_reply": "2023-06-03T10:23:58.947890Z"
    },
    "papermill": {
     "duration": 0.049573,
     "end_time": "2023-06-03T10:23:58.951808",
     "exception": false,
     "start_time": "2023-06-03T10:23:58.902235",
     "status": "completed"
    },
    "tags": []
   },
   "outputs": [
    {
     "name": "stdout",
     "output_type": "stream",
     "text": [
      "[ 6.3045532e-04 -4.3705473e-05 -2.9630674e-04 ...  9.0193804e-03\n",
      "  1.0981227e-02  2.8441336e-02]\n"
     ]
    }
   ],
   "source": [
    "print(X[15500])\n",
    "import pickle"
   ]
  },
  {
   "cell_type": "code",
   "execution_count": 53,
   "id": "39fecafe",
   "metadata": {
    "execution": {
     "iopub.execute_input": "2023-06-03T10:23:59.022494Z",
     "iopub.status.busy": "2023-06-03T10:23:59.021557Z",
     "iopub.status.idle": "2023-06-03T10:24:00.781148Z",
     "shell.execute_reply": "2023-06-03T10:24:00.777663Z"
    },
    "papermill": {
     "duration": 1.797827,
     "end_time": "2023-06-03T10:24:00.783762",
     "exception": false,
     "start_time": "2023-06-03T10:23:58.985935",
     "status": "completed"
    },
    "tags": []
   },
   "outputs": [
    {
     "name": "stderr",
     "output_type": "stream",
     "text": [
      "/opt/conda/lib/python3.7/site-packages/sklearn/utils/validation.py:993: DataConversionWarning:\n",
      "\n",
      "A column-vector y was passed when a 1d array was expected. Please change the shape of y to (n_samples, ), for example using ravel().\n",
      "\n"
     ]
    },
    {
     "name": "stdout",
     "output_type": "stream",
     "text": [
      "Training time: 1.7220046520233154 seconds\n",
      "[0.54545455 0.89010989]\n",
      "\n",
      "0.7177822177822177\n",
      "\n",
      "Confusion matrix:\n",
      "[[72 60]\n",
      " [10 81]]\n",
      "\n",
      "Normalized confusion matrix:\n",
      "[[0.54545455 0.45454545]\n",
      " [0.10989011 0.89010989]]\n",
      "\n",
      "Classification report:\n",
      "              precision    recall  f1-score   support\n",
      "\n",
      "     label 0       0.88      0.55      0.67       132\n",
      "     label 1       0.57      0.89      0.70        91\n",
      "\n",
      "    accuracy                           0.69       223\n",
      "   macro avg       0.73      0.72      0.69       223\n",
      "weighted avg       0.75      0.69      0.68       223\n",
      "\n",
      "AUC-ROC: 0.7177822177822177\n",
      "MCC: 0.4439597427086379\n",
      "precision: 0.726258432797094\n",
      "recall: 0.7177822177822177\n",
      "f1_score: 0.6855865291653238\n",
      "Test loss: 10.841983513406095\n",
      "Test accuracy: 0.6860986547085202\n"
     ]
    }
   ],
   "source": [
    "def LR_model():       \n",
    "    # Train a logi\n",
    "    global m\n",
    "    time_callback = TrainingTimeCallback()\n",
    "    #stic regression classifier on the embeddings\n",
    "    LR = LogisticRegression()\n",
    "    m = 'LR_laser'\n",
    "    time_callback.on_train_begin()\n",
    "    LR.fit(X , y )\n",
    "    time_callback.on_train_end()\n",
    "    filename = f\"LR_{m}.h5\"\n",
    "    with open(filename, 'wb') as file:\n",
    "        pickle.dump(LR, file)\n",
    "#     print('Best epoch: %d' % (best_epoch,))   \n",
    "    # Increment the counter for saved models\n",
    "    results(LR, X , y , X_test, y_test)\n",
    "LR_model()"
   ]
  },
  {
   "cell_type": "markdown",
   "id": "647f6e65",
   "metadata": {
    "papermill": {
     "duration": 0.051917,
     "end_time": "2023-06-03T10:24:00.899746",
     "exception": false,
     "start_time": "2023-06-03T10:24:00.847829",
     "status": "completed"
    },
    "tags": []
   },
   "source": [
    "> next model"
   ]
  },
  {
   "cell_type": "code",
   "execution_count": 54,
   "id": "139b0a94",
   "metadata": {
    "execution": {
     "iopub.execute_input": "2023-06-03T10:24:00.969165Z",
     "iopub.status.busy": "2023-06-03T10:24:00.968796Z",
     "iopub.status.idle": "2023-06-03T10:24:01.000247Z",
     "shell.execute_reply": "2023-06-03T10:24:00.999208Z"
    },
    "papermill": {
     "duration": 0.068311,
     "end_time": "2023-06-03T10:24:01.002528",
     "exception": false,
     "start_time": "2023-06-03T10:24:00.934217",
     "status": "completed"
    },
    "tags": []
   },
   "outputs": [],
   "source": [
    "from sklearn.metrics import confusion_matrix, precision_recall_fscore_support\n",
    "from sklearn.metrics import classification_report, roc_auc_score, matthews_corrcoef\n",
    "import time\n",
    "# Compute confusion matrix\n",
    "def confusion(predictions):\n",
    "    cm = confusion_matrix(y_test, predictions)\n",
    "    accuracies = cm.diagonal()/cm.sum(axis=1)\n",
    "    print(accuracies)\n",
    "    print()\n",
    "\n",
    "    # Calculate the average accuracy across all classes\n",
    "    avg_accuracy = accuracies.mean()\n",
    "    # Print the average accuracy\n",
    "    print(avg_accuracy)\n",
    "    print()\n",
    "    \n",
    "    # Print confusion matrix\n",
    "    classes = np.unique(y_test)\n",
    "    print(\"Confusion matrix:\")\n",
    "    print(cm)\n",
    "    print()\n",
    "\n",
    "    # Print normalized confusion matrix\n",
    "    cm_norm = cm.astype('float') / cm.sum(axis=1)[:, np.newaxis]\n",
    "    print(\"Normalized confusion matrix:\")\n",
    "    print(cm_norm)\n",
    "    print()\n",
    "\n",
    "    print(\"Classification report:\")\n",
    "    print(classification_report(y_test, predictions, target_names=[f\"label {c}\" for c in classes]))\n",
    "    \n",
    "    auc_roc = roc_auc_score(y_test, predictions) # y_pred_prob is the predicted probability of class 1\n",
    "    mcc = matthews_corrcoef(y_test, predictions)\n",
    "    print(\"AUC-ROC:\", auc_roc)\n",
    "    print(\"MCC:\", mcc)\n",
    "    \n",
    "    precision, recall, f1_score, _ = precision_recall_fscore_support(y_test, predictions, average='macro')\n",
    "    print(\"precision:\", precision)\n",
    "    print(\"recall:\", recall)\n",
    "    print(\"f1_score:\", f1_score)\n",
    "\n",
    "    precision_list.append(precision)\n",
    "    recall_list.append(recall)\n",
    "    f1_score_list.append(f1_score)\n",
    "    auc_roc_list.append(auc_roc)\n",
    "    mcc_list.append(mcc)\n",
    "    model_name.append(m)\n",
    "\n",
    "def results(model, x, y, x_t, y_t):    \n",
    "    print('Train Accuracy: ')\n",
    "    model.evaluate(x, y, verbose =1)\n",
    "\n",
    "    print('Test Accuracy: ')\n",
    "    loss, accuracy = model.evaluate(x_t , y_t , verbose =1)\n",
    "    # Print the evaluation results\n",
    "    print('Test loss:', loss)\n",
    "    print('Test accuracy:', accuracy)\n",
    "    accuracy_list.append(accuracy)\n",
    "    loss_list.append(loss)\n",
    "    \n",
    "    prediction = model.predict(x_t)\n",
    "    for i in range(len(prediction)):\n",
    "        if (prediction[i] < 0.5):\n",
    "            prediction[i] = 0\n",
    "        else: \n",
    "            prediction[i] = 1\n",
    "    confusion(prediction)\n",
    "epochs = 50\n",
    "batch_size = 32\n",
    "# Initialize counter for saved models\n",
    "num_saved_models = 1\n",
    "# epochs = 200\n",
    "max_len = 1024\n",
    "        \n",
    "callback = tfk.callbacks.EarlyStopping(monitor='val_loss', mode='min', patience=10, restore_best_weights=True)\n",
    "\n",
    "\n",
    "def build_model(sh):    \n",
    "    # Build the model\n",
    "    model = tf.keras.Sequential([\n",
    "        tf.keras.Input(shape=(sh,)),\n",
    "        tf.keras.layers.Dense(256, activation=tf.keras.layers.LeakyReLU(alpha=0.1), kernel_regularizer=regularizers.l2(0.01)),\n",
    "            tf.keras.layers.BatchNormalization(),\n",
    "            tf.keras.layers.Dropout(0.25),\n",
    "        tf.keras.layers.Dense(128, activation=tf.keras.layers.LeakyReLU(alpha=0.1), kernel_regularizer=regularizers.l2(0.01)),\n",
    "            tf.keras.layers.BatchNormalization(),\n",
    "            tf.keras.layers.Dropout(0.25),\n",
    "        tf.keras.layers.Dense(32, activation=tf.keras.layers.LeakyReLU(alpha=0.1), kernel_regularizer=regularizers.l2(0.01)),\n",
    "            tf.keras.layers.BatchNormalization(),\n",
    "            tf.keras.layers.Dropout(0.25),\n",
    "        tf.keras.layers.Dense(8, activation=tf.keras.layers.LeakyReLU(alpha=0.1), kernel_regularizer=regularizers.l2(0.01)),\n",
    "            tf.keras.layers.BatchNormalization(),\n",
    "            tf.keras.layers.Dropout(0.25),\n",
    "        tf.keras.layers.Dense(1, activation=tf.keras.activations.sigmoid),\n",
    "    ])\n",
    "    model.compile(loss = tf.keras.losses.BinaryCrossentropy(), \n",
    "                  optimizer=tf.keras.optimizers.Adam(learning_rate=1e-5),\n",
    "                  metrics =  [ tf.keras.metrics.BinaryAccuracy() ])\n",
    "    print(model.summary())\n",
    "    return model\n",
    "\n",
    "\n",
    "def model_fit(model,x, y, x_v, y_v):\n",
    "    global num_saved_models, m, best_epoch\n",
    "    callback = tf.keras.callbacks.EarlyStopping(monitor='val_loss', mode='min', verbose=0, patience=10, restore_best_weights=True)\n",
    "    history = model.fit(x, y, \n",
    "                        epochs=epochs, \n",
    "                        batch_size=batch_size, \n",
    "                        validation_split=0.2, \n",
    "                        validation_data=([x_v,y_v]),\n",
    "                        verbose=1,\n",
    "#                         callbacks=callback,\n",
    "                        callbacks=[callback,TrainingTimeCallback()])\n",
    "    \n",
    "    plot_history(history)\n",
    "    model.save(f\"model_{m}_{num_saved_models}.h5\")\n",
    "    val_acc_per_epoch = history.history['val_binary_accuracy']\n",
    "    best_epoch = val_acc_per_epoch.index(max(val_acc_per_epoch)) + 1\n",
    "    print('Best epoch: %d' % (best_epoch,))   \n",
    "    # Increment the counter for saved models\n",
    "    num_saved_models += 1"
   ]
  },
  {
   "cell_type": "code",
   "execution_count": 55,
   "id": "0ef28e66",
   "metadata": {
    "collapsed": true,
    "execution": {
     "iopub.execute_input": "2023-06-03T10:24:01.070910Z",
     "iopub.status.busy": "2023-06-03T10:24:01.070606Z",
     "iopub.status.idle": "2023-06-03T10:30:29.509624Z",
     "shell.execute_reply": "2023-06-03T10:30:29.508186Z"
    },
    "jupyter": {
     "outputs_hidden": true
    },
    "papermill": {
     "duration": 388.47673,
     "end_time": "2023-06-03T10:30:29.512560",
     "exception": false,
     "start_time": "2023-06-03T10:24:01.035830",
     "status": "completed"
    },
    "tags": []
   },
   "outputs": [
    {
     "name": "stdout",
     "output_type": "stream",
     "text": [
      "Model: \"sequential\"\n",
      "_________________________________________________________________\n",
      "Layer (type)                 Output Shape              Param #   \n",
      "=================================================================\n",
      "dense (Dense)                (None, 256)               262400    \n",
      "_________________________________________________________________\n",
      "batch_normalization (BatchNo (None, 256)               1024      \n",
      "_________________________________________________________________\n",
      "dropout (Dropout)            (None, 256)               0         \n",
      "_________________________________________________________________\n",
      "dense_1 (Dense)              (None, 128)               32896     \n",
      "_________________________________________________________________\n",
      "batch_normalization_1 (Batch (None, 128)               512       \n",
      "_________________________________________________________________\n",
      "dropout_1 (Dropout)          (None, 128)               0         \n",
      "_________________________________________________________________\n",
      "dense_2 (Dense)              (None, 32)                4128      \n",
      "_________________________________________________________________\n",
      "batch_normalization_2 (Batch (None, 32)                128       \n",
      "_________________________________________________________________\n",
      "dropout_2 (Dropout)          (None, 32)                0         \n",
      "_________________________________________________________________\n",
      "dense_3 (Dense)              (None, 8)                 264       \n",
      "_________________________________________________________________\n",
      "batch_normalization_3 (Batch (None, 8)                 32        \n",
      "_________________________________________________________________\n",
      "dropout_3 (Dropout)          (None, 8)                 0         \n",
      "_________________________________________________________________\n",
      "dense_4 (Dense)              (None, 1)                 9         \n",
      "=================================================================\n",
      "Total params: 301,393\n",
      "Trainable params: 300,545\n",
      "Non-trainable params: 848\n",
      "_________________________________________________________________\n",
      "None\n",
      "Epoch 1/150\n",
      "367/367 [==============================] - 6s 8ms/step - loss: 7.0356 - binary_accuracy: 0.6096 - val_loss: 6.8913 - val_binary_accuracy: 0.7518\n",
      "Epoch 2/150\n",
      "367/367 [==============================] - 2s 6ms/step - loss: 6.7358 - binary_accuracy: 0.7210 - val_loss: 6.5539 - val_binary_accuracy: 0.8641\n",
      "Epoch 3/150\n",
      "367/367 [==============================] - 2s 6ms/step - loss: 6.5145 - binary_accuracy: 0.7786 - val_loss: 6.3276 - val_binary_accuracy: 0.8921\n",
      "Epoch 4/150\n",
      "367/367 [==============================] - 2s 6ms/step - loss: 6.3129 - binary_accuracy: 0.8177 - val_loss: 6.1349 - val_binary_accuracy: 0.9044\n",
      "Epoch 5/150\n",
      "367/367 [==============================] - 2s 6ms/step - loss: 6.1163 - binary_accuracy: 0.8379 - val_loss: 5.9442 - val_binary_accuracy: 0.9129\n",
      "Epoch 6/150\n",
      "367/367 [==============================] - 2s 7ms/step - loss: 5.9244 - binary_accuracy: 0.8486 - val_loss: 5.7598 - val_binary_accuracy: 0.9191\n",
      "Epoch 7/150\n",
      "367/367 [==============================] - 2s 7ms/step - loss: 5.7309 - binary_accuracy: 0.8684 - val_loss: 5.5668 - val_binary_accuracy: 0.9232\n",
      "Epoch 8/150\n",
      "367/367 [==============================] - 2s 6ms/step - loss: 5.5377 - binary_accuracy: 0.8792 - val_loss: 5.3662 - val_binary_accuracy: 0.9273\n",
      "Epoch 9/150\n",
      "367/367 [==============================] - 2s 6ms/step - loss: 5.3452 - binary_accuracy: 0.8813 - val_loss: 5.1805 - val_binary_accuracy: 0.9334\n",
      "Epoch 10/150\n",
      "367/367 [==============================] - 2s 6ms/step - loss: 5.1462 - binary_accuracy: 0.8979 - val_loss: 4.9838 - val_binary_accuracy: 0.9348\n",
      "Epoch 11/150\n",
      "367/367 [==============================] - 2s 7ms/step - loss: 4.9584 - binary_accuracy: 0.8988 - val_loss: 4.7973 - val_binary_accuracy: 0.9392\n",
      "Epoch 12/150\n",
      "367/367 [==============================] - 2s 6ms/step - loss: 4.7652 - binary_accuracy: 0.9059 - val_loss: 4.6142 - val_binary_accuracy: 0.9409\n",
      "Epoch 13/150\n",
      "367/367 [==============================] - 2s 6ms/step - loss: 4.5767 - binary_accuracy: 0.9082 - val_loss: 4.4244 - val_binary_accuracy: 0.9447\n",
      "Epoch 14/150\n",
      "367/367 [==============================] - 3s 8ms/step - loss: 4.3944 - binary_accuracy: 0.9138 - val_loss: 4.2447 - val_binary_accuracy: 0.9461\n",
      "Epoch 15/150\n",
      "367/367 [==============================] - 2s 7ms/step - loss: 4.2168 - binary_accuracy: 0.9205 - val_loss: 4.0722 - val_binary_accuracy: 0.9515\n",
      "Epoch 16/150\n",
      "367/367 [==============================] - 2s 6ms/step - loss: 4.0448 - binary_accuracy: 0.9205 - val_loss: 3.8986 - val_binary_accuracy: 0.9546\n",
      "Epoch 17/150\n",
      "367/367 [==============================] - 2s 6ms/step - loss: 3.8705 - binary_accuracy: 0.9254 - val_loss: 3.7336 - val_binary_accuracy: 0.9570\n",
      "Epoch 18/150\n",
      "367/367 [==============================] - 2s 6ms/step - loss: 3.7104 - binary_accuracy: 0.9291 - val_loss: 3.5737 - val_binary_accuracy: 0.9570\n",
      "Epoch 19/150\n",
      "367/367 [==============================] - 2s 6ms/step - loss: 3.5514 - binary_accuracy: 0.9332 - val_loss: 3.4223 - val_binary_accuracy: 0.9587\n",
      "Epoch 20/150\n",
      "367/367 [==============================] - 2s 6ms/step - loss: 3.4160 - binary_accuracy: 0.9322 - val_loss: 3.2997 - val_binary_accuracy: 0.9587\n",
      "Epoch 21/150\n",
      "367/367 [==============================] - 2s 6ms/step - loss: 3.2959 - binary_accuracy: 0.9361 - val_loss: 3.1781 - val_binary_accuracy: 0.9601\n",
      "Epoch 22/150\n",
      "367/367 [==============================] - 2s 6ms/step - loss: 3.1776 - binary_accuracy: 0.9355 - val_loss: 3.0613 - val_binary_accuracy: 0.9607\n",
      "Epoch 23/150\n",
      "367/367 [==============================] - 2s 6ms/step - loss: 3.0595 - binary_accuracy: 0.9378 - val_loss: 2.9453 - val_binary_accuracy: 0.9611\n",
      "Epoch 24/150\n",
      "367/367 [==============================] - 2s 6ms/step - loss: 2.9408 - binary_accuracy: 0.9415 - val_loss: 2.8326 - val_binary_accuracy: 0.9621\n",
      "Epoch 25/150\n",
      "367/367 [==============================] - 2s 7ms/step - loss: 2.8394 - binary_accuracy: 0.9408 - val_loss: 2.7447 - val_binary_accuracy: 0.9628\n",
      "Epoch 26/150\n",
      "367/367 [==============================] - 2s 6ms/step - loss: 2.7528 - binary_accuracy: 0.9384 - val_loss: 2.6540 - val_binary_accuracy: 0.9655\n",
      "Epoch 27/150\n",
      "367/367 [==============================] - 3s 7ms/step - loss: 2.6618 - binary_accuracy: 0.9435 - val_loss: 2.5672 - val_binary_accuracy: 0.9662\n",
      "Epoch 28/150\n",
      "367/367 [==============================] - 2s 6ms/step - loss: 2.5727 - binary_accuracy: 0.9459 - val_loss: 2.4807 - val_binary_accuracy: 0.9652\n",
      "Epoch 29/150\n",
      "367/367 [==============================] - 2s 6ms/step - loss: 2.4863 - binary_accuracy: 0.9474 - val_loss: 2.3978 - val_binary_accuracy: 0.9652\n",
      "Epoch 30/150\n",
      "367/367 [==============================] - 2s 6ms/step - loss: 2.4095 - binary_accuracy: 0.9437 - val_loss: 2.3134 - val_binary_accuracy: 0.9676\n",
      "Epoch 31/150\n",
      "367/367 [==============================] - 2s 6ms/step - loss: 2.3257 - binary_accuracy: 0.9449 - val_loss: 2.2334 - val_binary_accuracy: 0.9676\n",
      "Epoch 32/150\n",
      "367/367 [==============================] - 2s 6ms/step - loss: 2.2485 - binary_accuracy: 0.9445 - val_loss: 2.1568 - val_binary_accuracy: 0.9665\n",
      "Epoch 33/150\n",
      "367/367 [==============================] - 2s 6ms/step - loss: 2.1732 - binary_accuracy: 0.9459 - val_loss: 2.0801 - val_binary_accuracy: 0.9672\n",
      "Epoch 34/150\n",
      "367/367 [==============================] - 2s 6ms/step - loss: 2.0970 - binary_accuracy: 0.9472 - val_loss: 2.0075 - val_binary_accuracy: 0.9689\n",
      "Epoch 35/150\n",
      "367/367 [==============================] - 2s 6ms/step - loss: 2.0206 - binary_accuracy: 0.9524 - val_loss: 1.9381 - val_binary_accuracy: 0.9700\n",
      "Epoch 36/150\n",
      "367/367 [==============================] - 2s 6ms/step - loss: 1.9534 - binary_accuracy: 0.9529 - val_loss: 1.8704 - val_binary_accuracy: 0.9696\n",
      "Epoch 37/150\n",
      "367/367 [==============================] - 2s 6ms/step - loss: 1.8902 - binary_accuracy: 0.9504 - val_loss: 1.8048 - val_binary_accuracy: 0.9720\n",
      "Epoch 38/150\n",
      "367/367 [==============================] - 2s 6ms/step - loss: 1.8220 - binary_accuracy: 0.9530 - val_loss: 1.7439 - val_binary_accuracy: 0.9713\n",
      "Epoch 39/150\n",
      "367/367 [==============================] - 2s 7ms/step - loss: 1.7632 - binary_accuracy: 0.9542 - val_loss: 1.6848 - val_binary_accuracy: 0.9713\n",
      "Epoch 40/150\n",
      "367/367 [==============================] - 2s 6ms/step - loss: 1.7032 - binary_accuracy: 0.9534 - val_loss: 1.6287 - val_binary_accuracy: 0.9710\n",
      "Epoch 41/150\n",
      "367/367 [==============================] - 3s 8ms/step - loss: 1.6508 - binary_accuracy: 0.9541 - val_loss: 1.5741 - val_binary_accuracy: 0.9703\n",
      "Epoch 42/150\n",
      "367/367 [==============================] - 2s 7ms/step - loss: 1.5946 - binary_accuracy: 0.9572 - val_loss: 1.5273 - val_binary_accuracy: 0.9717\n",
      "Epoch 43/150\n",
      "367/367 [==============================] - 2s 7ms/step - loss: 1.5545 - binary_accuracy: 0.9562 - val_loss: 1.4803 - val_binary_accuracy: 0.9717\n",
      "Epoch 44/150\n",
      "367/367 [==============================] - 2s 6ms/step - loss: 1.5013 - binary_accuracy: 0.9581 - val_loss: 1.4374 - val_binary_accuracy: 0.9717\n",
      "Epoch 45/150\n",
      "367/367 [==============================] - 2s 6ms/step - loss: 1.4598 - binary_accuracy: 0.9569 - val_loss: 1.3942 - val_binary_accuracy: 0.9720\n",
      "Epoch 46/150\n",
      "367/367 [==============================] - 2s 6ms/step - loss: 1.4216 - binary_accuracy: 0.9553 - val_loss: 1.3543 - val_binary_accuracy: 0.9720\n",
      "Epoch 47/150\n",
      "367/367 [==============================] - 2s 6ms/step - loss: 1.3762 - binary_accuracy: 0.9587 - val_loss: 1.3166 - val_binary_accuracy: 0.9710\n",
      "Epoch 48/150\n",
      "367/367 [==============================] - 2s 6ms/step - loss: 1.3368 - binary_accuracy: 0.9600 - val_loss: 1.2794 - val_binary_accuracy: 0.9713\n",
      "Epoch 49/150\n",
      "367/367 [==============================] - 2s 6ms/step - loss: 1.3019 - binary_accuracy: 0.9605 - val_loss: 1.2423 - val_binary_accuracy: 0.9717\n",
      "Epoch 50/150\n",
      "367/367 [==============================] - 2s 6ms/step - loss: 1.2666 - binary_accuracy: 0.9585 - val_loss: 1.2099 - val_binary_accuracy: 0.9727\n",
      "Epoch 51/150\n",
      "367/367 [==============================] - 2s 6ms/step - loss: 1.2294 - binary_accuracy: 0.9618 - val_loss: 1.1770 - val_binary_accuracy: 0.9720\n",
      "Epoch 52/150\n",
      "367/367 [==============================] - 2s 6ms/step - loss: 1.1989 - binary_accuracy: 0.9624 - val_loss: 1.1468 - val_binary_accuracy: 0.9717\n",
      "Epoch 53/150\n",
      "367/367 [==============================] - 2s 7ms/step - loss: 1.1652 - binary_accuracy: 0.9654 - val_loss: 1.1178 - val_binary_accuracy: 0.9703\n",
      "Epoch 54/150\n",
      "367/367 [==============================] - 3s 7ms/step - loss: 1.1399 - binary_accuracy: 0.9608 - val_loss: 1.0883 - val_binary_accuracy: 0.9730\n",
      "Epoch 55/150\n",
      "367/367 [==============================] - 2s 6ms/step - loss: 1.1073 - binary_accuracy: 0.9645 - val_loss: 1.0607 - val_binary_accuracy: 0.9727\n",
      "Epoch 56/150\n",
      "367/367 [==============================] - 2s 6ms/step - loss: 1.0857 - binary_accuracy: 0.9641 - val_loss: 1.0345 - val_binary_accuracy: 0.9730\n",
      "Epoch 57/150\n",
      "367/367 [==============================] - 2s 6ms/step - loss: 1.0569 - binary_accuracy: 0.9647 - val_loss: 1.0108 - val_binary_accuracy: 0.9723\n",
      "Epoch 58/150\n",
      "367/367 [==============================] - 2s 6ms/step - loss: 1.0352 - binary_accuracy: 0.9637 - val_loss: 0.9858 - val_binary_accuracy: 0.9737\n",
      "Epoch 59/150\n",
      "367/367 [==============================] - 2s 6ms/step - loss: 1.0100 - binary_accuracy: 0.9638 - val_loss: 0.9634 - val_binary_accuracy: 0.9727\n",
      "Epoch 60/150\n",
      "367/367 [==============================] - 2s 6ms/step - loss: 0.9880 - binary_accuracy: 0.9645 - val_loss: 0.9423 - val_binary_accuracy: 0.9727\n",
      "Epoch 61/150\n",
      "367/367 [==============================] - 2s 7ms/step - loss: 0.9688 - binary_accuracy: 0.9636 - val_loss: 0.9222 - val_binary_accuracy: 0.9730\n",
      "Epoch 62/150\n",
      "367/367 [==============================] - 2s 7ms/step - loss: 0.9453 - binary_accuracy: 0.9639 - val_loss: 0.9035 - val_binary_accuracy: 0.9730\n",
      "Epoch 63/150\n",
      "367/367 [==============================] - 2s 6ms/step - loss: 0.9294 - binary_accuracy: 0.9639 - val_loss: 0.8862 - val_binary_accuracy: 0.9734\n",
      "Epoch 64/150\n",
      "367/367 [==============================] - 2s 6ms/step - loss: 0.9027 - binary_accuracy: 0.9681 - val_loss: 0.8676 - val_binary_accuracy: 0.9734\n",
      "Epoch 65/150\n",
      "367/367 [==============================] - 2s 6ms/step - loss: 0.8830 - binary_accuracy: 0.9694 - val_loss: 0.8509 - val_binary_accuracy: 0.9720\n",
      "Epoch 66/150\n",
      "367/367 [==============================] - 2s 6ms/step - loss: 0.8739 - binary_accuracy: 0.9649 - val_loss: 0.8340 - val_binary_accuracy: 0.9737\n",
      "Epoch 67/150\n",
      "367/367 [==============================] - 3s 7ms/step - loss: 0.8521 - binary_accuracy: 0.9668 - val_loss: 0.8181 - val_binary_accuracy: 0.9727\n",
      "Epoch 68/150\n",
      "367/367 [==============================] - 2s 7ms/step - loss: 0.8326 - binary_accuracy: 0.9696 - val_loss: 0.8037 - val_binary_accuracy: 0.9741\n",
      "Epoch 69/150\n",
      "367/367 [==============================] - 2s 6ms/step - loss: 0.8159 - binary_accuracy: 0.9711 - val_loss: 0.7889 - val_binary_accuracy: 0.9737\n",
      "Epoch 70/150\n",
      "367/367 [==============================] - 2s 6ms/step - loss: 0.8088 - binary_accuracy: 0.9673 - val_loss: 0.7743 - val_binary_accuracy: 0.9741\n",
      "Epoch 71/150\n",
      "367/367 [==============================] - 2s 7ms/step - loss: 0.7912 - binary_accuracy: 0.9692 - val_loss: 0.7608 - val_binary_accuracy: 0.9734\n",
      "Epoch 72/150\n",
      "367/367 [==============================] - 2s 6ms/step - loss: 0.7721 - binary_accuracy: 0.9716 - val_loss: 0.7484 - val_binary_accuracy: 0.9720\n",
      "Epoch 73/150\n",
      "367/367 [==============================] - 2s 6ms/step - loss: 0.7592 - binary_accuracy: 0.9716 - val_loss: 0.7338 - val_binary_accuracy: 0.9751\n",
      "Epoch 74/150\n",
      "367/367 [==============================] - 2s 6ms/step - loss: 0.7447 - binary_accuracy: 0.9705 - val_loss: 0.7221 - val_binary_accuracy: 0.9734\n",
      "Epoch 75/150\n",
      "367/367 [==============================] - 2s 6ms/step - loss: 0.7310 - binary_accuracy: 0.9733 - val_loss: 0.7101 - val_binary_accuracy: 0.9747\n",
      "Epoch 76/150\n",
      "367/367 [==============================] - 2s 6ms/step - loss: 0.7225 - binary_accuracy: 0.9710 - val_loss: 0.6983 - val_binary_accuracy: 0.9741\n",
      "Epoch 77/150\n",
      "367/367 [==============================] - 2s 6ms/step - loss: 0.7139 - binary_accuracy: 0.9705 - val_loss: 0.6885 - val_binary_accuracy: 0.9744\n",
      "Epoch 78/150\n",
      "367/367 [==============================] - 2s 6ms/step - loss: 0.6961 - binary_accuracy: 0.9719 - val_loss: 0.6770 - val_binary_accuracy: 0.9741\n",
      "Epoch 79/150\n",
      "367/367 [==============================] - 2s 6ms/step - loss: 0.6871 - binary_accuracy: 0.9720 - val_loss: 0.6671 - val_binary_accuracy: 0.9737\n",
      "Epoch 80/150\n",
      "367/367 [==============================] - 2s 6ms/step - loss: 0.6755 - binary_accuracy: 0.9727 - val_loss: 0.6577 - val_binary_accuracy: 0.9751\n",
      "Epoch 81/150\n",
      "367/367 [==============================] - 3s 8ms/step - loss: 0.6636 - binary_accuracy: 0.9752 - val_loss: 0.6492 - val_binary_accuracy: 0.9734\n",
      "Epoch 82/150\n",
      "367/367 [==============================] - 2s 6ms/step - loss: 0.6614 - binary_accuracy: 0.9712 - val_loss: 0.6382 - val_binary_accuracy: 0.9741\n",
      "Epoch 83/150\n",
      "367/367 [==============================] - 2s 7ms/step - loss: 0.6466 - binary_accuracy: 0.9739 - val_loss: 0.6297 - val_binary_accuracy: 0.9741\n",
      "Epoch 84/150\n",
      "367/367 [==============================] - 2s 7ms/step - loss: 0.6318 - binary_accuracy: 0.9753 - val_loss: 0.6190 - val_binary_accuracy: 0.9747\n",
      "Epoch 85/150\n",
      "367/367 [==============================] - 2s 7ms/step - loss: 0.6254 - binary_accuracy: 0.9737 - val_loss: 0.6113 - val_binary_accuracy: 0.9744\n",
      "Epoch 86/150\n",
      "367/367 [==============================] - 2s 6ms/step - loss: 0.6155 - binary_accuracy: 0.9740 - val_loss: 0.6065 - val_binary_accuracy: 0.9741\n",
      "Epoch 87/150\n",
      "367/367 [==============================] - 2s 6ms/step - loss: 0.6068 - binary_accuracy: 0.9770 - val_loss: 0.5971 - val_binary_accuracy: 0.9744\n",
      "Epoch 88/150\n",
      "367/367 [==============================] - 2s 7ms/step - loss: 0.5931 - binary_accuracy: 0.9786 - val_loss: 0.5892 - val_binary_accuracy: 0.9737\n",
      "Epoch 89/150\n",
      "367/367 [==============================] - 2s 6ms/step - loss: 0.5948 - binary_accuracy: 0.9746 - val_loss: 0.5829 - val_binary_accuracy: 0.9737\n",
      "Epoch 90/150\n",
      "367/367 [==============================] - 2s 6ms/step - loss: 0.5776 - binary_accuracy: 0.9772 - val_loss: 0.5741 - val_binary_accuracy: 0.9747\n",
      "Epoch 91/150\n",
      "367/367 [==============================] - 2s 6ms/step - loss: 0.5697 - binary_accuracy: 0.9784 - val_loss: 0.5660 - val_binary_accuracy: 0.9761\n",
      "Epoch 92/150\n",
      "367/367 [==============================] - 2s 6ms/step - loss: 0.5626 - binary_accuracy: 0.9783 - val_loss: 0.5606 - val_binary_accuracy: 0.9727\n",
      "Epoch 93/150\n",
      "367/367 [==============================] - 2s 6ms/step - loss: 0.5547 - binary_accuracy: 0.9785 - val_loss: 0.5545 - val_binary_accuracy: 0.9734\n",
      "Epoch 94/150\n",
      "367/367 [==============================] - 3s 8ms/step - loss: 0.5541 - binary_accuracy: 0.9781 - val_loss: 0.5474 - val_binary_accuracy: 0.9754\n",
      "Epoch 95/150\n",
      "367/367 [==============================] - 2s 6ms/step - loss: 0.5451 - binary_accuracy: 0.9782 - val_loss: 0.5426 - val_binary_accuracy: 0.9761\n",
      "Epoch 96/150\n",
      "367/367 [==============================] - 2s 6ms/step - loss: 0.5394 - binary_accuracy: 0.9780 - val_loss: 0.5393 - val_binary_accuracy: 0.9744\n",
      "Epoch 97/150\n",
      "367/367 [==============================] - 2s 6ms/step - loss: 0.5309 - binary_accuracy: 0.9781 - val_loss: 0.5344 - val_binary_accuracy: 0.9744\n",
      "Epoch 98/150\n",
      "367/367 [==============================] - 2s 6ms/step - loss: 0.5245 - binary_accuracy: 0.9806 - val_loss: 0.5285 - val_binary_accuracy: 0.9737\n",
      "Epoch 99/150\n",
      "367/367 [==============================] - 2s 7ms/step - loss: 0.5166 - binary_accuracy: 0.9800 - val_loss: 0.5225 - val_binary_accuracy: 0.9741\n",
      "Epoch 100/150\n",
      "367/367 [==============================] - 2s 6ms/step - loss: 0.5100 - binary_accuracy: 0.9820 - val_loss: 0.5172 - val_binary_accuracy: 0.9751\n",
      "Epoch 101/150\n",
      "367/367 [==============================] - 2s 7ms/step - loss: 0.5101 - binary_accuracy: 0.9810 - val_loss: 0.5118 - val_binary_accuracy: 0.9758\n",
      "Epoch 102/150\n",
      "367/367 [==============================] - 2s 6ms/step - loss: 0.4974 - binary_accuracy: 0.9808 - val_loss: 0.5062 - val_binary_accuracy: 0.9744\n",
      "Epoch 103/150\n",
      "367/367 [==============================] - 2s 6ms/step - loss: 0.4992 - binary_accuracy: 0.9794 - val_loss: 0.5031 - val_binary_accuracy: 0.9744\n",
      "Epoch 104/150\n",
      "367/367 [==============================] - 2s 7ms/step - loss: 0.4916 - binary_accuracy: 0.9792 - val_loss: 0.4967 - val_binary_accuracy: 0.9768\n",
      "Epoch 105/150\n",
      "367/367 [==============================] - 2s 6ms/step - loss: 0.4856 - binary_accuracy: 0.9805 - val_loss: 0.4921 - val_binary_accuracy: 0.9758\n",
      "Epoch 106/150\n",
      "367/367 [==============================] - 2s 7ms/step - loss: 0.4759 - binary_accuracy: 0.9840 - val_loss: 0.4868 - val_binary_accuracy: 0.9761\n",
      "Epoch 107/150\n",
      "367/367 [==============================] - 2s 6ms/step - loss: 0.4695 - binary_accuracy: 0.9817 - val_loss: 0.4814 - val_binary_accuracy: 0.9761\n",
      "Epoch 108/150\n",
      "367/367 [==============================] - 3s 7ms/step - loss: 0.4657 - binary_accuracy: 0.9829 - val_loss: 0.4769 - val_binary_accuracy: 0.9737\n",
      "Epoch 109/150\n",
      "367/367 [==============================] - 2s 6ms/step - loss: 0.4644 - binary_accuracy: 0.9812 - val_loss: 0.4751 - val_binary_accuracy: 0.9761\n",
      "Epoch 110/150\n",
      "367/367 [==============================] - 2s 6ms/step - loss: 0.4580 - binary_accuracy: 0.9820 - val_loss: 0.4711 - val_binary_accuracy: 0.9741\n",
      "Epoch 111/150\n",
      "367/367 [==============================] - 2s 6ms/step - loss: 0.4445 - binary_accuracy: 0.9855 - val_loss: 0.4705 - val_binary_accuracy: 0.9741\n",
      "Epoch 112/150\n",
      "367/367 [==============================] - 2s 6ms/step - loss: 0.4467 - binary_accuracy: 0.9837 - val_loss: 0.4628 - val_binary_accuracy: 0.9761\n",
      "Epoch 113/150\n",
      "367/367 [==============================] - 2s 7ms/step - loss: 0.4391 - binary_accuracy: 0.9836 - val_loss: 0.4565 - val_binary_accuracy: 0.9768\n",
      "Epoch 114/150\n",
      "367/367 [==============================] - 2s 7ms/step - loss: 0.4357 - binary_accuracy: 0.9840 - val_loss: 0.4525 - val_binary_accuracy: 0.9751\n",
      "Epoch 115/150\n",
      "367/367 [==============================] - 2s 6ms/step - loss: 0.4311 - binary_accuracy: 0.9838 - val_loss: 0.4479 - val_binary_accuracy: 0.9768\n",
      "Epoch 116/150\n",
      "367/367 [==============================] - 2s 6ms/step - loss: 0.4265 - binary_accuracy: 0.9837 - val_loss: 0.4423 - val_binary_accuracy: 0.9775\n",
      "Epoch 117/150\n",
      "367/367 [==============================] - 2s 6ms/step - loss: 0.4219 - binary_accuracy: 0.9836 - val_loss: 0.4390 - val_binary_accuracy: 0.9768\n",
      "Epoch 118/150\n",
      "367/367 [==============================] - 2s 7ms/step - loss: 0.4173 - binary_accuracy: 0.9851 - val_loss: 0.4371 - val_binary_accuracy: 0.9754\n",
      "Epoch 119/150\n",
      "367/367 [==============================] - 2s 6ms/step - loss: 0.4184 - binary_accuracy: 0.9832 - val_loss: 0.4335 - val_binary_accuracy: 0.9761\n",
      "Epoch 120/150\n",
      "367/367 [==============================] - 2s 6ms/step - loss: 0.4107 - binary_accuracy: 0.9850 - val_loss: 0.4307 - val_binary_accuracy: 0.9754\n",
      "Epoch 121/150\n",
      "367/367 [==============================] - 3s 8ms/step - loss: 0.4045 - binary_accuracy: 0.9844 - val_loss: 0.4259 - val_binary_accuracy: 0.9747\n",
      "Epoch 122/150\n",
      "367/367 [==============================] - 2s 6ms/step - loss: 0.3984 - binary_accuracy: 0.9843 - val_loss: 0.4206 - val_binary_accuracy: 0.9754\n",
      "Epoch 123/150\n",
      "367/367 [==============================] - 3s 7ms/step - loss: 0.3956 - binary_accuracy: 0.9853 - val_loss: 0.4179 - val_binary_accuracy: 0.9761\n",
      "Epoch 124/150\n",
      "367/367 [==============================] - 2s 6ms/step - loss: 0.3930 - binary_accuracy: 0.9862 - val_loss: 0.4171 - val_binary_accuracy: 0.9758\n",
      "Epoch 125/150\n",
      "367/367 [==============================] - 2s 7ms/step - loss: 0.3842 - binary_accuracy: 0.9869 - val_loss: 0.4114 - val_binary_accuracy: 0.9758\n",
      "Epoch 126/150\n",
      "367/367 [==============================] - 2s 6ms/step - loss: 0.3786 - binary_accuracy: 0.9869 - val_loss: 0.4084 - val_binary_accuracy: 0.9761\n",
      "Epoch 127/150\n",
      "367/367 [==============================] - 3s 7ms/step - loss: 0.3773 - binary_accuracy: 0.9860 - val_loss: 0.4046 - val_binary_accuracy: 0.9764\n",
      "Epoch 128/150\n",
      "367/367 [==============================] - 2s 6ms/step - loss: 0.3741 - binary_accuracy: 0.9863 - val_loss: 0.3992 - val_binary_accuracy: 0.9758\n",
      "Epoch 129/150\n",
      "367/367 [==============================] - 2s 6ms/step - loss: 0.3724 - binary_accuracy: 0.9849 - val_loss: 0.4053 - val_binary_accuracy: 0.9720\n",
      "Epoch 130/150\n",
      "367/367 [==============================] - 2s 6ms/step - loss: 0.3612 - binary_accuracy: 0.9886 - val_loss: 0.3934 - val_binary_accuracy: 0.9761\n",
      "Epoch 131/150\n",
      "367/367 [==============================] - 2s 6ms/step - loss: 0.3638 - binary_accuracy: 0.9854 - val_loss: 0.3909 - val_binary_accuracy: 0.9764\n",
      "Epoch 132/150\n",
      "367/367 [==============================] - 2s 7ms/step - loss: 0.3560 - binary_accuracy: 0.9874 - val_loss: 0.3867 - val_binary_accuracy: 0.9754\n",
      "Epoch 133/150\n",
      "367/367 [==============================] - 2s 6ms/step - loss: 0.3516 - binary_accuracy: 0.9882 - val_loss: 0.3857 - val_binary_accuracy: 0.9758\n",
      "Epoch 134/150\n",
      "367/367 [==============================] - 3s 7ms/step - loss: 0.3489 - binary_accuracy: 0.9876 - val_loss: 0.3825 - val_binary_accuracy: 0.9764\n",
      "Epoch 135/150\n",
      "367/367 [==============================] - 2s 6ms/step - loss: 0.3406 - binary_accuracy: 0.9892 - val_loss: 0.3786 - val_binary_accuracy: 0.9754\n",
      "Epoch 136/150\n",
      "367/367 [==============================] - 2s 6ms/step - loss: 0.3416 - binary_accuracy: 0.9886 - val_loss: 0.3794 - val_binary_accuracy: 0.9761\n",
      "Epoch 137/150\n",
      "367/367 [==============================] - 2s 6ms/step - loss: 0.3362 - binary_accuracy: 0.9873 - val_loss: 0.3750 - val_binary_accuracy: 0.9751\n",
      "Epoch 138/150\n",
      "367/367 [==============================] - 2s 6ms/step - loss: 0.3311 - binary_accuracy: 0.9894 - val_loss: 0.3716 - val_binary_accuracy: 0.9741\n",
      "Epoch 139/150\n",
      "367/367 [==============================] - 2s 6ms/step - loss: 0.3293 - binary_accuracy: 0.9887 - val_loss: 0.3691 - val_binary_accuracy: 0.9747\n",
      "Epoch 140/150\n",
      "367/367 [==============================] - 3s 7ms/step - loss: 0.3239 - binary_accuracy: 0.9901 - val_loss: 0.3653 - val_binary_accuracy: 0.9758\n",
      "Epoch 141/150\n",
      "367/367 [==============================] - 2s 7ms/step - loss: 0.3230 - binary_accuracy: 0.9892 - val_loss: 0.3639 - val_binary_accuracy: 0.9758\n",
      "Epoch 142/150\n",
      "367/367 [==============================] - 2s 6ms/step - loss: 0.3188 - binary_accuracy: 0.9891 - val_loss: 0.3591 - val_binary_accuracy: 0.9747\n",
      "Epoch 143/150\n",
      "367/367 [==============================] - 2s 6ms/step - loss: 0.3166 - binary_accuracy: 0.9881 - val_loss: 0.3571 - val_binary_accuracy: 0.9758\n",
      "Epoch 144/150\n",
      "367/367 [==============================] - 2s 6ms/step - loss: 0.3233 - binary_accuracy: 0.9857 - val_loss: 0.3598 - val_binary_accuracy: 0.9734\n",
      "Epoch 145/150\n",
      "367/367 [==============================] - 2s 6ms/step - loss: 0.3127 - binary_accuracy: 0.9896 - val_loss: 0.3548 - val_binary_accuracy: 0.9737\n",
      "Epoch 146/150\n",
      "367/367 [==============================] - 2s 7ms/step - loss: 0.3097 - binary_accuracy: 0.9901 - val_loss: 0.3515 - val_binary_accuracy: 0.9737\n",
      "Epoch 147/150\n",
      "367/367 [==============================] - 3s 7ms/step - loss: 0.3031 - binary_accuracy: 0.9907 - val_loss: 0.3501 - val_binary_accuracy: 0.9751\n",
      "Epoch 148/150\n",
      "367/367 [==============================] - 2s 7ms/step - loss: 0.3046 - binary_accuracy: 0.9903 - val_loss: 0.3485 - val_binary_accuracy: 0.9747\n",
      "Epoch 149/150\n",
      "367/367 [==============================] - 2s 6ms/step - loss: 0.2965 - binary_accuracy: 0.9920 - val_loss: 0.3451 - val_binary_accuracy: 0.9764\n",
      "Epoch 150/150\n",
      "367/367 [==============================] - 2s 6ms/step - loss: 0.2993 - binary_accuracy: 0.9904 - val_loss: 0.3440 - val_binary_accuracy: 0.9751\n",
      "Training time: 358.27541160583496 seconds\n"
     ]
    },
    {
     "data": {
      "image/png": "[encoded data removed]",
      "text/plain": [
       "<Figure size 432x288 with 1 Axes>"
      ]
     },
     "metadata": {
      "needs_background": "light"
     },
     "output_type": "display_data"
    },
    {
     "data": {
      "image/png": "[encoded data removed]",
      "text/plain": [
       "<Figure size 432x288 with 1 Axes>"
      ]
     },
     "metadata": {
      "needs_background": "light"
     },
     "output_type": "display_data"
    },
    {
     "name": "stdout",
     "output_type": "stream",
     "text": [
      "Best epoch: 116\n",
      "Train Accuracy: \n",
      "458/458 [==============================] - 1s 3ms/step - loss: 0.2794 - binary_accuracy: 0.9946\n",
      "Test Accuracy: \n",
      "7/7 [==============================] - 0s 3ms/step - loss: 1.3158 - binary_accuracy: 0.6547\n",
      "Test loss: 1.3158245086669922\n",
      "Test accuracy: 0.6547085046768188\n",
      "[0.53787879 0.82417582]\n",
      "\n",
      "0.681027306027306\n",
      "\n",
      "Confusion matrix:\n",
      "[[71 61]\n",
      " [16 75]]\n",
      "\n",
      "Normalized confusion matrix:\n",
      "[[0.53787879 0.46212121]\n",
      " [0.17582418 0.82417582]]\n",
      "\n",
      "Classification report:\n",
      "              precision    recall  f1-score   support\n",
      "\n",
      "     label 0       0.82      0.54      0.65       132\n",
      "     label 1       0.55      0.82      0.66        91\n",
      "\n",
      "    accuracy                           0.65       223\n",
      "   macro avg       0.68      0.68      0.65       223\n",
      "weighted avg       0.71      0.65      0.65       223\n",
      "\n",
      "AUC-ROC: 0.681027306027306\n",
      "MCC: 0.36479818207212805\n",
      "precision: 0.6837812711291413\n",
      "recall: 0.681027306027306\n",
      "f1_score: 0.6545973890129342\n"
     ]
    }
   ],
   "source": [
    "epochs=150\n",
    "for i in range(0, 1):\n",
    "    # train - validation split:\n",
    "    X_train, X_val, y_train,y_val  = train_test_split(X ,y , test_size=0.25, random_state=0)\n",
    "    m = 'FFNN_laser'\n",
    "    model1 = build_model(1024)\n",
    "    model_fit(model1, X_train, y_train, X_val, y_val)\n",
    "    results(model1, X_train, y_train, X_test, y_test)\n",
    "    i += 1"
   ]
  },
  {
   "cell_type": "code",
   "execution_count": 56,
   "id": "bae175d0",
   "metadata": {
    "execution": {
     "iopub.execute_input": "2023-06-03T10:30:30.573621Z",
     "iopub.status.busy": "2023-06-03T10:30:30.572565Z",
     "iopub.status.idle": "2023-06-03T10:30:30.578525Z",
     "shell.execute_reply": "2023-06-03T10:30:30.577308Z"
    },
    "papermill": {
     "duration": 0.53334,
     "end_time": "2023-06-03T10:30:30.581005",
     "exception": false,
     "start_time": "2023-06-03T10:30:30.047665",
     "status": "completed"
    },
    "tags": []
   },
   "outputs": [],
   "source": [
    "# model_name = ['LR_laser', 'FFNN_laser']\n",
    "\n",
    "# accuracy_list = [0.677130, 0.717489]\n",
    "# loss_list = [11.151755,  1.182955]\n",
    "# precision_list = [0.720717, 0.733391]\n",
    "# recall_list = [0.710206, 0.737471]\n",
    "# f1_score_list= [0.676343, 0.717284]\n",
    "# auc_roc_list = [0.710206, 0.737471]\n",
    "# mcc_list = [0.430795, 0.470844]\n",
    "# training_time = [1.266331, 441.174413]"
   ]
  },
  {
   "cell_type": "code",
   "execution_count": 57,
   "id": "946b7b0b",
   "metadata": {
    "execution": {
     "iopub.execute_input": "2023-06-03T10:30:31.663035Z",
     "iopub.status.busy": "2023-06-03T10:30:31.662189Z",
     "iopub.status.idle": "2023-06-03T10:30:31.667801Z",
     "shell.execute_reply": "2023-06-03T10:30:31.666813Z"
    },
    "papermill": {
     "duration": 0.52502,
     "end_time": "2023-06-03T10:30:31.670053",
     "exception": false,
     "start_time": "2023-06-03T10:30:31.145033",
     "status": "completed"
    },
    "tags": []
   },
   "outputs": [],
   "source": [
    "# accuracy_list"
   ]
  },
  {
   "cell_type": "code",
   "execution_count": 58,
   "id": "e08699a0",
   "metadata": {
    "execution": {
     "iopub.execute_input": "2023-06-03T10:30:32.708665Z",
     "iopub.status.busy": "2023-06-03T10:30:32.707343Z",
     "iopub.status.idle": "2023-06-03T10:30:32.716092Z",
     "shell.execute_reply": "2023-06-03T10:30:32.715010Z"
    },
    "papermill": {
     "duration": 0.530496,
     "end_time": "2023-06-03T10:30:32.718499",
     "exception": false,
     "start_time": "2023-06-03T10:30:32.188003",
     "status": "completed"
    },
    "tags": []
   },
   "outputs": [],
   "source": [
    "data = {\n",
    "    \"Model\": model_name,\n",
    "    \"Accuracy\": accuracy_list,\n",
    "    \"Loss\": loss_list,\n",
    "    \"Precision\": precision_list,\n",
    "    \"Recall\": recall_list,\n",
    "    \"F1 Score\": f1_score_list,\n",
    "    \"AUC-ROC\": auc_roc_list,\n",
    "    \"MCC\": mcc_list,\n",
    "    \"training_time\":training_time\n",
    "}\n",
    "\n",
    "data = pd.DataFrame(data)\n",
    "# df.to_excel('models_results.xlsx', index=False, encoding='utf-8-sig')"
   ]
  },
  {
   "cell_type": "code",
   "execution_count": 59,
   "id": "f40de91a",
   "metadata": {
    "execution": {
     "iopub.execute_input": "2023-06-03T10:30:33.793303Z",
     "iopub.status.busy": "2023-06-03T10:30:33.792597Z",
     "iopub.status.idle": "2023-06-03T10:30:33.808452Z",
     "shell.execute_reply": "2023-06-03T10:30:33.807267Z"
    },
    "papermill": {
     "duration": 0.531834,
     "end_time": "2023-06-03T10:30:33.810905",
     "exception": false,
     "start_time": "2023-06-03T10:30:33.279071",
     "status": "completed"
    },
    "tags": []
   },
   "outputs": [
    {
     "data": {
      "text/html": [
       "<div>\n",
       "<style scoped>\n",
       "    .dataframe tbody tr th:only-of-type {\n",
       "        vertical-align: middle;\n",
       "    }\n",
       "\n",
       "    .dataframe tbody tr th {\n",
       "        vertical-align: top;\n",
       "    }\n",
       "\n",
       "    .dataframe thead th {\n",
       "        text-align: right;\n",
       "    }\n",
       "</style>\n",
       "<table border=\"1\" class=\"dataframe\">\n",
       "  <thead>\n",
       "    <tr style=\"text-align: right;\">\n",
       "      <th></th>\n",
       "      <th>Model</th>\n",
       "      <th>Accuracy</th>\n",
       "      <th>Loss</th>\n",
       "      <th>Precision</th>\n",
       "      <th>Recall</th>\n",
       "      <th>F1 Score</th>\n",
       "      <th>AUC-ROC</th>\n",
       "      <th>MCC</th>\n",
       "      <th>training_time</th>\n",
       "    </tr>\n",
       "  </thead>\n",
       "  <tbody>\n",
       "    <tr>\n",
       "      <th>0</th>\n",
       "      <td>LR_laser</td>\n",
       "      <td>0.686099</td>\n",
       "      <td>10.841984</td>\n",
       "      <td>0.726258</td>\n",
       "      <td>0.717782</td>\n",
       "      <td>0.685587</td>\n",
       "      <td>0.717782</td>\n",
       "      <td>0.443960</td>\n",
       "      <td>1.722005</td>\n",
       "    </tr>\n",
       "    <tr>\n",
       "      <th>1</th>\n",
       "      <td>FFNN_laser</td>\n",
       "      <td>0.654709</td>\n",
       "      <td>1.315825</td>\n",
       "      <td>0.683781</td>\n",
       "      <td>0.681027</td>\n",
       "      <td>0.654597</td>\n",
       "      <td>0.681027</td>\n",
       "      <td>0.364798</td>\n",
       "      <td>358.275412</td>\n",
       "    </tr>\n",
       "  </tbody>\n",
       "</table>\n",
       "</div>"
      ],
      "text/plain": [
       "        Model  Accuracy       Loss  Precision    Recall  F1 Score   AUC-ROC  \\\n",
       "0    LR_laser  0.686099  10.841984   0.726258  0.717782  0.685587  0.717782   \n",
       "1  FFNN_laser  0.654709   1.315825   0.683781  0.681027  0.654597  0.681027   \n",
       "\n",
       "        MCC  training_time  \n",
       "0  0.443960       1.722005  \n",
       "1  0.364798     358.275412  "
      ]
     },
     "execution_count": 59,
     "metadata": {},
     "output_type": "execute_result"
    }
   ],
   "source": [
    "data"
   ]
  },
  {
   "cell_type": "code",
   "execution_count": 60,
   "id": "8012b24e",
   "metadata": {
    "execution": {
     "iopub.execute_input": "2023-06-03T10:30:34.942871Z",
     "iopub.status.busy": "2023-06-03T10:30:34.942431Z",
     "iopub.status.idle": "2023-06-03T10:30:34.957699Z",
     "shell.execute_reply": "2023-06-03T10:30:34.956645Z"
    },
    "papermill": {
     "duration": 0.5504,
     "end_time": "2023-06-03T10:30:34.960005",
     "exception": false,
     "start_time": "2023-06-03T10:30:34.409605",
     "status": "completed"
    },
    "tags": []
   },
   "outputs": [
    {
     "data": {
      "text/html": [
       "<div>\n",
       "<style scoped>\n",
       "    .dataframe tbody tr th:only-of-type {\n",
       "        vertical-align: middle;\n",
       "    }\n",
       "\n",
       "    .dataframe tbody tr th {\n",
       "        vertical-align: top;\n",
       "    }\n",
       "\n",
       "    .dataframe thead th {\n",
       "        text-align: right;\n",
       "    }\n",
       "</style>\n",
       "<table border=\"1\" class=\"dataframe\">\n",
       "  <thead>\n",
       "    <tr style=\"text-align: right;\">\n",
       "      <th></th>\n",
       "      <th>Model</th>\n",
       "      <th>Accuracy</th>\n",
       "      <th>Loss</th>\n",
       "      <th>Precision</th>\n",
       "      <th>Recall</th>\n",
       "      <th>F1 Score</th>\n",
       "      <th>AUC-ROC</th>\n",
       "      <th>MCC</th>\n",
       "      <th>training_time</th>\n",
       "    </tr>\n",
       "  </thead>\n",
       "  <tbody>\n",
       "    <tr>\n",
       "      <th>0</th>\n",
       "      <td>LR_laser</td>\n",
       "      <td>0.686099</td>\n",
       "      <td>10.841984</td>\n",
       "      <td>0.726258</td>\n",
       "      <td>0.717782</td>\n",
       "      <td>0.685587</td>\n",
       "      <td>0.717782</td>\n",
       "      <td>0.443960</td>\n",
       "      <td>1.722005</td>\n",
       "    </tr>\n",
       "    <tr>\n",
       "      <th>1</th>\n",
       "      <td>FFNN_laser</td>\n",
       "      <td>0.654709</td>\n",
       "      <td>1.315825</td>\n",
       "      <td>0.683781</td>\n",
       "      <td>0.681027</td>\n",
       "      <td>0.654597</td>\n",
       "      <td>0.681027</td>\n",
       "      <td>0.364798</td>\n",
       "      <td>358.275412</td>\n",
       "    </tr>\n",
       "  </tbody>\n",
       "</table>\n",
       "</div>"
      ],
      "text/plain": [
       "        Model  Accuracy       Loss  Precision    Recall  F1 Score   AUC-ROC  \\\n",
       "0    LR_laser  0.686099  10.841984   0.726258  0.717782  0.685587  0.717782   \n",
       "1  FFNN_laser  0.654709   1.315825   0.683781  0.681027  0.654597  0.681027   \n",
       "\n",
       "        MCC  training_time  \n",
       "0  0.443960       1.722005  \n",
       "1  0.364798     358.275412  "
      ]
     },
     "execution_count": 60,
     "metadata": {},
     "output_type": "execute_result"
    }
   ],
   "source": [
    "data = pd.DataFrame(data)\n",
    "data"
   ]
  },
  {
   "cell_type": "code",
   "execution_count": 61,
   "id": "5623fa0c",
   "metadata": {
    "execution": {
     "iopub.execute_input": "2023-06-03T10:30:36.022208Z",
     "iopub.status.busy": "2023-06-03T10:30:36.021833Z",
     "iopub.status.idle": "2023-06-03T10:30:36.036184Z",
     "shell.execute_reply": "2023-06-03T10:30:36.035203Z"
    },
    "papermill": {
     "duration": 0.524242,
     "end_time": "2023-06-03T10:30:36.038789",
     "exception": false,
     "start_time": "2023-06-03T10:30:35.514547",
     "status": "completed"
    },
    "tags": []
   },
   "outputs": [
    {
     "data": {
      "text/html": [
       "<div>\n",
       "<style scoped>\n",
       "    .dataframe tbody tr th:only-of-type {\n",
       "        vertical-align: middle;\n",
       "    }\n",
       "\n",
       "    .dataframe tbody tr th {\n",
       "        vertical-align: top;\n",
       "    }\n",
       "\n",
       "    .dataframe thead th {\n",
       "        text-align: right;\n",
       "    }\n",
       "</style>\n",
       "<table border=\"1\" class=\"dataframe\">\n",
       "  <thead>\n",
       "    <tr style=\"text-align: right;\">\n",
       "      <th></th>\n",
       "      <th>Model</th>\n",
       "      <th>Accuracy</th>\n",
       "      <th>Loss</th>\n",
       "      <th>Precision</th>\n",
       "      <th>Recall</th>\n",
       "      <th>F1 Score</th>\n",
       "      <th>AUC-ROC</th>\n",
       "      <th>MCC</th>\n",
       "      <th>training_time</th>\n",
       "    </tr>\n",
       "  </thead>\n",
       "  <tbody>\n",
       "    <tr>\n",
       "      <th>0</th>\n",
       "      <td>LR_laser</td>\n",
       "      <td>0.686099</td>\n",
       "      <td>10.841984</td>\n",
       "      <td>0.726258</td>\n",
       "      <td>0.717782</td>\n",
       "      <td>0.685587</td>\n",
       "      <td>0.717782</td>\n",
       "      <td>0.443960</td>\n",
       "      <td>1.722005</td>\n",
       "    </tr>\n",
       "    <tr>\n",
       "      <th>1</th>\n",
       "      <td>FFNN_laser</td>\n",
       "      <td>0.654709</td>\n",
       "      <td>1.315825</td>\n",
       "      <td>0.683781</td>\n",
       "      <td>0.681027</td>\n",
       "      <td>0.654597</td>\n",
       "      <td>0.681027</td>\n",
       "      <td>0.364798</td>\n",
       "      <td>358.275412</td>\n",
       "    </tr>\n",
       "  </tbody>\n",
       "</table>\n",
       "</div>"
      ],
      "text/plain": [
       "        Model  Accuracy       Loss  Precision    Recall  F1 Score   AUC-ROC  \\\n",
       "0    LR_laser  0.686099  10.841984   0.726258  0.717782  0.685587  0.717782   \n",
       "1  FFNN_laser  0.654709   1.315825   0.683781  0.681027  0.654597  0.681027   \n",
       "\n",
       "        MCC  training_time  \n",
       "0  0.443960       1.722005  \n",
       "1  0.364798     358.275412  "
      ]
     },
     "execution_count": 61,
     "metadata": {},
     "output_type": "execute_result"
    }
   ],
   "source": [
    "data"
   ]
  },
  {
   "cell_type": "code",
   "execution_count": null,
   "id": "5cf2c9d1",
   "metadata": {
    "papermill": {
     "duration": 0.551927,
     "end_time": "2023-06-03T10:30:37.103671",
     "exception": false,
     "start_time": "2023-06-03T10:30:36.551744",
     "status": "completed"
    },
    "tags": []
   },
   "outputs": [],
   "source": []
  },
  {
   "cell_type": "code",
   "execution_count": 62,
   "id": "494a2f4c",
   "metadata": {
    "execution": {
     "iopub.execute_input": "2023-06-03T10:30:38.128065Z",
     "iopub.status.busy": "2023-06-03T10:30:38.127638Z",
     "iopub.status.idle": "2023-06-03T10:30:38.145984Z",
     "shell.execute_reply": "2023-06-03T10:30:38.144883Z"
    },
    "papermill": {
     "duration": 0.534916,
     "end_time": "2023-06-03T10:30:38.148842",
     "exception": false,
     "start_time": "2023-06-03T10:30:37.613926",
     "status": "completed"
    },
    "tags": []
   },
   "outputs": [],
   "source": [
    "\n",
    "grouped_results = data.reset_index().groupby('Model').mean().sort_values('index')\n",
    "grouped_results = grouped_results.drop('index', axis=1)\n",
    "\n",
    "grouped_results.reset_index(level=0, inplace=True)\n",
    "# grouped_results.to_excel('grouped_results.xlsx', index=False, encoding='utf-8-sig')"
   ]
  },
  {
   "cell_type": "code",
   "execution_count": 63,
   "id": "6fef2843",
   "metadata": {
    "execution": {
     "iopub.execute_input": "2023-06-03T10:30:39.235057Z",
     "iopub.status.busy": "2023-06-03T10:30:39.234685Z",
     "iopub.status.idle": "2023-06-03T10:30:39.250122Z",
     "shell.execute_reply": "2023-06-03T10:30:39.249124Z"
    },
    "papermill": {
     "duration": 0.538167,
     "end_time": "2023-06-03T10:30:39.252941",
     "exception": false,
     "start_time": "2023-06-03T10:30:38.714774",
     "status": "completed"
    },
    "tags": []
   },
   "outputs": [
    {
     "data": {
      "text/html": [
       "<div>\n",
       "<style scoped>\n",
       "    .dataframe tbody tr th:only-of-type {\n",
       "        vertical-align: middle;\n",
       "    }\n",
       "\n",
       "    .dataframe tbody tr th {\n",
       "        vertical-align: top;\n",
       "    }\n",
       "\n",
       "    .dataframe thead th {\n",
       "        text-align: right;\n",
       "    }\n",
       "</style>\n",
       "<table border=\"1\" class=\"dataframe\">\n",
       "  <thead>\n",
       "    <tr style=\"text-align: right;\">\n",
       "      <th></th>\n",
       "      <th>Model</th>\n",
       "      <th>Accuracy</th>\n",
       "      <th>Loss</th>\n",
       "      <th>Precision</th>\n",
       "      <th>Recall</th>\n",
       "      <th>F1 Score</th>\n",
       "      <th>AUC-ROC</th>\n",
       "      <th>MCC</th>\n",
       "      <th>training_time</th>\n",
       "    </tr>\n",
       "  </thead>\n",
       "  <tbody>\n",
       "    <tr>\n",
       "      <th>0</th>\n",
       "      <td>LR_laser</td>\n",
       "      <td>0.686099</td>\n",
       "      <td>10.841984</td>\n",
       "      <td>0.726258</td>\n",
       "      <td>0.717782</td>\n",
       "      <td>0.685587</td>\n",
       "      <td>0.717782</td>\n",
       "      <td>0.443960</td>\n",
       "      <td>1.722005</td>\n",
       "    </tr>\n",
       "    <tr>\n",
       "      <th>1</th>\n",
       "      <td>FFNN_laser</td>\n",
       "      <td>0.654709</td>\n",
       "      <td>1.315825</td>\n",
       "      <td>0.683781</td>\n",
       "      <td>0.681027</td>\n",
       "      <td>0.654597</td>\n",
       "      <td>0.681027</td>\n",
       "      <td>0.364798</td>\n",
       "      <td>358.275412</td>\n",
       "    </tr>\n",
       "  </tbody>\n",
       "</table>\n",
       "</div>"
      ],
      "text/plain": [
       "        Model  Accuracy       Loss  Precision    Recall  F1 Score   AUC-ROC  \\\n",
       "0    LR_laser  0.686099  10.841984   0.726258  0.717782  0.685587  0.717782   \n",
       "1  FFNN_laser  0.654709   1.315825   0.683781  0.681027  0.654597  0.681027   \n",
       "\n",
       "        MCC  training_time  \n",
       "0  0.443960       1.722005  \n",
       "1  0.364798     358.275412  "
      ]
     },
     "execution_count": 63,
     "metadata": {},
     "output_type": "execute_result"
    }
   ],
   "source": [
    "grouped_results"
   ]
  },
  {
   "cell_type": "code",
   "execution_count": 64,
   "id": "9eddc444",
   "metadata": {
    "execution": {
     "iopub.execute_input": "2023-06-03T10:30:40.301957Z",
     "iopub.status.busy": "2023-06-03T10:30:40.301527Z",
     "iopub.status.idle": "2023-06-03T10:30:40.318799Z",
     "shell.execute_reply": "2023-06-03T10:30:40.317580Z"
    },
    "papermill": {
     "duration": 0.547174,
     "end_time": "2023-06-03T10:30:40.321791",
     "exception": false,
     "start_time": "2023-06-03T10:30:39.774617",
     "status": "completed"
    },
    "tags": []
   },
   "outputs": [
    {
     "data": {
      "text/html": [
       "<div>\n",
       "<style scoped>\n",
       "    .dataframe tbody tr th:only-of-type {\n",
       "        vertical-align: middle;\n",
       "    }\n",
       "\n",
       "    .dataframe tbody tr th {\n",
       "        vertical-align: top;\n",
       "    }\n",
       "\n",
       "    .dataframe thead th {\n",
       "        text-align: right;\n",
       "    }\n",
       "</style>\n",
       "<table border=\"1\" class=\"dataframe\">\n",
       "  <thead>\n",
       "    <tr style=\"text-align: right;\">\n",
       "      <th></th>\n",
       "      <th>Model</th>\n",
       "      <th>Accuracy</th>\n",
       "      <th>Loss</th>\n",
       "      <th>Precision</th>\n",
       "      <th>Recall</th>\n",
       "      <th>F1 Score</th>\n",
       "      <th>AUC-ROC</th>\n",
       "      <th>MCC</th>\n",
       "      <th>training_time</th>\n",
       "    </tr>\n",
       "  </thead>\n",
       "  <tbody>\n",
       "    <tr>\n",
       "      <th>0</th>\n",
       "      <td>LR_laser</td>\n",
       "      <td>0.686099</td>\n",
       "      <td>10.841984</td>\n",
       "      <td>0.726258</td>\n",
       "      <td>0.717782</td>\n",
       "      <td>0.685587</td>\n",
       "      <td>0.717782</td>\n",
       "      <td>0.443960</td>\n",
       "      <td>1.722005</td>\n",
       "    </tr>\n",
       "    <tr>\n",
       "      <th>1</th>\n",
       "      <td>FFNN_laser</td>\n",
       "      <td>0.654709</td>\n",
       "      <td>1.315825</td>\n",
       "      <td>0.683781</td>\n",
       "      <td>0.681027</td>\n",
       "      <td>0.654597</td>\n",
       "      <td>0.681027</td>\n",
       "      <td>0.364798</td>\n",
       "      <td>358.275412</td>\n",
       "    </tr>\n",
       "  </tbody>\n",
       "</table>\n",
       "</div>"
      ],
      "text/plain": [
       "        Model  Accuracy       Loss  Precision    Recall  F1 Score   AUC-ROC  \\\n",
       "0    LR_laser  0.686099  10.841984   0.726258  0.717782  0.685587  0.717782   \n",
       "1  FFNN_laser  0.654709   1.315825   0.683781  0.681027  0.654597  0.681027   \n",
       "\n",
       "        MCC  training_time  \n",
       "0  0.443960       1.722005  \n",
       "1  0.364798     358.275412  "
      ]
     },
     "execution_count": 64,
     "metadata": {},
     "output_type": "execute_result"
    }
   ],
   "source": [
    "grouped_results = grouped_results[grouped_results['Model'] != 'laser_em_batchnorm_l2']\n",
    "grouped_results"
   ]
  },
  {
   "cell_type": "code",
   "execution_count": null,
   "id": "cd43008d",
   "metadata": {
    "papermill": {
     "duration": 0.554213,
     "end_time": "2023-06-03T10:30:41.408032",
     "exception": false,
     "start_time": "2023-06-03T10:30:40.853819",
     "status": "completed"
    },
    "tags": []
   },
   "outputs": [],
   "source": []
  },
  {
   "cell_type": "code",
   "execution_count": 65,
   "id": "ccc83f7b",
   "metadata": {
    "execution": {
     "iopub.execute_input": "2023-06-03T10:30:42.440978Z",
     "iopub.status.busy": "2023-06-03T10:30:42.440265Z",
     "iopub.status.idle": "2023-06-03T10:30:42.445145Z",
     "shell.execute_reply": "2023-06-03T10:30:42.444060Z"
    },
    "papermill": {
     "duration": 0.533516,
     "end_time": "2023-06-03T10:30:42.447398",
     "exception": false,
     "start_time": "2023-06-03T10:30:41.913882",
     "status": "completed"
    },
    "tags": []
   },
   "outputs": [],
   "source": [
    "# grouped_results = df.reset_index().groupby('Model').mean().sort_values('index')\n",
    "# grouped_results = grouped_results.drop('index', axis=1)\n",
    "\n",
    "# grouped_results.reset_index(level=0, inplace=True)\n",
    "# grouped_results.to_excel('grouped_results.xlsx', index=False, encoding='utf-8-sig')"
   ]
  },
  {
   "cell_type": "code",
   "execution_count": 66,
   "id": "f26128b7",
   "metadata": {
    "execution": {
     "iopub.execute_input": "2023-06-03T10:30:43.525735Z",
     "iopub.status.busy": "2023-06-03T10:30:43.525343Z",
     "iopub.status.idle": "2023-06-03T10:30:43.627472Z",
     "shell.execute_reply": "2023-06-03T10:30:43.626326Z"
    },
    "papermill": {
     "duration": 0.629359,
     "end_time": "2023-06-03T10:30:43.629884",
     "exception": false,
     "start_time": "2023-06-03T10:30:43.000525",
     "status": "completed"
    },
    "tags": []
   },
   "outputs": [
    {
     "data": {
      "text/html": [
       "<div>                            <div id=\"57399b6f-55b2-419c-aecf-c5cd10992183\" class=\"plotly-graph-div\" style=\"height:600px; width:600px;\"></div>            <script type=\"text/javascript\">                require([\"plotly\"], function(Plotly) {                    window.PLOTLYENV=window.PLOTLYENV || {};                                    if (document.getElementById(\"57399b6f-55b2-419c-aecf-c5cd10992183\")) {                    Plotly.newPlot(                        \"57399b6f-55b2-419c-aecf-c5cd10992183\",                        [{\"marker\":{\"color\":\"#008B8B\",\"line\":{\"width\":0.5}},\"text\":[\"LR_laser: 69%\",\"FFNN_laser: 65%\"],\"textposition\":\"auto\",\"x\":[\"LR_laser\",\"FFNN_laser\"],\"y\":[0.6860986547085202,0.6547085046768188],\"type\":\"bar\"}],                        {\"template\":{\"data\":{\"histogram2dcontour\":[{\"type\":\"histogram2dcontour\",\"colorbar\":{\"outlinewidth\":0,\"ticks\":\"\"},\"colorscale\":[[0.0,\"#0d0887\"],[0.1111111111111111,\"#46039f\"],[0.2222222222222222,\"#7201a8\"],[0.3333333333333333,\"#9c179e\"],[0.4444444444444444,\"#bd3786\"],[0.5555555555555556,\"#d8576b\"],[0.6666666666666666,\"#ed7953\"],[0.7777777777777778,\"#fb9f3a\"],[0.8888888888888888,\"#fdca26\"],[1.0,\"#f0f921\"]]}],\"choropleth\":[{\"type\":\"choropleth\",\"colorbar\":{\"outlinewidth\":0,\"ticks\":\"\"}}],\"histogram2d\":[{\"type\":\"histogram2d\",\"colorbar\":{\"outlinewidth\":0,\"ticks\":\"\"},\"colorscale\":[[0.0,\"#0d0887\"],[0.1111111111111111,\"#46039f\"],[0.2222222222222222,\"#7201a8\"],[0.3333333333333333,\"#9c179e\"],[0.4444444444444444,\"#bd3786\"],[0.5555555555555556,\"#d8576b\"],[0.6666666666666666,\"#ed7953\"],[0.7777777777777778,\"#fb9f3a\"],[0.8888888888888888,\"#fdca26\"],[1.0,\"#f0f921\"]]}],\"heatmap\":[{\"type\":\"heatmap\",\"colorbar\":{\"outlinewidth\":0,\"ticks\":\"\"},\"colorscale\":[[0.0,\"#0d0887\"],[0.1111111111111111,\"#46039f\"],[0.2222222222222222,\"#7201a8\"],[0.3333333333333333,\"#9c179e\"],[0.4444444444444444,\"#bd3786\"],[0.5555555555555556,\"#d8576b\"],[0.6666666666666666,\"#ed7953\"],[0.7777777777777778,\"#fb9f3a\"],[0.8888888888888888,\"#fdca26\"],[1.0,\"#f0f921\"]]}],\"heatmapgl\":[{\"type\":\"heatmapgl\",\"colorbar\":{\"outlinewidth\":0,\"ticks\":\"\"},\"colorscale\":[[0.0,\"#0d0887\"],[0.1111111111111111,\"#46039f\"],[0.2222222222222222,\"#7201a8\"],[0.3333333333333333,\"#9c179e\"],[0.4444444444444444,\"#bd3786\"],[0.5555555555555556,\"#d8576b\"],[0.6666666666666666,\"#ed7953\"],[0.7777777777777778,\"#fb9f3a\"],[0.8888888888888888,\"#fdca26\"],[1.0,\"#f0f921\"]]}],\"contourcarpet\":[{\"type\":\"contourcarpet\",\"colorbar\":{\"outlinewidth\":0,\"ticks\":\"\"}}],\"contour\":[{\"type\":\"contour\",\"colorbar\":{\"outlinewidth\":0,\"ticks\":\"\"},\"colorscale\":[[0.0,\"#0d0887\"],[0.1111111111111111,\"#46039f\"],[0.2222222222222222,\"#7201a8\"],[0.3333333333333333,\"#9c179e\"],[0.4444444444444444,\"#bd3786\"],[0.5555555555555556,\"#d8576b\"],[0.6666666666666666,\"#ed7953\"],[0.7777777777777778,\"#fb9f3a\"],[0.8888888888888888,\"#fdca26\"],[1.0,\"#f0f921\"]]}],\"surface\":[{\"type\":\"surface\",\"colorbar\":{\"outlinewidth\":0,\"ticks\":\"\"},\"colorscale\":[[0.0,\"#0d0887\"],[0.1111111111111111,\"#46039f\"],[0.2222222222222222,\"#7201a8\"],[0.3333333333333333,\"#9c179e\"],[0.4444444444444444,\"#bd3786\"],[0.5555555555555556,\"#d8576b\"],[0.6666666666666666,\"#ed7953\"],[0.7777777777777778,\"#fb9f3a\"],[0.8888888888888888,\"#fdca26\"],[1.0,\"#f0f921\"]]}],\"mesh3d\":[{\"type\":\"mesh3d\",\"colorbar\":{\"outlinewidth\":0,\"ticks\":\"\"}}],\"scatter\":[{\"fillpattern\":{\"fillmode\":\"overlay\",\"size\":10,\"solidity\":0.2},\"type\":\"scatter\"}],\"parcoords\":[{\"type\":\"parcoords\",\"line\":{\"colorbar\":{\"outlinewidth\":0,\"ticks\":\"\"}}}],\"scatterpolargl\":[{\"type\":\"scatterpolargl\",\"marker\":{\"colorbar\":{\"outlinewidth\":0,\"ticks\":\"\"}}}],\"bar\":[{\"error_x\":{\"color\":\"#2a3f5f\"},\"error_y\":{\"color\":\"#2a3f5f\"},\"marker\":{\"line\":{\"color\":\"#E5ECF6\",\"width\":0.5},\"pattern\":{\"fillmode\":\"overlay\",\"size\":10,\"solidity\":0.2}},\"type\":\"bar\"}],\"scattergeo\":[{\"type\":\"scattergeo\",\"marker\":{\"colorbar\":{\"outlinewidth\":0,\"ticks\":\"\"}}}],\"scatterpolar\":[{\"type\":\"scatterpolar\",\"marker\":{\"colorbar\":{\"outlinewidth\":0,\"ticks\":\"\"}}}],\"histogram\":[{\"marker\":{\"pattern\":{\"fillmode\":\"overlay\",\"size\":10,\"solidity\":0.2}},\"type\":\"histogram\"}],\"scattergl\":[{\"type\":\"scattergl\",\"marker\":{\"colorbar\":{\"outlinewidth\":0,\"ticks\":\"\"}}}],\"scatter3d\":[{\"type\":\"scatter3d\",\"line\":{\"colorbar\":{\"outlinewidth\":0,\"ticks\":\"\"}},\"marker\":{\"colorbar\":{\"outlinewidth\":0,\"ticks\":\"\"}}}],\"scattermapbox\":[{\"type\":\"scattermapbox\",\"marker\":{\"colorbar\":{\"outlinewidth\":0,\"ticks\":\"\"}}}],\"scatterternary\":[{\"type\":\"scatterternary\",\"marker\":{\"colorbar\":{\"outlinewidth\":0,\"ticks\":\"\"}}}],\"scattercarpet\":[{\"type\":\"scattercarpet\",\"marker\":{\"colorbar\":{\"outlinewidth\":0,\"ticks\":\"\"}}}],\"carpet\":[{\"aaxis\":{\"endlinecolor\":\"#2a3f5f\",\"gridcolor\":\"white\",\"linecolor\":\"white\",\"minorgridcolor\":\"white\",\"startlinecolor\":\"#2a3f5f\"},\"baxis\":{\"endlinecolor\":\"#2a3f5f\",\"gridcolor\":\"white\",\"linecolor\":\"white\",\"minorgridcolor\":\"white\",\"startlinecolor\":\"#2a3f5f\"},\"type\":\"carpet\"}],\"table\":[{\"cells\":{\"fill\":{\"color\":\"#EBF0F8\"},\"line\":{\"color\":\"white\"}},\"header\":{\"fill\":{\"color\":\"#C8D4E3\"},\"line\":{\"color\":\"white\"}},\"type\":\"table\"}],\"barpolar\":[{\"marker\":{\"line\":{\"color\":\"#E5ECF6\",\"width\":0.5},\"pattern\":{\"fillmode\":\"overlay\",\"size\":10,\"solidity\":0.2}},\"type\":\"barpolar\"}],\"pie\":[{\"automargin\":true,\"type\":\"pie\"}]},\"layout\":{\"autotypenumbers\":\"strict\",\"colorway\":[\"#636efa\",\"#EF553B\",\"#00cc96\",\"#ab63fa\",\"#FFA15A\",\"#19d3f3\",\"#FF6692\",\"#B6E880\",\"#FF97FF\",\"#FECB52\"],\"font\":{\"color\":\"#2a3f5f\"},\"hovermode\":\"closest\",\"hoverlabel\":{\"align\":\"left\"},\"paper_bgcolor\":\"white\",\"plot_bgcolor\":\"#E5ECF6\",\"polar\":{\"bgcolor\":\"#E5ECF6\",\"angularaxis\":{\"gridcolor\":\"white\",\"linecolor\":\"white\",\"ticks\":\"\"},\"radialaxis\":{\"gridcolor\":\"white\",\"linecolor\":\"white\",\"ticks\":\"\"}},\"ternary\":{\"bgcolor\":\"#E5ECF6\",\"aaxis\":{\"gridcolor\":\"white\",\"linecolor\":\"white\",\"ticks\":\"\"},\"baxis\":{\"gridcolor\":\"white\",\"linecolor\":\"white\",\"ticks\":\"\"},\"caxis\":{\"gridcolor\":\"white\",\"linecolor\":\"white\",\"ticks\":\"\"}},\"coloraxis\":{\"colorbar\":{\"outlinewidth\":0,\"ticks\":\"\"}},\"colorscale\":{\"sequential\":[[0.0,\"#0d0887\"],[0.1111111111111111,\"#46039f\"],[0.2222222222222222,\"#7201a8\"],[0.3333333333333333,\"#9c179e\"],[0.4444444444444444,\"#bd3786\"],[0.5555555555555556,\"#d8576b\"],[0.6666666666666666,\"#ed7953\"],[0.7777777777777778,\"#fb9f3a\"],[0.8888888888888888,\"#fdca26\"],[1.0,\"#f0f921\"]],\"sequentialminus\":[[0.0,\"#0d0887\"],[0.1111111111111111,\"#46039f\"],[0.2222222222222222,\"#7201a8\"],[0.3333333333333333,\"#9c179e\"],[0.4444444444444444,\"#bd3786\"],[0.5555555555555556,\"#d8576b\"],[0.6666666666666666,\"#ed7953\"],[0.7777777777777778,\"#fb9f3a\"],[0.8888888888888888,\"#fdca26\"],[1.0,\"#f0f921\"]],\"diverging\":[[0,\"#8e0152\"],[0.1,\"#c51b7d\"],[0.2,\"#de77ae\"],[0.3,\"#f1b6da\"],[0.4,\"#fde0ef\"],[0.5,\"#f7f7f7\"],[0.6,\"#e6f5d0\"],[0.7,\"#b8e186\"],[0.8,\"#7fbc41\"],[0.9,\"#4d9221\"],[1,\"#276419\"]]},\"xaxis\":{\"gridcolor\":\"white\",\"linecolor\":\"white\",\"ticks\":\"\",\"title\":{\"standoff\":15},\"zerolinecolor\":\"white\",\"automargin\":true,\"zerolinewidth\":2},\"yaxis\":{\"gridcolor\":\"white\",\"linecolor\":\"white\",\"ticks\":\"\",\"title\":{\"standoff\":15},\"zerolinecolor\":\"white\",\"automargin\":true,\"zerolinewidth\":2},\"scene\":{\"xaxis\":{\"backgroundcolor\":\"#E5ECF6\",\"gridcolor\":\"white\",\"linecolor\":\"white\",\"showbackground\":true,\"ticks\":\"\",\"zerolinecolor\":\"white\",\"gridwidth\":2},\"yaxis\":{\"backgroundcolor\":\"#E5ECF6\",\"gridcolor\":\"white\",\"linecolor\":\"white\",\"showbackground\":true,\"ticks\":\"\",\"zerolinecolor\":\"white\",\"gridwidth\":2},\"zaxis\":{\"backgroundcolor\":\"#E5ECF6\",\"gridcolor\":\"white\",\"linecolor\":\"white\",\"showbackground\":true,\"ticks\":\"\",\"zerolinecolor\":\"white\",\"gridwidth\":2}},\"shapedefaults\":{\"line\":{\"color\":\"#2a3f5f\"}},\"annotationdefaults\":{\"arrowcolor\":\"#2a3f5f\",\"arrowhead\":0,\"arrowwidth\":1},\"geo\":{\"bgcolor\":\"white\",\"landcolor\":\"#E5ECF6\",\"subunitcolor\":\"white\",\"showland\":true,\"showlakes\":true,\"lakecolor\":\"white\"},\"title\":{\"x\":0.05},\"mapbox\":{\"style\":\"light\"}}},\"font\":{\"size\":16},\"margin\":{\"l\":50,\"r\":50,\"t\":50,\"b\":50},\"title\":{\"text\":\"Accuracy by Model\"},\"xaxis\":{\"title\":{\"text\":\"Models\"}},\"yaxis\":{\"title\":{\"text\":\"Accuracy\"}},\"plot_bgcolor\":\"#F8F8FF\",\"paper_bgcolor\":\"#F8F8FF\",\"width\":600,\"height\":600},                        {\"responsive\": true}                    ).then(function(){\n",
       "                            \n",
       "var gd = document.getElementById('57399b6f-55b2-419c-aecf-c5cd10992183');\n",
       "var x = new MutationObserver(function (mutations, observer) {{\n",
       "        var display = window.getComputedStyle(gd).display;\n",
       "        if (!display || display === 'none') {{\n",
       "            console.log([gd, 'removed!']);\n",
       "            Plotly.purge(gd);\n",
       "            observer.disconnect();\n",
       "        }}\n",
       "}});\n",
       "\n",
       "// Listen for the removal of the full notebook cells\n",
       "var notebookContainer = gd.closest('#notebook-container');\n",
       "if (notebookContainer) {{\n",
       "    x.observe(notebookContainer, {childList: true});\n",
       "}}\n",
       "\n",
       "// Listen for the clearing of the current output cell\n",
       "var outputEl = gd.closest('.output');\n",
       "if (outputEl) {{\n",
       "    x.observe(outputEl, {childList: true});\n",
       "}}\n",
       "\n",
       "                        })                };                });            </script>        </div>"
      ]
     },
     "metadata": {},
     "output_type": "display_data"
    }
   ],
   "source": [
    "import plotly.graph_objs as go\n",
    "\n",
    "# Count occurrences by model\n",
    "counts = grouped_results['Accuracy']\n",
    "model_names = grouped_results['Model']\n",
    "# Create a bar chart using plotly\n",
    "fig = go.Figure(data=[go.Bar(x=model_names, y=counts,\n",
    "                             marker_color='#008B8B',  # set the color of the bars\n",
    "                             text=[f'{model}: {accuracy:.0%}' for model, accuracy in zip(model_names, counts)],  # add model name and accuracy values as percentage to the bars\n",
    "                             textposition='auto')])  # position the labels inside the bars\n",
    "\n",
    "# Customize the layout\n",
    "fig.update_layout(title='Accuracy by Model',\n",
    "                  xaxis_title='Models',\n",
    "                  yaxis_title='Accuracy',\n",
    "                  font=dict(size=16),\n",
    "                  margin=dict(l=50, r=50, t=50, b=50),\n",
    "                  plot_bgcolor='#F8F8FF',\n",
    "                  paper_bgcolor='#F8F8FF',\n",
    "                  width=600,  # Update width\n",
    "                  height=600)\n",
    "# Adjust the width of the bars\n",
    "fig.update_traces(marker=dict(line=dict(width=0.5)))  # decrease the width of the bars\n",
    "\n",
    "# Show the plot\n",
    "fig.show()\n"
   ]
  },
  {
   "cell_type": "code",
   "execution_count": 67,
   "id": "3788b3cb",
   "metadata": {
    "execution": {
     "iopub.execute_input": "2023-06-03T10:30:44.684892Z",
     "iopub.status.busy": "2023-06-03T10:30:44.684461Z",
     "iopub.status.idle": "2023-06-03T10:30:44.692653Z",
     "shell.execute_reply": "2023-06-03T10:30:44.691551Z"
    },
    "papermill": {
     "duration": 0.543135,
     "end_time": "2023-06-03T10:30:44.694703",
     "exception": false,
     "start_time": "2023-06-03T10:30:44.151568",
     "status": "completed"
    },
    "tags": []
   },
   "outputs": [],
   "source": [
    "def plot_history(history):\n",
    "    plt.plot(history.history['binary_accuracy'])\n",
    "    plt.plot(history.history['val_binary_accuracy'])\n",
    "    plt.title('model accuracy')\n",
    "    plt.ylabel('binary_accuracy')\n",
    "    plt.xlabel('epoch')\n",
    "    plt.legend(['train', 'validation'], loc='upper left')\n",
    "    plt.show()\n",
    "\n",
    "    plt.plot(history.history['loss'])\n",
    "    plt.plot(history.history['val_loss'])\n",
    "    plt.title('model loss')\n",
    "    plt.ylabel('loss')\n",
    "    plt.xlabel('epoch')\n",
    "    plt.legend(['train', 'validation'], loc='upper left')\n",
    "    plt.show()"
   ]
  },
  {
   "cell_type": "code",
   "execution_count": 68,
   "id": "248d7e17",
   "metadata": {
    "execution": {
     "iopub.execute_input": "2023-06-03T10:30:45.846170Z",
     "iopub.status.busy": "2023-06-03T10:30:45.845778Z",
     "iopub.status.idle": "2023-06-03T10:30:45.862824Z",
     "shell.execute_reply": "2023-06-03T10:30:45.861896Z"
    },
    "papermill": {
     "duration": 0.611893,
     "end_time": "2023-06-03T10:30:45.865039",
     "exception": false,
     "start_time": "2023-06-03T10:30:45.253146",
     "status": "completed"
    },
    "tags": []
   },
   "outputs": [],
   "source": [
    "from sklearn.metrics import confusion_matrix, precision_recall_fscore_support\n",
    "from sklearn.metrics import classification_report\n",
    "# Compute confusion matrix\n",
    "def confusion(predictions):\n",
    "    cm = confusion_matrix(y_test1, predictions)\n",
    "    accuracies = cm.diagonal()/cm.sum(axis=1)\n",
    "    print(accuracies)\n",
    "    print()\n",
    "\n",
    "    # Calculate the average accuracy across all classes\n",
    "    avg_accuracy = accuracies.mean()\n",
    "    # Print the average accuracy\n",
    "    print(avg_accuracy)\n",
    "    print()\n",
    "    \n",
    "    # Print confusion matrix\n",
    "    classes = np.unique(y_test1)\n",
    "    print(\"Confusion matrix:\")\n",
    "    print(cm)\n",
    "    print()\n",
    "\n",
    "    # Print normalized confusion matrix\n",
    "    cm_norm = cm.astype('float') / cm.sum(axis=1)[:, np.newaxis]\n",
    "    print(\"Normalized confusion matrix:\")\n",
    "    print(cm_norm)\n",
    "    print()\n",
    "\n",
    "    print(\"Classification report:\")\n",
    "    print(classification_report(y_test1, predictions, target_names=[f\"label {c}\" for c in classes]))\n",
    "    \n",
    "    auc_roc = roc_auc_score(y_test1, predictions) # y_pred_prob is the predicted probability of class 1\n",
    "    mcc = matthews_corrcoef(y_test1, predictions)\n",
    "    print(\"AUC-ROC:\", auc_roc)\n",
    "    print(\"MCC:\", mcc)\n",
    "    \n",
    "    precision, recall, f1_score, _ = precision_recall_fscore_support(y_test1, predictions, average='macro')\n",
    "    print(\"precision:\", precision)\n",
    "    print(\"recall:\", recall)\n",
    "    print(\"f1_score:\", f1_score)\n",
    "\n",
    "    precision_list.append(precision)\n",
    "    recall_list.append(recall)\n",
    "    f1_score_list.append(f1_score)\n",
    "    auc_roc_list.append(auc_roc)\n",
    "    mcc_list.append(mcc)\n",
    "    model_name.append(m)\n",
    "\n",
    "def results(model, x, y, x_t, y_t):    \n",
    "    print('Train Accuracy: ')\n",
    "    model.evaluate(x, y, verbose =1)\n",
    "\n",
    "    print('Test Accuracy: ')\n",
    "    loss, accuracy = model.evaluate(x_t , y_t , verbose =1)\n",
    "    # Print the evaluation results\n",
    "    print('Test loss:', loss)\n",
    "    print('Test accuracy:', accuracy)\n",
    "    accuracy_list.append(accuracy)\n",
    "    loss_list.append(loss)\n",
    "    \n",
    "    prediction = model.predict(x_t)\n",
    "    for i in range(len(prediction)):\n",
    "        if (prediction[i] < 0.5):\n",
    "            prediction[i] = 0\n",
    "        else: \n",
    "            prediction[i] = 1\n",
    "    confusion(prediction)\n"
   ]
  },
  {
   "cell_type": "code",
   "execution_count": 69,
   "id": "a3758707",
   "metadata": {
    "execution": {
     "iopub.execute_input": "2023-06-03T10:30:46.903846Z",
     "iopub.status.busy": "2023-06-03T10:30:46.903420Z",
     "iopub.status.idle": "2023-06-03T10:30:46.926845Z",
     "shell.execute_reply": "2023-06-03T10:30:46.925777Z"
    },
    "papermill": {
     "duration": 0.536295,
     "end_time": "2023-06-03T10:30:46.929328",
     "exception": false,
     "start_time": "2023-06-03T10:30:46.393033",
     "status": "completed"
    },
    "tags": []
   },
   "outputs": [],
   "source": [
    "def show_best_hps():\n",
    "    print(\"Best Hyperparameters:\")\n",
    "    print(f\" units_1 : {best_hps.get('units_1')}\")\n",
    "    print(f\" act_1 : {best_hps.get('act_1')}\")\n",
    "    print(f\" dropout_1 : {best_hps.get('dropout_1')}\")\n",
    "    print(f\" units_2 : {best_hps.get('units_2')}\")\n",
    "    print(f\" act_2 : {best_hps.get('act_2')}\")\n",
    "    print(f\" dropout_2 : {best_hps.get('dropout_2')}\")\n",
    "    print(f\" units_3 : {best_hps.get('units_3')}\")\n",
    "    print(f\" act_3 : {best_hps.get('act_3')}\")\n",
    "    print(f\" dropout_3 : {best_hps.get('dropout_3')}\")\n",
    "    print(f\" units_4 : {best_hps.get('units_4')}\")\n",
    "    print(f\" act_4 : {best_hps.get('act_4')}\")\n",
    "    print(f\" dropout_4 : {best_hps.get('dropout_4')}\")\n",
    "    # print(f\"Kernel size: {best_hps.get('kernel_size')}\")\n",
    "    print(f\"Learning rate: {best_hps.get('learning_rate')}\")\n",
    "    \n",
    "    \n",
    "def build_model_tune(hp):\n",
    "        \n",
    "    #hyperparameters for layer 1 - 3\n",
    "    hp_units_1 = hp.Int('units_1', min_value=32, max_value=512, step=128)\n",
    "    hp_act_1 = hp.Choice('act_1', ['relu', 'sigmoid'])\n",
    "    hp_dropout_1 = hp.Float('dropout_1', 0, 0.5, step=0.1, default=0.25)\n",
    "    #hyperparameters for layer 4 - 6\n",
    "    hp_units_2 = hp.Int('units_2', min_value=32, max_value=256, step=64)\n",
    "    hp_act_2 = hp.Choice('act_2' , ['relu', 'sigmoid' ])\n",
    "    hp_dropout_2 = hp.Float('dropout_2', 0, 0.5, step=0.1, default=0.25)\n",
    "    #hyperparameters for layer 7 - 9 \n",
    "    hp_units_3 = hp.Int('units_3', min_value=32, max_value=128, step=32)\n",
    "    hp_act_3 = hp.Choice('act_3' , ['relu', 'sigmoid' ])\n",
    "    hp_dropout_3 = hp.Float('dropout_3', 0, 0.5, step=0.1, default=0.25)\n",
    "    #hyperparameters for layer 10 - 12\n",
    "    hp_units_4 = hp.Int('units_4', min_value=32, max_value=64, step=16)\n",
    "    hp_act_4 = hp.Choice('act_4' , ['relu', 'sigmoid' ])\n",
    "    hp_dropout_4 = hp.Float('dropout_4', 0, 0.5, step=0.1, default=0.25)\n",
    "    #hyperparameters for compiling model\n",
    "    hp_learning_rate = hp.Choice('learning_rate', values=[1e-1, 1e-4])\n",
    "    \n",
    "    #simple layers to train laser embedded sentences\n",
    "    seq_input  = tfkl.Input(shape=(1024,),  name = \"Sequential_Input\")\n",
    "    #input folowed by dense layer 1\n",
    "    layer1 = Dense(units = hp_units_1, activation=hp_act_1, \n",
    "                   kernel_regularizer=tfk.regularizers.L2(0.001),  \n",
    "                   name=\"layer1\")(seq_input)\n",
    "    layer2 = tfkl.BatchNormalization()(layer1)\n",
    "    layer3 = tfkl.Dropout(hp_dropout_1)(layer2)   \n",
    "    \n",
    "    #Dense layer 2\n",
    "    layer4 = Dense(units=hp_units_2, kernel_regularizer=tfk.regularizers.L2(0.001),  \n",
    "                   activation=hp_act_2,name=\"layer4\")(layer3)\n",
    "    layer5 = tfkl.BatchNormalization()(layer4)\n",
    "    layer6 = tfkl.Dropout(hp_dropout_2)(layer5)\n",
    "        \n",
    "    #Dense layer 3\n",
    "    layer7 = Dense(units=hp_units_3, kernel_regularizer=tfk.regularizers.L2(0.001),  \n",
    "                   activation=hp_act_3,name=\"layer7\")(layer6)\n",
    "    layer8 = tfkl.BatchNormalization()(layer7)\n",
    "    layer9 = tfkl.Dropout(hp_dropout_3)(layer8)\n",
    "    \n",
    "    #Dense layer 4\n",
    "    layer10 = Dense(units=hp_units_4, kernel_regularizer=tfk.regularizers.L2(0.001),  \n",
    "                   activation=hp_act_4 ,name=\"layer10\")(layer9)\n",
    "    layer11 = tfkl.BatchNormalization()(layer10)\n",
    "    layer12 = tfkl.Dropout(hp_dropout_4)(layer11)\n",
    "    \n",
    "    # the last layer of binary classification will have the activation function sigmoid\n",
    "    output_layer  = tfkl.Dense(units=1, activation=tfk.activations.sigmoid, kernel_initializer=tfk.initializers.GlorotNormal(seed), name='Output')(layer12) \n",
    "        \n",
    "    model = Model(inputs=seq_input,outputs=[output_layer], name = \"CS_AWARE_Model\")\n",
    "    \n",
    "    model.compile(loss = tfk.losses.BinaryCrossentropy(from_logits=True), \n",
    "                  optimizer=tfk.optimizers.Adam(learning_rate=hp_learning_rate),\n",
    "                  metrics =  ['binary_accuracy'])\n",
    "    return model\n"
   ]
  },
  {
   "cell_type": "code",
   "execution_count": 70,
   "id": "c00483bf",
   "metadata": {
    "execution": {
     "iopub.execute_input": "2023-06-03T10:30:47.998948Z",
     "iopub.status.busy": "2023-06-03T10:30:47.998504Z",
     "iopub.status.idle": "2023-06-03T10:30:48.007027Z",
     "shell.execute_reply": "2023-06-03T10:30:48.005935Z"
    },
    "papermill": {
     "duration": 0.518808,
     "end_time": "2023-06-03T10:30:48.009214",
     "exception": false,
     "start_time": "2023-06-03T10:30:47.490406",
     "status": "completed"
    },
    "tags": []
   },
   "outputs": [],
   "source": [
    "def model_fit(model,x, y, x_v, y_v):\n",
    "    global num_saved_models, m, best_epoch\n",
    "    callback = tf.keras.callbacks.EarlyStopping(monitor='val_loss', mode='min', verbose=0, patience=10, restore_best_weights=True)\n",
    "    history = model.fit(x, y, \n",
    "                        epochs=epochs, \n",
    "                        batch_size=batch_size, \n",
    "                        validation_split=0.2, \n",
    "                        validation_data=([x_v,y_v]),\n",
    "                        verbose=0,\n",
    "                        callbacks=[callback,TrainingTimeCallback()])\n",
    "    \n",
    "    plot_history(history)\n",
    "    model.save(f\"model_{m}_{num_saved_models}.h5\")\n",
    "    val_acc_per_epoch = history.history['val_binary_accuracy']\n",
    "    best_epoch = val_acc_per_epoch.index(max(val_acc_per_epoch)) + 1\n",
    "    print('Best epoch: %d' % (best_epoch,))\n",
    "    # Increment the counter for saved models\n",
    "    num_saved_models += 1"
   ]
  },
  {
   "cell_type": "code",
   "execution_count": 71,
   "id": "ea0bd30b",
   "metadata": {
    "execution": {
     "iopub.execute_input": "2023-06-03T10:30:49.041796Z",
     "iopub.status.busy": "2023-06-03T10:30:49.039927Z",
     "iopub.status.idle": "2023-06-03T10:30:49.075593Z",
     "shell.execute_reply": "2023-06-03T10:30:49.074537Z"
    },
    "papermill": {
     "duration": 0.559998,
     "end_time": "2023-06-03T10:30:49.078206",
     "exception": false,
     "start_time": "2023-06-03T10:30:48.518208",
     "status": "completed"
    },
    "tags": []
   },
   "outputs": [],
   "source": [
    "X_train1, X_val1, y_train1, y_val1  = train_test_split(X, y , test_size=0.30, random_state=0)"
   ]
  },
  {
   "cell_type": "code",
   "execution_count": 72,
   "id": "5a28acf3",
   "metadata": {
    "execution": {
     "iopub.execute_input": "2023-06-03T10:30:50.152704Z",
     "iopub.status.busy": "2023-06-03T10:30:50.152287Z",
     "iopub.status.idle": "2023-06-03T10:30:50.157103Z",
     "shell.execute_reply": "2023-06-03T10:30:50.156127Z"
    },
    "papermill": {
     "duration": 0.520828,
     "end_time": "2023-06-03T10:30:50.159540",
     "exception": false,
     "start_time": "2023-06-03T10:30:49.638712",
     "status": "completed"
    },
    "tags": []
   },
   "outputs": [],
   "source": [
    "X_test1 = X_test\n",
    "y_test1 = y_test"
   ]
  },
  {
   "cell_type": "code",
   "execution_count": 73,
   "id": "a7b2609c",
   "metadata": {
    "execution": {
     "iopub.execute_input": "2023-06-03T10:30:51.222004Z",
     "iopub.status.busy": "2023-06-03T10:30:51.221615Z",
     "iopub.status.idle": "2023-06-03T10:30:51.228558Z",
     "shell.execute_reply": "2023-06-03T10:30:51.227550Z"
    },
    "papermill": {
     "duration": 0.534288,
     "end_time": "2023-06-03T10:30:51.230686",
     "exception": false,
     "start_time": "2023-06-03T10:30:50.696398",
     "status": "completed"
    },
    "tags": []
   },
   "outputs": [
    {
     "data": {
      "text/plain": [
       "(5858, 1024)"
      ]
     },
     "execution_count": 73,
     "metadata": {},
     "output_type": "execute_result"
    }
   ],
   "source": [
    "X_val1.shape"
   ]
  },
  {
   "cell_type": "code",
   "execution_count": 74,
   "id": "010945bf",
   "metadata": {
    "collapsed": true,
    "execution": {
     "iopub.execute_input": "2023-06-03T10:30:52.305648Z",
     "iopub.status.busy": "2023-06-03T10:30:52.304671Z",
     "iopub.status.idle": "2023-06-03T13:47:47.108934Z",
     "shell.execute_reply": "2023-06-03T13:47:47.107581Z"
    },
    "jupyter": {
     "outputs_hidden": true
    },
    "papermill": {
     "duration": 11815.3204,
     "end_time": "2023-06-03T13:47:47.111276",
     "exception": false,
     "start_time": "2023-06-03T10:30:51.790876",
     "status": "completed"
    },
    "tags": []
   },
   "outputs": [
    {
     "name": "stdout",
     "output_type": "stream",
     "text": [
      "Search space summary\n",
      "Default search space size: 13\n",
      "units_1 (Int)\n",
      "{'default': None, 'conditions': [], 'min_value': 32, 'max_value': 512, 'step': 128, 'sampling': None}\n",
      "act_1 (Choice)\n",
      "{'default': 'relu', 'conditions': [], 'values': ['relu', 'sigmoid'], 'ordered': False}\n",
      "dropout_1 (Float)\n",
      "{'default': 0.25, 'conditions': [], 'min_value': 0.0, 'max_value': 0.5, 'step': 0.1, 'sampling': None}\n",
      "units_2 (Int)\n",
      "{'default': None, 'conditions': [], 'min_value': 32, 'max_value': 256, 'step': 64, 'sampling': None}\n",
      "act_2 (Choice)\n",
      "{'default': 'relu', 'conditions': [], 'values': ['relu', 'sigmoid'], 'ordered': False}\n",
      "dropout_2 (Float)\n",
      "{'default': 0.25, 'conditions': [], 'min_value': 0.0, 'max_value': 0.5, 'step': 0.1, 'sampling': None}\n",
      "units_3 (Int)\n",
      "{'default': None, 'conditions': [], 'min_value': 32, 'max_value': 128, 'step': 32, 'sampling': None}\n",
      "act_3 (Choice)\n",
      "{'default': 'relu', 'conditions': [], 'values': ['relu', 'sigmoid'], 'ordered': False}\n",
      "dropout_3 (Float)\n",
      "{'default': 0.25, 'conditions': [], 'min_value': 0.0, 'max_value': 0.5, 'step': 0.1, 'sampling': None}\n",
      "units_4 (Int)\n",
      "{'default': None, 'conditions': [], 'min_value': 32, 'max_value': 64, 'step': 16, 'sampling': None}\n",
      "act_4 (Choice)\n",
      "{'default': 'relu', 'conditions': [], 'values': ['relu', 'sigmoid'], 'ordered': False}\n",
      "dropout_4 (Float)\n",
      "{'default': 0.25, 'conditions': [], 'min_value': 0.0, 'max_value': 0.5, 'step': 0.1, 'sampling': None}\n",
      "learning_rate (Choice)\n",
      "{'default': 0.1, 'conditions': [], 'values': [0.1, 0.0001], 'ordered': True}\n"
     ]
    },
    {
     "name": "stderr",
     "output_type": "stream",
     "text": [
      "/opt/conda/lib/python3.7/site-packages/keras/backend.py:4994: UserWarning:\n",
      "\n",
      "\"`binary_crossentropy` received `from_logits=True`, but the `output` argument was produced by a sigmoid or softmax activation and thus does not represent logits. Was this intended?\"\n",
      "\n"
     ]
    },
    {
     "name": "stdout",
     "output_type": "stream",
     "text": [
      "Results summary\n",
      "Results in ./untitled_project\n",
      "Showing 10 best trials\n",
      "<keras_tuner.engine.objective.Objective object at 0x78dd0a6eb290>\n",
      "Trial summary\n",
      "Hyperparameters:\n",
      "units_1: 416\n",
      "act_1: sigmoid\n",
      "dropout_1: 0.2\n",
      "units_2: 224\n",
      "act_2: relu\n",
      "dropout_2: 0.4\n",
      "units_3: 128\n",
      "act_3: sigmoid\n",
      "dropout_3: 0.2\n",
      "units_4: 64\n",
      "act_4: sigmoid\n",
      "dropout_4: 0.2\n",
      "learning_rate: 0.0001\n",
      "Score: 0.976408189535141\n",
      "Trial summary\n",
      "Hyperparameters:\n",
      "units_1: 416\n",
      "act_1: sigmoid\n",
      "dropout_1: 0.0\n",
      "units_2: 224\n",
      "act_2: relu\n",
      "dropout_2: 0.2\n",
      "units_3: 96\n",
      "act_3: relu\n",
      "dropout_3: 0.2\n",
      "units_4: 48\n",
      "act_4: sigmoid\n",
      "dropout_4: 0.30000000000000004\n",
      "learning_rate: 0.0001\n",
      "Score: 0.9757132291793823\n",
      "Trial summary\n",
      "Hyperparameters:\n",
      "units_1: 288\n",
      "act_1: relu\n",
      "dropout_1: 0.4\n",
      "units_2: 160\n",
      "act_2: sigmoid\n",
      "dropout_2: 0.4\n",
      "units_3: 32\n",
      "act_3: relu\n",
      "dropout_3: 0.1\n",
      "units_4: 48\n",
      "act_4: sigmoid\n",
      "dropout_4: 0.1\n",
      "learning_rate: 0.0001\n",
      "Score: 0.9752377331256866\n",
      "Trial summary\n",
      "Hyperparameters:\n",
      "units_1: 160\n",
      "act_1: sigmoid\n",
      "dropout_1: 0.5\n",
      "units_2: 96\n",
      "act_2: sigmoid\n",
      "dropout_2: 0.30000000000000004\n",
      "units_3: 64\n",
      "act_3: relu\n",
      "dropout_3: 0.0\n",
      "units_4: 48\n",
      "act_4: sigmoid\n",
      "dropout_4: 0.1\n",
      "learning_rate: 0.0001\n",
      "Score: 0.9741038739681244\n",
      "Trial summary\n",
      "Hyperparameters:\n",
      "units_1: 32\n",
      "act_1: sigmoid\n",
      "dropout_1: 0.5\n",
      "units_2: 160\n",
      "act_2: relu\n",
      "dropout_2: 0.1\n",
      "units_3: 32\n",
      "act_3: sigmoid\n",
      "dropout_3: 0.4\n",
      "units_4: 48\n",
      "act_4: relu\n",
      "dropout_4: 0.1\n",
      "learning_rate: 0.0001\n",
      "Score: 0.9724213659763337\n",
      "Trial summary\n",
      "Hyperparameters:\n",
      "units_1: 416\n",
      "act_1: relu\n",
      "dropout_1: 0.30000000000000004\n",
      "units_2: 160\n",
      "act_2: relu\n",
      "dropout_2: 0.1\n",
      "units_3: 128\n",
      "act_3: sigmoid\n",
      "dropout_3: 0.1\n",
      "units_4: 48\n",
      "act_4: relu\n",
      "dropout_4: 0.1\n",
      "learning_rate: 0.1\n",
      "Score: 0.9254572093486786\n",
      "Trial summary\n",
      "Hyperparameters:\n",
      "units_1: 416\n",
      "act_1: sigmoid\n",
      "dropout_1: 0.5\n",
      "units_2: 160\n",
      "act_2: relu\n",
      "dropout_2: 0.1\n",
      "units_3: 96\n",
      "act_3: sigmoid\n",
      "dropout_3: 0.1\n",
      "units_4: 48\n",
      "act_4: relu\n",
      "dropout_4: 0.1\n",
      "learning_rate: 0.1\n",
      "Score: 0.91934894323349\n",
      "Trial summary\n",
      "Hyperparameters:\n",
      "units_1: 160\n",
      "act_1: sigmoid\n",
      "dropout_1: 0.4\n",
      "units_2: 160\n",
      "act_2: sigmoid\n",
      "dropout_2: 0.1\n",
      "units_3: 32\n",
      "act_3: relu\n",
      "dropout_3: 0.2\n",
      "units_4: 48\n",
      "act_4: sigmoid\n",
      "dropout_4: 0.1\n",
      "learning_rate: 0.1\n",
      "Score: 0.9125091433525085\n",
      "Trial summary\n",
      "Hyperparameters:\n",
      "units_1: 416\n",
      "act_1: sigmoid\n",
      "dropout_1: 0.1\n",
      "units_2: 160\n",
      "act_2: sigmoid\n",
      "dropout_2: 0.1\n",
      "units_3: 128\n",
      "act_3: sigmoid\n",
      "dropout_3: 0.30000000000000004\n",
      "units_4: 32\n",
      "act_4: relu\n",
      "dropout_4: 0.30000000000000004\n",
      "learning_rate: 0.1\n",
      "Score: 0.9009509861469269\n",
      "Trial summary\n",
      "Hyperparameters:\n",
      "units_1: 416\n",
      "act_1: sigmoid\n",
      "dropout_1: 0.2\n",
      "units_2: 96\n",
      "act_2: sigmoid\n",
      "dropout_2: 0.1\n",
      "units_3: 96\n",
      "act_3: relu\n",
      "dropout_3: 0.2\n",
      "units_4: 48\n",
      "act_4: sigmoid\n",
      "dropout_4: 0.2\n",
      "learning_rate: 0.1\n",
      "Score: 0.8634235560894012\n",
      "\n",
      "best parameters that have been found: \n",
      "Best Hyperparameters:\n",
      " units_1 : 416\n",
      " act_1 : sigmoid\n",
      " dropout_1 : 0.2\n",
      " units_2 : 224\n",
      " act_2 : relu\n",
      " dropout_2 : 0.4\n",
      " units_3 : 128\n",
      " act_3 : sigmoid\n",
      " dropout_3 : 0.2\n",
      " units_4 : 64\n",
      " act_4 : sigmoid\n",
      " dropout_4 : 0.2\n",
      "Learning rate: 0.0001\n",
      "\n",
      "\n",
      "Model: \"CS_AWARE_Model\"\n",
      "_________________________________________________________________\n",
      "Layer (type)                 Output Shape              Param #   \n",
      "=================================================================\n",
      "Sequential_Input (InputLayer [(None, 1024)]            0         \n",
      "_________________________________________________________________\n",
      "layer1 (Dense)               (None, 416)               426400    \n",
      "_________________________________________________________________\n",
      "batch_normalization_4 (Batch (None, 416)               1664      \n",
      "_________________________________________________________________\n",
      "dropout_4 (Dropout)          (None, 416)               0         \n",
      "_________________________________________________________________\n",
      "layer4 (Dense)               (None, 224)               93408     \n",
      "_________________________________________________________________\n",
      "batch_normalization_5 (Batch (None, 224)               896       \n",
      "_________________________________________________________________\n",
      "dropout_5 (Dropout)          (None, 224)               0         \n",
      "_________________________________________________________________\n",
      "layer7 (Dense)               (None, 128)               28800     \n",
      "_________________________________________________________________\n",
      "batch_normalization_6 (Batch (None, 128)               512       \n",
      "_________________________________________________________________\n",
      "dropout_6 (Dropout)          (None, 128)               0         \n",
      "_________________________________________________________________\n",
      "layer10 (Dense)              (None, 64)                8256      \n",
      "_________________________________________________________________\n",
      "batch_normalization_7 (Batch (None, 64)                256       \n",
      "_________________________________________________________________\n",
      "dropout_7 (Dropout)          (None, 64)                0         \n",
      "_________________________________________________________________\n",
      "Output (Dense)               (None, 1)                 65        \n",
      "=================================================================\n",
      "Total params: 560,257\n",
      "Trainable params: 558,593\n",
      "Non-trainable params: 1,664\n",
      "_________________________________________________________________\n",
      "None\n",
      "Training time: 190.65872716903687 seconds\n"
     ]
    },
    {
     "data": {
      "image/png": "[encoded data removed]",
      "text/plain": [
       "<Figure size 432x288 with 1 Axes>"
      ]
     },
     "metadata": {
      "needs_background": "light"
     },
     "output_type": "display_data"
    },
    {
     "data": {
      "image/png": "[encoded data removed]",
      "text/plain": [
       "<Figure size 432x288 with 1 Axes>"
      ]
     },
     "metadata": {
      "needs_background": "light"
     },
     "output_type": "display_data"
    },
    {
     "name": "stdout",
     "output_type": "stream",
     "text": [
      "Best epoch: 18\n",
      "Train Accuracy: \n",
      "428/428 [==============================] - 1s 3ms/step - loss: 0.0831 - binary_accuracy: 0.9947\n",
      "Test Accuracy: \n",
      "7/7 [==============================] - 0s 3ms/step - loss: 1.0301 - binary_accuracy: 0.7578\n",
      "Test loss: 1.0300674438476562\n",
      "Test accuracy: 0.7578475475311279\n",
      "[0.71969697 0.81318681]\n",
      "\n",
      "0.7664418914418915\n",
      "\n",
      "Confusion matrix:\n",
      "[[95 37]\n",
      " [17 74]]\n",
      "\n",
      "Normalized confusion matrix:\n",
      "[[0.71969697 0.28030303]\n",
      " [0.18681319 0.81318681]]\n",
      "\n",
      "Classification report:\n",
      "              precision    recall  f1-score   support\n",
      "\n",
      "     label 0       0.85      0.72      0.78       132\n",
      "     label 1       0.67      0.81      0.73        91\n",
      "\n",
      "    accuracy                           0.76       223\n",
      "   macro avg       0.76      0.77      0.76       223\n",
      "weighted avg       0.77      0.76      0.76       223\n",
      "\n",
      "AUC-ROC: 0.7664418914418915\n",
      "MCC: 0.5238050301778008\n",
      "precision: 0.7574404761904762\n",
      "recall: 0.7664418914418915\n",
      "f1_score: 0.7556808959584482\n",
      "Best epoch: 18\n",
      "\n",
      "Retrain the model with best hps and epoch: \n",
      "Hypermodel: \n"
     ]
    },
    {
     "name": "stderr",
     "output_type": "stream",
     "text": [
      "/opt/conda/lib/python3.7/site-packages/keras/backend.py:4994: UserWarning:\n",
      "\n",
      "\"`binary_crossentropy` received `from_logits=True`, but the `output` argument was produced by a sigmoid or softmax activation and thus does not represent logits. Was this intended?\"\n",
      "\n"
     ]
    },
    {
     "name": "stdout",
     "output_type": "stream",
     "text": [
      "Training time: 153.05726647377014 seconds\n"
     ]
    },
    {
     "data": {
      "image/png": "[encoded data removed]",
      "text/plain": [
       "<Figure size 432x288 with 1 Axes>"
      ]
     },
     "metadata": {
      "needs_background": "light"
     },
     "output_type": "display_data"
    },
    {
     "data": {
      "image/png": "[encoded data removed]",
      "text/plain": [
       "<Figure size 432x288 with 1 Axes>"
      ]
     },
     "metadata": {
      "needs_background": "light"
     },
     "output_type": "display_data"
    },
    {
     "name": "stdout",
     "output_type": "stream",
     "text": [
      "Best epoch: 51\n",
      "Train Accuracy: \n",
      "428/428 [==============================] - 1s 3ms/step - loss: 0.1128 - binary_accuracy: 0.9941\n",
      "Test Accuracy: \n",
      "7/7 [==============================] - 0s 3ms/step - loss: 0.9655 - binary_accuracy: 0.7220\n",
      "Test loss: 0.9655418395996094\n",
      "Test accuracy: 0.7219731211662292\n",
      "[0.65909091 0.81318681]\n",
      "\n",
      "0.7361388611388611\n",
      "\n",
      "Confusion matrix:\n",
      "[[87 45]\n",
      " [17 74]]\n",
      "\n",
      "Normalized confusion matrix:\n",
      "[[0.65909091 0.34090909]\n",
      " [0.18681319 0.81318681]]\n",
      "\n",
      "Classification report:\n",
      "              precision    recall  f1-score   support\n",
      "\n",
      "     label 0       0.84      0.66      0.74       132\n",
      "     label 1       0.62      0.81      0.70        91\n",
      "\n",
      "    accuracy                           0.72       223\n",
      "   macro avg       0.73      0.74      0.72       223\n",
      "weighted avg       0.75      0.72      0.72       223\n",
      "\n",
      "AUC-ROC: 0.7361388611388613\n",
      "MCC: 0.46528062846600504\n",
      "precision: 0.72919360051713\n",
      "recall: 0.7361388611388611\n",
      "f1_score: 0.7210250201775625\n"
     ]
    }
   ],
   "source": [
    "    epochs = 150\n",
    "    #Tuner\n",
    "    tuner = RandomSearch(\n",
    "        build_model_tune,\n",
    "        objective = 'val_binary_accuracy',\n",
    "        max_trials = 10,\n",
    "        executions_per_trial = 10,\n",
    "        #overwrite=True,\n",
    "    )\n",
    "    # not necessary to see it every time\n",
    "    tuner.search_space_summary()\n",
    "    \n",
    "    tuner.search(X_train1, y_train1, \n",
    "                    epochs=50, \n",
    "                    batch_size=batch_size, \n",
    "                    validation_split=0.2, \n",
    "                    verbose=0,#not necessary to see all trainings\n",
    "                    validation_data=([X_val1, y_val1])\n",
    "                )\n",
    "    tuner.results_summary()\n",
    "    \n",
    "    # Get the optimal hyperparameters\n",
    "    best_hps=tuner.get_best_hyperparameters(num_trials=1)[0]\n",
    "    print()\n",
    "    print('best parameters that have been found: ')\n",
    "    show_best_hps()\n",
    "    print()\n",
    "\n",
    "    print()\n",
    "    # Build the model with the optimal hyperparameters and train it on the data for 50 epochs\n",
    "    tuned_model = tuner.hypermodel.build(best_hps)\n",
    "    #sow only the model with best params\n",
    "    print(tuned_model.summary())\n",
    "    global history\n",
    "\n",
    "    m = 'tunned_model_laser'        \n",
    "    history = model_fit(tuned_model, X_train1, y_train1, X_val1, y_val1)\n",
    "    results(tuned_model, X_train1, y_train1, X_test, y_test)\n",
    "\n",
    "    print('Best epoch: %d' % (best_epoch,))\n",
    "    hypermodel = tuner.hypermodel.build(best_hps)\n",
    "    \n",
    "    # Retrain the model with best epoch\n",
    "    print()\n",
    "    print(\"Retrain the model with best hps and epoch: \")\n",
    "    print('Hypermodel: ')\n",
    "    m = 'hypermodel_laser'        \n",
    "    model_fit(hypermodel, X_train1, y_train1, X_val1, y_val1)\n",
    "    results(hypermodel, X_train1, y_train1, X_test, y_test)\n",
    "    "
   ]
  },
  {
   "cell_type": "code",
   "execution_count": 75,
   "id": "1875af0d",
   "metadata": {
    "collapsed": true,
    "execution": {
     "iopub.execute_input": "2023-06-03T13:47:48.164500Z",
     "iopub.status.busy": "2023-06-03T13:47:48.163315Z",
     "iopub.status.idle": "2023-06-03T13:47:48.168803Z",
     "shell.execute_reply": "2023-06-03T13:47:48.167677Z"
    },
    "jupyter": {
     "outputs_hidden": true
    },
    "papermill": {
     "duration": 0.534724,
     "end_time": "2023-06-03T13:47:48.171181",
     "exception": false,
     "start_time": "2023-06-03T13:47:47.636457",
     "status": "completed"
    },
    "tags": []
   },
   "outputs": [],
   "source": [
    "# results(tuned_model, X_train1, y_train1, X_test, y_test)\n",
    "\n",
    "    "
   ]
  },
  {
   "cell_type": "code",
   "execution_count": 76,
   "id": "b5e4b56d",
   "metadata": {
    "collapsed": true,
    "execution": {
     "iopub.execute_input": "2023-06-03T13:47:49.230485Z",
     "iopub.status.busy": "2023-06-03T13:47:49.230107Z",
     "iopub.status.idle": "2023-06-03T13:47:49.234974Z",
     "shell.execute_reply": "2023-06-03T13:47:49.234000Z"
    },
    "jupyter": {
     "outputs_hidden": true,
     "source_hidden": true
    },
    "papermill": {
     "duration": 0.539084,
     "end_time": "2023-06-03T13:47:49.237238",
     "exception": false,
     "start_time": "2023-06-03T13:47:48.698154",
     "status": "completed"
    },
    "tags": []
   },
   "outputs": [],
   "source": [
    "\n",
    "#     print('Best epoch: %d' % (best_epoch,))\n",
    "    \n",
    "\n",
    "#     hypermodel = tuner.hypermodel.build(best_hps)\n",
    "    \n",
    "#     # Retrain the model with best epoch\n",
    "#     print()\n",
    "#     print(\"Retrain the model with best hps and epoch: \")\n",
    "#     print('Hypermodel: ')\n",
    "#     m = 'hypermodel_laser'        \n",
    "#     model_fit(hypermodel, X_train1, y_train1, X_val1, y_val1)\n",
    "#     results(hypermodel, X_train1, y_train1, X_test, y_test)"
   ]
  },
  {
   "cell_type": "code",
   "execution_count": 77,
   "id": "1b8fa2ca",
   "metadata": {
    "execution": {
     "iopub.execute_input": "2023-06-03T13:47:50.455251Z",
     "iopub.status.busy": "2023-06-03T13:47:50.454551Z",
     "iopub.status.idle": "2023-06-03T13:47:50.460540Z",
     "shell.execute_reply": "2023-06-03T13:47:50.459125Z"
    },
    "papermill": {
     "duration": 0.647865,
     "end_time": "2023-06-03T13:47:50.468318",
     "exception": false,
     "start_time": "2023-06-03T13:47:49.820453",
     "status": "completed"
    },
    "tags": []
   },
   "outputs": [],
   "source": [
    "# loss, accuracy = tuned_model.evaluate(scaled_vectors_test, y_test1, verbose =1)\n",
    "# # Print the evaluation results\n",
    "# print('Test loss:', loss)\n",
    "# print('Test accuracy:', accuracy)"
   ]
  },
  {
   "cell_type": "code",
   "execution_count": 78,
   "id": "1a6a9c3c",
   "metadata": {
    "execution": {
     "iopub.execute_input": "2023-06-03T13:47:51.546640Z",
     "iopub.status.busy": "2023-06-03T13:47:51.546175Z",
     "iopub.status.idle": "2023-06-03T13:47:51.553086Z",
     "shell.execute_reply": "2023-06-03T13:47:51.552097Z"
    },
    "papermill": {
     "duration": 0.533539,
     "end_time": "2023-06-03T13:47:51.555806",
     "exception": false,
     "start_time": "2023-06-03T13:47:51.022267",
     "status": "completed"
    },
    "tags": []
   },
   "outputs": [
    {
     "data": {
      "text/plain": [
       "['LR_laser', 'FFNN_laser', 'tunned_model_laser', 'hypermodel_laser']"
      ]
     },
     "execution_count": 78,
     "metadata": {},
     "output_type": "execute_result"
    }
   ],
   "source": [
    "model_name"
   ]
  },
  {
   "cell_type": "code",
   "execution_count": 79,
   "id": "687e66d7",
   "metadata": {
    "execution": {
     "iopub.execute_input": "2023-06-03T13:47:52.613742Z",
     "iopub.status.busy": "2023-06-03T13:47:52.613344Z",
     "iopub.status.idle": "2023-06-03T13:47:52.657980Z",
     "shell.execute_reply": "2023-06-03T13:47:52.656473Z"
    },
    "papermill": {
     "duration": 0.572933,
     "end_time": "2023-06-03T13:47:52.660986",
     "exception": false,
     "start_time": "2023-06-03T13:47:52.088053",
     "status": "completed"
    },
    "tags": []
   },
   "outputs": [
    {
     "data": {
      "text/html": [
       "<div>\n",
       "<style scoped>\n",
       "    .dataframe tbody tr th:only-of-type {\n",
       "        vertical-align: middle;\n",
       "    }\n",
       "\n",
       "    .dataframe tbody tr th {\n",
       "        vertical-align: top;\n",
       "    }\n",
       "\n",
       "    .dataframe thead th {\n",
       "        text-align: right;\n",
       "    }\n",
       "</style>\n",
       "<table border=\"1\" class=\"dataframe\">\n",
       "  <thead>\n",
       "    <tr style=\"text-align: right;\">\n",
       "      <th></th>\n",
       "      <th>Model</th>\n",
       "      <th>Accuracy</th>\n",
       "      <th>Loss</th>\n",
       "      <th>Precision</th>\n",
       "      <th>Recall</th>\n",
       "      <th>F1 Score</th>\n",
       "      <th>AUC-ROC</th>\n",
       "      <th>MCC</th>\n",
       "      <th>training_time</th>\n",
       "    </tr>\n",
       "  </thead>\n",
       "  <tbody>\n",
       "    <tr>\n",
       "      <th>0</th>\n",
       "      <td>LR_laser</td>\n",
       "      <td>0.686099</td>\n",
       "      <td>10.841984</td>\n",
       "      <td>0.726258</td>\n",
       "      <td>0.717782</td>\n",
       "      <td>0.685587</td>\n",
       "      <td>0.717782</td>\n",
       "      <td>0.443960</td>\n",
       "      <td>1.722005</td>\n",
       "    </tr>\n",
       "    <tr>\n",
       "      <th>1</th>\n",
       "      <td>FFNN_laser</td>\n",
       "      <td>0.654709</td>\n",
       "      <td>1.315825</td>\n",
       "      <td>0.683781</td>\n",
       "      <td>0.681027</td>\n",
       "      <td>0.654597</td>\n",
       "      <td>0.681027</td>\n",
       "      <td>0.364798</td>\n",
       "      <td>358.275412</td>\n",
       "    </tr>\n",
       "    <tr>\n",
       "      <th>2</th>\n",
       "      <td>tunned_model_laser</td>\n",
       "      <td>0.757848</td>\n",
       "      <td>1.030067</td>\n",
       "      <td>0.757440</td>\n",
       "      <td>0.766442</td>\n",
       "      <td>0.755681</td>\n",
       "      <td>0.766442</td>\n",
       "      <td>0.523805</td>\n",
       "      <td>190.658727</td>\n",
       "    </tr>\n",
       "    <tr>\n",
       "      <th>3</th>\n",
       "      <td>hypermodel_laser</td>\n",
       "      <td>0.721973</td>\n",
       "      <td>0.965542</td>\n",
       "      <td>0.729194</td>\n",
       "      <td>0.736139</td>\n",
       "      <td>0.721025</td>\n",
       "      <td>0.736139</td>\n",
       "      <td>0.465281</td>\n",
       "      <td>153.057266</td>\n",
       "    </tr>\n",
       "  </tbody>\n",
       "</table>\n",
       "</div>"
      ],
      "text/plain": [
       "                Model  Accuracy       Loss  Precision    Recall  F1 Score  \\\n",
       "0            LR_laser  0.686099  10.841984   0.726258  0.717782  0.685587   \n",
       "1          FFNN_laser  0.654709   1.315825   0.683781  0.681027  0.654597   \n",
       "2  tunned_model_laser  0.757848   1.030067   0.757440  0.766442  0.755681   \n",
       "3    hypermodel_laser  0.721973   0.965542   0.729194  0.736139  0.721025   \n",
       "\n",
       "    AUC-ROC       MCC  training_time  \n",
       "0  0.717782  0.443960       1.722005  \n",
       "1  0.681027  0.364798     358.275412  \n",
       "2  0.766442  0.523805     190.658727  \n",
       "3  0.736139  0.465281     153.057266  "
      ]
     },
     "execution_count": 79,
     "metadata": {},
     "output_type": "execute_result"
    }
   ],
   "source": [
    "data3 = {\n",
    "    \"Model\": model_name,\n",
    "    \"Accuracy\": accuracy_list,\n",
    "    \"Loss\": loss_list,\n",
    "    \"Precision\": precision_list,\n",
    "    \"Recall\": recall_list,\n",
    "    \"F1 Score\": f1_score_list,\n",
    "    \"AUC-ROC\": auc_roc_list,\n",
    "    \"MCC\": mcc_list,\n",
    "    \"training_time\":training_time\n",
    "}\n",
    "\n",
    "# df.to_excel('models_results.xlsx', index=False, encoding='utf-8-sig')\n",
    "data3 = pd.DataFrame(data3)\n",
    "# grouped_results = data2.reset_index().groupby('Model').mean().sort_values('index')\n",
    "# grouped_results = grouped_results.drop('index', axis=1)\n",
    "\n",
    "# grouped_results.reset_index(level=0, inplace=True)\n",
    "data3.to_excel('results_model_1.xlsx', index=False, encoding='utf-8-sig')\n",
    "data3"
   ]
  },
  {
   "cell_type": "code",
   "execution_count": 80,
   "id": "c648cc28",
   "metadata": {
    "execution": {
     "iopub.execute_input": "2023-06-03T13:47:53.773164Z",
     "iopub.status.busy": "2023-06-03T13:47:53.772773Z",
     "iopub.status.idle": "2023-06-03T13:47:53.798040Z",
     "shell.execute_reply": "2023-06-03T13:47:53.796973Z"
    },
    "papermill": {
     "duration": 0.550972,
     "end_time": "2023-06-03T13:47:53.800798",
     "exception": false,
     "start_time": "2023-06-03T13:47:53.249826",
     "status": "completed"
    },
    "tags": []
   },
   "outputs": [
    {
     "data": {
      "text/html": [
       "<div>                            <div id=\"0482af6a-89a3-416b-9201-e9da05b1cdf1\" class=\"plotly-graph-div\" style=\"height:600px; width:600px;\"></div>            <script type=\"text/javascript\">                require([\"plotly\"], function(Plotly) {                    window.PLOTLYENV=window.PLOTLYENV || {};                                    if (document.getElementById(\"0482af6a-89a3-416b-9201-e9da05b1cdf1\")) {                    Plotly.newPlot(                        \"0482af6a-89a3-416b-9201-e9da05b1cdf1\",                        [{\"marker\":{\"color\":\"#008B8B\",\"line\":{\"width\":0.5}},\"text\":[\"LR_laser: 69%\",\"FFNN_laser: 65%\",\"tunned_model_laser: 76%\",\"hypermodel_laser: 72%\"],\"textposition\":\"auto\",\"x\":[\"LR_laser\",\"FFNN_laser\",\"tunned_model_laser\",\"hypermodel_laser\"],\"y\":[0.6860986547085202,0.6547085046768188,0.7578475475311279,0.7219731211662292],\"type\":\"bar\"}],                        {\"template\":{\"data\":{\"histogram2dcontour\":[{\"type\":\"histogram2dcontour\",\"colorbar\":{\"outlinewidth\":0,\"ticks\":\"\"},\"colorscale\":[[0.0,\"#0d0887\"],[0.1111111111111111,\"#46039f\"],[0.2222222222222222,\"#7201a8\"],[0.3333333333333333,\"#9c179e\"],[0.4444444444444444,\"#bd3786\"],[0.5555555555555556,\"#d8576b\"],[0.6666666666666666,\"#ed7953\"],[0.7777777777777778,\"#fb9f3a\"],[0.8888888888888888,\"#fdca26\"],[1.0,\"#f0f921\"]]}],\"choropleth\":[{\"type\":\"choropleth\",\"colorbar\":{\"outlinewidth\":0,\"ticks\":\"\"}}],\"histogram2d\":[{\"type\":\"histogram2d\",\"colorbar\":{\"outlinewidth\":0,\"ticks\":\"\"},\"colorscale\":[[0.0,\"#0d0887\"],[0.1111111111111111,\"#46039f\"],[0.2222222222222222,\"#7201a8\"],[0.3333333333333333,\"#9c179e\"],[0.4444444444444444,\"#bd3786\"],[0.5555555555555556,\"#d8576b\"],[0.6666666666666666,\"#ed7953\"],[0.7777777777777778,\"#fb9f3a\"],[0.8888888888888888,\"#fdca26\"],[1.0,\"#f0f921\"]]}],\"heatmap\":[{\"type\":\"heatmap\",\"colorbar\":{\"outlinewidth\":0,\"ticks\":\"\"},\"colorscale\":[[0.0,\"#0d0887\"],[0.1111111111111111,\"#46039f\"],[0.2222222222222222,\"#7201a8\"],[0.3333333333333333,\"#9c179e\"],[0.4444444444444444,\"#bd3786\"],[0.5555555555555556,\"#d8576b\"],[0.6666666666666666,\"#ed7953\"],[0.7777777777777778,\"#fb9f3a\"],[0.8888888888888888,\"#fdca26\"],[1.0,\"#f0f921\"]]}],\"heatmapgl\":[{\"type\":\"heatmapgl\",\"colorbar\":{\"outlinewidth\":0,\"ticks\":\"\"},\"colorscale\":[[0.0,\"#0d0887\"],[0.1111111111111111,\"#46039f\"],[0.2222222222222222,\"#7201a8\"],[0.3333333333333333,\"#9c179e\"],[0.4444444444444444,\"#bd3786\"],[0.5555555555555556,\"#d8576b\"],[0.6666666666666666,\"#ed7953\"],[0.7777777777777778,\"#fb9f3a\"],[0.8888888888888888,\"#fdca26\"],[1.0,\"#f0f921\"]]}],\"contourcarpet\":[{\"type\":\"contourcarpet\",\"colorbar\":{\"outlinewidth\":0,\"ticks\":\"\"}}],\"contour\":[{\"type\":\"contour\",\"colorbar\":{\"outlinewidth\":0,\"ticks\":\"\"},\"colorscale\":[[0.0,\"#0d0887\"],[0.1111111111111111,\"#46039f\"],[0.2222222222222222,\"#7201a8\"],[0.3333333333333333,\"#9c179e\"],[0.4444444444444444,\"#bd3786\"],[0.5555555555555556,\"#d8576b\"],[0.6666666666666666,\"#ed7953\"],[0.7777777777777778,\"#fb9f3a\"],[0.8888888888888888,\"#fdca26\"],[1.0,\"#f0f921\"]]}],\"surface\":[{\"type\":\"surface\",\"colorbar\":{\"outlinewidth\":0,\"ticks\":\"\"},\"colorscale\":[[0.0,\"#0d0887\"],[0.1111111111111111,\"#46039f\"],[0.2222222222222222,\"#7201a8\"],[0.3333333333333333,\"#9c179e\"],[0.4444444444444444,\"#bd3786\"],[0.5555555555555556,\"#d8576b\"],[0.6666666666666666,\"#ed7953\"],[0.7777777777777778,\"#fb9f3a\"],[0.8888888888888888,\"#fdca26\"],[1.0,\"#f0f921\"]]}],\"mesh3d\":[{\"type\":\"mesh3d\",\"colorbar\":{\"outlinewidth\":0,\"ticks\":\"\"}}],\"scatter\":[{\"fillpattern\":{\"fillmode\":\"overlay\",\"size\":10,\"solidity\":0.2},\"type\":\"scatter\"}],\"parcoords\":[{\"type\":\"parcoords\",\"line\":{\"colorbar\":{\"outlinewidth\":0,\"ticks\":\"\"}}}],\"scatterpolargl\":[{\"type\":\"scatterpolargl\",\"marker\":{\"colorbar\":{\"outlinewidth\":0,\"ticks\":\"\"}}}],\"bar\":[{\"error_x\":{\"color\":\"#2a3f5f\"},\"error_y\":{\"color\":\"#2a3f5f\"},\"marker\":{\"line\":{\"color\":\"#E5ECF6\",\"width\":0.5},\"pattern\":{\"fillmode\":\"overlay\",\"size\":10,\"solidity\":0.2}},\"type\":\"bar\"}],\"scattergeo\":[{\"type\":\"scattergeo\",\"marker\":{\"colorbar\":{\"outlinewidth\":0,\"ticks\":\"\"}}}],\"scatterpolar\":[{\"type\":\"scatterpolar\",\"marker\":{\"colorbar\":{\"outlinewidth\":0,\"ticks\":\"\"}}}],\"histogram\":[{\"marker\":{\"pattern\":{\"fillmode\":\"overlay\",\"size\":10,\"solidity\":0.2}},\"type\":\"histogram\"}],\"scattergl\":[{\"type\":\"scattergl\",\"marker\":{\"colorbar\":{\"outlinewidth\":0,\"ticks\":\"\"}}}],\"scatter3d\":[{\"type\":\"scatter3d\",\"line\":{\"colorbar\":{\"outlinewidth\":0,\"ticks\":\"\"}},\"marker\":{\"colorbar\":{\"outlinewidth\":0,\"ticks\":\"\"}}}],\"scattermapbox\":[{\"type\":\"scattermapbox\",\"marker\":{\"colorbar\":{\"outlinewidth\":0,\"ticks\":\"\"}}}],\"scatterternary\":[{\"type\":\"scatterternary\",\"marker\":{\"colorbar\":{\"outlinewidth\":0,\"ticks\":\"\"}}}],\"scattercarpet\":[{\"type\":\"scattercarpet\",\"marker\":{\"colorbar\":{\"outlinewidth\":0,\"ticks\":\"\"}}}],\"carpet\":[{\"aaxis\":{\"endlinecolor\":\"#2a3f5f\",\"gridcolor\":\"white\",\"linecolor\":\"white\",\"minorgridcolor\":\"white\",\"startlinecolor\":\"#2a3f5f\"},\"baxis\":{\"endlinecolor\":\"#2a3f5f\",\"gridcolor\":\"white\",\"linecolor\":\"white\",\"minorgridcolor\":\"white\",\"startlinecolor\":\"#2a3f5f\"},\"type\":\"carpet\"}],\"table\":[{\"cells\":{\"fill\":{\"color\":\"#EBF0F8\"},\"line\":{\"color\":\"white\"}},\"header\":{\"fill\":{\"color\":\"#C8D4E3\"},\"line\":{\"color\":\"white\"}},\"type\":\"table\"}],\"barpolar\":[{\"marker\":{\"line\":{\"color\":\"#E5ECF6\",\"width\":0.5},\"pattern\":{\"fillmode\":\"overlay\",\"size\":10,\"solidity\":0.2}},\"type\":\"barpolar\"}],\"pie\":[{\"automargin\":true,\"type\":\"pie\"}]},\"layout\":{\"autotypenumbers\":\"strict\",\"colorway\":[\"#636efa\",\"#EF553B\",\"#00cc96\",\"#ab63fa\",\"#FFA15A\",\"#19d3f3\",\"#FF6692\",\"#B6E880\",\"#FF97FF\",\"#FECB52\"],\"font\":{\"color\":\"#2a3f5f\"},\"hovermode\":\"closest\",\"hoverlabel\":{\"align\":\"left\"},\"paper_bgcolor\":\"white\",\"plot_bgcolor\":\"#E5ECF6\",\"polar\":{\"bgcolor\":\"#E5ECF6\",\"angularaxis\":{\"gridcolor\":\"white\",\"linecolor\":\"white\",\"ticks\":\"\"},\"radialaxis\":{\"gridcolor\":\"white\",\"linecolor\":\"white\",\"ticks\":\"\"}},\"ternary\":{\"bgcolor\":\"#E5ECF6\",\"aaxis\":{\"gridcolor\":\"white\",\"linecolor\":\"white\",\"ticks\":\"\"},\"baxis\":{\"gridcolor\":\"white\",\"linecolor\":\"white\",\"ticks\":\"\"},\"caxis\":{\"gridcolor\":\"white\",\"linecolor\":\"white\",\"ticks\":\"\"}},\"coloraxis\":{\"colorbar\":{\"outlinewidth\":0,\"ticks\":\"\"}},\"colorscale\":{\"sequential\":[[0.0,\"#0d0887\"],[0.1111111111111111,\"#46039f\"],[0.2222222222222222,\"#7201a8\"],[0.3333333333333333,\"#9c179e\"],[0.4444444444444444,\"#bd3786\"],[0.5555555555555556,\"#d8576b\"],[0.6666666666666666,\"#ed7953\"],[0.7777777777777778,\"#fb9f3a\"],[0.8888888888888888,\"#fdca26\"],[1.0,\"#f0f921\"]],\"sequentialminus\":[[0.0,\"#0d0887\"],[0.1111111111111111,\"#46039f\"],[0.2222222222222222,\"#7201a8\"],[0.3333333333333333,\"#9c179e\"],[0.4444444444444444,\"#bd3786\"],[0.5555555555555556,\"#d8576b\"],[0.6666666666666666,\"#ed7953\"],[0.7777777777777778,\"#fb9f3a\"],[0.8888888888888888,\"#fdca26\"],[1.0,\"#f0f921\"]],\"diverging\":[[0,\"#8e0152\"],[0.1,\"#c51b7d\"],[0.2,\"#de77ae\"],[0.3,\"#f1b6da\"],[0.4,\"#fde0ef\"],[0.5,\"#f7f7f7\"],[0.6,\"#e6f5d0\"],[0.7,\"#b8e186\"],[0.8,\"#7fbc41\"],[0.9,\"#4d9221\"],[1,\"#276419\"]]},\"xaxis\":{\"gridcolor\":\"white\",\"linecolor\":\"white\",\"ticks\":\"\",\"title\":{\"standoff\":15},\"zerolinecolor\":\"white\",\"automargin\":true,\"zerolinewidth\":2},\"yaxis\":{\"gridcolor\":\"white\",\"linecolor\":\"white\",\"ticks\":\"\",\"title\":{\"standoff\":15},\"zerolinecolor\":\"white\",\"automargin\":true,\"zerolinewidth\":2},\"scene\":{\"xaxis\":{\"backgroundcolor\":\"#E5ECF6\",\"gridcolor\":\"white\",\"linecolor\":\"white\",\"showbackground\":true,\"ticks\":\"\",\"zerolinecolor\":\"white\",\"gridwidth\":2},\"yaxis\":{\"backgroundcolor\":\"#E5ECF6\",\"gridcolor\":\"white\",\"linecolor\":\"white\",\"showbackground\":true,\"ticks\":\"\",\"zerolinecolor\":\"white\",\"gridwidth\":2},\"zaxis\":{\"backgroundcolor\":\"#E5ECF6\",\"gridcolor\":\"white\",\"linecolor\":\"white\",\"showbackground\":true,\"ticks\":\"\",\"zerolinecolor\":\"white\",\"gridwidth\":2}},\"shapedefaults\":{\"line\":{\"color\":\"#2a3f5f\"}},\"annotationdefaults\":{\"arrowcolor\":\"#2a3f5f\",\"arrowhead\":0,\"arrowwidth\":1},\"geo\":{\"bgcolor\":\"white\",\"landcolor\":\"#E5ECF6\",\"subunitcolor\":\"white\",\"showland\":true,\"showlakes\":true,\"lakecolor\":\"white\"},\"title\":{\"x\":0.05},\"mapbox\":{\"style\":\"light\"}}},\"font\":{\"size\":16},\"margin\":{\"l\":50,\"r\":50,\"t\":50,\"b\":50},\"title\":{\"text\":\"Accuracy by Model\"},\"xaxis\":{\"title\":{\"text\":\"Models\"}},\"yaxis\":{\"title\":{\"text\":\"Accuracy\"}},\"plot_bgcolor\":\"#F8F8FF\",\"paper_bgcolor\":\"#F8F8FF\",\"width\":600,\"height\":600},                        {\"responsive\": true}                    ).then(function(){\n",
       "                            \n",
       "var gd = document.getElementById('0482af6a-89a3-416b-9201-e9da05b1cdf1');\n",
       "var x = new MutationObserver(function (mutations, observer) {{\n",
       "        var display = window.getComputedStyle(gd).display;\n",
       "        if (!display || display === 'none') {{\n",
       "            console.log([gd, 'removed!']);\n",
       "            Plotly.purge(gd);\n",
       "            observer.disconnect();\n",
       "        }}\n",
       "}});\n",
       "\n",
       "// Listen for the removal of the full notebook cells\n",
       "var notebookContainer = gd.closest('#notebook-container');\n",
       "if (notebookContainer) {{\n",
       "    x.observe(notebookContainer, {childList: true});\n",
       "}}\n",
       "\n",
       "// Listen for the clearing of the current output cell\n",
       "var outputEl = gd.closest('.output');\n",
       "if (outputEl) {{\n",
       "    x.observe(outputEl, {childList: true});\n",
       "}}\n",
       "\n",
       "                        })                };                });            </script>        </div>"
      ]
     },
     "metadata": {},
     "output_type": "display_data"
    }
   ],
   "source": [
    "import plotly.graph_objs as go\n",
    "\n",
    "# Count occurrences by model\n",
    "counts = data3['Accuracy']\n",
    "model_names = data3['Model']\n",
    "# Create a bar chart using plotly\n",
    "fig = go.Figure(data=[go.Bar(x=model_names, y=counts,\n",
    "                             marker_color='#008B8B',  # set the color of the bars\n",
    "                             text=[f'{model}: {accuracy:.0%}' for model, accuracy in zip(model_names, counts)],  # add model name and accuracy values as percentage to the bars\n",
    "                             textposition='auto')])  # position the labels inside the bars\n",
    "\n",
    "# Customize the layout\n",
    "fig.update_layout(title='Accuracy by Model',\n",
    "                  xaxis_title='Models',\n",
    "                  yaxis_title='Accuracy',\n",
    "                  font=dict(size=16),\n",
    "                  margin=dict(l=50, r=50, t=50, b=50),\n",
    "                  plot_bgcolor='#F8F8FF',\n",
    "                  paper_bgcolor='#F8F8FF',\n",
    "                  width=600,  # Update width\n",
    "                  height=600)\n",
    "# Adjust the width of the bars\n",
    "fig.update_traces(marker=dict(line=dict(width=0.5)))  # decrease the width of the bars\n",
    "\n",
    "# Show the plot\n",
    "fig.show()\n"
   ]
  }
 ],
 "metadata": {
  "kernelspec": {
   "display_name": "Python 3",
   "language": "python",
   "name": "python3"
  },
  "language_info": {
   "codemirror_mode": {
    "name": "ipython",
    "version": 3
   },
   "file_extension": ".py",
   "mimetype": "text/x-python",
   "name": "python",
   "nbconvert_exporter": "python",
   "pygments_lexer": "ipython3",
   "version": "3.7.12"
  },
  "papermill": {
   "default_parameters": {},
   "duration": 12422.976952,
   "end_time": "2023-06-03T13:47:57.575719",
   "environment_variables": {},
   "exception": null,
   "input_path": "__notebook__.ipynb",
   "output_path": "__notebook__.ipynb",
   "parameters": {},
   "start_time": "2023-06-03T10:20:54.598767",
   "version": "2.3.4"
  }
 },
 "nbformat": 4,
 "nbformat_minor": 5
}
