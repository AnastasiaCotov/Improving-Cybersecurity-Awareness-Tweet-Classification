{
 "cells": [
  {
   "cell_type": "code",
   "execution_count": 1,
   "metadata": {},
   "outputs": [],
   "source": [
    "import requests \n",
    "import json \n",
    "import pandas as pd\n",
    "import config \n",
    "\n",
    "#connection\n",
    "bearer_token='AAAAAAAAAAAAAAAAAAAAAEZsigEAAAAA6sTnwgKifd9%2FfmRkhlDObjJP8ao%3DadxQiV9Ou59TOEu4bTbiJ7xwXTs6GGnCaMqGGH6nhY0hZgjBHD'\n",
    "# from pytwitter import Api\n",
    "# api = Api(bearer_token=bearer_token)\n",
    "\n",
    "# from pytwitter import StreamApi\n",
    "# stream_api = StreamApi(bearer_token=bearer_token)"
   ]
  },
  {
   "cell_type": "markdown",
   "metadata": {},
   "source": [
    "https://github.com/twitterdev/Twitter-API-v2-sample-code/blob/main/Filtered-Stream/filtered_stream.py"
   ]
  },
  {
   "cell_type": "code",
   "execution_count": 2,
   "metadata": {},
   "outputs": [],
   "source": [
    "\n",
    "def bearer_oauth(r):\n",
    "    \"\"\"\n",
    "    Method required by bearer token authentication.\n",
    "    \"\"\"\n",
    "\n",
    "    r.headers[\"Authorization\"] = f\"Bearer {bearer_token}\"\n",
    "    r.headers[\"User-Agent\"] = \"v2FilteredStreamPython\"\n",
    "    return r\n",
    "\n"
   ]
  },
  {
   "cell_type": "code",
   "execution_count": 3,
   "metadata": {},
   "outputs": [],
   "source": [
    "def get_rules():\n",
    "    response = requests.get(\n",
    "        \"https://api.twitter.com/2/tweets/search/stream/rules\", auth=bearer_oauth\n",
    "    )\n",
    "    if response.status_code != 200:\n",
    "        raise Exception(\n",
    "            \"Cannot get rules (HTTP {}): {}\".format(response.status_code, response.text)\n",
    "        )\n",
    "    print(json.dumps(response.json()))\n",
    "    return response.json()\n",
    "\n"
   ]
  },
  {
   "cell_type": "code",
   "execution_count": 4,
   "metadata": {},
   "outputs": [],
   "source": [
    "def delete_all_rules(rules):\n",
    "    if rules is None or \"data\" not in rules:\n",
    "        return None\n",
    "\n",
    "    ids = list(map(lambda rule: rule[\"id\"], rules[\"data\"]))\n",
    "    payload = {\"delete\": {\"ids\": ids}}\n",
    "    response = requests.post(\n",
    "        \"https://api.twitter.com/2/tweets/search/stream/rules\",\n",
    "        auth=bearer_oauth,\n",
    "        json=payload\n",
    "    )\n",
    "    if response.status_code != 200:\n",
    "        raise Exception(\n",
    "            \"Cannot delete rules (HTTP {}): {}\".format(\n",
    "                response.status_code, response.text\n",
    "            )\n",
    "        )\n",
    "    print(json.dumps(response.json()))\n"
   ]
  },
  {
   "cell_type": "code",
   "execution_count": 5,
   "metadata": {},
   "outputs": [],
   "source": [
    "search_rules = [\n",
    "   # {\"tag\": 'AI OR CVE OR Cyberspace OR DoS Attack '},\n",
    "    {\"value\": \"CVE OR Cyberspace OR DoS Attack OR Exploit OR Hacker\", \"tag\": \"CVE OR Cyberspace OR DoS Attack OR Exploit OR Hacker \"},\n",
    "    {\"value\": \"malware OR Vulnerability OR cybersecurity\", \"tag\": \"malware OR Vulnerability OR cybersecurity\"},\n",
    "    {\"value\": \"IT Security OR Malware OR MTTR OR Patch OR Penetration Testing\", \"tag\": \"IT Security OR Malware OR MTTR OR Patch OR Penetration Testing \"},\n",
    "    {\"value\": \" Phishing OR Ransomware OR Red Team OR Risk OR Threat OR Security programs\", \"tag\": \" Phishing OR Ransomware OR Red Team OR Risk OR Threat OR Security programs \"},\n",
    "]"
   ]
  },
  {
   "cell_type": "code",
   "execution_count": 6,
   "metadata": {},
   "outputs": [],
   "source": [
    "def set_rules(delete):\n",
    "    # You can adjust the rules if needed\n",
    "    sample_rules = [\n",
    "        {\"value\": \"CVE OR Cyberspace OR DoS Attack OR Exploit OR Hacker\", \"tag\": \"CVE OR Cyberspace OR DoS Attack OR Exploit OR Hacker \"},\n",
    "        {\"value\": \"malware OR Vulnerability OR cybersecurity\", \"tag\": \"malware OR Vulnerability OR cybersecurity\"},\n",
    "    ]\n",
    "    payload = {\"add\": search_rules}\n",
    "    response = requests.post(\n",
    "        \"https://api.twitter.com/2/tweets/search/stream/rules\",\n",
    "        auth=bearer_oauth,\n",
    "        json=payload,\n",
    "    )\n",
    "    if response.status_code != 201:\n",
    "        raise Exception(\n",
    "            \"Cannot add rules (HTTP {}): {}\".format(response.status_code, response.text)\n",
    "        )\n",
    "    print(json.dumps(response.json()))\n"
   ]
  },
  {
   "cell_type": "code",
   "execution_count": 7,
   "metadata": {},
   "outputs": [],
   "source": [
    "tweet_list = []\n",
    "\n",
    "# appends information from tweets to a dataframe                \n",
    "def save_tweets(tweet):\n",
    "\n",
    "    data = tweet['data']\n",
    "    public_metrics = data['public_metrics']\n",
    "\n",
    "    id = data['id']\n",
    "    author_id = data['author_id']\n",
    "    full_text = data['text']\n",
    "    lang = data['lang']\n",
    "    created_at = data['created_at']\n",
    "\n",
    "    retweets = public_metrics['retweet_count']\n",
    "    replies = public_metrics['reply_count']\n",
    "    likes = public_metrics['like_count']\n",
    "    quotes =  public_metrics['quote_count']\n",
    "\n",
    "    \n",
    "    tweet_list.append([id,full_text, author_id,  lang, created_at,\n",
    "                        retweets, replies, likes, quotes])\n",
    "\n",
    "    "
   ]
  },
  {
   "cell_type": "code",
   "execution_count": 8,
   "metadata": {},
   "outputs": [],
   "source": [
    "fields = \"?tweet.fields=attachments,author_id,created_at,public_metrics\"\n",
    "expansions = \" \"\n",
    "def get_stream(set):\n",
    "    response = requests.get(\n",
    "        \"https://api.twitter.com/2/tweets/search/stream\" + expansions + fields, auth=bearer_oauth,  \n",
    "        stream=True, \n",
    "    )\n",
    "    print(response.status_code)\n",
    "    if response.status_code != 200:\n",
    "        raise Exception(\n",
    "            \"Cannot get stream (HTTP {}): {}\".format(\n",
    "                response.status_code, response.text\n",
    "            )\n",
    "        )\n",
    "    for response_line in response.iter_lines():\n",
    "        if response_line:\n",
    "            json_response = json.loads(response_line)\n",
    "            save_tweets(json_response)\n",
    "            print(json.dumps(json_response, indent=4, sort_keys=True))\n",
    "\n",
    "\n"
   ]
  },
  {
   "cell_type": "code",
   "execution_count": 9,
   "metadata": {},
   "outputs": [],
   "source": [
    "def main():\n",
    "    rules = get_rules()\n",
    "    delete = delete_all_rules(rules)\n",
    "    set = set_rules(delete)\n",
    "    get_stream(set)\n",
    "\n"
   ]
  },
  {
   "cell_type": "code",
   "execution_count": 10,
   "metadata": {},
   "outputs": [
    {
     "name": "stdout",
     "output_type": "stream",
     "text": [
      "{\"data\": [{\"id\": \"1651559023005560834\", \"value\": \"malware\"}], \"meta\": {\"sent\": \"2023-05-27T16:30:03.330Z\", \"result_count\": 1}}\n",
      "{\"meta\": {\"sent\": \"2023-05-27T16:30:04.642Z\", \"summary\": {\"deleted\": 1, \"not_deleted\": 0}}}\n",
      "{\"data\": [{\"value\": \"malware OR Vulnerability OR cybersecurity\", \"tag\": \"malware OR Vulnerability OR cybersecurity\", \"id\": \"1662496403745112067\"}, {\"value\": \" Phishing OR Ransomware OR Red Team OR Risk OR Threat OR Security programs\", \"tag\": \" Phishing OR Ransomware OR Red Team OR Risk OR Threat OR Security programs \", \"id\": \"1662496403745112065\"}, {\"value\": \"CVE OR Cyberspace OR DoS Attack OR Exploit OR Hacker\", \"tag\": \"CVE OR Cyberspace OR DoS Attack OR Exploit OR Hacker \", \"id\": \"1662496403745112064\"}, {\"value\": \"IT Security OR Malware OR MTTR OR Patch OR Penetration Testing\", \"tag\": \"IT Security OR Malware OR MTTR OR Patch OR Penetration Testing \", \"id\": \"1662496403745112066\"}], \"meta\": {\"sent\": \"2023-05-27T16:30:06.439Z\", \"summary\": {\"created\": 4, \"not_created\": 0, \"valid\": 4, \"invalid\": 0}}}\n",
      "404\n"
     ]
    },
    {
     "ename": "Exception",
     "evalue": "Cannot get stream (HTTP 404): ",
     "output_type": "error",
     "traceback": [
      "\u001b[1;31m---------------------------------------------------------------------------\u001b[0m",
      "\u001b[1;31mException\u001b[0m                                 Traceback (most recent call last)",
      "\u001b[1;32md:\\polimi\\Thesis\\code\\0_stream_map\\0_stream_lookup_tweet_id-1_version1.ipynb Cell 11\u001b[0m in \u001b[0;36m1\n\u001b[1;32m----> <a href='vscode-notebook-cell:/d%3A/polimi/Thesis/code/0_stream_map/0_stream_lookup_tweet_id-1_version1.ipynb#X13sZmlsZQ%3D%3D?line=0'>1</a>\u001b[0m main()\n",
      "\u001b[1;32md:\\polimi\\Thesis\\code\\0_stream_map\\0_stream_lookup_tweet_id-1_version1.ipynb Cell 11\u001b[0m in \u001b[0;36m5\n\u001b[0;32m      <a href='vscode-notebook-cell:/d%3A/polimi/Thesis/code/0_stream_map/0_stream_lookup_tweet_id-1_version1.ipynb#X13sZmlsZQ%3D%3D?line=2'>3</a>\u001b[0m delete \u001b[39m=\u001b[39m delete_all_rules(rules)\n\u001b[0;32m      <a href='vscode-notebook-cell:/d%3A/polimi/Thesis/code/0_stream_map/0_stream_lookup_tweet_id-1_version1.ipynb#X13sZmlsZQ%3D%3D?line=3'>4</a>\u001b[0m \u001b[39mset\u001b[39m \u001b[39m=\u001b[39m set_rules(delete)\n\u001b[1;32m----> <a href='vscode-notebook-cell:/d%3A/polimi/Thesis/code/0_stream_map/0_stream_lookup_tweet_id-1_version1.ipynb#X13sZmlsZQ%3D%3D?line=4'>5</a>\u001b[0m get_stream(\u001b[39mset\u001b[39;49m)\n",
      "\u001b[1;32md:\\polimi\\Thesis\\code\\0_stream_map\\0_stream_lookup_tweet_id-1_version1.ipynb Cell 11\u001b[0m in \u001b[0;36m1\n\u001b[0;32m      <a href='vscode-notebook-cell:/d%3A/polimi/Thesis/code/0_stream_map/0_stream_lookup_tweet_id-1_version1.ipynb#X13sZmlsZQ%3D%3D?line=7'>8</a>\u001b[0m \u001b[39mprint\u001b[39m(response\u001b[39m.\u001b[39mstatus_code)\n\u001b[0;32m      <a href='vscode-notebook-cell:/d%3A/polimi/Thesis/code/0_stream_map/0_stream_lookup_tweet_id-1_version1.ipynb#X13sZmlsZQ%3D%3D?line=8'>9</a>\u001b[0m \u001b[39mif\u001b[39;00m response\u001b[39m.\u001b[39mstatus_code \u001b[39m!=\u001b[39m \u001b[39m200\u001b[39m:\n\u001b[1;32m---> <a href='vscode-notebook-cell:/d%3A/polimi/Thesis/code/0_stream_map/0_stream_lookup_tweet_id-1_version1.ipynb#X13sZmlsZQ%3D%3D?line=9'>10</a>\u001b[0m     \u001b[39mraise\u001b[39;00m \u001b[39mException\u001b[39;00m(\n\u001b[0;32m     <a href='vscode-notebook-cell:/d%3A/polimi/Thesis/code/0_stream_map/0_stream_lookup_tweet_id-1_version1.ipynb#X13sZmlsZQ%3D%3D?line=10'>11</a>\u001b[0m         \u001b[39m\"\u001b[39m\u001b[39mCannot get stream (HTTP \u001b[39m\u001b[39m{}\u001b[39;00m\u001b[39m): \u001b[39m\u001b[39m{}\u001b[39;00m\u001b[39m\"\u001b[39m\u001b[39m.\u001b[39mformat(\n\u001b[0;32m     <a href='vscode-notebook-cell:/d%3A/polimi/Thesis/code/0_stream_map/0_stream_lookup_tweet_id-1_version1.ipynb#X13sZmlsZQ%3D%3D?line=11'>12</a>\u001b[0m             response\u001b[39m.\u001b[39mstatus_code, response\u001b[39m.\u001b[39mtext\n\u001b[0;32m     <a href='vscode-notebook-cell:/d%3A/polimi/Thesis/code/0_stream_map/0_stream_lookup_tweet_id-1_version1.ipynb#X13sZmlsZQ%3D%3D?line=12'>13</a>\u001b[0m         )\n\u001b[0;32m     <a href='vscode-notebook-cell:/d%3A/polimi/Thesis/code/0_stream_map/0_stream_lookup_tweet_id-1_version1.ipynb#X13sZmlsZQ%3D%3D?line=13'>14</a>\u001b[0m     )\n\u001b[0;32m     <a href='vscode-notebook-cell:/d%3A/polimi/Thesis/code/0_stream_map/0_stream_lookup_tweet_id-1_version1.ipynb#X13sZmlsZQ%3D%3D?line=14'>15</a>\u001b[0m \u001b[39mfor\u001b[39;00m response_line \u001b[39min\u001b[39;00m response\u001b[39m.\u001b[39miter_lines():\n\u001b[0;32m     <a href='vscode-notebook-cell:/d%3A/polimi/Thesis/code/0_stream_map/0_stream_lookup_tweet_id-1_version1.ipynb#X13sZmlsZQ%3D%3D?line=15'>16</a>\u001b[0m     \u001b[39mif\u001b[39;00m response_line:\n",
      "\u001b[1;31mException\u001b[0m: Cannot get stream (HTTP 404): "
     ]
    }
   ],
   "source": [
    "\n",
    "main()\n"
   ]
  },
  {
   "cell_type": "code",
   "execution_count": 11,
   "metadata": {},
   "outputs": [],
   "source": [
    "streamed = pd.DataFrame(tweet_list, columns = ['tweet_id', 'full_text', 'author_id', 'lang', 'created_at',\n",
    "                        'retweets', 'replies', 'likes', 'quotes'])\n"
   ]
  },
  {
   "cell_type": "code",
   "execution_count": 12,
   "metadata": {},
   "outputs": [
    {
     "ename": "IndexError",
     "evalue": "index 0 is out of bounds for axis 0 with size 0",
     "output_type": "error",
     "traceback": [
      "\u001b[1;31m---------------------------------------------------------------------------\u001b[0m",
      "\u001b[1;31mIndexError\u001b[0m                                Traceback (most recent call last)",
      "\u001b[1;32md:\\polimi\\Thesis\\code\\0_stream_map\\0_stream_lookup_tweet_id-1_version1.ipynb Cell 13\u001b[0m in \u001b[0;36m1\n\u001b[1;32m----> <a href='vscode-notebook-cell:/d%3A/polimi/Thesis/code/0_stream_map/0_stream_lookup_tweet_id-1_version1.ipynb#X15sZmlsZQ%3D%3D?line=0'>1</a>\u001b[0m streamed[\u001b[39m'\u001b[39;49m\u001b[39mfull_text\u001b[39;49m\u001b[39m'\u001b[39;49m][\u001b[39m0\u001b[39;49m]\n",
      "File \u001b[1;32m~\\AppData\\Local\\Packages\\PythonSoftwareFoundation.Python.3.10_qbz5n2kfra8p0\\LocalCache\\local-packages\\Python310\\site-packages\\pandas\\core\\series.py:979\u001b[0m, in \u001b[0;36mSeries.__getitem__\u001b[1;34m(self, key)\u001b[0m\n\u001b[0;32m    976\u001b[0m     key \u001b[39m=\u001b[39m unpack_1tuple(key)\n\u001b[0;32m    978\u001b[0m \u001b[39mif\u001b[39;00m is_integer(key) \u001b[39mand\u001b[39;00m \u001b[39mself\u001b[39m\u001b[39m.\u001b[39mindex\u001b[39m.\u001b[39m_should_fallback_to_positional:\n\u001b[1;32m--> 979\u001b[0m     \u001b[39mreturn\u001b[39;00m \u001b[39mself\u001b[39;49m\u001b[39m.\u001b[39;49m_values[key]\n\u001b[0;32m    981\u001b[0m \u001b[39melif\u001b[39;00m key_is_scalar:\n\u001b[0;32m    982\u001b[0m     \u001b[39mreturn\u001b[39;00m \u001b[39mself\u001b[39m\u001b[39m.\u001b[39m_get_value(key)\n",
      "\u001b[1;31mIndexError\u001b[0m: index 0 is out of bounds for axis 0 with size 0"
     ]
    }
   ],
   "source": [
    "streamed['full_text'][0]"
   ]
  },
  {
   "cell_type": "code",
   "execution_count": null,
   "metadata": {},
   "outputs": [],
   "source": []
  },
  {
   "cell_type": "code",
   "execution_count": null,
   "metadata": {},
   "outputs": [],
   "source": []
  },
  {
   "cell_type": "code",
   "execution_count": null,
   "metadata": {},
   "outputs": [],
   "source": []
  },
  {
   "cell_type": "code",
   "execution_count": null,
   "metadata": {},
   "outputs": [],
   "source": []
  },
  {
   "cell_type": "code",
   "execution_count": null,
   "metadata": {},
   "outputs": [],
   "source": []
  },
  {
   "cell_type": "code",
   "execution_count": null,
   "metadata": {},
   "outputs": [],
   "source": []
  },
  {
   "cell_type": "code",
   "execution_count": null,
   "metadata": {},
   "outputs": [],
   "source": []
  },
  {
   "cell_type": "code",
   "execution_count": null,
   "metadata": {},
   "outputs": [],
   "source": []
  },
  {
   "cell_type": "code",
   "execution_count": null,
   "metadata": {},
   "outputs": [],
   "source": []
  },
  {
   "cell_type": "markdown",
   "metadata": {},
   "source": [
    "unsuccessfull part here:\n"
   ]
  },
  {
   "cell_type": "code",
   "execution_count": 13,
   "metadata": {},
   "outputs": [],
   "source": [
    "import time"
   ]
  },
  {
   "cell_type": "code",
   "execution_count": 14,
   "metadata": {},
   "outputs": [],
   "source": [
    "keyword_dict = [{\"value\": 'sql injection OR code execution OR remote code OR privilege escalation OR buffer overflow OR arbitrary code'},\n",
    "                {\"value\": 'injection vulnerability OR command injection OR execute arbitrary OR remote attacker OR execution vulnerability'},\n",
    "                {\"value\": 'remote attackers OR allows remote OR critical cve OR medium https OR cve detected OR out-of-bounds write'},\n",
    "                {\"value\": 'cross-site scripting OR privilege vulnerability OR escalation vulnerability OR write vulnerability OR patches critical'},\n",
    "                {\"value\": 'injection attack OR use-after-free vulnerability OR execution vulnerabilities OR injection vulnerabilities'},\n",
    "                {\"value\": 'integer overflow OR code injection OR execution privileges OR authenticated attacker OR injection attacks'},\n",
    "                {\"value\": 'malicious code OR remote code execution OR sql injection type OR code execution vulnerability OR sql injection vulnerability'},\n",
    "                {\"value\": 'execute arbitrary code OR arbitrary code execution OR potentially critical cve OR critical cve detected'},\n",
    "                {\"value\": 'allows remote attackers OR local privilege escalation OR vulnerability allows attackers OR buffer overflow vulnerability'},\n",
    "                {\"value\": 'heap-based buffer overflow OR heap buffer overflow OR privilege escalation vulnerability OR vulnerability allows remote'},\n",
    "                {\"value\": 'arbitrary code via OR exploit heap corruption OR stack-based buffer overflow OR injection vulnerability exists'},\n",
    "                {\"value\": 'out-of-bounds write vulnerability OR sql injection attack OR unauthenticated remote attacker OR code execution vulnerabilities'},\n",
    "                {\"value\": 'overflow vulnerability exists OR privilege escalation in OR specially-crafted http request OR sql injection attacks'},\n",
    "                {\"value\": 'unauthenticated remote code OR stack overflow vulnerability OR allow remote attackers OR crafted payload injected'},\n",
    "                {\"value\": 'out-of-bounds read OR command injection vulnerability OR cross-site request forgery OR overflow vulnerability OR zero-day OR 0-day'},\n",
    "                {\"value\": 'malware OR ransomware OR spam'}]"
   ]
  },
  {
   "cell_type": "code",
   "execution_count": 15,
   "metadata": {},
   "outputs": [],
   "source": [
    "second_stub_dict = [{\"value\": 'sql injection OR code execution OR remote code OR privilege escalation OR buffer overflow OR arbitrary code'},\n",
    "                    {\"value\": 'injection vulnerability OR command injection OR execute arbitrary OR remote attacker OR execution vulnerability'},\n",
    "                    {\"value\": 'remote attackers OR allows remote OR critical cve OR medium https OR cve detected OR out-of-bounds write'},\n",
    "                    {\"value\": 'cross-site scripting OR privilege vulnerability OR escalation vulnerability OR write vulnerability OR patches critical'},\n",
    "                    {\"value\": 'injection attack OR use-after-free vulnerability OR execution vulnerabilities OR injection vulnerabilities'},\n",
    "                    {\"value\": 'integer overflow OR code injection OR execution privileges OR authenticated attacker OR injection attacks'},\n",
    "                    {\"value\": 'malicious code OR remote code execution OR sql injection type OR code execution vulnerability OR sql injection vulnerability'},\n",
    "                    {\"value\": 'execute arbitrary code OR arbitrary code execution OR potentially critical cve OR critical cve detected'},\n",
    "                    {\"value\": 'allows remote attackers OR local privilege escalation OR vulnerability allows attackers OR buffer overflow vulnerability'},\n",
    "                    {\"value\": 'heap-based buffer overflow OR heap buffer overflow OR privilege escalation vulnerability OR vulnerability allows remote'},\n",
    "                    {\"value\": 'arbitrary code via OR exploit heap corruption OR stack-based buffer overflow OR injection vulnerability exists'},\n",
    "                    {\"value\": 'out-of-bounds write vulnerability OR sql injection attack OR unauthenticated remote attacker OR code execution vulnerabilities'},\n",
    "                    {\"value\": 'overflow vulnerability exists OR privilege escalation in OR specially-crafted http request OR sql injection attacks'},\n",
    "                    {\"value\": 'unauthenticated remote code OR stack overflow vulnerability OR allow remote attackers OR crafted payload injected'},\n",
    "                    {\"value\": 'out-of-bounds read OR command injection vulnerability OR cross-site request forgery OR overflow vulnerability OR zero-day OR 0-day'}]"
   ]
  },
  {
   "cell_type": "code",
   "execution_count": 17,
   "metadata": {},
   "outputs": [],
   "source": [
    "# the max number of tweets that will be returned at a time\n",
    "max_results = 5000\n",
    "\n",
    "\n",
    "# we'll use the following keywords\n",
    "# search_rules = second_stub_dict\n",
    "search_rules = second_stub_dict\n",
    "\n",
    "def get_params():\n",
    "    return {\"tweet.fields\": [\"entities,public_metrics,lang,created_at\"], \"user.fields\": [\"location\"],\n",
    "             \"expansions\":\"author_id,geo.place_id\", \"place.fields\" : ['country']\n",
    "}\n",
    "\n",
    "params = get_params()"
   ]
  },
  {
   "cell_type": "code",
   "execution_count": 18,
   "metadata": {},
   "outputs": [],
   "source": [
    "# puts the bearer token in the request header\n",
    "def create_headers(bearer_token):\n",
    "    headers = {\"Authorization\": \"Bearer {}\".format(bearer_token)}\n",
    "    return headers"
   ]
  },
  {
   "cell_type": "code",
   "execution_count": 19,
   "metadata": {},
   "outputs": [],
   "source": [
    "def set_rules(headers, delete, bearer_token, search_rules):\n",
    "    search_rules = keyword_dict\n",
    "    payload = {\"add\": search_rules}\n",
    "    response = requests.post(\n",
    "        \"https://api.twitter.com/2/tweets/search/stream/rules\",\n",
    "        headers=headers,\n",
    "        json=payload,\n",
    "    )\n",
    "    if response.status_code != 201:\n",
    "        raise Exception(\n",
    "            \"Cannot add rules (HTTP {}): {}\".format(response.status_code, response.text)\n",
    "        )\n"
   ]
  },
  {
   "cell_type": "code",
   "execution_count": 20,
   "metadata": {},
   "outputs": [],
   "source": [
    "# retrieves the current set of rules from the API     \n",
    "def get_rules(headers, bearer_token):\n",
    "    response = requests.get(\n",
    "        # \"https://api.twitter.com/2/tweets/sample/stream\",\n",
    "\n",
    "        \"https://api.twitter.com/2/tweets/search/stream/rules\",\n",
    "        headers=headers\n",
    "    )\n",
    "    if response.status_code != 200:\n",
    "        raise Exception(\n",
    "            \"Cannot get rules (HTTP {}): {}\".format(response.status_code, response.text)\n",
    "        )\n",
    "    #print(json.dumps(response.json()))\n",
    "    return response.json()"
   ]
  },
  {
   "cell_type": "code",
   "execution_count": 21,
   "metadata": {},
   "outputs": [],
   "source": [
    "# tells the API to delete our current rule configuration \n",
    "def delete_all_rules(headers, bearer_token, rules):\n",
    "    if rules is None or \"data\" not in rules:\n",
    "        return None\n",
    "\n",
    "    ids = list(map(lambda rule: rule[\"id\"], rules[\"data\"]))\n",
    "    payload = {\"delete\": {\"ids\": ids}}\n",
    "    response = requests.post(\n",
    "        # \"https://api.twitter.com/2/tweets/sample/stream\",\n",
    "\n",
    "        \"https://api.twitter.com/2/tweets/search/stream/rules\",\n",
    "        headers=headers,\n",
    "        json=payload\n",
    "    )\n",
    "    if response.status_code != 200:\n",
    "        raise Exception(\n",
    "            \"Cannot delete rules (HTTP {}): {}\".format(\n",
    "                response.status_code, response.text\n",
    "            )\n",
    "        )\n",
    "    #print(json.dumps(response.json()))"
   ]
  },
  {
   "cell_type": "code",
   "execution_count": 22,
   "metadata": {},
   "outputs": [],
   "source": [
    "# starts the stream, iterates through the lines of the response and for each line calls the save_tweets function\n",
    "data = []\n",
    "def get_stream(headers, set, bearer_token,  fields, max_results):\n",
    "    response = requests.get(\n",
    "        \"https://api.twitter.com/2/tweets/search/stream\" , \n",
    "        headers=headers, stream=True, params=params\n",
    "    )\n",
    "    print(response.status_code)\n",
    "    if response.status_code != 200:\n",
    "        raise Exception(\n",
    "            \"Cannot get stream (HTTP {}): {}\".format(\n",
    "                response.status_code, response.text\n",
    "            )\n",
    "        )\n",
    "    i = 0\n",
    "    for response_line in response.iter_lines():\n",
    "        i += 1\n",
    "        if i == max_results:\n",
    "            break\n",
    "        elif response_line:\n",
    "            json_response = json.loads(response_line)\n",
    "            data.append(json_response)\n",
    "            save_tweets(json_response)\n",
    "        else: \n",
    "            # In case the JSON fails to decode, we skip this tweet\n",
    "            print(f\"{i}/{max_results}: ERROR: encountered a problem with a line of data... \\n\")\n",
    "        \n"
   ]
  },
  {
   "cell_type": "code",
   "execution_count": 23,
   "metadata": {},
   "outputs": [],
   "source": [
    "tweet_list = []\n",
    "# appends information from tweets to a dataframe                \n",
    "def save_tweets(tweet):\n",
    "    \n",
    "    data = tweet['data']\n",
    "    public_metrics = data['public_metrics']\n",
    "\n",
    "    id = data['id']\n",
    "    author_id = data['author_id']\n",
    "    full_text = data['text']\n",
    "    lang = data['lang']\n",
    "    created_at = data['created_at']\n",
    "    geo = data['geo']\n",
    "\n",
    "    retweets = public_metrics['retweet_count']\n",
    "    replies = public_metrics['reply_count']\n",
    "    likes = public_metrics['like_count']\n",
    "    quotes =  public_metrics['quote_count']\n",
    "\n",
    "    includes = tweet['includes']\n",
    "    if 'location' in includes['users'][0]:\n",
    "        location = includes['users'][0]['location']\n",
    "    else:\n",
    "        location =\"\"\n",
    "    # user_creation = includes['users'][0]['created_at'] \n",
    "    # followers =  includes['users'][0]['public_metrics']['followers_count'] \n",
    "    # followings = includes['users'][0]['public_metrics']['following_count'] \n",
    "    # no_of_tweets = includes['users'][0]['public_metrics']['listed_count'] \n",
    "    # user_verified = includes['users'][0]['verified']\n",
    "    # user_protected = includes['users'][0]['protected']\n",
    "    \n",
    "    tweet_list.append([id, author_id, full_text, lang, created_at, geo,\n",
    "                        retweets, replies, likes, quotes, location])\n",
    "                        # username, location, user_creation, followers,\n",
    "                        # followings, no_of_tweets, user_verified, user_protected ])\n"
   ]
  },
  {
   "cell_type": "code",
   "execution_count": 24,
   "metadata": {},
   "outputs": [
    {
     "name": "stdout",
     "output_type": "stream",
     "text": [
      "200\n",
      "297/2000: ERROR: encountered a problem with a line of data... \n",
      "\n",
      "630/2000: ERROR: encountered a problem with a line of data... \n",
      "\n",
      "957/2000: ERROR: encountered a problem with a line of data... \n",
      "\n",
      "1370/2000: ERROR: encountered a problem with a line of data... \n",
      "\n",
      "1701/2000: ERROR: encountered a problem with a line of data... \n",
      "\n"
     ]
    }
   ],
   "source": [
    "bearer_token = bearer_token\n",
    "headers = create_headers(bearer_token)\n",
    "rules = get_rules(headers, bearer_token)\n",
    "delete = delete_all_rules(headers, bearer_token, rules)\n",
    "set = set_rules(headers, delete, bearer_token, search_rules)\n",
    "get_stream(headers, set, bearer_token,  params, 2000)\n",
    "\n",
    "columns = [ #tweet data\n",
    "            'tweetid', 'author_id' ,'full_text', 'lang', 'created_at','geo',\n",
    "            'retweets', 'replies', 'likes', 'quotes',  'location'\n",
    "    \n",
    "            # 'retweeted', 'favorited', 'is_quote_status', 'retweet_count', \n",
    "            # 'favorite_count', 'lang', 'in_reply_to_status_id', 'in_reply_to_user_id',\n",
    "            # 'hashtags', 'user_mentions', 'urls'\n",
    "            # public metrics\n",
    "            #'like_count'\n",
    "            #'quote_count', 'reply_count', 'retweet_count' ,\n",
    "            # media\n",
    "            # non public metrics\n",
    "            #'url_link_clicks'\n",
    "            ]\n",
    "\n"
   ]
  },
  {
   "cell_type": "code",
   "execution_count": 25,
   "metadata": {},
   "outputs": [
    {
     "data": {
      "text/html": [
       "<div>\n",
       "<style scoped>\n",
       "    .dataframe tbody tr th:only-of-type {\n",
       "        vertical-align: middle;\n",
       "    }\n",
       "\n",
       "    .dataframe tbody tr th {\n",
       "        vertical-align: top;\n",
       "    }\n",
       "\n",
       "    .dataframe thead th {\n",
       "        text-align: right;\n",
       "    }\n",
       "</style>\n",
       "<table border=\"1\" class=\"dataframe\">\n",
       "  <thead>\n",
       "    <tr style=\"text-align: right;\">\n",
       "      <th></th>\n",
       "      <th>tweetid</th>\n",
       "      <th>author_id</th>\n",
       "      <th>full_text</th>\n",
       "      <th>lang</th>\n",
       "      <th>created_at</th>\n",
       "      <th>geo</th>\n",
       "      <th>retweets</th>\n",
       "      <th>replies</th>\n",
       "      <th>likes</th>\n",
       "      <th>quotes</th>\n",
       "      <th>location</th>\n",
       "    </tr>\n",
       "  </thead>\n",
       "  <tbody>\n",
       "    <tr>\n",
       "      <th>0</th>\n",
       "      <td>1662496630233350144</td>\n",
       "      <td>4901180902</td>\n",
       "      <td>@Blackkhally @Oluhill @UchennaEkechuk2 @SirJar...</td>\n",
       "      <td>en</td>\n",
       "      <td>2023-05-27T16:30:58.000Z</td>\n",
       "      <td>{}</td>\n",
       "      <td>0</td>\n",
       "      <td>0</td>\n",
       "      <td>0</td>\n",
       "      <td>0</td>\n",
       "      <td>Dallas, TX</td>\n",
       "    </tr>\n",
       "    <tr>\n",
       "      <th>1</th>\n",
       "      <td>1662496631575437322</td>\n",
       "      <td>1381889142741737473</td>\n",
       "      <td>@DonkTrading Can anyone find a picture of a gu...</td>\n",
       "      <td>en</td>\n",
       "      <td>2023-05-27T16:30:59.000Z</td>\n",
       "      <td>{}</td>\n",
       "      <td>0</td>\n",
       "      <td>0</td>\n",
       "      <td>0</td>\n",
       "      <td>0</td>\n",
       "      <td></td>\n",
       "    </tr>\n",
       "    <tr>\n",
       "      <th>2</th>\n",
       "      <td>1662496632301146113</td>\n",
       "      <td>1520526732171829252</td>\n",
       "      <td>@DM3710Liberty @toni_triano @laralogan She had...</td>\n",
       "      <td>en</td>\n",
       "      <td>2023-05-27T16:30:59.000Z</td>\n",
       "      <td>{}</td>\n",
       "      <td>0</td>\n",
       "      <td>0</td>\n",
       "      <td>0</td>\n",
       "      <td>0</td>\n",
       "      <td>🍌Banana 🍌Republic 🇺🇸</td>\n",
       "    </tr>\n",
       "    <tr>\n",
       "      <th>3</th>\n",
       "      <td>1662496630090657803</td>\n",
       "      <td>1522634406850088962</td>\n",
       "      <td>Right wing extremist at it again...just kiddin...</td>\n",
       "      <td>en</td>\n",
       "      <td>2023-05-27T16:30:58.000Z</td>\n",
       "      <td>{}</td>\n",
       "      <td>0</td>\n",
       "      <td>0</td>\n",
       "      <td>0</td>\n",
       "      <td>0</td>\n",
       "      <td>Ont. Canada</td>\n",
       "    </tr>\n",
       "    <tr>\n",
       "      <th>4</th>\n",
       "      <td>1662496631399350274</td>\n",
       "      <td>179407588</td>\n",
       "      <td>RT @Doranimated: Erdogan took a principled pos...</td>\n",
       "      <td>en</td>\n",
       "      <td>2023-05-27T16:30:59.000Z</td>\n",
       "      <td>{}</td>\n",
       "      <td>176</td>\n",
       "      <td>0</td>\n",
       "      <td>0</td>\n",
       "      <td>0</td>\n",
       "      <td>Alanya, Turkiye</td>\n",
       "    </tr>\n",
       "    <tr>\n",
       "      <th>...</th>\n",
       "      <td>...</td>\n",
       "      <td>...</td>\n",
       "      <td>...</td>\n",
       "      <td>...</td>\n",
       "      <td>...</td>\n",
       "      <td>...</td>\n",
       "      <td>...</td>\n",
       "      <td>...</td>\n",
       "      <td>...</td>\n",
       "      <td>...</td>\n",
       "      <td>...</td>\n",
       "    </tr>\n",
       "    <tr>\n",
       "      <th>1989</th>\n",
       "      <td>1662497105343295488</td>\n",
       "      <td>1328036804629458944</td>\n",
       "      <td>RT @FoxFairyProject: 🌐Website:https://t.co/tGN...</td>\n",
       "      <td>en</td>\n",
       "      <td>2023-05-27T16:32:52.000Z</td>\n",
       "      <td>{}</td>\n",
       "      <td>499</td>\n",
       "      <td>0</td>\n",
       "      <td>0</td>\n",
       "      <td>0</td>\n",
       "      <td>Pune, India</td>\n",
       "    </tr>\n",
       "    <tr>\n",
       "      <th>1990</th>\n",
       "      <td>1662497102474399744</td>\n",
       "      <td>1496504146803171329</td>\n",
       "      <td>RT @kyokuyo_PR: ／\\nフォロー＆RTでOK！\\nとろける柔らかさにびっくり😳...</td>\n",
       "      <td>ja</td>\n",
       "      <td>2023-05-27T16:32:51.000Z</td>\n",
       "      <td>{}</td>\n",
       "      <td>5978</td>\n",
       "      <td>0</td>\n",
       "      <td>0</td>\n",
       "      <td>0</td>\n",
       "      <td></td>\n",
       "    </tr>\n",
       "    <tr>\n",
       "      <th>1991</th>\n",
       "      <td>1662497105175359489</td>\n",
       "      <td>1362436981</td>\n",
       "      <td>RT @RevistaSemana: #Política | Reforma a la sa...</td>\n",
       "      <td>es</td>\n",
       "      <td>2023-05-27T16:32:52.000Z</td>\n",
       "      <td>{}</td>\n",
       "      <td>195</td>\n",
       "      <td>0</td>\n",
       "      <td>0</td>\n",
       "      <td>0</td>\n",
       "      <td>Pereira</td>\n",
       "    </tr>\n",
       "    <tr>\n",
       "      <th>1992</th>\n",
       "      <td>1662497105049526273</td>\n",
       "      <td>1330487908655112201</td>\n",
       "      <td>INTERVIEW (May 18, 2023) - Man in America Podc...</td>\n",
       "      <td>en</td>\n",
       "      <td>2023-05-27T16:32:52.000Z</td>\n",
       "      <td>{}</td>\n",
       "      <td>0</td>\n",
       "      <td>0</td>\n",
       "      <td>0</td>\n",
       "      <td>0</td>\n",
       "      <td></td>\n",
       "    </tr>\n",
       "    <tr>\n",
       "      <th>1993</th>\n",
       "      <td>1662497107041763334</td>\n",
       "      <td>1559027283599433728</td>\n",
       "      <td>RT @SputnikMundo: La industria armamentística ...</td>\n",
       "      <td>es</td>\n",
       "      <td>2023-05-27T16:32:52.000Z</td>\n",
       "      <td>{}</td>\n",
       "      <td>80</td>\n",
       "      <td>0</td>\n",
       "      <td>0</td>\n",
       "      <td>0</td>\n",
       "      <td></td>\n",
       "    </tr>\n",
       "  </tbody>\n",
       "</table>\n",
       "<p>1994 rows × 11 columns</p>\n",
       "</div>"
      ],
      "text/plain": [
       "                  tweetid            author_id  \\\n",
       "0     1662496630233350144           4901180902   \n",
       "1     1662496631575437322  1381889142741737473   \n",
       "2     1662496632301146113  1520526732171829252   \n",
       "3     1662496630090657803  1522634406850088962   \n",
       "4     1662496631399350274            179407588   \n",
       "...                   ...                  ...   \n",
       "1989  1662497105343295488  1328036804629458944   \n",
       "1990  1662497102474399744  1496504146803171329   \n",
       "1991  1662497105175359489           1362436981   \n",
       "1992  1662497105049526273  1330487908655112201   \n",
       "1993  1662497107041763334  1559027283599433728   \n",
       "\n",
       "                                              full_text lang  \\\n",
       "0     @Blackkhally @Oluhill @UchennaEkechuk2 @SirJar...   en   \n",
       "1     @DonkTrading Can anyone find a picture of a gu...   en   \n",
       "2     @DM3710Liberty @toni_triano @laralogan She had...   en   \n",
       "3     Right wing extremist at it again...just kiddin...   en   \n",
       "4     RT @Doranimated: Erdogan took a principled pos...   en   \n",
       "...                                                 ...  ...   \n",
       "1989  RT @FoxFairyProject: 🌐Website:https://t.co/tGN...   en   \n",
       "1990  RT @kyokuyo_PR: ／\\nフォロー＆RTでOK！\\nとろける柔らかさにびっくり😳...   ja   \n",
       "1991  RT @RevistaSemana: #Política | Reforma a la sa...   es   \n",
       "1992  INTERVIEW (May 18, 2023) - Man in America Podc...   en   \n",
       "1993  RT @SputnikMundo: La industria armamentística ...   es   \n",
       "\n",
       "                    created_at geo  retweets  replies  likes  quotes  \\\n",
       "0     2023-05-27T16:30:58.000Z  {}         0        0      0       0   \n",
       "1     2023-05-27T16:30:59.000Z  {}         0        0      0       0   \n",
       "2     2023-05-27T16:30:59.000Z  {}         0        0      0       0   \n",
       "3     2023-05-27T16:30:58.000Z  {}         0        0      0       0   \n",
       "4     2023-05-27T16:30:59.000Z  {}       176        0      0       0   \n",
       "...                        ...  ..       ...      ...    ...     ...   \n",
       "1989  2023-05-27T16:32:52.000Z  {}       499        0      0       0   \n",
       "1990  2023-05-27T16:32:51.000Z  {}      5978        0      0       0   \n",
       "1991  2023-05-27T16:32:52.000Z  {}       195        0      0       0   \n",
       "1992  2023-05-27T16:32:52.000Z  {}         0        0      0       0   \n",
       "1993  2023-05-27T16:32:52.000Z  {}        80        0      0       0   \n",
       "\n",
       "                   location  \n",
       "0                Dallas, TX  \n",
       "1                            \n",
       "2     🍌Banana 🍌Republic 🇺🇸   \n",
       "3               Ont. Canada  \n",
       "4           Alanya, Turkiye  \n",
       "...                     ...  \n",
       "1989            Pune, India  \n",
       "1990                         \n",
       "1991                Pereira  \n",
       "1992                         \n",
       "1993                         \n",
       "\n",
       "[1994 rows x 11 columns]"
      ]
     },
     "execution_count": 25,
     "metadata": {},
     "output_type": "execute_result"
    }
   ],
   "source": [
    "\n",
    "columns = [ #tweet data\n",
    "            'tweetid', 'author_id' ,'full_text', 'lang', 'created_at','geo',\n",
    "            'retweets', 'replies', 'likes', 'quotes',  'location'\n",
    "    \n",
    "            # 'retweeted', 'favorited', 'is_quote_status', 'retweet_count', \n",
    "            # 'favorite_count', 'lang', 'in_reply_to_status_id', 'in_reply_to_user_id',\n",
    "            # 'hashtags', 'user_mentions', 'urls'\n",
    "            # public metrics\n",
    "            #'like_count'\n",
    "            #'quote_count', 'reply_count', 'retweet_count' ,\n",
    "            # media\n",
    "            # non public metrics\n",
    "            #'url_link_clicks'\n",
    "            ]\n",
    "\n",
    "df = pd.DataFrame (tweet_list, columns = columns)\n",
    "df.explode('geo')\n",
    "df\n"
   ]
  },
  {
   "cell_type": "code",
   "execution_count": 26,
   "metadata": {},
   "outputs": [
    {
     "name": "stdout",
     "output_type": "stream",
     "text": [
      "{'place_id': 'a4ddc3856053f7e1'}\n",
      "{'place_id': '01fbe706f872cb32'}\n",
      "{'place_id': '4efd6fc8c50fae33'}\n",
      "{'place_id': 'cd450c94084cbf9b'}\n",
      "{'place_id': '5ef5b7f391e30aff'}\n"
     ]
    }
   ],
   "source": [
    "for i in range(0, len(df)):\n",
    "    if (df['geo'][i] != {}):\n",
    "        print(df['geo'][i])"
   ]
  },
  {
   "cell_type": "code",
   "execution_count": 27,
   "metadata": {},
   "outputs": [
    {
     "data": {
      "text/plain": [
       "Index(['tweetid', 'author_id', 'full_text', 'lang', 'created_at', 'geo',\n",
       "       'retweets', 'replies', 'likes', 'quotes', 'location'],\n",
       "      dtype='object')"
      ]
     },
     "execution_count": 27,
     "metadata": {},
     "output_type": "execute_result"
    }
   ],
   "source": [
    "df.columns"
   ]
  },
  {
   "cell_type": "code",
   "execution_count": 28,
   "metadata": {},
   "outputs": [],
   "source": [
    "def data_save(data_to_u2v):\n",
    "    data_to_u2v['tweet_id'] = data_to_u2v['tweetid'].astype(str)\n",
    "    # data_to_u2v['conversation_id'] = data_to_u2v['conversation_id'].astype(str)\n",
    "    data_to_u2v['author_id'] = data_to_u2v['author_id'].astype(str)\n",
    "data_save(df)\n"
   ]
  },
  {
   "cell_type": "code",
   "execution_count": 29,
   "metadata": {},
   "outputs": [
    {
     "data": {
      "text/plain": [
       "(1642, 12)"
      ]
     },
     "execution_count": 29,
     "metadata": {},
     "output_type": "execute_result"
    }
   ],
   "source": [
    "df = df.drop_duplicates(subset=['full_text'])\n",
    "df.drop_duplicates(subset=['tweetid'])\n",
    "df.shape"
   ]
  },
  {
   "cell_type": "code",
   "execution_count": 30,
   "metadata": {},
   "outputs": [
    {
     "data": {
      "text/plain": [
       "'RT @moost964: kaitun07 น้องไข่ตุ๋น เปิดนมสวยๆ วัยรุ่นไทยน่ารัก | หนังโป๊เว้ยเฮ้ย.net https://t.co/CAHadNiJRH'"
      ]
     },
     "execution_count": 30,
     "metadata": {},
     "output_type": "execute_result"
    }
   ],
   "source": [
    "df['full_text'][32]"
   ]
  },
  {
   "cell_type": "code",
   "execution_count": 31,
   "metadata": {},
   "outputs": [
    {
     "name": "stderr",
     "output_type": "stream",
     "text": [
      "C:\\Users\\Nastea\\AppData\\Local\\Packages\\PythonSoftwareFoundation.Python.3.10_qbz5n2kfra8p0\\LocalCache\\local-packages\\Python310\\site-packages\\pandas\\util\\_decorators.py:211: FutureWarning: the 'encoding' keyword is deprecated and will be removed in a future version. Please take steps to stop the use of 'encoding'\n",
      "  return func(*args, **kwargs)\n"
     ]
    }
   ],
   "source": [
    "df.to_excel('malware4.xlsx', encoding = 'utf-8-sig')"
   ]
  },
  {
   "cell_type": "code",
   "execution_count": null,
   "metadata": {},
   "outputs": [],
   "source": []
  },
  {
   "cell_type": "code",
   "execution_count": null,
   "metadata": {},
   "outputs": [],
   "source": []
  }
 ],
 "metadata": {
  "kernelspec": {
   "display_name": "Python 3.10.8 64-bit (microsoft store)",
   "language": "python",
   "name": "python3"
  },
  "language_info": {
   "codemirror_mode": {
    "name": "ipython",
    "version": 3
   },
   "file_extension": ".py",
   "mimetype": "text/x-python",
   "name": "python",
   "nbconvert_exporter": "python",
   "pygments_lexer": "ipython3",
   "version": "3.10.11"
  },
  "orig_nbformat": 4,
  "vscode": {
   "interpreter": {
    "hash": "0cccac6172769bf6b822fc423e043dfb0f0c805130f4c9b05a7b618dd5771472"
   }
  }
 },
 "nbformat": 4,
 "nbformat_minor": 2
}
